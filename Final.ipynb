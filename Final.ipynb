{
 "cells": [
  {
   "cell_type": "code",
   "execution_count": 1,
   "id": "b8c56074-7861-40d5-946b-8cac019ecaae",
   "metadata": {},
   "outputs": [],
   "source": [
    "import pandas as pd\n",
    "import numpy as np\n",
    "import statistics\n",
    "\n",
    "import seaborn as sns\n",
    "from matplotlib import pyplot as plt\n",
    "\n",
    "from scipy import stats\n",
    "\n",
    "from sklearn.linear_model import LinearRegression\n",
    "from sklearn.model_selection import train_test_split\n",
    "from sklearn.preprocessing import LabelEncoder,OneHotEncoder\n",
    "from sklearn.compose import make_column_transformer\n",
    "from sklearn import metrics"
   ]
  },
  {
   "cell_type": "code",
   "execution_count": 2,
   "id": "ac0575ac-4560-4431-992b-702d9ffd31da",
   "metadata": {},
   "outputs": [],
   "source": [
    "df = pd.read_csv('Property_structured_data.csv')"
   ]
  },
  {
   "cell_type": "code",
   "execution_count": 3,
   "id": "ca8e6c14-27c2-4b0f-ba19-0f2ba06f5313",
   "metadata": {},
   "outputs": [],
   "source": [
    "initial_df = df.shape"
   ]
  },
  {
   "cell_type": "code",
   "execution_count": 4,
   "id": "0f2e5f07-c6ae-495d-b979-41cdd4815a3e",
   "metadata": {
    "tags": []
   },
   "outputs": [],
   "source": [
    "initial_df_columns = df.columns.to_list()"
   ]
  },
  {
   "cell_type": "markdown",
   "id": "b3e5515c-f057-42bd-b599-58b0fffb0dce",
   "metadata": {
    "tags": []
   },
   "source": [
    "## Clean Database"
   ]
  },
  {
   "cell_type": "markdown",
   "id": "16e306a6-5475-4946-be7a-5829f875e69e",
   "metadata": {
    "tags": []
   },
   "source": [
    "### Price (float)"
   ]
  },
  {
   "cell_type": "code",
   "execution_count": 5,
   "id": "33d00d7a-1e0f-4735-89bb-f4c92d504d5d",
   "metadata": {},
   "outputs": [],
   "source": [
    "z_scores_price = stats.zscore(df['price'])\n",
    "abs_z_scores_price = np.abs(z_scores_price) \n",
    "filtered_entries_price = (abs_z_scores_price < 3)\n",
    "df = df[filtered_entries_price]"
   ]
  },
  {
   "cell_type": "code",
   "execution_count": 6,
   "id": "4f0ba7e6-92ee-42b9-a4cd-0697f2bb75e1",
   "metadata": {},
   "outputs": [],
   "source": [
    "df.loc[df[\"price\"] >= 800000, \"type_of_property\"] = \"OTHER\""
   ]
  },
  {
   "cell_type": "code",
   "execution_count": 7,
   "id": "2b0dfb30-afda-4d4e-ac4f-4bc8247ea71a",
   "metadata": {
    "tags": []
   },
   "outputs": [
    {
     "data": {
      "text/plain": [
       "(58318, 23)"
      ]
     },
     "execution_count": 7,
     "metadata": {},
     "output_type": "execute_result"
    }
   ],
   "source": [
    "df= df.loc[df['price'] != -1]\n",
    "df.shape"
   ]
  },
  {
   "cell_type": "markdown",
   "id": "9f927464-faad-4588-b406-56e631973524",
   "metadata": {
    "tags": []
   },
   "source": [
    "### Surface (float)"
   ]
  },
  {
   "cell_type": "code",
   "execution_count": 8,
   "id": "e8c28b9e-614e-46a5-b0b9-05d05fc3e1cd",
   "metadata": {},
   "outputs": [],
   "source": [
    "df = df.loc[df['surface'] <= 800]"
   ]
  },
  {
   "cell_type": "code",
   "execution_count": 9,
   "id": "3b5b80d7-5f88-4b95-b0d1-107dc16c9f3a",
   "metadata": {},
   "outputs": [],
   "source": [
    "df = df.loc[df['surface'] >= 35]"
   ]
  },
  {
   "cell_type": "code",
   "execution_count": 10,
   "id": "a9ef092c-5d1b-410d-8973-9edd67493d33",
   "metadata": {
    "tags": []
   },
   "outputs": [
    {
     "data": {
      "text/plain": [
       "(47820, 23)"
      ]
     },
     "execution_count": 10,
     "metadata": {},
     "output_type": "execute_result"
    }
   ],
   "source": [
    "df = df.loc[df['surface'] != -1]\n",
    "df.shape"
   ]
  },
  {
   "cell_type": "markdown",
   "id": "b6df2fd2-e04c-44e7-9349-5ea9a327cab5",
   "metadata": {
    "jp-MarkdownHeadingCollapsed": true,
    "tags": []
   },
   "source": [
    "### Sub Type of property (filter and drop)"
   ]
  },
  {
   "cell_type": "code",
   "execution_count": 11,
   "id": "089ff62b-7009-4129-ba43-d19c9be1d983",
   "metadata": {
    "tags": []
   },
   "outputs": [
    {
     "data": {
      "text/plain": [
       "HOUSE                   20431\n",
       "APARTMENT               15619\n",
       "VILLA                    2700\n",
       "APARTMENT_BLOCK          1318\n",
       "DUPLEX                   1217\n",
       "GROUND_FLOOR             1131\n",
       "PENTHOUSE                 967\n",
       "MIXED_USE_BUILDING        925\n",
       "EXCEPTIONAL_PROPERTY      511\n",
       "SERVICE_FLAT              471\n",
       "FLAT_STUDIO               450\n",
       "MANSION                   437\n",
       "TOWN_HOUSE                375\n",
       "COUNTRY_COTTAGE           292\n",
       "BUNGALOW                  239\n",
       "LOFT                      225\n",
       "FARMHOUSE                 147\n",
       "TRIPLEX                   114\n",
       "CHALET                    101\n",
       "OTHER_PROPERTY             65\n",
       "MANOR_HOUSE                61\n",
       "CASTLE                     15\n",
       "KOT                         8\n",
       "PAVILION                    1\n",
       "Name: subtype_of_property, dtype: int64"
      ]
     },
     "execution_count": 11,
     "metadata": {},
     "output_type": "execute_result"
    }
   ],
   "source": [
    "df['subtype_of_property'].value_counts()"
   ]
  },
  {
   "cell_type": "code",
   "execution_count": 12,
   "id": "4f9b5f63-bfbf-4308-955a-aafa9d7dd462",
   "metadata": {},
   "outputs": [
    {
     "data": {
      "text/plain": [
       "(46502, 23)"
      ]
     },
     "execution_count": 12,
     "metadata": {},
     "output_type": "execute_result"
    }
   ],
   "source": [
    "df= df.loc[df['subtype_of_property'] != 'APARTMENT_BLOCK']\n",
    "df.shape"
   ]
  },
  {
   "cell_type": "code",
   "execution_count": 13,
   "id": "474d1b65-e002-4ec8-99f0-aeb655ec497f",
   "metadata": {},
   "outputs": [
    {
     "data": {
      "text/plain": [
       "(45577, 23)"
      ]
     },
     "execution_count": 13,
     "metadata": {},
     "output_type": "execute_result"
    }
   ],
   "source": [
    "df= df.loc[df['subtype_of_property'] != 'MIXED_USE_BUILDING']\n",
    "df.shape"
   ]
  },
  {
   "cell_type": "markdown",
   "id": "52077eff-569f-4d10-98fd-7a99797a9af7",
   "metadata": {
    "tags": []
   },
   "source": [
    "### Number of bedrooms (int)"
   ]
  },
  {
   "cell_type": "code",
   "execution_count": 14,
   "id": "67d8b3e6-a37d-44d1-b2f4-0105e53d7999",
   "metadata": {},
   "outputs": [],
   "source": [
    "df = df.loc[df['number_of_bedrooms'] <20]\n"
   ]
  },
  {
   "cell_type": "code",
   "execution_count": 15,
   "id": "3876a2c4-8436-4806-aa18-f2d800a2ca84",
   "metadata": {},
   "outputs": [],
   "source": [
    "df['number_of_bedrooms'] = df['number_of_bedrooms'].replace(-1,0)"
   ]
  },
  {
   "cell_type": "code",
   "execution_count": 16,
   "id": "2f3a1dce-6405-4ef6-a1a1-3a688a3a0636",
   "metadata": {
    "tags": []
   },
   "outputs": [
    {
     "data": {
      "text/plain": [
       "3     15098\n",
       "2     14663\n",
       "4      6745\n",
       "1      4666\n",
       "5      2450\n",
       "6       873\n",
       "0       538\n",
       "7       261\n",
       "8       129\n",
       "9        75\n",
       "10       31\n",
       "11       19\n",
       "12        7\n",
       "13        5\n",
       "14        4\n",
       "17        3\n",
       "16        2\n",
       "15        2\n",
       "18        1\n",
       "Name: number_of_bedrooms, dtype: int64"
      ]
     },
     "execution_count": 16,
     "metadata": {},
     "output_type": "execute_result"
    }
   ],
   "source": [
    "df['number_of_bedrooms'].value_counts()"
   ]
  },
  {
   "cell_type": "markdown",
   "id": "3ce9ff47-b1f6-4dea-92d0-9171ddbf8685",
   "metadata": {
    "tags": []
   },
   "source": [
    "### Zip Code (category)"
   ]
  },
  {
   "cell_type": "markdown",
   "id": "e970f9b3-90bd-4958-8861-91aaa30f0a66",
   "metadata": {
    "tags": []
   },
   "source": [
    "#### XX"
   ]
  },
  {
   "cell_type": "code",
   "execution_count": 17,
   "id": "aec18d35-5d6e-4724-9ca5-8f363b6fecdc",
   "metadata": {},
   "outputs": [],
   "source": [
    "df['zip_code_xx'] = df['postal_code'].apply(lambda x : 'be_zip_'+str(x)[:2])"
   ]
  },
  {
   "cell_type": "code",
   "execution_count": 18,
   "id": "50ee0332-112b-4f70-b9f5-4f3aa7ab32af",
   "metadata": {
    "tags": []
   },
   "outputs": [
    {
     "data": {
      "text/plain": [
       "be_zip_10    3312\n",
       "be_zip_11    1497\n",
       "be_zip_83    1427\n",
       "be_zip_20    1248\n",
       "be_zip_90    1245\n",
       "             ... \n",
       "be_zip_65     159\n",
       "be_zip_79     131\n",
       "be_zip_76     109\n",
       "be_zip_47      84\n",
       "be_zip_64      51\n",
       "Name: zip_code_xx, Length: 80, dtype: int64"
      ]
     },
     "execution_count": 18,
     "metadata": {},
     "output_type": "execute_result"
    }
   ],
   "source": [
    "df['zip_code_xx'].value_counts()"
   ]
  },
  {
   "cell_type": "markdown",
   "id": "3dd762b2-1475-4016-8496-d87b0d39d6b0",
   "metadata": {
    "jp-MarkdownHeadingCollapsed": true,
    "tags": []
   },
   "source": [
    "#### X"
   ]
  },
  {
   "cell_type": "code",
   "execution_count": 19,
   "id": "fa21648c-72ff-4ef4-a035-9ec24cdfc714",
   "metadata": {},
   "outputs": [],
   "source": [
    "df['zip_code_x'] = df['postal_code'].apply(lambda x : 'be_zip_'+str(x)[:1])"
   ]
  },
  {
   "cell_type": "code",
   "execution_count": 20,
   "id": "20bdca9e-b22d-498b-aad6-491ebd504c15",
   "metadata": {},
   "outputs": [
    {
     "data": {
      "text/plain": [
       "be_zip_1    9529\n",
       "be_zip_2    7588\n",
       "be_zip_8    6725\n",
       "be_zip_9    6238\n",
       "be_zip_3    3986\n",
       "be_zip_4    3683\n",
       "be_zip_7    3066\n",
       "be_zip_6    3037\n",
       "be_zip_5    1720\n",
       "Name: zip_code_x, dtype: int64"
      ]
     },
     "execution_count": 20,
     "metadata": {},
     "output_type": "execute_result"
    }
   ],
   "source": [
    "df['zip_code_x'].value_counts()"
   ]
  },
  {
   "cell_type": "markdown",
   "id": "97b291a7-1212-4240-96db-2ce2720ae9c7",
   "metadata": {
    "tags": []
   },
   "source": [
    "### Land surface (float)"
   ]
  },
  {
   "cell_type": "code",
   "execution_count": 21,
   "id": "518beb04-e6f0-44f1-9efc-f3515e049923",
   "metadata": {},
   "outputs": [],
   "source": [
    "#df.loc[(df['land_surface'] == -1) & (df['garden_surface'] > 0 )]"
   ]
  },
  {
   "cell_type": "code",
   "execution_count": 22,
   "id": "04572d4c-0a3d-43db-98b7-9e26c2cc140e",
   "metadata": {},
   "outputs": [],
   "source": [
    "df['land_surface'] = [land_surface if land_surface != -1 else garden_surface if garden_surface > 0 else land_surface for garden_surface,land_surface in zip(df['garden_surface'],df['land_surface'])]"
   ]
  },
  {
   "cell_type": "code",
   "execution_count": 23,
   "id": "78ec5e86-4782-4142-b177-ae19a6be8928",
   "metadata": {},
   "outputs": [],
   "source": [
    "df['land_surface'] = df['land_surface'].replace(-1,0)"
   ]
  },
  {
   "cell_type": "code",
   "execution_count": 24,
   "id": "986c9df8-8931-4319-b7ab-dc41dd93be91",
   "metadata": {},
   "outputs": [
    {
     "data": {
      "text/plain": [
       "0       21018\n",
       "100       206\n",
       "200       188\n",
       "300       158\n",
       "160       152\n",
       "        ...  \n",
       "1332        1\n",
       "3040        1\n",
       "1894        1\n",
       "1674        1\n",
       "4233        1\n",
       "Name: land_surface, Length: 3305, dtype: int64"
      ]
     },
     "execution_count": 24,
     "metadata": {},
     "output_type": "execute_result"
    }
   ],
   "source": [
    "df['land_surface'].value_counts()"
   ]
  },
  {
   "cell_type": "markdown",
   "id": "eeec778e-12ae-480c-82c6-405490ec5315",
   "metadata": {
    "tags": []
   },
   "source": [
    "### Garden (0,1)"
   ]
  },
  {
   "cell_type": "code",
   "execution_count": 25,
   "id": "9feaada6-8b3f-480a-936f-0cf7f62d2561",
   "metadata": {},
   "outputs": [],
   "source": [
    "df['garden'] = df['garden'].replace(-1,0)"
   ]
  },
  {
   "cell_type": "code",
   "execution_count": 26,
   "id": "504a000c-41db-42f9-bfbb-6710d6c750b8",
   "metadata": {},
   "outputs": [
    {
     "data": {
      "text/plain": [
       "0    29837\n",
       "1    15735\n",
       "Name: garden, dtype: int64"
      ]
     },
     "execution_count": 26,
     "metadata": {},
     "output_type": "execute_result"
    }
   ],
   "source": [
    "df['garden'].value_counts()"
   ]
  },
  {
   "cell_type": "markdown",
   "id": "4d0d6c6d-4696-49cd-9f26-c5add6d825fb",
   "metadata": {
    "tags": []
   },
   "source": [
    "### Garden surface (float)"
   ]
  },
  {
   "cell_type": "code",
   "execution_count": 27,
   "id": "cb34919d-b56f-486c-8fba-16e583b5aaa1",
   "metadata": {},
   "outputs": [],
   "source": [
    "df['garden_surface'] = df['garden_surface'].replace(-1,0)\n",
    "df['garden_surface'] = df['garden_surface'].replace(1,0)"
   ]
  },
  {
   "cell_type": "code",
   "execution_count": 28,
   "id": "40d98773-dd91-44b3-94bf-699a393b4703",
   "metadata": {},
   "outputs": [
    {
     "data": {
      "text/plain": [
       "0        35949\n",
       "100        299\n",
       "200        265\n",
       "50         194\n",
       "300        192\n",
       "         ...  \n",
       "8782         1\n",
       "2267         1\n",
       "586          1\n",
       "10997        1\n",
       "7200         1\n",
       "Name: garden_surface, Length: 1349, dtype: int64"
      ]
     },
     "execution_count": 28,
     "metadata": {},
     "output_type": "execute_result"
    }
   ],
   "source": [
    "df['garden_surface'].value_counts()"
   ]
  },
  {
   "cell_type": "markdown",
   "id": "a36b8eb6-215b-4fc6-aec2-b44c8bdc68a4",
   "metadata": {
    "tags": []
   },
   "source": [
    "### Fully equiped kitchen  (0,1)"
   ]
  },
  {
   "cell_type": "code",
   "execution_count": 29,
   "id": "8852b657-4e0c-4a07-8d97-0336cd1af716",
   "metadata": {},
   "outputs": [],
   "source": [
    "df[\"fully_equipped_kitchen\"] = df[\"fully_equipped_kitchen\"].map({\"-1.0\": 0.25, \"1.0\": 1,\"-1\": 0.25, \"1\": 1, \"INSTALLED\": 0.5, \"SEMI_EQUIPPED\": 0.75, \"NOT_INSTALLED\": 0, \"USA_INSTALLED\": 0.5, \"USA_SEMI_EQUIPPED\": 0.75, \"USA_UNINSTALLED\": 0})"
   ]
  },
  {
   "cell_type": "code",
   "execution_count": 30,
   "id": "b6325560-dd68-4317-937b-529dc6afd15b",
   "metadata": {},
   "outputs": [],
   "source": [
    "#df[\"fully_equipped_kitchen\"] = df[\"fully_equipped_kitchen\"].map({\"-1.0\": 0, \"1.0\": 1,\"-1\": 0, \"1\": 1, \"INSTALLED\": 0, \"SEMI_EQUIPPED\": 1, \"NOT_INSTALLED\": 0, \"USA_INSTALLED\": 0, \"USA_SEMI_EQUIPPED\": 1, \"USA_UNINSTALLED\": 0})"
   ]
  },
  {
   "cell_type": "code",
   "execution_count": 31,
   "id": "c1e85a0b-11b4-4ec4-a877-43619e3ffd0b",
   "metadata": {},
   "outputs": [
    {
     "data": {
      "text/plain": [
       "0.50    16744\n",
       "0.25    14836\n",
       "1.00     7877\n",
       "0.75     4302\n",
       "0.00     1813\n",
       "Name: fully_equipped_kitchen, dtype: int64"
      ]
     },
     "execution_count": 31,
     "metadata": {},
     "output_type": "execute_result"
    }
   ],
   "source": [
    "df[\"fully_equipped_kitchen\"].value_counts()"
   ]
  },
  {
   "cell_type": "markdown",
   "id": "58185812-8e59-41ec-a252-c1eb6c650a34",
   "metadata": {
    "tags": []
   },
   "source": [
    "### Swiming pool  (0,1)"
   ]
  },
  {
   "cell_type": "code",
   "execution_count": 32,
   "id": "b86064d5-deca-4195-98ac-08b5ce6cefb9",
   "metadata": {},
   "outputs": [],
   "source": [
    "df['swimming_pool'] = df['swimming_pool'].replace(-1,0)"
   ]
  },
  {
   "cell_type": "code",
   "execution_count": 33,
   "id": "bb5cf8f1-42d5-4929-8e78-24c615160a35",
   "metadata": {},
   "outputs": [
    {
     "data": {
      "text/plain": [
       "0    44641\n",
       "1      931\n",
       "Name: swimming_pool, dtype: int64"
      ]
     },
     "execution_count": 33,
     "metadata": {},
     "output_type": "execute_result"
    }
   ],
   "source": [
    "df['swimming_pool'].value_counts()"
   ]
  },
  {
   "cell_type": "markdown",
   "id": "f8f1e389-4ed5-46ca-81d0-3ddc8e58a39a",
   "metadata": {
    "tags": []
   },
   "source": [
    "### Furnished (0,1)"
   ]
  },
  {
   "cell_type": "code",
   "execution_count": 34,
   "id": "5934615e-fa8f-4091-a12b-cf8cecd3f0e1",
   "metadata": {},
   "outputs": [],
   "source": [
    "df['furnished'] = df['furnished'].replace(-1,0)"
   ]
  },
  {
   "cell_type": "code",
   "execution_count": 35,
   "id": "a16f2992-a977-41a6-8783-5aec08e2d6e1",
   "metadata": {},
   "outputs": [
    {
     "data": {
      "text/plain": [
       "0    44489\n",
       "1     1083\n",
       "Name: furnished, dtype: int64"
      ]
     },
     "execution_count": 35,
     "metadata": {},
     "output_type": "execute_result"
    }
   ],
   "source": [
    "df['furnished'].value_counts()"
   ]
  },
  {
   "cell_type": "markdown",
   "id": "2b2b57aa-d2db-470d-858d-315410eb116a",
   "metadata": {
    "tags": []
   },
   "source": [
    "### Open fire (0,1)"
   ]
  },
  {
   "cell_type": "code",
   "execution_count": 36,
   "id": "da2ab6c0-e078-4950-9d4c-6e703ce0bc1c",
   "metadata": {},
   "outputs": [],
   "source": [
    "df['open_fire'] = df['open_fire'].replace(-1,0)"
   ]
  },
  {
   "cell_type": "code",
   "execution_count": 37,
   "id": "0a0a622c-c1a7-4695-81e4-c208ca99c7ef",
   "metadata": {},
   "outputs": [
    {
     "data": {
      "text/plain": [
       "0    43505\n",
       "1     2067\n",
       "Name: open_fire, dtype: int64"
      ]
     },
     "execution_count": 37,
     "metadata": {},
     "output_type": "execute_result"
    }
   ],
   "source": [
    "df['open_fire'].value_counts()"
   ]
  },
  {
   "cell_type": "markdown",
   "id": "56cc21c9-87f2-4dfa-8376-9e50e39c5b57",
   "metadata": {
    "tags": []
   },
   "source": [
    "### Terrace (0,1)"
   ]
  },
  {
   "cell_type": "code",
   "execution_count": 38,
   "id": "362d9dbf-1e50-41c4-8b8b-19ea387ddd95",
   "metadata": {},
   "outputs": [],
   "source": [
    "df['terrace'] = df['terrace'].replace(-1,0)"
   ]
  },
  {
   "cell_type": "code",
   "execution_count": 39,
   "id": "30c2b6c9-efaf-4039-903d-699e7f290c96",
   "metadata": {},
   "outputs": [
    {
     "data": {
      "text/plain": [
       "1    29162\n",
       "0    16410\n",
       "Name: terrace, dtype: int64"
      ]
     },
     "execution_count": 39,
     "metadata": {},
     "output_type": "execute_result"
    }
   ],
   "source": [
    "df['terrace'].value_counts()"
   ]
  },
  {
   "cell_type": "markdown",
   "id": "59f6b318-800f-47d5-8d8f-98a549b33d3d",
   "metadata": {
    "jp-MarkdownHeadingCollapsed": true,
    "tags": []
   },
   "source": [
    "### Terrace surface (float)"
   ]
  },
  {
   "cell_type": "markdown",
   "id": "a05e65cf-9af7-4680-85e9-1c8a8344c791",
   "metadata": {},
   "source": [
    "we have two terraces > 1000 m2 !"
   ]
  },
  {
   "cell_type": "code",
   "execution_count": 40,
   "id": "a4c8bde7-7dcd-4341-aa2c-ce8ef6969da4",
   "metadata": {},
   "outputs": [],
   "source": [
    "df = df.loc[df['terrace_surface'] < 500]"
   ]
  },
  {
   "cell_type": "code",
   "execution_count": 41,
   "id": "d5ec63e9-1f16-4255-bcfa-363f7bdfedf1",
   "metadata": {},
   "outputs": [],
   "source": [
    "df['terrace_surface'] = df['terrace_surface'].replace(-1,0)"
   ]
  },
  {
   "cell_type": "code",
   "execution_count": 42,
   "id": "618b24a2-82d7-400d-94d1-7419a747577e",
   "metadata": {},
   "outputs": [
    {
     "data": {
      "text/plain": [
       "0      26370\n",
       "20      1191\n",
       "10      1082\n",
       "15       939\n",
       "12       866\n",
       "       ...  \n",
       "163        1\n",
       "137        1\n",
       "190        1\n",
       "293        1\n",
       "290        1\n",
       "Name: terrace_surface, Length: 183, dtype: int64"
      ]
     },
     "execution_count": 42,
     "metadata": {},
     "output_type": "execute_result"
    }
   ],
   "source": [
    "df['terrace_surface'].value_counts()"
   ]
  },
  {
   "cell_type": "markdown",
   "id": "e7438c79-a7e5-4381-90dc-fe3407a3b0d1",
   "metadata": {
    "jp-MarkdownHeadingCollapsed": true,
    "tags": []
   },
   "source": [
    "### Facades (int)"
   ]
  },
  {
   "cell_type": "code",
   "execution_count": 43,
   "id": "1b5dd0ea-376c-4bec-ad67-dc170dac9fa7",
   "metadata": {},
   "outputs": [],
   "source": [
    "df = df.loc[df[\"number_of_facades\"] < 9]"
   ]
  },
  {
   "cell_type": "code",
   "execution_count": 44,
   "id": "8c8ef143-e31a-47f7-b8f1-841e10a34805",
   "metadata": {},
   "outputs": [],
   "source": [
    "df[\"number_of_facades\"] = np.where((df[\"number_of_facades\"] == -1) & (df[\"type_of_property\"] == \"APARTMENT\"), 1, df[\"number_of_facades\"])\n",
    "df[\"number_of_facades\"] = np.where((df[\"number_of_facades\"] == -1) & (df[\"type_of_property\"] == \"HOUSE\"), 2, df[\"number_of_facades\"])"
   ]
  },
  {
   "cell_type": "code",
   "execution_count": 45,
   "id": "0e36aca8-617d-4116-a24d-0d654d64fcfe",
   "metadata": {},
   "outputs": [],
   "source": [
    "df = df.loc[df[\"number_of_facades\"] != -1]"
   ]
  },
  {
   "cell_type": "code",
   "execution_count": 46,
   "id": "b95095e8-b4aa-4fb4-8b48-6387b57bb78f",
   "metadata": {},
   "outputs": [
    {
     "data": {
      "text/plain": [
       "2    20089\n",
       "4     9229\n",
       "3     8114\n",
       "1     7598\n",
       "6        6\n",
       "5        6\n",
       "8        3\n",
       "Name: number_of_facades, dtype: int64"
      ]
     },
     "execution_count": 46,
     "metadata": {},
     "output_type": "execute_result"
    }
   ],
   "source": [
    "df['number_of_facades'].value_counts()"
   ]
  },
  {
   "cell_type": "markdown",
   "id": "c75b4f65-c15f-4114-bcbb-a049071e5e12",
   "metadata": {
    "jp-MarkdownHeadingCollapsed": true,
    "tags": []
   },
   "source": [
    "### State of the building (category)"
   ]
  },
  {
   "cell_type": "markdown",
   "id": "dd808952-809e-45b1-bd9d-dccbc50a2782",
   "metadata": {},
   "source": [
    "Tranform this part to category"
   ]
  },
  {
   "cell_type": "code",
   "execution_count": 47,
   "id": "d4e9ec19-8fe6-4211-8ecd-2c4f46911c1d",
   "metadata": {},
   "outputs": [
    {
     "data": {
      "text/plain": [
       "'\\ndf[\"state_of_the_building\"] = df[\"state_of_the_building\"].map({\\n    \"NO_INFO\": \"TO_RENOVATE\",#0.25, \\n    \"TO_BE_DONE_UP\": \"JUST_RENOVATED\",#0.75, \\n    \"TO_RENOVATE\": \"TO_RENOVATE\",#0.25, \\n    \"TO_RESTORE\": \"TO_REBUILD\",#0.25, \\n    \"JUST_RENOVATED\": \"JUST_RENOVATED\",#0.75, \\n    \"GOOD\": \"GOOD\",#0.5, \\n    \"AS_NEW\": \"NEW\"#1.0\\n})\\n'"
      ]
     },
     "execution_count": 47,
     "metadata": {},
     "output_type": "execute_result"
    }
   ],
   "source": [
    "\"\"\"\n",
    "df[\"state_of_the_building\"] = df[\"state_of_the_building\"].map({\n",
    "    \"NO_INFO\": \"TO_RENOVATE\",#0.25, \n",
    "    \"TO_BE_DONE_UP\": \"JUST_RENOVATED\",#0.75, \n",
    "    \"TO_RENOVATE\": \"TO_RENOVATE\",#0.25, \n",
    "    \"TO_RESTORE\": \"TO_REBUILD\",#0.25, \n",
    "    \"JUST_RENOVATED\": \"JUST_RENOVATED\",#0.75, \n",
    "    \"GOOD\": \"GOOD\",#0.5, \n",
    "    \"AS_NEW\": \"NEW\"#1.0\n",
    "})\n",
    "\"\"\""
   ]
  },
  {
   "cell_type": "code",
   "execution_count": 48,
   "id": "864866ce-49f9-493c-99ed-c1a50aa500be",
   "metadata": {},
   "outputs": [],
   "source": [
    "df[\"state_of_the_building\"] = df[\"state_of_the_building\"].map({\n",
    "    \"NO_INFO\": 0.25, \n",
    "    \"TO_BE_DONE_UP\": 0.75, \n",
    "    \"TO_RENOVATE\": 0.25, \n",
    "    \"TO_RESTORE\": 0.25, \n",
    "    \"JUST_RENOVATED\": 0.75, \n",
    "    \"GOOD\": 0.5, \n",
    "    \"AS_NEW\": 1.0\n",
    "})"
   ]
  },
  {
   "cell_type": "code",
   "execution_count": 49,
   "id": "d8219917-803c-4388-875d-79b14b4e0eae",
   "metadata": {},
   "outputs": [
    {
     "data": {
      "text/plain": [
       "0.25    16219\n",
       "0.50    12399\n",
       "1.00    10441\n",
       "0.75     5986\n",
       "Name: state_of_the_building, dtype: int64"
      ]
     },
     "execution_count": 49,
     "metadata": {},
     "output_type": "execute_result"
    }
   ],
   "source": [
    "df[\"state_of_the_building\"].value_counts()"
   ]
  },
  {
   "cell_type": "markdown",
   "id": "52d059fe-36c3-4462-b25c-a3844bba0688",
   "metadata": {
    "jp-MarkdownHeadingCollapsed": true,
    "tags": []
   },
   "source": [
    "### Type of property (category)"
   ]
  },
  {
   "cell_type": "markdown",
   "id": "b891beef-51dd-472b-bb0d-b0993cdeceda",
   "metadata": {},
   "source": [
    "Separate into HOUSE, APARTMENTS and OTHERS"
   ]
  },
  {
   "cell_type": "code",
   "execution_count": 50,
   "id": "bbcdedc9-3591-489b-bf35-e65c43df4179",
   "metadata": {},
   "outputs": [],
   "source": [
    "others = [\"CHALET\", \"MANOR_HOUSE\", \"OTHER_PROPERTY\", \"CASTLE\", \"PAVILION\"]"
   ]
  },
  {
   "cell_type": "code",
   "execution_count": 51,
   "id": "82f3b64e-3135-4db3-a784-9b9625673dfb",
   "metadata": {},
   "outputs": [],
   "source": [
    "df.loc[df[\"price\"] >= 800000, \"type_of_property\"] = \"OTHER\""
   ]
  },
  {
   "cell_type": "code",
   "execution_count": 52,
   "id": "495d523c-e58f-4f40-bacf-adbd0f0fff30",
   "metadata": {},
   "outputs": [],
   "source": [
    "df['type_of_property'] = np.where((df['number_of_bedrooms'] > 20), \"OTHER\", df['type_of_property'])"
   ]
  },
  {
   "cell_type": "code",
   "execution_count": 53,
   "id": "435ab911-5473-4712-9a2f-b61fe8af17fe",
   "metadata": {},
   "outputs": [],
   "source": [
    "df.loc[df[\"subtype_of_property\"].isin(others), \"type_of_property\"] = \"OTHER\""
   ]
  },
  {
   "cell_type": "code",
   "execution_count": 54,
   "id": "db78b10b-e02a-4115-b91a-88be11ae1fd6",
   "metadata": {},
   "outputs": [
    {
     "data": {
      "text/plain": [
       "HOUSE        23501\n",
       "APARTMENT    19429\n",
       "OTHER         2115\n",
       "Name: type_of_property, dtype: int64"
      ]
     },
     "execution_count": 54,
     "metadata": {},
     "output_type": "execute_result"
    }
   ],
   "source": [
    "df['type_of_property'].value_counts()"
   ]
  },
  {
   "cell_type": "code",
   "execution_count": 55,
   "id": "254f8acf-1e32-482b-add9-5e884b277936",
   "metadata": {},
   "outputs": [],
   "source": [
    "df_other = df.loc[df[\"type_of_property\"] == \"OTHER\"]"
   ]
  },
  {
   "cell_type": "code",
   "execution_count": 56,
   "id": "3348f0c0-260e-4005-a84a-cb0a01b5303a",
   "metadata": {},
   "outputs": [],
   "source": [
    "df= df.loc[df[\"type_of_property\"] != \"OTHER\"]"
   ]
  },
  {
   "cell_type": "code",
   "execution_count": 57,
   "id": "ac33be83-c6a9-4f04-96a5-20619ab960ee",
   "metadata": {},
   "outputs": [
    {
     "data": {
      "text/html": [
       "<div>\n",
       "<style scoped>\n",
       "    .dataframe tbody tr th:only-of-type {\n",
       "        vertical-align: middle;\n",
       "    }\n",
       "\n",
       "    .dataframe tbody tr th {\n",
       "        vertical-align: top;\n",
       "    }\n",
       "\n",
       "    .dataframe thead th {\n",
       "        text-align: right;\n",
       "    }\n",
       "</style>\n",
       "<table border=\"1\" class=\"dataframe\">\n",
       "  <thead>\n",
       "    <tr style=\"text-align: right;\">\n",
       "      <th></th>\n",
       "      <th>id</th>\n",
       "      <th>postal_code</th>\n",
       "      <th>price</th>\n",
       "      <th>number_of_bedrooms</th>\n",
       "      <th>surface</th>\n",
       "      <th>fully_equipped_kitchen</th>\n",
       "      <th>furnished</th>\n",
       "      <th>open_fire</th>\n",
       "      <th>terrace</th>\n",
       "      <th>terrace_surface</th>\n",
       "      <th>garden</th>\n",
       "      <th>garden_surface</th>\n",
       "      <th>land_surface</th>\n",
       "      <th>number_of_facades</th>\n",
       "      <th>swimming_pool</th>\n",
       "      <th>state_of_the_building</th>\n",
       "    </tr>\n",
       "  </thead>\n",
       "  <tbody>\n",
       "    <tr>\n",
       "      <th>count</th>\n",
       "      <td>4.293000e+04</td>\n",
       "      <td>42930.000000</td>\n",
       "      <td>42930.000000</td>\n",
       "      <td>42930.000000</td>\n",
       "      <td>42930.000000</td>\n",
       "      <td>42930.000000</td>\n",
       "      <td>42930.000000</td>\n",
       "      <td>42930.000000</td>\n",
       "      <td>42930.000000</td>\n",
       "      <td>42930.000000</td>\n",
       "      <td>42930.000000</td>\n",
       "      <td>42930.000000</td>\n",
       "      <td>4.293000e+04</td>\n",
       "      <td>42930.000000</td>\n",
       "      <td>42930.000000</td>\n",
       "      <td>42930.000000</td>\n",
       "    </tr>\n",
       "    <tr>\n",
       "      <th>mean</th>\n",
       "      <td>9.973246e+06</td>\n",
       "      <td>5056.555858</td>\n",
       "      <td>326038.838714</td>\n",
       "      <td>2.736921</td>\n",
       "      <td>147.532541</td>\n",
       "      <td>0.502615</td>\n",
       "      <td>0.022246</td>\n",
       "      <td>0.039646</td>\n",
       "      <td>0.635127</td>\n",
       "      <td>9.524482</td>\n",
       "      <td>0.340997</td>\n",
       "      <td>110.448241</td>\n",
       "      <td>4.607907e+02</td>\n",
       "      <td>2.378989</td>\n",
       "      <td>0.013557</td>\n",
       "      <td>0.554251</td>\n",
       "    </tr>\n",
       "    <tr>\n",
       "      <th>std</th>\n",
       "      <td>2.632769e+05</td>\n",
       "      <td>3030.481285</td>\n",
       "      <td>150093.338928</td>\n",
       "      <td>1.224795</td>\n",
       "      <td>79.470420</td>\n",
       "      <td>0.278007</td>\n",
       "      <td>0.147483</td>\n",
       "      <td>0.195128</td>\n",
       "      <td>0.481400</td>\n",
       "      <td>18.933273</td>\n",
       "      <td>0.474050</td>\n",
       "      <td>1105.380100</td>\n",
       "      <td>5.974487e+03</td>\n",
       "      <td>0.981126</td>\n",
       "      <td>0.115644</td>\n",
       "      <td>0.290610</td>\n",
       "    </tr>\n",
       "    <tr>\n",
       "      <th>min</th>\n",
       "      <td>1.882546e+06</td>\n",
       "      <td>1000.000000</td>\n",
       "      <td>2500.000000</td>\n",
       "      <td>0.000000</td>\n",
       "      <td>35.000000</td>\n",
       "      <td>0.000000</td>\n",
       "      <td>0.000000</td>\n",
       "      <td>0.000000</td>\n",
       "      <td>0.000000</td>\n",
       "      <td>0.000000</td>\n",
       "      <td>0.000000</td>\n",
       "      <td>0.000000</td>\n",
       "      <td>0.000000e+00</td>\n",
       "      <td>1.000000</td>\n",
       "      <td>0.000000</td>\n",
       "      <td>0.250000</td>\n",
       "    </tr>\n",
       "    <tr>\n",
       "      <th>25%</th>\n",
       "      <td>9.942106e+06</td>\n",
       "      <td>2180.000000</td>\n",
       "      <td>220000.000000</td>\n",
       "      <td>2.000000</td>\n",
       "      <td>93.000000</td>\n",
       "      <td>0.250000</td>\n",
       "      <td>0.000000</td>\n",
       "      <td>0.000000</td>\n",
       "      <td>0.000000</td>\n",
       "      <td>0.000000</td>\n",
       "      <td>0.000000</td>\n",
       "      <td>0.000000</td>\n",
       "      <td>0.000000e+00</td>\n",
       "      <td>2.000000</td>\n",
       "      <td>0.000000</td>\n",
       "      <td>0.250000</td>\n",
       "    </tr>\n",
       "    <tr>\n",
       "      <th>50%</th>\n",
       "      <td>1.005809e+07</td>\n",
       "      <td>4420.000000</td>\n",
       "      <td>295000.000000</td>\n",
       "      <td>3.000000</td>\n",
       "      <td>130.000000</td>\n",
       "      <td>0.500000</td>\n",
       "      <td>0.000000</td>\n",
       "      <td>0.000000</td>\n",
       "      <td>1.000000</td>\n",
       "      <td>0.000000</td>\n",
       "      <td>0.000000</td>\n",
       "      <td>0.000000</td>\n",
       "      <td>6.100000e+01</td>\n",
       "      <td>2.000000</td>\n",
       "      <td>0.000000</td>\n",
       "      <td>0.500000</td>\n",
       "    </tr>\n",
       "    <tr>\n",
       "      <th>75%</th>\n",
       "      <td>1.011448e+07</td>\n",
       "      <td>8380.000000</td>\n",
       "      <td>399000.000000</td>\n",
       "      <td>3.000000</td>\n",
       "      <td>180.000000</td>\n",
       "      <td>0.750000</td>\n",
       "      <td>0.000000</td>\n",
       "      <td>0.000000</td>\n",
       "      <td>1.000000</td>\n",
       "      <td>13.000000</td>\n",
       "      <td>1.000000</td>\n",
       "      <td>0.000000</td>\n",
       "      <td>4.180000e+02</td>\n",
       "      <td>3.000000</td>\n",
       "      <td>0.000000</td>\n",
       "      <td>0.750000</td>\n",
       "    </tr>\n",
       "    <tr>\n",
       "      <th>max</th>\n",
       "      <td>1.015115e+07</td>\n",
       "      <td>9992.000000</td>\n",
       "      <td>799950.000000</td>\n",
       "      <td>17.000000</td>\n",
       "      <td>800.000000</td>\n",
       "      <td>1.000000</td>\n",
       "      <td>1.000000</td>\n",
       "      <td>1.000000</td>\n",
       "      <td>1.000000</td>\n",
       "      <td>420.000000</td>\n",
       "      <td>1.000000</td>\n",
       "      <td>100000.000000</td>\n",
       "      <td>1.100000e+06</td>\n",
       "      <td>6.000000</td>\n",
       "      <td>1.000000</td>\n",
       "      <td>1.000000</td>\n",
       "    </tr>\n",
       "  </tbody>\n",
       "</table>\n",
       "</div>"
      ],
      "text/plain": [
       "                 id   postal_code          price  number_of_bedrooms  \\\n",
       "count  4.293000e+04  42930.000000   42930.000000        42930.000000   \n",
       "mean   9.973246e+06   5056.555858  326038.838714            2.736921   \n",
       "std    2.632769e+05   3030.481285  150093.338928            1.224795   \n",
       "min    1.882546e+06   1000.000000    2500.000000            0.000000   \n",
       "25%    9.942106e+06   2180.000000  220000.000000            2.000000   \n",
       "50%    1.005809e+07   4420.000000  295000.000000            3.000000   \n",
       "75%    1.011448e+07   8380.000000  399000.000000            3.000000   \n",
       "max    1.015115e+07   9992.000000  799950.000000           17.000000   \n",
       "\n",
       "            surface  fully_equipped_kitchen     furnished     open_fire  \\\n",
       "count  42930.000000            42930.000000  42930.000000  42930.000000   \n",
       "mean     147.532541                0.502615      0.022246      0.039646   \n",
       "std       79.470420                0.278007      0.147483      0.195128   \n",
       "min       35.000000                0.000000      0.000000      0.000000   \n",
       "25%       93.000000                0.250000      0.000000      0.000000   \n",
       "50%      130.000000                0.500000      0.000000      0.000000   \n",
       "75%      180.000000                0.750000      0.000000      0.000000   \n",
       "max      800.000000                1.000000      1.000000      1.000000   \n",
       "\n",
       "            terrace  terrace_surface        garden  garden_surface  \\\n",
       "count  42930.000000     42930.000000  42930.000000    42930.000000   \n",
       "mean       0.635127         9.524482      0.340997      110.448241   \n",
       "std        0.481400        18.933273      0.474050     1105.380100   \n",
       "min        0.000000         0.000000      0.000000        0.000000   \n",
       "25%        0.000000         0.000000      0.000000        0.000000   \n",
       "50%        1.000000         0.000000      0.000000        0.000000   \n",
       "75%        1.000000        13.000000      1.000000        0.000000   \n",
       "max        1.000000       420.000000      1.000000   100000.000000   \n",
       "\n",
       "       land_surface  number_of_facades  swimming_pool  state_of_the_building  \n",
       "count  4.293000e+04       42930.000000   42930.000000           42930.000000  \n",
       "mean   4.607907e+02           2.378989       0.013557               0.554251  \n",
       "std    5.974487e+03           0.981126       0.115644               0.290610  \n",
       "min    0.000000e+00           1.000000       0.000000               0.250000  \n",
       "25%    0.000000e+00           2.000000       0.000000               0.250000  \n",
       "50%    6.100000e+01           2.000000       0.000000               0.500000  \n",
       "75%    4.180000e+02           3.000000       0.000000               0.750000  \n",
       "max    1.100000e+06           6.000000       1.000000               1.000000  "
      ]
     },
     "execution_count": 57,
     "metadata": {},
     "output_type": "execute_result"
    }
   ],
   "source": [
    "df.describe()"
   ]
  },
  {
   "cell_type": "markdown",
   "id": "6d484790-8013-49db-b5aa-c9c4d949cd4e",
   "metadata": {
    "jp-MarkdownHeadingCollapsed": true,
    "tags": []
   },
   "source": [
    "### Price/m2"
   ]
  },
  {
   "cell_type": "code",
   "execution_count": 58,
   "id": "662cd487-6b5a-4d70-82b2-4cda31335030",
   "metadata": {},
   "outputs": [],
   "source": [
    "df['price_m2'] = df['price']/df['surface']"
   ]
  },
  {
   "cell_type": "code",
   "execution_count": 59,
   "id": "7633683f-6f93-4ca7-8e7c-18dcbe6e68d0",
   "metadata": {
    "tags": []
   },
   "outputs": [
    {
     "data": {
      "text/plain": [
       "2500.000000    258\n",
       "2000.000000    165\n",
       "3000.000000    160\n",
       "2750.000000    106\n",
       "1500.000000    106\n",
       "              ... \n",
       "2160.194175      1\n",
       "1447.058824      1\n",
       "2878.205128      1\n",
       "2852.459016      1\n",
       "1705.038760      1\n",
       "Name: price_m2, Length: 18631, dtype: int64"
      ]
     },
     "execution_count": 59,
     "metadata": {},
     "output_type": "execute_result"
    }
   ],
   "source": [
    "df['price_m2'].value_counts()"
   ]
  },
  {
   "cell_type": "markdown",
   "id": "4cc2c7a7-d49a-42fe-8b7d-a7743efbf805",
   "metadata": {
    "jp-MarkdownHeadingCollapsed": true,
    "tags": []
   },
   "source": [
    "# Crazy zipcode !!!"
   ]
  },
  {
   "cell_type": "markdown",
   "id": "4aabfa65-5a0c-4aca-bc88-dc9408d10f53",
   "metadata": {},
   "source": [
    "Values"
   ]
  },
  {
   "cell_type": "code",
   "execution_count": 60,
   "id": "f4e111fa-bb86-46ec-bb5c-925e1ffa4f60",
   "metadata": {},
   "outputs": [
    {
     "data": {
      "text/plain": [
       "80"
      ]
     },
     "execution_count": 60,
     "metadata": {},
     "output_type": "execute_result"
    }
   ],
   "source": [
    "len(df['zip_code_xx'].value_counts())"
   ]
  },
  {
   "cell_type": "code",
   "execution_count": 61,
   "id": "3dd32d57-9ca5-49c3-bebc-d98744da834b",
   "metadata": {},
   "outputs": [],
   "source": [
    "df_zip_list = ['price_m2','zip_code_xx']"
   ]
  },
  {
   "cell_type": "code",
   "execution_count": 62,
   "id": "0ba2707e-c480-44c2-a37e-7c8ff362373b",
   "metadata": {},
   "outputs": [],
   "source": [
    "df_zips = df[df_zip_list]"
   ]
  },
  {
   "cell_type": "code",
   "execution_count": 63,
   "id": "12aff137-9a9c-455c-88e1-73870211d7f4",
   "metadata": {},
   "outputs": [],
   "source": [
    "xxx_zip = df_zips.groupby('zip_code_xx')"
   ]
  },
  {
   "cell_type": "code",
   "execution_count": 64,
   "id": "8ba3bc80-58e7-4cbd-887a-27d98b194fe7",
   "metadata": {
    "tags": []
   },
   "outputs": [],
   "source": [
    "xxx_zip_list = []\n",
    "for key, values in xxx_zip:\n",
    "    xxx_zip_list.append(key)"
   ]
  },
  {
   "cell_type": "code",
   "execution_count": 65,
   "id": "4fcec9ad-1bfd-4b56-abc0-56e228dfda24",
   "metadata": {},
   "outputs": [],
   "source": [
    "df_zips_mean = round(df_zips.groupby('zip_code_xx').mean(),2)"
   ]
  },
  {
   "cell_type": "code",
   "execution_count": 66,
   "id": "a88133b3-42a2-42f2-b3ce-b4a4ba83b00b",
   "metadata": {},
   "outputs": [],
   "source": [
    "df_zips_mean_values = df_zips_mean.values"
   ]
  },
  {
   "cell_type": "code",
   "execution_count": 67,
   "id": "c2273446-9025-469e-9ce1-e718bb8a05b8",
   "metadata": {},
   "outputs": [],
   "source": [
    "zip_mean = []\n",
    "for x in df_zips_mean_values:\n",
    "    for i in x:\n",
    "        zip_mean.append(i)"
   ]
  },
  {
   "cell_type": "code",
   "execution_count": 68,
   "id": "a82c266f-5bd7-4c92-ba8e-bdd55abd28cf",
   "metadata": {},
   "outputs": [
    {
     "data": {
      "text/plain": [
       "80"
      ]
     },
     "execution_count": 68,
     "metadata": {},
     "output_type": "execute_result"
    }
   ],
   "source": [
    "len(zip_mean)"
   ]
  },
  {
   "cell_type": "code",
   "execution_count": 69,
   "id": "3b57ccba-4f56-4e4d-ab16-5353da54d5b2",
   "metadata": {},
   "outputs": [],
   "source": [
    "global_mean = statistics.mean(zip_mean)"
   ]
  },
  {
   "cell_type": "code",
   "execution_count": 70,
   "id": "f1420824-7f2c-4947-9204-10bf34f6e90d",
   "metadata": {},
   "outputs": [],
   "source": [
    "xxx = []\n",
    "for y,i in enumerate(zip_mean):\n",
    "    xxx.append(round(i/global_mean,2))"
   ]
  },
  {
   "cell_type": "code",
   "execution_count": 71,
   "id": "06e43c8d-6f95-438f-b0e0-a4dae8ea995f",
   "metadata": {
    "tags": []
   },
   "outputs": [
    {
     "data": {
      "text/plain": [
       "[1.45,\n",
       " 1.58,\n",
       " 1.56,\n",
       " 1.22,\n",
       " 1.11,\n",
       " 1.17,\n",
       " 1.23,\n",
       " 1.16,\n",
       " 1.16,\n",
       " 1.41,\n",
       " 1.44,\n",
       " 1.11,\n",
       " 1.07,\n",
       " 1.05,\n",
       " 0.97,\n",
       " 1.17,\n",
       " 1.2,\n",
       " 1.16,\n",
       " 1.23,\n",
       " 1.5,\n",
       " 1.11,\n",
       " 1.04,\n",
       " 1.01,\n",
       " 0.83,\n",
       " 1.07,\n",
       " 0.95,\n",
       " 0.85,\n",
       " 0.89,\n",
       " 0.94,\n",
       " 0.88,\n",
       " 0.8,\n",
       " 0.81,\n",
       " 0.82,\n",
       " 0.76,\n",
       " 0.72,\n",
       " 0.89,\n",
       " 0.93,\n",
       " 0.8,\n",
       " 0.89,\n",
       " 0.92,\n",
       " 0.94,\n",
       " 0.82,\n",
       " 0.72,\n",
       " 0.63,\n",
       " 0.6,\n",
       " 0.7,\n",
       " 0.74,\n",
       " 0.62,\n",
       " 0.63,\n",
       " 0.86,\n",
       " 0.91,\n",
       " 0.79,\n",
       " 0.79,\n",
       " 0.75,\n",
       " 0.65,\n",
       " 0.55,\n",
       " 0.81,\n",
       " 0.62,\n",
       " 0.75,\n",
       " 0.86,\n",
       " 0.63,\n",
       " 1.26,\n",
       " 1.22,\n",
       " 1.98,\n",
       " 1.35,\n",
       " 1.0,\n",
       " 1.52,\n",
       " 1.1,\n",
       " 0.92,\n",
       " 0.9,\n",
       " 1.38,\n",
       " 1.06,\n",
       " 1.05,\n",
       " 0.98,\n",
       " 0.94,\n",
       " 0.91,\n",
       " 0.88,\n",
       " 1.05,\n",
       " 1.2,\n",
       " 1.1]"
      ]
     },
     "execution_count": 71,
     "metadata": {},
     "output_type": "execute_result"
    }
   ],
   "source": [
    "xxx"
   ]
  },
  {
   "cell_type": "markdown",
   "id": "218f22e8-c610-4c5e-a6e8-1c403988a679",
   "metadata": {},
   "source": [
    "Send this to the data frame as a column"
   ]
  },
  {
   "cell_type": "code",
   "execution_count": 72,
   "id": "f7b25387-4ef6-43b8-938e-b702e6efe288",
   "metadata": {},
   "outputs": [],
   "source": [
    "dic_zip_value = dict()\n",
    "for i,x in enumerate(xxx_zip_list):\n",
    "    dic_zip_value[x] = xxx[i]"
   ]
  },
  {
   "cell_type": "code",
   "execution_count": 73,
   "id": "7b8fcb0b-0674-4235-ad69-db614e5c9ea9",
   "metadata": {
    "tags": []
   },
   "outputs": [
    {
     "data": {
      "text/plain": [
       "{'be_zip_10': 1.45,\n",
       " 'be_zip_11': 1.58,\n",
       " 'be_zip_12': 1.56,\n",
       " 'be_zip_13': 1.22,\n",
       " 'be_zip_14': 1.11,\n",
       " 'be_zip_15': 1.17,\n",
       " 'be_zip_16': 1.23,\n",
       " 'be_zip_17': 1.16,\n",
       " 'be_zip_18': 1.16,\n",
       " 'be_zip_19': 1.41,\n",
       " 'be_zip_20': 1.44,\n",
       " 'be_zip_21': 1.11,\n",
       " 'be_zip_22': 1.07,\n",
       " 'be_zip_23': 1.05,\n",
       " 'be_zip_24': 0.97,\n",
       " 'be_zip_25': 1.17,\n",
       " 'be_zip_26': 1.2,\n",
       " 'be_zip_28': 1.16,\n",
       " 'be_zip_29': 1.23,\n",
       " 'be_zip_30': 1.5,\n",
       " 'be_zip_31': 1.11,\n",
       " 'be_zip_32': 1.04,\n",
       " 'be_zip_33': 1.01,\n",
       " 'be_zip_34': 0.83,\n",
       " 'be_zip_35': 1.07,\n",
       " 'be_zip_36': 0.95,\n",
       " 'be_zip_37': 0.85,\n",
       " 'be_zip_38': 0.89,\n",
       " 'be_zip_39': 0.94,\n",
       " 'be_zip_40': 0.88,\n",
       " 'be_zip_41': 0.8,\n",
       " 'be_zip_42': 0.81,\n",
       " 'be_zip_43': 0.82,\n",
       " 'be_zip_44': 0.76,\n",
       " 'be_zip_45': 0.72,\n",
       " 'be_zip_46': 0.89,\n",
       " 'be_zip_47': 0.93,\n",
       " 'be_zip_48': 0.8,\n",
       " 'be_zip_49': 0.89,\n",
       " 'be_zip_50': 0.92,\n",
       " 'be_zip_51': 0.94,\n",
       " 'be_zip_53': 0.82,\n",
       " 'be_zip_55': 0.72,\n",
       " 'be_zip_56': 0.63,\n",
       " 'be_zip_60': 0.6,\n",
       " 'be_zip_61': 0.7,\n",
       " 'be_zip_62': 0.74,\n",
       " 'be_zip_64': 0.62,\n",
       " 'be_zip_65': 0.63,\n",
       " 'be_zip_66': 0.86,\n",
       " 'be_zip_67': 0.91,\n",
       " 'be_zip_68': 0.79,\n",
       " 'be_zip_69': 0.79,\n",
       " 'be_zip_70': 0.75,\n",
       " 'be_zip_71': 0.65,\n",
       " 'be_zip_73': 0.55,\n",
       " 'be_zip_75': 0.81,\n",
       " 'be_zip_76': 0.62,\n",
       " 'be_zip_77': 0.75,\n",
       " 'be_zip_78': 0.86,\n",
       " 'be_zip_79': 0.63,\n",
       " 'be_zip_80': 1.26,\n",
       " 'be_zip_82': 1.22,\n",
       " 'be_zip_83': 1.98,\n",
       " 'be_zip_84': 1.35,\n",
       " 'be_zip_85': 1.0,\n",
       " 'be_zip_86': 1.52,\n",
       " 'be_zip_87': 1.1,\n",
       " 'be_zip_88': 0.92,\n",
       " 'be_zip_89': 0.9,\n",
       " 'be_zip_90': 1.38,\n",
       " 'be_zip_91': 1.06,\n",
       " 'be_zip_92': 1.05,\n",
       " 'be_zip_93': 0.98,\n",
       " 'be_zip_94': 0.94,\n",
       " 'be_zip_95': 0.91,\n",
       " 'be_zip_96': 0.88,\n",
       " 'be_zip_97': 1.05,\n",
       " 'be_zip_98': 1.2,\n",
       " 'be_zip_99': 1.1}"
      ]
     },
     "execution_count": 73,
     "metadata": {},
     "output_type": "execute_result"
    }
   ],
   "source": [
    "dic_zip_value"
   ]
  },
  {
   "cell_type": "code",
   "execution_count": 74,
   "id": "9d15b91b-59ad-45f3-a3b3-c0984982eaef",
   "metadata": {},
   "outputs": [],
   "source": [
    "df['zip_code_ponderation'] = df['zip_code_xx']"
   ]
  },
  {
   "cell_type": "code",
   "execution_count": 75,
   "id": "bb9a1715-168d-4d09-896b-dbcf93adf91b",
   "metadata": {
    "tags": []
   },
   "outputs": [
    {
     "data": {
      "text/html": [
       "<div>\n",
       "<style scoped>\n",
       "    .dataframe tbody tr th:only-of-type {\n",
       "        vertical-align: middle;\n",
       "    }\n",
       "\n",
       "    .dataframe tbody tr th {\n",
       "        vertical-align: top;\n",
       "    }\n",
       "\n",
       "    .dataframe thead th {\n",
       "        text-align: right;\n",
       "    }\n",
       "</style>\n",
       "<table border=\"1\" class=\"dataframe\">\n",
       "  <thead>\n",
       "    <tr style=\"text-align: right;\">\n",
       "      <th></th>\n",
       "      <th>id</th>\n",
       "      <th>locality</th>\n",
       "      <th>postal_code</th>\n",
       "      <th>region</th>\n",
       "      <th>province</th>\n",
       "      <th>type_of_property</th>\n",
       "      <th>subtype_of_property</th>\n",
       "      <th>type_of_sale</th>\n",
       "      <th>price</th>\n",
       "      <th>number_of_bedrooms</th>\n",
       "      <th>...</th>\n",
       "      <th>garden</th>\n",
       "      <th>garden_surface</th>\n",
       "      <th>land_surface</th>\n",
       "      <th>number_of_facades</th>\n",
       "      <th>swimming_pool</th>\n",
       "      <th>state_of_the_building</th>\n",
       "      <th>zip_code_xx</th>\n",
       "      <th>zip_code_x</th>\n",
       "      <th>price_m2</th>\n",
       "      <th>zip_code_ponderation</th>\n",
       "    </tr>\n",
       "  </thead>\n",
       "  <tbody>\n",
       "    <tr>\n",
       "      <th>0</th>\n",
       "      <td>10131114</td>\n",
       "      <td>HEURE</td>\n",
       "      <td>5377</td>\n",
       "      <td>Wallonie</td>\n",
       "      <td>Namur</td>\n",
       "      <td>HOUSE</td>\n",
       "      <td>HOUSE</td>\n",
       "      <td>residential_sale</td>\n",
       "      <td>100000</td>\n",
       "      <td>2</td>\n",
       "      <td>...</td>\n",
       "      <td>0</td>\n",
       "      <td>0</td>\n",
       "      <td>198</td>\n",
       "      <td>3</td>\n",
       "      <td>0</td>\n",
       "      <td>0.25</td>\n",
       "      <td>be_zip_53</td>\n",
       "      <td>be_zip_5</td>\n",
       "      <td>666.666667</td>\n",
       "      <td>be_zip_53</td>\n",
       "    </tr>\n",
       "    <tr>\n",
       "      <th>1</th>\n",
       "      <td>10150865</td>\n",
       "      <td>Dinant</td>\n",
       "      <td>5500</td>\n",
       "      <td>Wallonie</td>\n",
       "      <td>Namur</td>\n",
       "      <td>APARTMENT</td>\n",
       "      <td>APARTMENT</td>\n",
       "      <td>residential_sale</td>\n",
       "      <td>219000</td>\n",
       "      <td>2</td>\n",
       "      <td>...</td>\n",
       "      <td>0</td>\n",
       "      <td>0</td>\n",
       "      <td>0</td>\n",
       "      <td>3</td>\n",
       "      <td>0</td>\n",
       "      <td>0.50</td>\n",
       "      <td>be_zip_55</td>\n",
       "      <td>be_zip_5</td>\n",
       "      <td>2190.000000</td>\n",
       "      <td>be_zip_55</td>\n",
       "    </tr>\n",
       "    <tr>\n",
       "      <th>3</th>\n",
       "      <td>10022778</td>\n",
       "      <td>Gembloux</td>\n",
       "      <td>5030</td>\n",
       "      <td>Wallonie</td>\n",
       "      <td>Namur</td>\n",
       "      <td>APARTMENT</td>\n",
       "      <td>APARTMENT</td>\n",
       "      <td>residential_sale</td>\n",
       "      <td>285000</td>\n",
       "      <td>2</td>\n",
       "      <td>...</td>\n",
       "      <td>0</td>\n",
       "      <td>0</td>\n",
       "      <td>0</td>\n",
       "      <td>2</td>\n",
       "      <td>0</td>\n",
       "      <td>1.00</td>\n",
       "      <td>be_zip_50</td>\n",
       "      <td>be_zip_5</td>\n",
       "      <td>3518.518519</td>\n",
       "      <td>be_zip_50</td>\n",
       "    </tr>\n",
       "    <tr>\n",
       "      <th>4</th>\n",
       "      <td>9989192</td>\n",
       "      <td>Sambreville</td>\n",
       "      <td>5060</td>\n",
       "      <td>Wallonie</td>\n",
       "      <td>Namur</td>\n",
       "      <td>APARTMENT</td>\n",
       "      <td>APARTMENT</td>\n",
       "      <td>residential_sale</td>\n",
       "      <td>284000</td>\n",
       "      <td>2</td>\n",
       "      <td>...</td>\n",
       "      <td>0</td>\n",
       "      <td>0</td>\n",
       "      <td>0</td>\n",
       "      <td>3</td>\n",
       "      <td>0</td>\n",
       "      <td>1.00</td>\n",
       "      <td>be_zip_50</td>\n",
       "      <td>be_zip_5</td>\n",
       "      <td>1893.333333</td>\n",
       "      <td>be_zip_50</td>\n",
       "    </tr>\n",
       "    <tr>\n",
       "      <th>5</th>\n",
       "      <td>9951165</td>\n",
       "      <td>Profondeville</td>\n",
       "      <td>5170</td>\n",
       "      <td>Wallonie</td>\n",
       "      <td>Namur</td>\n",
       "      <td>HOUSE</td>\n",
       "      <td>HOUSE</td>\n",
       "      <td>residential_sale</td>\n",
       "      <td>179000</td>\n",
       "      <td>2</td>\n",
       "      <td>...</td>\n",
       "      <td>1</td>\n",
       "      <td>0</td>\n",
       "      <td>1013</td>\n",
       "      <td>4</td>\n",
       "      <td>0</td>\n",
       "      <td>0.25</td>\n",
       "      <td>be_zip_51</td>\n",
       "      <td>be_zip_5</td>\n",
       "      <td>1193.333333</td>\n",
       "      <td>be_zip_51</td>\n",
       "    </tr>\n",
       "    <tr>\n",
       "      <th>...</th>\n",
       "      <td>...</td>\n",
       "      <td>...</td>\n",
       "      <td>...</td>\n",
       "      <td>...</td>\n",
       "      <td>...</td>\n",
       "      <td>...</td>\n",
       "      <td>...</td>\n",
       "      <td>...</td>\n",
       "      <td>...</td>\n",
       "      <td>...</td>\n",
       "      <td>...</td>\n",
       "      <td>...</td>\n",
       "      <td>...</td>\n",
       "      <td>...</td>\n",
       "      <td>...</td>\n",
       "      <td>...</td>\n",
       "      <td>...</td>\n",
       "      <td>...</td>\n",
       "      <td>...</td>\n",
       "      <td>...</td>\n",
       "      <td>...</td>\n",
       "    </tr>\n",
       "    <tr>\n",
       "      <th>62422</th>\n",
       "      <td>10121854</td>\n",
       "      <td>Lokeren</td>\n",
       "      <td>9160</td>\n",
       "      <td>Flanders</td>\n",
       "      <td>East Flanders</td>\n",
       "      <td>HOUSE</td>\n",
       "      <td>HOUSE</td>\n",
       "      <td>residential_sale</td>\n",
       "      <td>439900</td>\n",
       "      <td>4</td>\n",
       "      <td>...</td>\n",
       "      <td>1</td>\n",
       "      <td>0</td>\n",
       "      <td>969</td>\n",
       "      <td>4</td>\n",
       "      <td>0</td>\n",
       "      <td>0.75</td>\n",
       "      <td>be_zip_91</td>\n",
       "      <td>be_zip_9</td>\n",
       "      <td>1705.038760</td>\n",
       "      <td>be_zip_91</td>\n",
       "    </tr>\n",
       "    <tr>\n",
       "      <th>62424</th>\n",
       "      <td>10117346</td>\n",
       "      <td>Gent Sint-Amandsberg</td>\n",
       "      <td>9040</td>\n",
       "      <td>Flanders</td>\n",
       "      <td>East Flanders</td>\n",
       "      <td>HOUSE</td>\n",
       "      <td>HOUSE</td>\n",
       "      <td>residential_sale</td>\n",
       "      <td>425000</td>\n",
       "      <td>4</td>\n",
       "      <td>...</td>\n",
       "      <td>1</td>\n",
       "      <td>12</td>\n",
       "      <td>80</td>\n",
       "      <td>2</td>\n",
       "      <td>0</td>\n",
       "      <td>1.00</td>\n",
       "      <td>be_zip_90</td>\n",
       "      <td>be_zip_9</td>\n",
       "      <td>3148.148148</td>\n",
       "      <td>be_zip_90</td>\n",
       "    </tr>\n",
       "    <tr>\n",
       "      <th>62427</th>\n",
       "      <td>10103172</td>\n",
       "      <td>Denderleeuw</td>\n",
       "      <td>9470</td>\n",
       "      <td>Flanders</td>\n",
       "      <td>East Flanders</td>\n",
       "      <td>HOUSE</td>\n",
       "      <td>HOUSE</td>\n",
       "      <td>residential_sale</td>\n",
       "      <td>235000</td>\n",
       "      <td>1</td>\n",
       "      <td>...</td>\n",
       "      <td>1</td>\n",
       "      <td>55</td>\n",
       "      <td>170</td>\n",
       "      <td>2</td>\n",
       "      <td>0</td>\n",
       "      <td>1.00</td>\n",
       "      <td>be_zip_94</td>\n",
       "      <td>be_zip_9</td>\n",
       "      <td>1382.352941</td>\n",
       "      <td>be_zip_94</td>\n",
       "    </tr>\n",
       "    <tr>\n",
       "      <th>62428</th>\n",
       "      <td>9617011</td>\n",
       "      <td>Aalst</td>\n",
       "      <td>9300</td>\n",
       "      <td>Flanders</td>\n",
       "      <td>East Flanders</td>\n",
       "      <td>APARTMENT</td>\n",
       "      <td>APARTMENT</td>\n",
       "      <td>residential_sale</td>\n",
       "      <td>316200</td>\n",
       "      <td>2</td>\n",
       "      <td>...</td>\n",
       "      <td>0</td>\n",
       "      <td>0</td>\n",
       "      <td>0</td>\n",
       "      <td>1</td>\n",
       "      <td>0</td>\n",
       "      <td>1.00</td>\n",
       "      <td>be_zip_93</td>\n",
       "      <td>be_zip_9</td>\n",
       "      <td>3100.000000</td>\n",
       "      <td>be_zip_93</td>\n",
       "    </tr>\n",
       "    <tr>\n",
       "      <th>62429</th>\n",
       "      <td>10024976</td>\n",
       "      <td>Stekene</td>\n",
       "      <td>9190</td>\n",
       "      <td>Flanders</td>\n",
       "      <td>East Flanders</td>\n",
       "      <td>HOUSE</td>\n",
       "      <td>HOUSE</td>\n",
       "      <td>residential_sale</td>\n",
       "      <td>210000</td>\n",
       "      <td>4</td>\n",
       "      <td>...</td>\n",
       "      <td>0</td>\n",
       "      <td>0</td>\n",
       "      <td>2153</td>\n",
       "      <td>4</td>\n",
       "      <td>0</td>\n",
       "      <td>0.50</td>\n",
       "      <td>be_zip_91</td>\n",
       "      <td>be_zip_9</td>\n",
       "      <td>1288.343558</td>\n",
       "      <td>be_zip_91</td>\n",
       "    </tr>\n",
       "  </tbody>\n",
       "</table>\n",
       "<p>42930 rows × 27 columns</p>\n",
       "</div>"
      ],
      "text/plain": [
       "             id              locality  postal_code    region       province  \\\n",
       "0      10131114                 HEURE         5377  Wallonie          Namur   \n",
       "1      10150865                Dinant         5500  Wallonie          Namur   \n",
       "3      10022778              Gembloux         5030  Wallonie          Namur   \n",
       "4       9989192           Sambreville         5060  Wallonie          Namur   \n",
       "5       9951165         Profondeville         5170  Wallonie          Namur   \n",
       "...         ...                   ...          ...       ...            ...   \n",
       "62422  10121854               Lokeren         9160  Flanders  East Flanders   \n",
       "62424  10117346  Gent Sint-Amandsberg         9040  Flanders  East Flanders   \n",
       "62427  10103172           Denderleeuw         9470  Flanders  East Flanders   \n",
       "62428   9617011                 Aalst         9300  Flanders  East Flanders   \n",
       "62429  10024976               Stekene         9190  Flanders  East Flanders   \n",
       "\n",
       "      type_of_property subtype_of_property      type_of_sale   price  \\\n",
       "0                HOUSE               HOUSE  residential_sale  100000   \n",
       "1            APARTMENT           APARTMENT  residential_sale  219000   \n",
       "3            APARTMENT           APARTMENT  residential_sale  285000   \n",
       "4            APARTMENT           APARTMENT  residential_sale  284000   \n",
       "5                HOUSE               HOUSE  residential_sale  179000   \n",
       "...                ...                 ...               ...     ...   \n",
       "62422            HOUSE               HOUSE  residential_sale  439900   \n",
       "62424            HOUSE               HOUSE  residential_sale  425000   \n",
       "62427            HOUSE               HOUSE  residential_sale  235000   \n",
       "62428        APARTMENT           APARTMENT  residential_sale  316200   \n",
       "62429            HOUSE               HOUSE  residential_sale  210000   \n",
       "\n",
       "       number_of_bedrooms  ...  garden garden_surface  land_surface  \\\n",
       "0                       2  ...       0              0           198   \n",
       "1                       2  ...       0              0             0   \n",
       "3                       2  ...       0              0             0   \n",
       "4                       2  ...       0              0             0   \n",
       "5                       2  ...       1              0          1013   \n",
       "...                   ...  ...     ...            ...           ...   \n",
       "62422                   4  ...       1              0           969   \n",
       "62424                   4  ...       1             12            80   \n",
       "62427                   1  ...       1             55           170   \n",
       "62428                   2  ...       0              0             0   \n",
       "62429                   4  ...       0              0          2153   \n",
       "\n",
       "       number_of_facades  swimming_pool  state_of_the_building  zip_code_xx  \\\n",
       "0                      3              0                   0.25    be_zip_53   \n",
       "1                      3              0                   0.50    be_zip_55   \n",
       "3                      2              0                   1.00    be_zip_50   \n",
       "4                      3              0                   1.00    be_zip_50   \n",
       "5                      4              0                   0.25    be_zip_51   \n",
       "...                  ...            ...                    ...          ...   \n",
       "62422                  4              0                   0.75    be_zip_91   \n",
       "62424                  2              0                   1.00    be_zip_90   \n",
       "62427                  2              0                   1.00    be_zip_94   \n",
       "62428                  1              0                   1.00    be_zip_93   \n",
       "62429                  4              0                   0.50    be_zip_91   \n",
       "\n",
       "       zip_code_x     price_m2  zip_code_ponderation  \n",
       "0        be_zip_5   666.666667             be_zip_53  \n",
       "1        be_zip_5  2190.000000             be_zip_55  \n",
       "3        be_zip_5  3518.518519             be_zip_50  \n",
       "4        be_zip_5  1893.333333             be_zip_50  \n",
       "5        be_zip_5  1193.333333             be_zip_51  \n",
       "...           ...          ...                   ...  \n",
       "62422    be_zip_9  1705.038760             be_zip_91  \n",
       "62424    be_zip_9  3148.148148             be_zip_90  \n",
       "62427    be_zip_9  1382.352941             be_zip_94  \n",
       "62428    be_zip_9  3100.000000             be_zip_93  \n",
       "62429    be_zip_9  1288.343558             be_zip_91  \n",
       "\n",
       "[42930 rows x 27 columns]"
      ]
     },
     "execution_count": 75,
     "metadata": {},
     "output_type": "execute_result"
    }
   ],
   "source": [
    "df"
   ]
  },
  {
   "cell_type": "code",
   "execution_count": 76,
   "id": "68148c36-d254-40fd-89fc-e5c786ad3915",
   "metadata": {
    "tags": []
   },
   "outputs": [],
   "source": [
    "df['zip_code_ponderation'] = df['zip_code_ponderation'].map(dic_zip_value)"
   ]
  },
  {
   "cell_type": "code",
   "execution_count": 77,
   "id": "3b2650c5-4ce5-4257-b2f2-660ce230f47e",
   "metadata": {
    "tags": []
   },
   "outputs": [
    {
     "data": {
      "text/html": [
       "<div>\n",
       "<style scoped>\n",
       "    .dataframe tbody tr th:only-of-type {\n",
       "        vertical-align: middle;\n",
       "    }\n",
       "\n",
       "    .dataframe tbody tr th {\n",
       "        vertical-align: top;\n",
       "    }\n",
       "\n",
       "    .dataframe thead th {\n",
       "        text-align: right;\n",
       "    }\n",
       "</style>\n",
       "<table border=\"1\" class=\"dataframe\">\n",
       "  <thead>\n",
       "    <tr style=\"text-align: right;\">\n",
       "      <th></th>\n",
       "      <th>id</th>\n",
       "      <th>locality</th>\n",
       "      <th>postal_code</th>\n",
       "      <th>region</th>\n",
       "      <th>province</th>\n",
       "      <th>type_of_property</th>\n",
       "      <th>subtype_of_property</th>\n",
       "      <th>type_of_sale</th>\n",
       "      <th>price</th>\n",
       "      <th>number_of_bedrooms</th>\n",
       "      <th>...</th>\n",
       "      <th>garden</th>\n",
       "      <th>garden_surface</th>\n",
       "      <th>land_surface</th>\n",
       "      <th>number_of_facades</th>\n",
       "      <th>swimming_pool</th>\n",
       "      <th>state_of_the_building</th>\n",
       "      <th>zip_code_xx</th>\n",
       "      <th>zip_code_x</th>\n",
       "      <th>price_m2</th>\n",
       "      <th>zip_code_ponderation</th>\n",
       "    </tr>\n",
       "  </thead>\n",
       "  <tbody>\n",
       "    <tr>\n",
       "      <th>0</th>\n",
       "      <td>10131114</td>\n",
       "      <td>HEURE</td>\n",
       "      <td>5377</td>\n",
       "      <td>Wallonie</td>\n",
       "      <td>Namur</td>\n",
       "      <td>HOUSE</td>\n",
       "      <td>HOUSE</td>\n",
       "      <td>residential_sale</td>\n",
       "      <td>100000</td>\n",
       "      <td>2</td>\n",
       "      <td>...</td>\n",
       "      <td>0</td>\n",
       "      <td>0</td>\n",
       "      <td>198</td>\n",
       "      <td>3</td>\n",
       "      <td>0</td>\n",
       "      <td>0.25</td>\n",
       "      <td>be_zip_53</td>\n",
       "      <td>be_zip_5</td>\n",
       "      <td>666.666667</td>\n",
       "      <td>0.82</td>\n",
       "    </tr>\n",
       "    <tr>\n",
       "      <th>1</th>\n",
       "      <td>10150865</td>\n",
       "      <td>Dinant</td>\n",
       "      <td>5500</td>\n",
       "      <td>Wallonie</td>\n",
       "      <td>Namur</td>\n",
       "      <td>APARTMENT</td>\n",
       "      <td>APARTMENT</td>\n",
       "      <td>residential_sale</td>\n",
       "      <td>219000</td>\n",
       "      <td>2</td>\n",
       "      <td>...</td>\n",
       "      <td>0</td>\n",
       "      <td>0</td>\n",
       "      <td>0</td>\n",
       "      <td>3</td>\n",
       "      <td>0</td>\n",
       "      <td>0.50</td>\n",
       "      <td>be_zip_55</td>\n",
       "      <td>be_zip_5</td>\n",
       "      <td>2190.000000</td>\n",
       "      <td>0.72</td>\n",
       "    </tr>\n",
       "    <tr>\n",
       "      <th>3</th>\n",
       "      <td>10022778</td>\n",
       "      <td>Gembloux</td>\n",
       "      <td>5030</td>\n",
       "      <td>Wallonie</td>\n",
       "      <td>Namur</td>\n",
       "      <td>APARTMENT</td>\n",
       "      <td>APARTMENT</td>\n",
       "      <td>residential_sale</td>\n",
       "      <td>285000</td>\n",
       "      <td>2</td>\n",
       "      <td>...</td>\n",
       "      <td>0</td>\n",
       "      <td>0</td>\n",
       "      <td>0</td>\n",
       "      <td>2</td>\n",
       "      <td>0</td>\n",
       "      <td>1.00</td>\n",
       "      <td>be_zip_50</td>\n",
       "      <td>be_zip_5</td>\n",
       "      <td>3518.518519</td>\n",
       "      <td>0.92</td>\n",
       "    </tr>\n",
       "    <tr>\n",
       "      <th>4</th>\n",
       "      <td>9989192</td>\n",
       "      <td>Sambreville</td>\n",
       "      <td>5060</td>\n",
       "      <td>Wallonie</td>\n",
       "      <td>Namur</td>\n",
       "      <td>APARTMENT</td>\n",
       "      <td>APARTMENT</td>\n",
       "      <td>residential_sale</td>\n",
       "      <td>284000</td>\n",
       "      <td>2</td>\n",
       "      <td>...</td>\n",
       "      <td>0</td>\n",
       "      <td>0</td>\n",
       "      <td>0</td>\n",
       "      <td>3</td>\n",
       "      <td>0</td>\n",
       "      <td>1.00</td>\n",
       "      <td>be_zip_50</td>\n",
       "      <td>be_zip_5</td>\n",
       "      <td>1893.333333</td>\n",
       "      <td>0.92</td>\n",
       "    </tr>\n",
       "    <tr>\n",
       "      <th>5</th>\n",
       "      <td>9951165</td>\n",
       "      <td>Profondeville</td>\n",
       "      <td>5170</td>\n",
       "      <td>Wallonie</td>\n",
       "      <td>Namur</td>\n",
       "      <td>HOUSE</td>\n",
       "      <td>HOUSE</td>\n",
       "      <td>residential_sale</td>\n",
       "      <td>179000</td>\n",
       "      <td>2</td>\n",
       "      <td>...</td>\n",
       "      <td>1</td>\n",
       "      <td>0</td>\n",
       "      <td>1013</td>\n",
       "      <td>4</td>\n",
       "      <td>0</td>\n",
       "      <td>0.25</td>\n",
       "      <td>be_zip_51</td>\n",
       "      <td>be_zip_5</td>\n",
       "      <td>1193.333333</td>\n",
       "      <td>0.94</td>\n",
       "    </tr>\n",
       "    <tr>\n",
       "      <th>...</th>\n",
       "      <td>...</td>\n",
       "      <td>...</td>\n",
       "      <td>...</td>\n",
       "      <td>...</td>\n",
       "      <td>...</td>\n",
       "      <td>...</td>\n",
       "      <td>...</td>\n",
       "      <td>...</td>\n",
       "      <td>...</td>\n",
       "      <td>...</td>\n",
       "      <td>...</td>\n",
       "      <td>...</td>\n",
       "      <td>...</td>\n",
       "      <td>...</td>\n",
       "      <td>...</td>\n",
       "      <td>...</td>\n",
       "      <td>...</td>\n",
       "      <td>...</td>\n",
       "      <td>...</td>\n",
       "      <td>...</td>\n",
       "      <td>...</td>\n",
       "    </tr>\n",
       "    <tr>\n",
       "      <th>62422</th>\n",
       "      <td>10121854</td>\n",
       "      <td>Lokeren</td>\n",
       "      <td>9160</td>\n",
       "      <td>Flanders</td>\n",
       "      <td>East Flanders</td>\n",
       "      <td>HOUSE</td>\n",
       "      <td>HOUSE</td>\n",
       "      <td>residential_sale</td>\n",
       "      <td>439900</td>\n",
       "      <td>4</td>\n",
       "      <td>...</td>\n",
       "      <td>1</td>\n",
       "      <td>0</td>\n",
       "      <td>969</td>\n",
       "      <td>4</td>\n",
       "      <td>0</td>\n",
       "      <td>0.75</td>\n",
       "      <td>be_zip_91</td>\n",
       "      <td>be_zip_9</td>\n",
       "      <td>1705.038760</td>\n",
       "      <td>1.06</td>\n",
       "    </tr>\n",
       "    <tr>\n",
       "      <th>62424</th>\n",
       "      <td>10117346</td>\n",
       "      <td>Gent Sint-Amandsberg</td>\n",
       "      <td>9040</td>\n",
       "      <td>Flanders</td>\n",
       "      <td>East Flanders</td>\n",
       "      <td>HOUSE</td>\n",
       "      <td>HOUSE</td>\n",
       "      <td>residential_sale</td>\n",
       "      <td>425000</td>\n",
       "      <td>4</td>\n",
       "      <td>...</td>\n",
       "      <td>1</td>\n",
       "      <td>12</td>\n",
       "      <td>80</td>\n",
       "      <td>2</td>\n",
       "      <td>0</td>\n",
       "      <td>1.00</td>\n",
       "      <td>be_zip_90</td>\n",
       "      <td>be_zip_9</td>\n",
       "      <td>3148.148148</td>\n",
       "      <td>1.38</td>\n",
       "    </tr>\n",
       "    <tr>\n",
       "      <th>62427</th>\n",
       "      <td>10103172</td>\n",
       "      <td>Denderleeuw</td>\n",
       "      <td>9470</td>\n",
       "      <td>Flanders</td>\n",
       "      <td>East Flanders</td>\n",
       "      <td>HOUSE</td>\n",
       "      <td>HOUSE</td>\n",
       "      <td>residential_sale</td>\n",
       "      <td>235000</td>\n",
       "      <td>1</td>\n",
       "      <td>...</td>\n",
       "      <td>1</td>\n",
       "      <td>55</td>\n",
       "      <td>170</td>\n",
       "      <td>2</td>\n",
       "      <td>0</td>\n",
       "      <td>1.00</td>\n",
       "      <td>be_zip_94</td>\n",
       "      <td>be_zip_9</td>\n",
       "      <td>1382.352941</td>\n",
       "      <td>0.94</td>\n",
       "    </tr>\n",
       "    <tr>\n",
       "      <th>62428</th>\n",
       "      <td>9617011</td>\n",
       "      <td>Aalst</td>\n",
       "      <td>9300</td>\n",
       "      <td>Flanders</td>\n",
       "      <td>East Flanders</td>\n",
       "      <td>APARTMENT</td>\n",
       "      <td>APARTMENT</td>\n",
       "      <td>residential_sale</td>\n",
       "      <td>316200</td>\n",
       "      <td>2</td>\n",
       "      <td>...</td>\n",
       "      <td>0</td>\n",
       "      <td>0</td>\n",
       "      <td>0</td>\n",
       "      <td>1</td>\n",
       "      <td>0</td>\n",
       "      <td>1.00</td>\n",
       "      <td>be_zip_93</td>\n",
       "      <td>be_zip_9</td>\n",
       "      <td>3100.000000</td>\n",
       "      <td>0.98</td>\n",
       "    </tr>\n",
       "    <tr>\n",
       "      <th>62429</th>\n",
       "      <td>10024976</td>\n",
       "      <td>Stekene</td>\n",
       "      <td>9190</td>\n",
       "      <td>Flanders</td>\n",
       "      <td>East Flanders</td>\n",
       "      <td>HOUSE</td>\n",
       "      <td>HOUSE</td>\n",
       "      <td>residential_sale</td>\n",
       "      <td>210000</td>\n",
       "      <td>4</td>\n",
       "      <td>...</td>\n",
       "      <td>0</td>\n",
       "      <td>0</td>\n",
       "      <td>2153</td>\n",
       "      <td>4</td>\n",
       "      <td>0</td>\n",
       "      <td>0.50</td>\n",
       "      <td>be_zip_91</td>\n",
       "      <td>be_zip_9</td>\n",
       "      <td>1288.343558</td>\n",
       "      <td>1.06</td>\n",
       "    </tr>\n",
       "  </tbody>\n",
       "</table>\n",
       "<p>42930 rows × 27 columns</p>\n",
       "</div>"
      ],
      "text/plain": [
       "             id              locality  postal_code    region       province  \\\n",
       "0      10131114                 HEURE         5377  Wallonie          Namur   \n",
       "1      10150865                Dinant         5500  Wallonie          Namur   \n",
       "3      10022778              Gembloux         5030  Wallonie          Namur   \n",
       "4       9989192           Sambreville         5060  Wallonie          Namur   \n",
       "5       9951165         Profondeville         5170  Wallonie          Namur   \n",
       "...         ...                   ...          ...       ...            ...   \n",
       "62422  10121854               Lokeren         9160  Flanders  East Flanders   \n",
       "62424  10117346  Gent Sint-Amandsberg         9040  Flanders  East Flanders   \n",
       "62427  10103172           Denderleeuw         9470  Flanders  East Flanders   \n",
       "62428   9617011                 Aalst         9300  Flanders  East Flanders   \n",
       "62429  10024976               Stekene         9190  Flanders  East Flanders   \n",
       "\n",
       "      type_of_property subtype_of_property      type_of_sale   price  \\\n",
       "0                HOUSE               HOUSE  residential_sale  100000   \n",
       "1            APARTMENT           APARTMENT  residential_sale  219000   \n",
       "3            APARTMENT           APARTMENT  residential_sale  285000   \n",
       "4            APARTMENT           APARTMENT  residential_sale  284000   \n",
       "5                HOUSE               HOUSE  residential_sale  179000   \n",
       "...                ...                 ...               ...     ...   \n",
       "62422            HOUSE               HOUSE  residential_sale  439900   \n",
       "62424            HOUSE               HOUSE  residential_sale  425000   \n",
       "62427            HOUSE               HOUSE  residential_sale  235000   \n",
       "62428        APARTMENT           APARTMENT  residential_sale  316200   \n",
       "62429            HOUSE               HOUSE  residential_sale  210000   \n",
       "\n",
       "       number_of_bedrooms  ...  garden garden_surface  land_surface  \\\n",
       "0                       2  ...       0              0           198   \n",
       "1                       2  ...       0              0             0   \n",
       "3                       2  ...       0              0             0   \n",
       "4                       2  ...       0              0             0   \n",
       "5                       2  ...       1              0          1013   \n",
       "...                   ...  ...     ...            ...           ...   \n",
       "62422                   4  ...       1              0           969   \n",
       "62424                   4  ...       1             12            80   \n",
       "62427                   1  ...       1             55           170   \n",
       "62428                   2  ...       0              0             0   \n",
       "62429                   4  ...       0              0          2153   \n",
       "\n",
       "       number_of_facades  swimming_pool  state_of_the_building  zip_code_xx  \\\n",
       "0                      3              0                   0.25    be_zip_53   \n",
       "1                      3              0                   0.50    be_zip_55   \n",
       "3                      2              0                   1.00    be_zip_50   \n",
       "4                      3              0                   1.00    be_zip_50   \n",
       "5                      4              0                   0.25    be_zip_51   \n",
       "...                  ...            ...                    ...          ...   \n",
       "62422                  4              0                   0.75    be_zip_91   \n",
       "62424                  2              0                   1.00    be_zip_90   \n",
       "62427                  2              0                   1.00    be_zip_94   \n",
       "62428                  1              0                   1.00    be_zip_93   \n",
       "62429                  4              0                   0.50    be_zip_91   \n",
       "\n",
       "       zip_code_x     price_m2  zip_code_ponderation  \n",
       "0        be_zip_5   666.666667                  0.82  \n",
       "1        be_zip_5  2190.000000                  0.72  \n",
       "3        be_zip_5  3518.518519                  0.92  \n",
       "4        be_zip_5  1893.333333                  0.92  \n",
       "5        be_zip_5  1193.333333                  0.94  \n",
       "...           ...          ...                   ...  \n",
       "62422    be_zip_9  1705.038760                  1.06  \n",
       "62424    be_zip_9  3148.148148                  1.38  \n",
       "62427    be_zip_9  1382.352941                  0.94  \n",
       "62428    be_zip_9  3100.000000                  0.98  \n",
       "62429    be_zip_9  1288.343558                  1.06  \n",
       "\n",
       "[42930 rows x 27 columns]"
      ]
     },
     "execution_count": 77,
     "metadata": {},
     "output_type": "execute_result"
    }
   ],
   "source": [
    "df"
   ]
  },
  {
   "cell_type": "markdown",
   "id": "2d324a5c-2434-4b6c-807b-35820f42f40f",
   "metadata": {
    "jp-MarkdownHeadingCollapsed": true,
    "tags": []
   },
   "source": [
    "### API list"
   ]
  },
  {
   "cell_type": "code",
   "execution_count": 78,
   "id": "515a3112-ef58-4dd0-b848-ed4eee69f2be",
   "metadata": {
    "tags": []
   },
   "outputs": [],
   "source": [
    "api_list = ['surface','type_of_property','number_of_bedrooms','postal_code','land_surface','garden','garden_surface','fully_equipped_kitchen','swimming_pool','furnished','open_fire','terrace','terrace_surface','number_of_facades','state_of_the_building','zip_code_ponderation','price']"
   ]
  },
  {
   "cell_type": "code",
   "execution_count": 79,
   "id": "2ab88b51-1b6d-4d59-baae-71255050ee2f",
   "metadata": {
    "tags": []
   },
   "outputs": [],
   "source": [
    "df = df[api_list]"
   ]
  },
  {
   "cell_type": "code",
   "execution_count": 80,
   "id": "8678e138-1ee4-4fba-802b-d8b7ff713a71",
   "metadata": {
    "tags": []
   },
   "outputs": [],
   "source": [
    "claned_df = df.shape"
   ]
  },
  {
   "cell_type": "code",
   "execution_count": 81,
   "id": "3dfdf7bc-66ee-445f-99ab-23675d70619c",
   "metadata": {},
   "outputs": [
    {
     "data": {
      "text/html": [
       "<div>\n",
       "<style scoped>\n",
       "    .dataframe tbody tr th:only-of-type {\n",
       "        vertical-align: middle;\n",
       "    }\n",
       "\n",
       "    .dataframe tbody tr th {\n",
       "        vertical-align: top;\n",
       "    }\n",
       "\n",
       "    .dataframe thead th {\n",
       "        text-align: right;\n",
       "    }\n",
       "</style>\n",
       "<table border=\"1\" class=\"dataframe\">\n",
       "  <thead>\n",
       "    <tr style=\"text-align: right;\">\n",
       "      <th></th>\n",
       "      <th>surface</th>\n",
       "      <th>type_of_property</th>\n",
       "      <th>number_of_bedrooms</th>\n",
       "      <th>postal_code</th>\n",
       "      <th>land_surface</th>\n",
       "      <th>garden</th>\n",
       "      <th>garden_surface</th>\n",
       "      <th>fully_equipped_kitchen</th>\n",
       "      <th>swimming_pool</th>\n",
       "      <th>furnished</th>\n",
       "      <th>open_fire</th>\n",
       "      <th>terrace</th>\n",
       "      <th>terrace_surface</th>\n",
       "      <th>number_of_facades</th>\n",
       "      <th>state_of_the_building</th>\n",
       "      <th>zip_code_ponderation</th>\n",
       "      <th>price</th>\n",
       "    </tr>\n",
       "  </thead>\n",
       "  <tbody>\n",
       "    <tr>\n",
       "      <th>0</th>\n",
       "      <td>150</td>\n",
       "      <td>HOUSE</td>\n",
       "      <td>2</td>\n",
       "      <td>5377</td>\n",
       "      <td>198</td>\n",
       "      <td>0</td>\n",
       "      <td>0</td>\n",
       "      <td>0.00</td>\n",
       "      <td>0</td>\n",
       "      <td>0</td>\n",
       "      <td>0</td>\n",
       "      <td>1</td>\n",
       "      <td>0</td>\n",
       "      <td>3</td>\n",
       "      <td>0.25</td>\n",
       "      <td>0.82</td>\n",
       "      <td>100000</td>\n",
       "    </tr>\n",
       "    <tr>\n",
       "      <th>1</th>\n",
       "      <td>100</td>\n",
       "      <td>APARTMENT</td>\n",
       "      <td>2</td>\n",
       "      <td>5500</td>\n",
       "      <td>0</td>\n",
       "      <td>0</td>\n",
       "      <td>0</td>\n",
       "      <td>1.00</td>\n",
       "      <td>0</td>\n",
       "      <td>0</td>\n",
       "      <td>0</td>\n",
       "      <td>1</td>\n",
       "      <td>0</td>\n",
       "      <td>3</td>\n",
       "      <td>0.50</td>\n",
       "      <td>0.72</td>\n",
       "      <td>219000</td>\n",
       "    </tr>\n",
       "    <tr>\n",
       "      <th>3</th>\n",
       "      <td>81</td>\n",
       "      <td>APARTMENT</td>\n",
       "      <td>2</td>\n",
       "      <td>5030</td>\n",
       "      <td>0</td>\n",
       "      <td>0</td>\n",
       "      <td>0</td>\n",
       "      <td>1.00</td>\n",
       "      <td>0</td>\n",
       "      <td>0</td>\n",
       "      <td>0</td>\n",
       "      <td>1</td>\n",
       "      <td>6</td>\n",
       "      <td>2</td>\n",
       "      <td>1.00</td>\n",
       "      <td>0.92</td>\n",
       "      <td>285000</td>\n",
       "    </tr>\n",
       "    <tr>\n",
       "      <th>4</th>\n",
       "      <td>150</td>\n",
       "      <td>APARTMENT</td>\n",
       "      <td>2</td>\n",
       "      <td>5060</td>\n",
       "      <td>0</td>\n",
       "      <td>0</td>\n",
       "      <td>0</td>\n",
       "      <td>0.50</td>\n",
       "      <td>0</td>\n",
       "      <td>0</td>\n",
       "      <td>0</td>\n",
       "      <td>1</td>\n",
       "      <td>16</td>\n",
       "      <td>3</td>\n",
       "      <td>1.00</td>\n",
       "      <td>0.92</td>\n",
       "      <td>284000</td>\n",
       "    </tr>\n",
       "    <tr>\n",
       "      <th>5</th>\n",
       "      <td>150</td>\n",
       "      <td>HOUSE</td>\n",
       "      <td>2</td>\n",
       "      <td>5170</td>\n",
       "      <td>1013</td>\n",
       "      <td>1</td>\n",
       "      <td>0</td>\n",
       "      <td>0.00</td>\n",
       "      <td>0</td>\n",
       "      <td>0</td>\n",
       "      <td>0</td>\n",
       "      <td>0</td>\n",
       "      <td>0</td>\n",
       "      <td>4</td>\n",
       "      <td>0.25</td>\n",
       "      <td>0.94</td>\n",
       "      <td>179000</td>\n",
       "    </tr>\n",
       "    <tr>\n",
       "      <th>...</th>\n",
       "      <td>...</td>\n",
       "      <td>...</td>\n",
       "      <td>...</td>\n",
       "      <td>...</td>\n",
       "      <td>...</td>\n",
       "      <td>...</td>\n",
       "      <td>...</td>\n",
       "      <td>...</td>\n",
       "      <td>...</td>\n",
       "      <td>...</td>\n",
       "      <td>...</td>\n",
       "      <td>...</td>\n",
       "      <td>...</td>\n",
       "      <td>...</td>\n",
       "      <td>...</td>\n",
       "      <td>...</td>\n",
       "      <td>...</td>\n",
       "    </tr>\n",
       "    <tr>\n",
       "      <th>62422</th>\n",
       "      <td>258</td>\n",
       "      <td>HOUSE</td>\n",
       "      <td>4</td>\n",
       "      <td>9160</td>\n",
       "      <td>969</td>\n",
       "      <td>1</td>\n",
       "      <td>0</td>\n",
       "      <td>0.25</td>\n",
       "      <td>0</td>\n",
       "      <td>0</td>\n",
       "      <td>0</td>\n",
       "      <td>1</td>\n",
       "      <td>0</td>\n",
       "      <td>4</td>\n",
       "      <td>0.75</td>\n",
       "      <td>1.06</td>\n",
       "      <td>439900</td>\n",
       "    </tr>\n",
       "    <tr>\n",
       "      <th>62424</th>\n",
       "      <td>135</td>\n",
       "      <td>HOUSE</td>\n",
       "      <td>4</td>\n",
       "      <td>9040</td>\n",
       "      <td>80</td>\n",
       "      <td>1</td>\n",
       "      <td>12</td>\n",
       "      <td>0.50</td>\n",
       "      <td>0</td>\n",
       "      <td>0</td>\n",
       "      <td>0</td>\n",
       "      <td>1</td>\n",
       "      <td>7</td>\n",
       "      <td>2</td>\n",
       "      <td>1.00</td>\n",
       "      <td>1.38</td>\n",
       "      <td>425000</td>\n",
       "    </tr>\n",
       "    <tr>\n",
       "      <th>62427</th>\n",
       "      <td>170</td>\n",
       "      <td>HOUSE</td>\n",
       "      <td>1</td>\n",
       "      <td>9470</td>\n",
       "      <td>170</td>\n",
       "      <td>1</td>\n",
       "      <td>55</td>\n",
       "      <td>0.50</td>\n",
       "      <td>0</td>\n",
       "      <td>0</td>\n",
       "      <td>0</td>\n",
       "      <td>1</td>\n",
       "      <td>30</td>\n",
       "      <td>2</td>\n",
       "      <td>1.00</td>\n",
       "      <td>0.94</td>\n",
       "      <td>235000</td>\n",
       "    </tr>\n",
       "    <tr>\n",
       "      <th>62428</th>\n",
       "      <td>102</td>\n",
       "      <td>APARTMENT</td>\n",
       "      <td>2</td>\n",
       "      <td>9300</td>\n",
       "      <td>0</td>\n",
       "      <td>0</td>\n",
       "      <td>0</td>\n",
       "      <td>0.25</td>\n",
       "      <td>0</td>\n",
       "      <td>0</td>\n",
       "      <td>0</td>\n",
       "      <td>1</td>\n",
       "      <td>0</td>\n",
       "      <td>1</td>\n",
       "      <td>1.00</td>\n",
       "      <td>0.98</td>\n",
       "      <td>316200</td>\n",
       "    </tr>\n",
       "    <tr>\n",
       "      <th>62429</th>\n",
       "      <td>163</td>\n",
       "      <td>HOUSE</td>\n",
       "      <td>4</td>\n",
       "      <td>9190</td>\n",
       "      <td>2153</td>\n",
       "      <td>0</td>\n",
       "      <td>0</td>\n",
       "      <td>0.75</td>\n",
       "      <td>0</td>\n",
       "      <td>0</td>\n",
       "      <td>1</td>\n",
       "      <td>1</td>\n",
       "      <td>40</td>\n",
       "      <td>4</td>\n",
       "      <td>0.50</td>\n",
       "      <td>1.06</td>\n",
       "      <td>210000</td>\n",
       "    </tr>\n",
       "  </tbody>\n",
       "</table>\n",
       "<p>42930 rows × 17 columns</p>\n",
       "</div>"
      ],
      "text/plain": [
       "       surface type_of_property  number_of_bedrooms  postal_code  \\\n",
       "0          150            HOUSE                   2         5377   \n",
       "1          100        APARTMENT                   2         5500   \n",
       "3           81        APARTMENT                   2         5030   \n",
       "4          150        APARTMENT                   2         5060   \n",
       "5          150            HOUSE                   2         5170   \n",
       "...        ...              ...                 ...          ...   \n",
       "62422      258            HOUSE                   4         9160   \n",
       "62424      135            HOUSE                   4         9040   \n",
       "62427      170            HOUSE                   1         9470   \n",
       "62428      102        APARTMENT                   2         9300   \n",
       "62429      163            HOUSE                   4         9190   \n",
       "\n",
       "       land_surface  garden  garden_surface  fully_equipped_kitchen  \\\n",
       "0               198       0               0                    0.00   \n",
       "1                 0       0               0                    1.00   \n",
       "3                 0       0               0                    1.00   \n",
       "4                 0       0               0                    0.50   \n",
       "5              1013       1               0                    0.00   \n",
       "...             ...     ...             ...                     ...   \n",
       "62422           969       1               0                    0.25   \n",
       "62424            80       1              12                    0.50   \n",
       "62427           170       1              55                    0.50   \n",
       "62428             0       0               0                    0.25   \n",
       "62429          2153       0               0                    0.75   \n",
       "\n",
       "       swimming_pool  furnished  open_fire  terrace  terrace_surface  \\\n",
       "0                  0          0          0        1                0   \n",
       "1                  0          0          0        1                0   \n",
       "3                  0          0          0        1                6   \n",
       "4                  0          0          0        1               16   \n",
       "5                  0          0          0        0                0   \n",
       "...              ...        ...        ...      ...              ...   \n",
       "62422              0          0          0        1                0   \n",
       "62424              0          0          0        1                7   \n",
       "62427              0          0          0        1               30   \n",
       "62428              0          0          0        1                0   \n",
       "62429              0          0          1        1               40   \n",
       "\n",
       "       number_of_facades  state_of_the_building  zip_code_ponderation   price  \n",
       "0                      3                   0.25                  0.82  100000  \n",
       "1                      3                   0.50                  0.72  219000  \n",
       "3                      2                   1.00                  0.92  285000  \n",
       "4                      3                   1.00                  0.92  284000  \n",
       "5                      4                   0.25                  0.94  179000  \n",
       "...                  ...                    ...                   ...     ...  \n",
       "62422                  4                   0.75                  1.06  439900  \n",
       "62424                  2                   1.00                  1.38  425000  \n",
       "62427                  2                   1.00                  0.94  235000  \n",
       "62428                  1                   1.00                  0.98  316200  \n",
       "62429                  4                   0.50                  1.06  210000  \n",
       "\n",
       "[42930 rows x 17 columns]"
      ]
     },
     "execution_count": 81,
     "metadata": {},
     "output_type": "execute_result"
    }
   ],
   "source": [
    "df"
   ]
  },
  {
   "cell_type": "markdown",
   "id": "f5f280a8-3c0d-4e24-a4d0-37a0da369b6a",
   "metadata": {
    "jp-MarkdownHeadingCollapsed": true,
    "tags": []
   },
   "source": [
    "## Check database"
   ]
  },
  {
   "cell_type": "code",
   "execution_count": 82,
   "id": "3dd7a92c-6256-43f5-853c-44a8b16f4fcc",
   "metadata": {},
   "outputs": [
    {
     "name": "stdout",
     "output_type": "stream",
     "text": [
      "initial_df (62430, 23) claned_df (42930, 17)\n"
     ]
    }
   ],
   "source": [
    "print(f'initial_df {initial_df} claned_df {claned_df}')"
   ]
  },
  {
   "cell_type": "code",
   "execution_count": 83,
   "id": "a4ff57bc-4a40-4d0d-8c59-e26baad01900",
   "metadata": {},
   "outputs": [
    {
     "data": {
      "text/html": [
       "<div>\n",
       "<style scoped>\n",
       "    .dataframe tbody tr th:only-of-type {\n",
       "        vertical-align: middle;\n",
       "    }\n",
       "\n",
       "    .dataframe tbody tr th {\n",
       "        vertical-align: top;\n",
       "    }\n",
       "\n",
       "    .dataframe thead th {\n",
       "        text-align: right;\n",
       "    }\n",
       "</style>\n",
       "<table border=\"1\" class=\"dataframe\">\n",
       "  <thead>\n",
       "    <tr style=\"text-align: right;\">\n",
       "      <th></th>\n",
       "      <th>surface</th>\n",
       "      <th>number_of_bedrooms</th>\n",
       "      <th>postal_code</th>\n",
       "      <th>land_surface</th>\n",
       "      <th>garden</th>\n",
       "      <th>garden_surface</th>\n",
       "      <th>fully_equipped_kitchen</th>\n",
       "      <th>swimming_pool</th>\n",
       "      <th>furnished</th>\n",
       "      <th>open_fire</th>\n",
       "      <th>terrace</th>\n",
       "      <th>terrace_surface</th>\n",
       "      <th>number_of_facades</th>\n",
       "      <th>state_of_the_building</th>\n",
       "      <th>zip_code_ponderation</th>\n",
       "      <th>price</th>\n",
       "    </tr>\n",
       "  </thead>\n",
       "  <tbody>\n",
       "    <tr>\n",
       "      <th>count</th>\n",
       "      <td>42930.000000</td>\n",
       "      <td>42930.000000</td>\n",
       "      <td>42930.000000</td>\n",
       "      <td>4.293000e+04</td>\n",
       "      <td>42930.000000</td>\n",
       "      <td>42930.000000</td>\n",
       "      <td>42930.000000</td>\n",
       "      <td>42930.000000</td>\n",
       "      <td>42930.000000</td>\n",
       "      <td>42930.000000</td>\n",
       "      <td>42930.000000</td>\n",
       "      <td>42930.000000</td>\n",
       "      <td>42930.000000</td>\n",
       "      <td>42930.000000</td>\n",
       "      <td>42930.000000</td>\n",
       "      <td>42930.000000</td>\n",
       "    </tr>\n",
       "    <tr>\n",
       "      <th>mean</th>\n",
       "      <td>147.532541</td>\n",
       "      <td>2.736921</td>\n",
       "      <td>5056.555858</td>\n",
       "      <td>4.607907e+02</td>\n",
       "      <td>0.340997</td>\n",
       "      <td>110.448241</td>\n",
       "      <td>0.502615</td>\n",
       "      <td>0.013557</td>\n",
       "      <td>0.022246</td>\n",
       "      <td>0.039646</td>\n",
       "      <td>0.635127</td>\n",
       "      <td>9.524482</td>\n",
       "      <td>2.378989</td>\n",
       "      <td>0.554251</td>\n",
       "      <td>1.104942</td>\n",
       "      <td>326038.838714</td>\n",
       "    </tr>\n",
       "    <tr>\n",
       "      <th>std</th>\n",
       "      <td>79.470420</td>\n",
       "      <td>1.224795</td>\n",
       "      <td>3030.481285</td>\n",
       "      <td>5.974487e+03</td>\n",
       "      <td>0.474050</td>\n",
       "      <td>1105.380100</td>\n",
       "      <td>0.278007</td>\n",
       "      <td>0.115644</td>\n",
       "      <td>0.147483</td>\n",
       "      <td>0.195128</td>\n",
       "      <td>0.481400</td>\n",
       "      <td>18.933273</td>\n",
       "      <td>0.981126</td>\n",
       "      <td>0.290610</td>\n",
       "      <td>0.297575</td>\n",
       "      <td>150093.338928</td>\n",
       "    </tr>\n",
       "    <tr>\n",
       "      <th>min</th>\n",
       "      <td>35.000000</td>\n",
       "      <td>0.000000</td>\n",
       "      <td>1000.000000</td>\n",
       "      <td>0.000000e+00</td>\n",
       "      <td>0.000000</td>\n",
       "      <td>0.000000</td>\n",
       "      <td>0.000000</td>\n",
       "      <td>0.000000</td>\n",
       "      <td>0.000000</td>\n",
       "      <td>0.000000</td>\n",
       "      <td>0.000000</td>\n",
       "      <td>0.000000</td>\n",
       "      <td>1.000000</td>\n",
       "      <td>0.250000</td>\n",
       "      <td>0.550000</td>\n",
       "      <td>2500.000000</td>\n",
       "    </tr>\n",
       "    <tr>\n",
       "      <th>25%</th>\n",
       "      <td>93.000000</td>\n",
       "      <td>2.000000</td>\n",
       "      <td>2180.000000</td>\n",
       "      <td>0.000000e+00</td>\n",
       "      <td>0.000000</td>\n",
       "      <td>0.000000</td>\n",
       "      <td>0.250000</td>\n",
       "      <td>0.000000</td>\n",
       "      <td>0.000000</td>\n",
       "      <td>0.000000</td>\n",
       "      <td>0.000000</td>\n",
       "      <td>0.000000</td>\n",
       "      <td>2.000000</td>\n",
       "      <td>0.250000</td>\n",
       "      <td>0.890000</td>\n",
       "      <td>220000.000000</td>\n",
       "    </tr>\n",
       "    <tr>\n",
       "      <th>50%</th>\n",
       "      <td>130.000000</td>\n",
       "      <td>3.000000</td>\n",
       "      <td>4420.000000</td>\n",
       "      <td>6.100000e+01</td>\n",
       "      <td>0.000000</td>\n",
       "      <td>0.000000</td>\n",
       "      <td>0.500000</td>\n",
       "      <td>0.000000</td>\n",
       "      <td>0.000000</td>\n",
       "      <td>0.000000</td>\n",
       "      <td>1.000000</td>\n",
       "      <td>0.000000</td>\n",
       "      <td>2.000000</td>\n",
       "      <td>0.500000</td>\n",
       "      <td>1.070000</td>\n",
       "      <td>295000.000000</td>\n",
       "    </tr>\n",
       "    <tr>\n",
       "      <th>75%</th>\n",
       "      <td>180.000000</td>\n",
       "      <td>3.000000</td>\n",
       "      <td>8380.000000</td>\n",
       "      <td>4.180000e+02</td>\n",
       "      <td>1.000000</td>\n",
       "      <td>0.000000</td>\n",
       "      <td>0.750000</td>\n",
       "      <td>0.000000</td>\n",
       "      <td>0.000000</td>\n",
       "      <td>0.000000</td>\n",
       "      <td>1.000000</td>\n",
       "      <td>13.000000</td>\n",
       "      <td>3.000000</td>\n",
       "      <td>0.750000</td>\n",
       "      <td>1.350000</td>\n",
       "      <td>399000.000000</td>\n",
       "    </tr>\n",
       "    <tr>\n",
       "      <th>max</th>\n",
       "      <td>800.000000</td>\n",
       "      <td>17.000000</td>\n",
       "      <td>9992.000000</td>\n",
       "      <td>1.100000e+06</td>\n",
       "      <td>1.000000</td>\n",
       "      <td>100000.000000</td>\n",
       "      <td>1.000000</td>\n",
       "      <td>1.000000</td>\n",
       "      <td>1.000000</td>\n",
       "      <td>1.000000</td>\n",
       "      <td>1.000000</td>\n",
       "      <td>420.000000</td>\n",
       "      <td>6.000000</td>\n",
       "      <td>1.000000</td>\n",
       "      <td>1.980000</td>\n",
       "      <td>799950.000000</td>\n",
       "    </tr>\n",
       "  </tbody>\n",
       "</table>\n",
       "</div>"
      ],
      "text/plain": [
       "            surface  number_of_bedrooms   postal_code  land_surface  \\\n",
       "count  42930.000000        42930.000000  42930.000000  4.293000e+04   \n",
       "mean     147.532541            2.736921   5056.555858  4.607907e+02   \n",
       "std       79.470420            1.224795   3030.481285  5.974487e+03   \n",
       "min       35.000000            0.000000   1000.000000  0.000000e+00   \n",
       "25%       93.000000            2.000000   2180.000000  0.000000e+00   \n",
       "50%      130.000000            3.000000   4420.000000  6.100000e+01   \n",
       "75%      180.000000            3.000000   8380.000000  4.180000e+02   \n",
       "max      800.000000           17.000000   9992.000000  1.100000e+06   \n",
       "\n",
       "             garden  garden_surface  fully_equipped_kitchen  swimming_pool  \\\n",
       "count  42930.000000    42930.000000            42930.000000   42930.000000   \n",
       "mean       0.340997      110.448241                0.502615       0.013557   \n",
       "std        0.474050     1105.380100                0.278007       0.115644   \n",
       "min        0.000000        0.000000                0.000000       0.000000   \n",
       "25%        0.000000        0.000000                0.250000       0.000000   \n",
       "50%        0.000000        0.000000                0.500000       0.000000   \n",
       "75%        1.000000        0.000000                0.750000       0.000000   \n",
       "max        1.000000   100000.000000                1.000000       1.000000   \n",
       "\n",
       "          furnished     open_fire       terrace  terrace_surface  \\\n",
       "count  42930.000000  42930.000000  42930.000000     42930.000000   \n",
       "mean       0.022246      0.039646      0.635127         9.524482   \n",
       "std        0.147483      0.195128      0.481400        18.933273   \n",
       "min        0.000000      0.000000      0.000000         0.000000   \n",
       "25%        0.000000      0.000000      0.000000         0.000000   \n",
       "50%        0.000000      0.000000      1.000000         0.000000   \n",
       "75%        0.000000      0.000000      1.000000        13.000000   \n",
       "max        1.000000      1.000000      1.000000       420.000000   \n",
       "\n",
       "       number_of_facades  state_of_the_building  zip_code_ponderation  \\\n",
       "count       42930.000000           42930.000000          42930.000000   \n",
       "mean            2.378989               0.554251              1.104942   \n",
       "std             0.981126               0.290610              0.297575   \n",
       "min             1.000000               0.250000              0.550000   \n",
       "25%             2.000000               0.250000              0.890000   \n",
       "50%             2.000000               0.500000              1.070000   \n",
       "75%             3.000000               0.750000              1.350000   \n",
       "max             6.000000               1.000000              1.980000   \n",
       "\n",
       "               price  \n",
       "count   42930.000000  \n",
       "mean   326038.838714  \n",
       "std    150093.338928  \n",
       "min      2500.000000  \n",
       "25%    220000.000000  \n",
       "50%    295000.000000  \n",
       "75%    399000.000000  \n",
       "max    799950.000000  "
      ]
     },
     "execution_count": 83,
     "metadata": {},
     "output_type": "execute_result"
    }
   ],
   "source": [
    "df.describe()"
   ]
  },
  {
   "cell_type": "code",
   "execution_count": 84,
   "id": "1fa37f13-6915-49ea-8256-c5ea015e0d28",
   "metadata": {
    "tags": []
   },
   "outputs": [
    {
     "name": "stdout",
     "output_type": "stream",
     "text": [
      "surface\n",
      "100    875\n",
      "150    869\n",
      "90     829\n",
      "120    801\n",
      "110    703\n",
      "      ... \n",
      "393      1\n",
      "788      1\n",
      "705      1\n",
      "612      1\n",
      "595      1\n",
      "Name: surface, Length: 562, dtype: int64\n",
      "\n",
      "\n",
      "type_of_property\n",
      "HOUSE        23501\n",
      "APARTMENT    19429\n",
      "Name: type_of_property, dtype: int64\n",
      "\n",
      "\n",
      "number_of_bedrooms\n",
      "3     14386\n",
      "2     14331\n",
      "4      6087\n",
      "1      4623\n",
      "5      1990\n",
      "6       641\n",
      "0       511\n",
      "7       176\n",
      "8        92\n",
      "9        53\n",
      "10       15\n",
      "11       11\n",
      "12        5\n",
      "16        2\n",
      "13        2\n",
      "15        2\n",
      "14        2\n",
      "17        1\n",
      "Name: number_of_bedrooms, dtype: int64\n",
      "\n",
      "\n",
      "postal_code\n",
      "9000    619\n",
      "1000    582\n",
      "8400    558\n",
      "8370    501\n",
      "1180    480\n",
      "       ... \n",
      "7536      1\n",
      "3793      1\n",
      "5576      1\n",
      "5563      1\n",
      "7601      1\n",
      "Name: postal_code, Length: 1040, dtype: int64\n",
      "\n",
      "\n",
      "land_surface\n",
      "0       20196\n",
      "100       200\n",
      "200       177\n",
      "300       152\n",
      "160       149\n",
      "        ...  \n",
      "3430        1\n",
      "3951        1\n",
      "1836        1\n",
      "1633        1\n",
      "5414        1\n",
      "Name: land_surface, Length: 2821, dtype: int64\n",
      "\n",
      "\n",
      "garden\n",
      "0    28291\n",
      "1    14639\n",
      "Name: garden, dtype: int64\n",
      "\n",
      "\n",
      "garden_surface\n",
      "0       33978\n",
      "100       286\n",
      "200       251\n",
      "50        188\n",
      "300       181\n",
      "        ...  \n",
      "1043        1\n",
      "2697        1\n",
      "2119        1\n",
      "4301        1\n",
      "5414        1\n",
      "Name: garden_surface, Length: 1230, dtype: int64\n",
      "\n",
      "\n",
      "fully_equipped_kitchen\n",
      "0.50    15960\n",
      "0.25    14072\n",
      "1.00     6936\n",
      "0.75     4191\n",
      "0.00     1771\n",
      "Name: fully_equipped_kitchen, dtype: int64\n",
      "\n",
      "\n",
      "swimming_pool\n",
      "0    42348\n",
      "1      582\n",
      "Name: swimming_pool, dtype: int64\n",
      "\n",
      "\n",
      "furnished\n",
      "0    41975\n",
      "1      955\n",
      "Name: furnished, dtype: int64\n",
      "\n",
      "\n",
      "open_fire\n",
      "0    41228\n",
      "1     1702\n",
      "Name: open_fire, dtype: int64\n",
      "\n",
      "\n",
      "terrace\n",
      "1    27266\n",
      "0    15664\n",
      "Name: terrace, dtype: int64\n",
      "\n",
      "\n",
      "terrace_surface\n",
      "0      24801\n",
      "20      1125\n",
      "10      1054\n",
      "15       895\n",
      "12       842\n",
      "       ...  \n",
      "250        1\n",
      "103        1\n",
      "302        1\n",
      "190        1\n",
      "118        1\n",
      "Name: terrace_surface, Length: 166, dtype: int64\n",
      "\n",
      "\n",
      "number_of_facades\n",
      "2    19480\n",
      "4     7990\n",
      "3     7860\n",
      "1     7593\n",
      "5        5\n",
      "6        2\n",
      "Name: number_of_facades, dtype: int64\n",
      "\n",
      "\n",
      "state_of_the_building\n",
      "0.25    15725\n",
      "0.50    11796\n",
      "1.00     9632\n",
      "0.75     5777\n",
      "Name: state_of_the_building, dtype: int64\n",
      "\n",
      "\n",
      "zip_code_ponderation\n",
      "1.45    3073\n",
      "1.11    2219\n",
      "1.16    2154\n",
      "1.05    1608\n",
      "0.88    1564\n",
      "1.20    1495\n",
      "1.07    1360\n",
      "1.58    1268\n",
      "0.92    1218\n",
      "1.35    1178\n",
      "1.38    1177\n",
      "1.10    1152\n",
      "1.98    1143\n",
      "0.75    1122\n",
      "1.44    1115\n",
      "1.23    1105\n",
      "0.94    1036\n",
      "1.22     976\n",
      "1.17     949\n",
      "0.89     944\n",
      "1.00     941\n",
      "1.06     906\n",
      "0.80     879\n",
      "0.60     836\n",
      "1.52     782\n",
      "0.91     774\n",
      "0.72     681\n",
      "1.50     578\n",
      "0.63     573\n",
      "0.98     551\n",
      "0.65     541\n",
      "0.97     525\n",
      "0.79     519\n",
      "0.74     505\n",
      "0.55     504\n",
      "0.86     491\n",
      "0.81     425\n",
      "0.82     410\n",
      "0.76     407\n",
      "0.95     402\n",
      "0.90     400\n",
      "0.70     343\n",
      "1.56     321\n",
      "1.04     304\n",
      "1.01     288\n",
      "1.26     282\n",
      "0.85     273\n",
      "1.41     248\n",
      "0.83     156\n",
      "0.62     152\n",
      "0.93      77\n",
      "Name: zip_code_ponderation, dtype: int64\n",
      "\n",
      "\n",
      "price\n",
      "299000    757\n",
      "249000    670\n",
      "295000    663\n",
      "199000    614\n",
      "275000    595\n",
      "         ... \n",
      "537334      1\n",
      "468900      1\n",
      "224242      1\n",
      "266225      1\n",
      "316200      1\n",
      "Name: price, Length: 3605, dtype: int64\n",
      "\n",
      "\n"
     ]
    }
   ],
   "source": [
    "for index,atribute in enumerate(df.columns.to_list()):\n",
    "    print(atribute)\n",
    "    print(df[df.columns.to_list()[index]].value_counts())\n",
    "    print('\\n')"
   ]
  },
  {
   "cell_type": "markdown",
   "id": "244ddbb8-249c-4a1e-8eae-0d93d78ce216",
   "metadata": {
    "tags": []
   },
   "source": [
    "# Split Data"
   ]
  },
  {
   "cell_type": "code",
   "execution_count": null,
   "id": "5e969ef2-c561-43e8-80b3-5e80002034da",
   "metadata": {},
   "outputs": [],
   "source": [
    "df= df.loc[df[\"type_of_property\"] == \"HOUSE\"]"
   ]
  },
  {
   "cell_type": "code",
   "execution_count": null,
   "id": "ce331578-04ad-4fb8-aa60-cf80f67d5035",
   "metadata": {},
   "outputs": [],
   "source": [
    "df= df.loc[df[\"type_of_property\"] == \"APARTMENT\"]"
   ]
  },
  {
   "cell_type": "code",
   "execution_count": 91,
   "id": "cc6179f9-6277-49f7-ba66-cafe5590f1c7",
   "metadata": {},
   "outputs": [],
   "source": [
    "y = df.iloc[:,-1].values  #price\n",
    "x = df.iloc[:,:-1].values  #rest"
   ]
  },
  {
   "cell_type": "code",
   "execution_count": 92,
   "id": "17bf5c7b-eaee-4510-90b3-7b3909f1531b",
   "metadata": {},
   "outputs": [],
   "source": [
    "x = x.astype(int)"
   ]
  },
  {
   "cell_type": "code",
   "execution_count": 93,
   "id": "d620c1a5-6c56-484f-8ec4-2aee08078d89",
   "metadata": {},
   "outputs": [],
   "source": [
    "y = y.astype(int)"
   ]
  },
  {
   "cell_type": "markdown",
   "id": "6812f6b8-f82e-425c-afda-6a64ae568a45",
   "metadata": {
    "tags": []
   },
   "source": [
    "# Linear regresion"
   ]
  },
  {
   "cell_type": "markdown",
   "id": "a150b7a0-7b7d-43c2-9a51-e79a16fc4de6",
   "metadata": {
    "tags": []
   },
   "source": [
    "### First split"
   ]
  },
  {
   "cell_type": "code",
   "execution_count": 94,
   "id": "ec431d8b-693d-4bbc-8274-4854d89e207b",
   "metadata": {},
   "outputs": [],
   "source": [
    "x_train,x_test,y_train,y_test=train_test_split(x,y,test_size=0.2,random_state=1)"
   ]
  },
  {
   "cell_type": "code",
   "execution_count": 95,
   "id": "bc111cfc-cde8-43d4-b1f4-47082a3f6f08",
   "metadata": {},
   "outputs": [],
   "source": [
    "x_train, x_dev, y_train, y_dev = train_test_split(x_train, y_train, test_size=0.2, random_state=1)"
   ]
  },
  {
   "cell_type": "code",
   "execution_count": 96,
   "id": "48579123-8c49-4a85-88d7-52b74b6b0cb8",
   "metadata": {},
   "outputs": [
    {
     "name": "stdout",
     "output_type": "stream",
     "text": [
      "x_train: (27475, 15)\n",
      "x_dev: (6869, 15)\n",
      "x_test: (8586, 15)\n",
      "y_train: (27475,)\n",
      "y_dev: (6869,)\n",
      "y_test: (8586,)\n"
     ]
    }
   ],
   "source": [
    "print(\"x_train:\",x_train.shape)\n",
    "print(\"x_dev:\",x_dev.shape)\n",
    "print(\"x_test:\",x_test.shape)\n",
    "print(\"y_train:\",y_train.shape)\n",
    "print(\"y_dev:\",y_dev.shape)\n",
    "print(\"y_test:\",y_test.shape)"
   ]
  },
  {
   "cell_type": "markdown",
   "id": "5f5ec188-e2e9-4792-b1d0-5a0cb8385424",
   "metadata": {},
   "source": [
    "### Train the model"
   ]
  },
  {
   "cell_type": "code",
   "execution_count": 97,
   "id": "d6f0c21b-ef8d-49be-9f2b-de3a4cb0b67b",
   "metadata": {},
   "outputs": [],
   "source": [
    "MLR = LinearRegression()"
   ]
  },
  {
   "cell_type": "code",
   "execution_count": 98,
   "id": "61257ebf-e231-4131-9b3b-26dccf1a2b3e",
   "metadata": {},
   "outputs": [
    {
     "data": {
      "text/html": [
       "<style>#sk-container-id-1 {color: black;background-color: white;}#sk-container-id-1 pre{padding: 0;}#sk-container-id-1 div.sk-toggleable {background-color: white;}#sk-container-id-1 label.sk-toggleable__label {cursor: pointer;display: block;width: 100%;margin-bottom: 0;padding: 0.3em;box-sizing: border-box;text-align: center;}#sk-container-id-1 label.sk-toggleable__label-arrow:before {content: \"▸\";float: left;margin-right: 0.25em;color: #696969;}#sk-container-id-1 label.sk-toggleable__label-arrow:hover:before {color: black;}#sk-container-id-1 div.sk-estimator:hover label.sk-toggleable__label-arrow:before {color: black;}#sk-container-id-1 div.sk-toggleable__content {max-height: 0;max-width: 0;overflow: hidden;text-align: left;background-color: #f0f8ff;}#sk-container-id-1 div.sk-toggleable__content pre {margin: 0.2em;color: black;border-radius: 0.25em;background-color: #f0f8ff;}#sk-container-id-1 input.sk-toggleable__control:checked~div.sk-toggleable__content {max-height: 200px;max-width: 100%;overflow: auto;}#sk-container-id-1 input.sk-toggleable__control:checked~label.sk-toggleable__label-arrow:before {content: \"▾\";}#sk-container-id-1 div.sk-estimator input.sk-toggleable__control:checked~label.sk-toggleable__label {background-color: #d4ebff;}#sk-container-id-1 div.sk-label input.sk-toggleable__control:checked~label.sk-toggleable__label {background-color: #d4ebff;}#sk-container-id-1 input.sk-hidden--visually {border: 0;clip: rect(1px 1px 1px 1px);clip: rect(1px, 1px, 1px, 1px);height: 1px;margin: -1px;overflow: hidden;padding: 0;position: absolute;width: 1px;}#sk-container-id-1 div.sk-estimator {font-family: monospace;background-color: #f0f8ff;border: 1px dotted black;border-radius: 0.25em;box-sizing: border-box;margin-bottom: 0.5em;}#sk-container-id-1 div.sk-estimator:hover {background-color: #d4ebff;}#sk-container-id-1 div.sk-parallel-item::after {content: \"\";width: 100%;border-bottom: 1px solid gray;flex-grow: 1;}#sk-container-id-1 div.sk-label:hover label.sk-toggleable__label {background-color: #d4ebff;}#sk-container-id-1 div.sk-serial::before {content: \"\";position: absolute;border-left: 1px solid gray;box-sizing: border-box;top: 0;bottom: 0;left: 50%;z-index: 0;}#sk-container-id-1 div.sk-serial {display: flex;flex-direction: column;align-items: center;background-color: white;padding-right: 0.2em;padding-left: 0.2em;position: relative;}#sk-container-id-1 div.sk-item {position: relative;z-index: 1;}#sk-container-id-1 div.sk-parallel {display: flex;align-items: stretch;justify-content: center;background-color: white;position: relative;}#sk-container-id-1 div.sk-item::before, #sk-container-id-1 div.sk-parallel-item::before {content: \"\";position: absolute;border-left: 1px solid gray;box-sizing: border-box;top: 0;bottom: 0;left: 50%;z-index: -1;}#sk-container-id-1 div.sk-parallel-item {display: flex;flex-direction: column;z-index: 1;position: relative;background-color: white;}#sk-container-id-1 div.sk-parallel-item:first-child::after {align-self: flex-end;width: 50%;}#sk-container-id-1 div.sk-parallel-item:last-child::after {align-self: flex-start;width: 50%;}#sk-container-id-1 div.sk-parallel-item:only-child::after {width: 0;}#sk-container-id-1 div.sk-dashed-wrapped {border: 1px dashed gray;margin: 0 0.4em 0.5em 0.4em;box-sizing: border-box;padding-bottom: 0.4em;background-color: white;}#sk-container-id-1 div.sk-label label {font-family: monospace;font-weight: bold;display: inline-block;line-height: 1.2em;}#sk-container-id-1 div.sk-label-container {text-align: center;}#sk-container-id-1 div.sk-container {/* jupyter's `normalize.less` sets `[hidden] { display: none; }` but bootstrap.min.css set `[hidden] { display: none !important; }` so we also need the `!important` here to be able to override the default hidden behavior on the sphinx rendered scikit-learn.org. See: https://github.com/scikit-learn/scikit-learn/issues/21755 */display: inline-block !important;position: relative;}#sk-container-id-1 div.sk-text-repr-fallback {display: none;}</style><div id=\"sk-container-id-1\" class=\"sk-top-container\"><div class=\"sk-text-repr-fallback\"><pre>LinearRegression()</pre><b>In a Jupyter environment, please rerun this cell to show the HTML representation or trust the notebook. <br />On GitHub, the HTML representation is unable to render, please try loading this page with nbviewer.org.</b></div><div class=\"sk-container\" hidden><div class=\"sk-item\"><div class=\"sk-estimator sk-toggleable\"><input class=\"sk-toggleable__control sk-hidden--visually\" id=\"sk-estimator-id-1\" type=\"checkbox\" checked><label for=\"sk-estimator-id-1\" class=\"sk-toggleable__label sk-toggleable__label-arrow\">LinearRegression</label><div class=\"sk-toggleable__content\"><pre>LinearRegression()</pre></div></div></div></div></div>"
      ],
      "text/plain": [
       "LinearRegression()"
      ]
     },
     "execution_count": 98,
     "metadata": {},
     "output_type": "execute_result"
    }
   ],
   "source": [
    "MLR.fit(x_train,y_train)"
   ]
  },
  {
   "cell_type": "code",
   "execution_count": 99,
   "id": "9f474063-f7c8-4931-9df7-2d509b1e4714",
   "metadata": {},
   "outputs": [
    {
     "name": "stdout",
     "output_type": "stream",
     "text": [
      "constant : -7484.563837203605\n",
      "constant : [ 3.33376516e+04  8.63684865e+02  1.83681395e+04  2.12155187e+00\n",
      "  1.05540360e+04 -6.84459437e-01  5.28576585e+04  6.47105313e+04\n",
      "  7.73384076e+03  3.30389155e+04  1.31682026e+04  5.38978120e+02\n",
      "  1.49722205e+04  4.51073079e+04  1.06018997e+05]\n"
     ]
    }
   ],
   "source": [
    "print(f'constant : {MLR.intercept_}')\n",
    "print(f'constant : {MLR.coef_}')"
   ]
  },
  {
   "cell_type": "code",
   "execution_count": 100,
   "id": "bf02abe1-1dbd-4c8e-89d2-fdfd0b94939e",
   "metadata": {},
   "outputs": [],
   "source": [
    "y_predict = MLR.predict(x_test)"
   ]
  },
  {
   "cell_type": "code",
   "execution_count": 101,
   "id": "601d973c-2caf-4f54-88a8-29239495c479",
   "metadata": {},
   "outputs": [],
   "source": [
    "df_mlr =  pd.DataFrame(data=y_test, columns =['y_test'])\n",
    "df_mlr['predict'] = y_predict.astype(int)\n",
    "df_mlr['delta'] = round((df_mlr['y_test'] - df_mlr['predict'])/df_mlr['y_test'],2)"
   ]
  },
  {
   "cell_type": "code",
   "execution_count": 102,
   "id": "c2a3d5fa-bf2c-4860-b0e5-b6998c15c74c",
   "metadata": {},
   "outputs": [
    {
     "data": {
      "text/html": [
       "<div>\n",
       "<style scoped>\n",
       "    .dataframe tbody tr th:only-of-type {\n",
       "        vertical-align: middle;\n",
       "    }\n",
       "\n",
       "    .dataframe tbody tr th {\n",
       "        vertical-align: top;\n",
       "    }\n",
       "\n",
       "    .dataframe thead th {\n",
       "        text-align: right;\n",
       "    }\n",
       "</style>\n",
       "<table border=\"1\" class=\"dataframe\">\n",
       "  <thead>\n",
       "    <tr style=\"text-align: right;\">\n",
       "      <th></th>\n",
       "      <th>y_test</th>\n",
       "      <th>predict</th>\n",
       "      <th>delta</th>\n",
       "    </tr>\n",
       "  </thead>\n",
       "  <tbody>\n",
       "    <tr>\n",
       "      <th>0</th>\n",
       "      <td>499000</td>\n",
       "      <td>399290</td>\n",
       "      <td>0.20</td>\n",
       "    </tr>\n",
       "    <tr>\n",
       "      <th>1</th>\n",
       "      <td>289950</td>\n",
       "      <td>354639</td>\n",
       "      <td>-0.22</td>\n",
       "    </tr>\n",
       "    <tr>\n",
       "      <th>2</th>\n",
       "      <td>299000</td>\n",
       "      <td>358392</td>\n",
       "      <td>-0.20</td>\n",
       "    </tr>\n",
       "    <tr>\n",
       "      <th>3</th>\n",
       "      <td>219000</td>\n",
       "      <td>288480</td>\n",
       "      <td>-0.32</td>\n",
       "    </tr>\n",
       "    <tr>\n",
       "      <th>4</th>\n",
       "      <td>475000</td>\n",
       "      <td>402667</td>\n",
       "      <td>0.15</td>\n",
       "    </tr>\n",
       "    <tr>\n",
       "      <th>...</th>\n",
       "      <td>...</td>\n",
       "      <td>...</td>\n",
       "      <td>...</td>\n",
       "    </tr>\n",
       "    <tr>\n",
       "      <th>8581</th>\n",
       "      <td>179000</td>\n",
       "      <td>259942</td>\n",
       "      <td>-0.45</td>\n",
       "    </tr>\n",
       "    <tr>\n",
       "      <th>8582</th>\n",
       "      <td>145000</td>\n",
       "      <td>255231</td>\n",
       "      <td>-0.76</td>\n",
       "    </tr>\n",
       "    <tr>\n",
       "      <th>8583</th>\n",
       "      <td>395000</td>\n",
       "      <td>252117</td>\n",
       "      <td>0.36</td>\n",
       "    </tr>\n",
       "    <tr>\n",
       "      <th>8584</th>\n",
       "      <td>229000</td>\n",
       "      <td>324823</td>\n",
       "      <td>-0.42</td>\n",
       "    </tr>\n",
       "    <tr>\n",
       "      <th>8585</th>\n",
       "      <td>398000</td>\n",
       "      <td>498076</td>\n",
       "      <td>-0.25</td>\n",
       "    </tr>\n",
       "  </tbody>\n",
       "</table>\n",
       "<p>8586 rows × 3 columns</p>\n",
       "</div>"
      ],
      "text/plain": [
       "      y_test  predict  delta\n",
       "0     499000   399290   0.20\n",
       "1     289950   354639  -0.22\n",
       "2     299000   358392  -0.20\n",
       "3     219000   288480  -0.32\n",
       "4     475000   402667   0.15\n",
       "...      ...      ...    ...\n",
       "8581  179000   259942  -0.45\n",
       "8582  145000   255231  -0.76\n",
       "8583  395000   252117   0.36\n",
       "8584  229000   324823  -0.42\n",
       "8585  398000   498076  -0.25\n",
       "\n",
       "[8586 rows x 3 columns]"
      ]
     },
     "execution_count": 102,
     "metadata": {},
     "output_type": "execute_result"
    }
   ],
   "source": [
    "df_mlr"
   ]
  },
  {
   "cell_type": "code",
   "execution_count": 103,
   "id": "0fc1c3d1-97f8-45fa-a13c-d55e9c572f83",
   "metadata": {},
   "outputs": [
    {
     "data": {
      "text/html": [
       "<div>\n",
       "<style scoped>\n",
       "    .dataframe tbody tr th:only-of-type {\n",
       "        vertical-align: middle;\n",
       "    }\n",
       "\n",
       "    .dataframe tbody tr th {\n",
       "        vertical-align: top;\n",
       "    }\n",
       "\n",
       "    .dataframe thead th {\n",
       "        text-align: right;\n",
       "    }\n",
       "</style>\n",
       "<table border=\"1\" class=\"dataframe\">\n",
       "  <thead>\n",
       "    <tr style=\"text-align: right;\">\n",
       "      <th></th>\n",
       "      <th>y_test</th>\n",
       "      <th>predict</th>\n",
       "      <th>delta</th>\n",
       "    </tr>\n",
       "  </thead>\n",
       "  <tbody>\n",
       "    <tr>\n",
       "      <th>count</th>\n",
       "      <td>8586.000000</td>\n",
       "      <td>8.586000e+03</td>\n",
       "      <td>8586.000000</td>\n",
       "    </tr>\n",
       "    <tr>\n",
       "      <th>mean</th>\n",
       "      <td>325129.108665</td>\n",
       "      <td>3.252110e+05</td>\n",
       "      <td>-0.134196</td>\n",
       "    </tr>\n",
       "    <tr>\n",
       "      <th>std</th>\n",
       "      <td>150709.446565</td>\n",
       "      <td>1.082475e+05</td>\n",
       "      <td>1.639092</td>\n",
       "    </tr>\n",
       "    <tr>\n",
       "      <th>min</th>\n",
       "      <td>2500.000000</td>\n",
       "      <td>7.105400e+04</td>\n",
       "      <td>-146.650000</td>\n",
       "    </tr>\n",
       "    <tr>\n",
       "      <th>25%</th>\n",
       "      <td>219000.000000</td>\n",
       "      <td>2.550625e+05</td>\n",
       "      <td>-0.290000</td>\n",
       "    </tr>\n",
       "    <tr>\n",
       "      <th>50%</th>\n",
       "      <td>295000.000000</td>\n",
       "      <td>3.149230e+05</td>\n",
       "      <td>-0.040000</td>\n",
       "    </tr>\n",
       "    <tr>\n",
       "      <th>75%</th>\n",
       "      <td>399000.000000</td>\n",
       "      <td>3.835502e+05</td>\n",
       "      <td>0.150000</td>\n",
       "    </tr>\n",
       "    <tr>\n",
       "      <th>max</th>\n",
       "      <td>799000.000000</td>\n",
       "      <td>2.604858e+06</td>\n",
       "      <td>0.660000</td>\n",
       "    </tr>\n",
       "  </tbody>\n",
       "</table>\n",
       "</div>"
      ],
      "text/plain": [
       "              y_test       predict        delta\n",
       "count    8586.000000  8.586000e+03  8586.000000\n",
       "mean   325129.108665  3.252110e+05    -0.134196\n",
       "std    150709.446565  1.082475e+05     1.639092\n",
       "min      2500.000000  7.105400e+04  -146.650000\n",
       "25%    219000.000000  2.550625e+05    -0.290000\n",
       "50%    295000.000000  3.149230e+05    -0.040000\n",
       "75%    399000.000000  3.835502e+05     0.150000\n",
       "max    799000.000000  2.604858e+06     0.660000"
      ]
     },
     "execution_count": 103,
     "metadata": {},
     "output_type": "execute_result"
    }
   ],
   "source": [
    "df_mlr.describe()"
   ]
  },
  {
   "cell_type": "markdown",
   "id": "85f97aef-53b1-4beb-8165-c0186df7db57",
   "metadata": {},
   "source": [
    "### Predict a single value"
   ]
  },
  {
   "cell_type": "code",
   "execution_count": 104,
   "id": "e5c2804a-c533-4c7d-b173-7ca009028ca4",
   "metadata": {},
   "outputs": [],
   "source": [
    "test_objt = x_dev[1]  #test object"
   ]
  },
  {
   "cell_type": "code",
   "execution_count": 105,
   "id": "71c1002b-7b1d-4a39-8bff-9e5fb29e353b",
   "metadata": {},
   "outputs": [
    {
     "data": {
      "text/plain": [
       "array([ 1, 67,  1,  0,  0,  0,  0,  0,  0,  0,  1, 14,  2,  0,  1])"
      ]
     },
     "execution_count": 105,
     "metadata": {},
     "output_type": "execute_result"
    }
   ],
   "source": [
    "test_objt"
   ]
  },
  {
   "cell_type": "code",
   "execution_count": 106,
   "id": "74f37f72-d4b1-4aed-bdc2-95871178e176",
   "metadata": {},
   "outputs": [
    {
     "data": {
      "text/plain": [
       "211700"
      ]
     },
     "execution_count": 106,
     "metadata": {},
     "output_type": "execute_result"
    }
   ],
   "source": [
    "y_dev[1] #desired output"
   ]
  },
  {
   "cell_type": "code",
   "execution_count": 107,
   "id": "7b8ef418-e3c4-4d93-8367-ccae8fc77100",
   "metadata": {},
   "outputs": [
    {
     "data": {
      "text/plain": [
       "258765.45"
      ]
     },
     "execution_count": 107,
     "metadata": {},
     "output_type": "execute_result"
    }
   ],
   "source": [
    "y_predict_single_objt = MLR.predict(test_objt.reshape(1,-1))\n",
    "round(float(y_predict_single_objt),2)"
   ]
  },
  {
   "cell_type": "code",
   "execution_count": 108,
   "id": "35cc2711-5e52-41e5-a5bf-beefe3bcee66",
   "metadata": {},
   "outputs": [
    {
     "data": {
      "text/plain": [
       "0.2223214454416628"
      ]
     },
     "execution_count": 108,
     "metadata": {},
     "output_type": "execute_result"
    }
   ],
   "source": [
    "(round(float(y_predict_single_objt),2) - y_dev[1])/y_dev[1]"
   ]
  },
  {
   "cell_type": "markdown",
   "id": "e8565c3e-3629-43bf-a0e9-f7831b0dc97b",
   "metadata": {},
   "source": [
    "### Model evaluation"
   ]
  },
  {
   "cell_type": "code",
   "execution_count": 109,
   "id": "4d81ad2e-730f-4606-aa6b-0627a225da6d",
   "metadata": {},
   "outputs": [
    {
     "name": "stdout",
     "output_type": "stream",
     "text": [
      "R-square Error: 0.4681144898991981\n"
     ]
    }
   ],
   "source": [
    "r_sqr = metrics.r2_score(y_test,y_predict)\n",
    "print('R-square Error:',r_sqr)"
   ]
  },
  {
   "cell_type": "code",
   "execution_count": 110,
   "id": "8ec9b749-9052-496b-ae04-ddad19806d43",
   "metadata": {},
   "outputs": [
    {
     "name": "stdout",
     "output_type": "stream",
     "text": [
      "Adjusted R-square Error: 0.4676293896163741\n"
     ]
    }
   ],
   "source": [
    "n = 29632 #number of rows\n",
    "p = 27 #number of columns\n",
    "adj_r_sqr = 1-(1-r_sqr)*(n-1)/(n-p-1)\n",
    "print('Adjusted R-square Error:',adj_r_sqr)"
   ]
  },
  {
   "cell_type": "code",
   "execution_count": 111,
   "id": "35b00a7e-ab44-4d30-893e-e7eb29e8c797",
   "metadata": {
    "tags": []
   },
   "outputs": [
    {
     "data": {
      "text/plain": [
       "onehotencoder__x0_APARTMENT   -0.150660\n",
       "surface                        0.517506\n",
       "number_of_bedrooms             0.406237\n",
       "land_surface                   0.052979\n",
       "garden                         0.136330\n",
       "garden_surface                 0.049726\n",
       "fully_equipped_kitchen         0.177389\n",
       "swimming_pool                  0.133448\n",
       "furnished                     -0.004427\n",
       "open_fire                      0.141028\n",
       "terrace                        0.118924\n",
       "terrace_surface                0.173336\n",
       "number_of_facades              0.202167\n",
       "state_of_the_building          0.140973\n",
       "zip_code_ponderation           0.315185\n",
       "price                          1.000000\n",
       "Name: price, dtype: float64"
      ]
     },
     "execution_count": 111,
     "metadata": {},
     "output_type": "execute_result"
    }
   ],
   "source": [
    "df.corr()['price']"
   ]
  },
  {
   "cell_type": "markdown",
   "id": "3f157410-3990-4d9c-bf64-c146661adb3f",
   "metadata": {
    "tags": []
   },
   "source": [
    "zscore = 2\n",
    "surface                   0.302527\n",
    "number_of_bedrooms        0.425484\n",
    "postal_code              -0.134247\n",
    "land_surface              0.096298\n",
    "garden                    0.123056\n",
    "garden_surface            0.083741\n",
    "fully_equipped_kitchen    0.121539\n",
    "swimming_pool             0.203234\n",
    "furnished                -0.002207\n",
    "open_fire                 0.169739\n",
    "terrace                   0.117912\n",
    "terrace_surface           0.185802\n",
    "number_of_facades         0.252756\n",
    "price                     1.000000\n",
    "Name: price, dtype: float64"
   ]
  },
  {
   "cell_type": "markdown",
   "id": "b8dff888-877c-44b6-9d55-26014f41fd1e",
   "metadata": {
    "tags": []
   },
   "source": [
    "zscore = None\n",
    "surface                   0.375369\n",
    "number_of_bedrooms        0.408380\n",
    "postal_code              -0.115528\n",
    "land_surface              0.250008\n",
    "garden                    0.064717\n",
    "garden_surface            0.178264\n",
    "fully_equipped_kitchen    0.127337\n",
    "swimming_pool             0.275658\n",
    "furnished                 0.011266\n",
    "open_fire                 0.148603\n",
    "terrace                   0.098585\n",
    "terrace_surface           0.188799\n",
    "number_of_facades         0.239361\n",
    "price                     1.000000\n",
    "Name: price, dtype: float64"
   ]
  },
  {
   "cell_type": "code",
   "execution_count": 112,
   "id": "3376bcc0-6a3d-4c43-8985-4bad5b1c2b3c",
   "metadata": {},
   "outputs": [
    {
     "data": {
      "text/plain": [
       "Text(0, 0.5, 'Surface m²')"
      ]
     },
     "execution_count": 112,
     "metadata": {},
     "output_type": "execute_result"
    },
    {
     "data": {
      "image/png": "[encoded data removed]",
      "text/plain": [
       "<Figure size 640x480 with 1 Axes>"
      ]
     },
     "metadata": {},
     "output_type": "display_data"
    }
   ],
   "source": [
    "plt.scatter(df['price'],df['surface'])\n",
    "plt.title('price / m² relation')\n",
    "plt.xlabel('Price €')\n",
    "plt.ylabel('Surface m²')"
   ]
  },
  {
   "cell_type": "code",
   "execution_count": 113,
   "id": "6a3d75d2-d680-4bc7-8892-30b0a42be3dd",
   "metadata": {},
   "outputs": [
    {
     "data": {
      "text/plain": [
       "Text(0, 0.5, 'number of bedrooms')"
      ]
     },
     "execution_count": 113,
     "metadata": {},
     "output_type": "execute_result"
    },
    {
     "data": {
      "image/png": "[encoded data removed]",
      "text/plain": [
       "<Figure size 640x480 with 1 Axes>"
      ]
     },
     "metadata": {},
     "output_type": "display_data"
    }
   ],
   "source": [
    "plt.scatter(df['price'],df['number_of_bedrooms'])\n",
    "plt.title('price / m² relation')\n",
    "plt.xlabel('Price €')\n",
    "plt.ylabel('number of bedrooms')"
   ]
  },
  {
   "cell_type": "markdown",
   "id": "46ca72ae-52af-4baa-928b-0d7fad68ccaf",
   "metadata": {},
   "source": []
  },
  {
   "cell_type": "code",
   "execution_count": null,
   "id": "5fe9d8bb-c708-4cf7-a936-59549b516cd9",
   "metadata": {},
   "outputs": [],
   "source": []
  },
  {
   "cell_type": "markdown",
   "id": "2f42d946-6c8c-4701-b581-5d6cdf963b56",
   "metadata": {
    "jp-MarkdownHeadingCollapsed": true,
    "tags": []
   },
   "source": [
    "## Data preprocessing"
   ]
  },
  {
   "cell_type": "markdown",
   "id": "d0dc7472-de10-4a19-a4bc-a499f5605564",
   "metadata": {},
   "source": [
    "transformer = make_column_transformer(\n",
    "    (OneHotEncoder(), ['type_of_property']),\n",
    "    remainder='passthrough')"
   ]
  },
  {
   "cell_type": "markdown",
   "id": "f3122170-a5e2-4650-90c7-5652dd51348e",
   "metadata": {},
   "source": [
    "transformed = transformer.fit_transform(df)\n",
    "transformed_df = pd.DataFrame(transformed, columns=transformer.get_feature_names())"
   ]
  },
  {
   "cell_type": "markdown",
   "id": "76c048e0-f4ae-489c-abba-eee0d56f177b",
   "metadata": {},
   "source": [
    "transformed_df.columns.to_list()"
   ]
  },
  {
   "cell_type": "markdown",
   "id": "d9f1ba34-0359-4c67-bf1b-44909fd4a107",
   "metadata": {
    "tags": []
   },
   "source": [
    "### Drop values from onehotencoder"
   ]
  },
  {
   "cell_type": "markdown",
   "id": "70dceb6e-7269-42f8-8473-bfd193a1d52e",
   "metadata": {},
   "source": [
    "This part is not longer in use"
   ]
  },
  {
   "cell_type": "markdown",
   "id": "00e586b9-aac0-46c6-a677-fc7627a48427",
   "metadata": {},
   "source": [
    "drop_list = ['onehotencoder__x0_APARTMENT',\n",
    " #'onehotencoder__x0_HOUSE',\n",
    " 'surface',\n",
    " 'number_of_bedrooms',\n",
    " #'postal_code',\n",
    " 'land_surface',\n",
    " 'garden',\n",
    " 'garden_surface',\n",
    " 'fully_equipped_kitchen',\n",
    " 'swimming_pool',\n",
    " 'furnished',\n",
    " 'open_fire',\n",
    " 'terrace',\n",
    " 'terrace_surface',\n",
    " 'number_of_facades',\n",
    " 'state_of_the_building',\n",
    " 'zip_code_ponderation',\n",
    " 'price']"
   ]
  },
  {
   "cell_type": "markdown",
   "id": "2d5bdc49-3763-44e3-9b97-11544744acec",
   "metadata": {},
   "source": [
    "transformed_df = transformed_df[drop_list]"
   ]
  },
  {
   "cell_type": "markdown",
   "id": "2b3d777e-20a9-4e95-8ac9-ce33380c5dae",
   "metadata": {},
   "source": [
    "for index,atribute in enumerate(transformed_df.columns.to_list()):\n",
    "    print(atribute)\n",
    "    print(transformed_df[transformed_df.columns.to_list()[index]].value_counts())\n",
    "    print('\\n')"
   ]
  },
  {
   "cell_type": "code",
   "execution_count": null,
   "id": "866c0db5-75ab-4608-aa46-b7023b212df0",
   "metadata": {},
   "outputs": [],
   "source": []
  }
 ],
 "metadata": {
  "kernelspec": {
   "display_name": "Python 3 (ipykernel)",
   "language": "python",
   "name": "python3"
  },
  "language_info": {
   "codemirror_mode": {
    "name": "ipython",
    "version": 3
   },
   "file_extension": ".py",
   "mimetype": "text/x-python",
   "name": "python",
   "nbconvert_exporter": "python",
   "pygments_lexer": "ipython3",
   "version": "3.10.6"
  }
 },
 "nbformat": 4,
 "nbformat_minor": 5
}
