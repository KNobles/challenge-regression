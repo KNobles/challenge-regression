{
 "cells": [
  {
   "cell_type": "code",
   "execution_count": 1266,
   "id": "b8c56074-7861-40d5-946b-8cac019ecaae",
   "metadata": {},
   "outputs": [],
   "source": [
    "import pandas as pd\n",
    "import numpy as np\n",
    "\n",
    "import seaborn as sns\n",
    "from matplotlib import pyplot as plt\n",
    "\n",
    "from scipy import stats\n",
    "\n",
    "from sklearn.linear_model import LinearRegression\n",
    "from sklearn.model_selection import train_test_split\n",
    "from sklearn.preprocessing import LabelEncoder,OneHotEncoder\n",
    "from sklearn.compose import make_column_transformer\n",
    "from sklearn import metrics"
   ]
  },
  {
   "cell_type": "code",
   "execution_count": 1267,
   "id": "ac0575ac-4560-4431-992b-702d9ffd31da",
   "metadata": {},
   "outputs": [],
   "source": [
    "df = pd.read_csv('Property_structured_data.csv')"
   ]
  },
  {
   "cell_type": "code",
   "execution_count": 1268,
   "id": "ca8e6c14-27c2-4b0f-ba19-0f2ba06f5313",
   "metadata": {},
   "outputs": [],
   "source": [
    "initial_df = df.shape"
   ]
  },
  {
   "cell_type": "code",
   "execution_count": 1269,
   "id": "0f2e5f07-c6ae-495d-b979-41cdd4815a3e",
   "metadata": {
    "tags": []
   },
   "outputs": [],
   "source": [
    "initial_df_columns = df.columns.to_list()"
   ]
  },
  {
   "cell_type": "markdown",
   "id": "b3e5515c-f057-42bd-b599-58b0fffb0dce",
   "metadata": {
    "tags": []
   },
   "source": [
    "## Clean Database"
   ]
  },
  {
   "cell_type": "markdown",
   "id": "16e306a6-5475-4946-be7a-5829f875e69e",
   "metadata": {
    "jp-MarkdownHeadingCollapsed": true,
    "tags": []
   },
   "source": [
    "### Price (float)"
   ]
  },
  {
   "cell_type": "code",
   "execution_count": 1270,
   "id": "33d00d7a-1e0f-4735-89bb-f4c92d504d5d",
   "metadata": {},
   "outputs": [],
   "source": [
    "z_scores_price = stats.zscore(df['price'])\n",
    "abs_z_scores_price = np.abs(z_scores_price) \n",
    "filtered_entries_price = (abs_z_scores_price < 3)\n",
    "df = df[filtered_entries_price]"
   ]
  },
  {
   "cell_type": "code",
   "execution_count": 1271,
   "id": "4f0ba7e6-92ee-42b9-a4cd-0697f2bb75e1",
   "metadata": {},
   "outputs": [],
   "source": [
    "df.loc[df[\"price\"] >= 800000, \"type_of_property\"] = \"OTHER\""
   ]
  },
  {
   "cell_type": "code",
   "execution_count": 1272,
   "id": "2b0dfb30-afda-4d4e-ac4f-4bc8247ea71a",
   "metadata": {
    "tags": []
   },
   "outputs": [
    {
     "data": {
      "text/plain": [
       "(58318, 23)"
      ]
     },
     "execution_count": 1272,
     "metadata": {},
     "output_type": "execute_result"
    }
   ],
   "source": [
    "df= df.loc[df['price'] != -1]\n",
    "df.shape"
   ]
  },
  {
   "cell_type": "markdown",
   "id": "9f927464-faad-4588-b406-56e631973524",
   "metadata": {
    "jp-MarkdownHeadingCollapsed": true,
    "tags": []
   },
   "source": [
    "### Surface (float)"
   ]
  },
  {
   "cell_type": "code",
   "execution_count": 1273,
   "id": "e8c28b9e-614e-46a5-b0b9-05d05fc3e1cd",
   "metadata": {},
   "outputs": [],
   "source": [
    "df = df.loc[df['surface'] <= 800]"
   ]
  },
  {
   "cell_type": "code",
   "execution_count": 1274,
   "id": "a9ef092c-5d1b-410d-8973-9edd67493d33",
   "metadata": {
    "tags": []
   },
   "outputs": [
    {
     "data": {
      "text/plain": [
       "(48239, 23)"
      ]
     },
     "execution_count": 1274,
     "metadata": {},
     "output_type": "execute_result"
    }
   ],
   "source": [
    "df = df.loc[df['surface'] != -1]\n",
    "df.shape"
   ]
  },
  {
   "cell_type": "markdown",
   "id": "b6df2fd2-e04c-44e7-9349-5ea9a327cab5",
   "metadata": {
    "jp-MarkdownHeadingCollapsed": true,
    "tags": []
   },
   "source": [
    "### Sub Type of property (filter and drop)"
   ]
  },
  {
   "cell_type": "code",
   "execution_count": 1275,
   "id": "089ff62b-7009-4129-ba43-d19c9be1d983",
   "metadata": {
    "tags": []
   },
   "outputs": [
    {
     "data": {
      "text/plain": [
       "HOUSE                   20452\n",
       "APARTMENT               15686\n",
       "VILLA                    2701\n",
       "APARTMENT_BLOCK          1322\n",
       "DUPLEX                   1220\n",
       "GROUND_FLOOR             1135\n",
       "PENTHOUSE                 968\n",
       "MIXED_USE_BUILDING        927\n",
       "FLAT_STUDIO               692\n",
       "EXCEPTIONAL_PROPERTY      511\n",
       "SERVICE_FLAT              483\n",
       "MANSION                   437\n",
       "TOWN_HOUSE                375\n",
       "COUNTRY_COTTAGE           293\n",
       "BUNGALOW                  242\n",
       "LOFT                      225\n",
       "FARMHOUSE                 147\n",
       "TRIPLEX                   114\n",
       "CHALET                    107\n",
       "OTHER_PROPERTY             67\n",
       "MANOR_HOUSE                61\n",
       "KOT                        58\n",
       "CASTLE                     15\n",
       "PAVILION                    1\n",
       "Name: subtype_of_property, dtype: int64"
      ]
     },
     "execution_count": 1275,
     "metadata": {},
     "output_type": "execute_result"
    }
   ],
   "source": [
    "df['subtype_of_property'].value_counts()"
   ]
  },
  {
   "cell_type": "code",
   "execution_count": 1276,
   "id": "4f9b5f63-bfbf-4308-955a-aafa9d7dd462",
   "metadata": {},
   "outputs": [
    {
     "data": {
      "text/plain": [
       "(46917, 23)"
      ]
     },
     "execution_count": 1276,
     "metadata": {},
     "output_type": "execute_result"
    }
   ],
   "source": [
    "df= df.loc[df['subtype_of_property'] != 'APARTMENT_BLOCK']\n",
    "df.shape"
   ]
  },
  {
   "cell_type": "code",
   "execution_count": 1277,
   "id": "474d1b65-e002-4ec8-99f0-aeb655ec497f",
   "metadata": {},
   "outputs": [
    {
     "data": {
      "text/plain": [
       "(45990, 23)"
      ]
     },
     "execution_count": 1277,
     "metadata": {},
     "output_type": "execute_result"
    }
   ],
   "source": [
    "df= df.loc[df['subtype_of_property'] != 'MIXED_USE_BUILDING']\n",
    "df.shape"
   ]
  },
  {
   "cell_type": "markdown",
   "id": "52077eff-569f-4d10-98fd-7a99797a9af7",
   "metadata": {
    "jp-MarkdownHeadingCollapsed": true,
    "tags": []
   },
   "source": [
    "### Number of bedrooms (int)"
   ]
  },
  {
   "cell_type": "code",
   "execution_count": 1278,
   "id": "67d8b3e6-a37d-44d1-b2f4-0105e53d7999",
   "metadata": {},
   "outputs": [],
   "source": [
    "df = df.loc[df['number_of_bedrooms'] <200]\n"
   ]
  },
  {
   "cell_type": "code",
   "execution_count": 1279,
   "id": "3876a2c4-8436-4806-aa18-f2d800a2ca84",
   "metadata": {},
   "outputs": [],
   "source": [
    "df['number_of_bedrooms'] = df['number_of_bedrooms'].replace(-1,0)"
   ]
  },
  {
   "cell_type": "code",
   "execution_count": 1280,
   "id": "2f3a1dce-6405-4ef6-a1a1-3a688a3a0636",
   "metadata": {
    "tags": []
   },
   "outputs": [
    {
     "data": {
      "text/plain": [
       "3     15099\n",
       "2     14672\n",
       "4      6747\n",
       "1      4870\n",
       "5      2450\n",
       "6       873\n",
       "0       735\n",
       "7       261\n",
       "8       129\n",
       "9        75\n",
       "10       31\n",
       "11       19\n",
       "12        7\n",
       "13        5\n",
       "14        4\n",
       "17        3\n",
       "15        2\n",
       "16        2\n",
       "30        1\n",
       "18        1\n",
       "66        1\n",
       "31        1\n",
       "Name: number_of_bedrooms, dtype: int64"
      ]
     },
     "execution_count": 1280,
     "metadata": {},
     "output_type": "execute_result"
    }
   ],
   "source": [
    "df['number_of_bedrooms'].value_counts()"
   ]
  },
  {
   "cell_type": "markdown",
   "id": "3ce9ff47-b1f6-4dea-92d0-9171ddbf8685",
   "metadata": {
    "jp-MarkdownHeadingCollapsed": true,
    "tags": []
   },
   "source": [
    "### Zip Code (category)"
   ]
  },
  {
   "cell_type": "markdown",
   "id": "e970f9b3-90bd-4958-8861-91aaa30f0a66",
   "metadata": {
    "jp-MarkdownHeadingCollapsed": true,
    "tags": []
   },
   "source": [
    "#### XX"
   ]
  },
  {
   "cell_type": "code",
   "execution_count": 1281,
   "id": "aec18d35-5d6e-4724-9ca5-8f363b6fecdc",
   "metadata": {},
   "outputs": [],
   "source": [
    "df['zip_code_xx'] = df['postal_code'].apply(lambda x : 'be_zip_'+str(x)[:2])"
   ]
  },
  {
   "cell_type": "code",
   "execution_count": 1282,
   "id": "50ee0332-112b-4f70-b9f5-4f3aa7ab32af",
   "metadata": {
    "tags": []
   },
   "outputs": [
    {
     "data": {
      "text/plain": [
       "be_zip_10    3367\n",
       "be_zip_11    1517\n",
       "be_zip_83    1452\n",
       "be_zip_20    1290\n",
       "be_zip_84    1270\n",
       "             ... \n",
       "be_zip_42     160\n",
       "be_zip_79     131\n",
       "be_zip_76     109\n",
       "be_zip_47      85\n",
       "be_zip_64      52\n",
       "Name: zip_code_xx, Length: 80, dtype: int64"
      ]
     },
     "execution_count": 1282,
     "metadata": {},
     "output_type": "execute_result"
    }
   ],
   "source": [
    "df['zip_code_xx'].value_counts()"
   ]
  },
  {
   "cell_type": "markdown",
   "id": "3dd762b2-1475-4016-8496-d87b0d39d6b0",
   "metadata": {
    "jp-MarkdownHeadingCollapsed": true,
    "tags": []
   },
   "source": [
    "#### X"
   ]
  },
  {
   "cell_type": "code",
   "execution_count": 1283,
   "id": "fa21648c-72ff-4ef4-a035-9ec24cdfc714",
   "metadata": {},
   "outputs": [],
   "source": [
    "df['zip_code_x'] = df['postal_code'].apply(lambda x : 'be_zip_'+str(x)[:1])"
   ]
  },
  {
   "cell_type": "code",
   "execution_count": 1284,
   "id": "20bdca9e-b22d-498b-aad6-491ebd504c15",
   "metadata": {},
   "outputs": [
    {
     "data": {
      "text/plain": [
       "be_zip_1    9631\n",
       "be_zip_2    7632\n",
       "be_zip_8    6871\n",
       "be_zip_9    6247\n",
       "be_zip_3    4036\n",
       "be_zip_4    3712\n",
       "be_zip_7    3074\n",
       "be_zip_6    3045\n",
       "be_zip_5    1740\n",
       "Name: zip_code_x, dtype: int64"
      ]
     },
     "execution_count": 1284,
     "metadata": {},
     "output_type": "execute_result"
    }
   ],
   "source": [
    "df['zip_code_x'].value_counts()"
   ]
  },
  {
   "cell_type": "markdown",
   "id": "97b291a7-1212-4240-96db-2ce2720ae9c7",
   "metadata": {
    "jp-MarkdownHeadingCollapsed": true,
    "tags": []
   },
   "source": [
    "### Land surface (float)"
   ]
  },
  {
   "cell_type": "code",
   "execution_count": 1285,
   "id": "518beb04-e6f0-44f1-9efc-f3515e049923",
   "metadata": {},
   "outputs": [],
   "source": [
    "#df.loc[(df['land_surface'] == -1) & (df['garden_surface'] > 0 )]"
   ]
  },
  {
   "cell_type": "code",
   "execution_count": 1286,
   "id": "04572d4c-0a3d-43db-98b7-9e26c2cc140e",
   "metadata": {},
   "outputs": [],
   "source": [
    "df['land_surface'] = [land_surface if land_surface != -1 else garden_surface if garden_surface > 0 else land_surface for garden_surface,land_surface in zip(df['garden_surface'],df['land_surface'])]"
   ]
  },
  {
   "cell_type": "code",
   "execution_count": 1287,
   "id": "78ec5e86-4782-4142-b177-ae19a6be8928",
   "metadata": {},
   "outputs": [],
   "source": [
    "df['land_surface'] = df['land_surface'].replace(-1,0)"
   ]
  },
  {
   "cell_type": "code",
   "execution_count": 1288,
   "id": "986c9df8-8931-4319-b7ab-dc41dd93be91",
   "metadata": {},
   "outputs": [
    {
     "data": {
      "text/plain": [
       "0       21400\n",
       "100       207\n",
       "200       190\n",
       "300       158\n",
       "150       152\n",
       "        ...  \n",
       "2641        1\n",
       "2054        1\n",
       "1965        1\n",
       "3068        1\n",
       "4233        1\n",
       "Name: land_surface, Length: 3308, dtype: int64"
      ]
     },
     "execution_count": 1288,
     "metadata": {},
     "output_type": "execute_result"
    }
   ],
   "source": [
    "df['land_surface'].value_counts()"
   ]
  },
  {
   "cell_type": "markdown",
   "id": "eeec778e-12ae-480c-82c6-405490ec5315",
   "metadata": {
    "jp-MarkdownHeadingCollapsed": true,
    "tags": []
   },
   "source": [
    "### Garden (0,1)"
   ]
  },
  {
   "cell_type": "code",
   "execution_count": 1289,
   "id": "9feaada6-8b3f-480a-936f-0cf7f62d2561",
   "metadata": {},
   "outputs": [],
   "source": [
    "df['garden'] = df['garden'].replace(-1,0)"
   ]
  },
  {
   "cell_type": "code",
   "execution_count": 1290,
   "id": "504a000c-41db-42f9-bfbb-6710d6c750b8",
   "metadata": {},
   "outputs": [
    {
     "data": {
      "text/plain": [
       "0    30215\n",
       "1    15773\n",
       "Name: garden, dtype: int64"
      ]
     },
     "execution_count": 1290,
     "metadata": {},
     "output_type": "execute_result"
    }
   ],
   "source": [
    "df['garden'].value_counts()"
   ]
  },
  {
   "cell_type": "markdown",
   "id": "4d0d6c6d-4696-49cd-9f26-c5add6d825fb",
   "metadata": {
    "jp-MarkdownHeadingCollapsed": true,
    "tags": []
   },
   "source": [
    "### Garden surface (float)"
   ]
  },
  {
   "cell_type": "code",
   "execution_count": 1291,
   "id": "cb34919d-b56f-486c-8fba-16e583b5aaa1",
   "metadata": {},
   "outputs": [],
   "source": [
    "df['garden_surface'] = df['garden_surface'].replace(-1,0)\n",
    "df['garden_surface'] = df['garden_surface'].replace(1,0)"
   ]
  },
  {
   "cell_type": "code",
   "execution_count": 1292,
   "id": "40d98773-dd91-44b3-94bf-699a393b4703",
   "metadata": {},
   "outputs": [
    {
     "data": {
      "text/plain": [
       "0        36348\n",
       "100        299\n",
       "200        266\n",
       "50         196\n",
       "300        192\n",
       "         ...  \n",
       "2267         1\n",
       "586          1\n",
       "10997        1\n",
       "737          1\n",
       "7200         1\n",
       "Name: garden_surface, Length: 1352, dtype: int64"
      ]
     },
     "execution_count": 1292,
     "metadata": {},
     "output_type": "execute_result"
    }
   ],
   "source": [
    "df['garden_surface'].value_counts()"
   ]
  },
  {
   "cell_type": "markdown",
   "id": "a36b8eb6-215b-4fc6-aec2-b44c8bdc68a4",
   "metadata": {
    "jp-MarkdownHeadingCollapsed": true,
    "tags": []
   },
   "source": [
    "### Fully equiped kitchen  (0,1)"
   ]
  },
  {
   "cell_type": "code",
   "execution_count": 1293,
   "id": "8852b657-4e0c-4a07-8d97-0336cd1af716",
   "metadata": {},
   "outputs": [],
   "source": [
    "#df[\"fully_equipped_kitchen\"] = df[\"fully_equipped_kitchen\"].map({\"-1.0\": 0.25, \"1.0\": 1,\"-1\": 0.25, \"1\": 1, \"INSTALLED\": 0.5, \"SEMI_EQUIPPED\": 0.75, \"NOT_INSTALLED\": 0, \"USA_INSTALLED\": 0.5, \"USA_SEMI_EQUIPPED\": 0.75, \"USA_UNINSTALLED\": 0})"
   ]
  },
  {
   "cell_type": "code",
   "execution_count": 1294,
   "id": "b6325560-dd68-4317-937b-529dc6afd15b",
   "metadata": {},
   "outputs": [],
   "source": [
    "df[\"fully_equipped_kitchen\"] = df[\"fully_equipped_kitchen\"].map({\"-1.0\": 0, \"1.0\": 1,\"-1\": 0, \"1\": 1, \"INSTALLED\": 0, \"SEMI_EQUIPPED\": 1, \"NOT_INSTALLED\": 0, \"USA_INSTALLED\": 0, \"USA_SEMI_EQUIPPED\": 1, \"USA_UNINSTALLED\": 0})"
   ]
  },
  {
   "cell_type": "code",
   "execution_count": 1295,
   "id": "c1e85a0b-11b4-4ec4-a877-43619e3ffd0b",
   "metadata": {},
   "outputs": [
    {
     "data": {
      "text/plain": [
       "0    33721\n",
       "1    12267\n",
       "Name: fully_equipped_kitchen, dtype: int64"
      ]
     },
     "execution_count": 1295,
     "metadata": {},
     "output_type": "execute_result"
    }
   ],
   "source": [
    "df[\"fully_equipped_kitchen\"].value_counts()"
   ]
  },
  {
   "cell_type": "markdown",
   "id": "58185812-8e59-41ec-a252-c1eb6c650a34",
   "metadata": {
    "jp-MarkdownHeadingCollapsed": true,
    "tags": []
   },
   "source": [
    "### Swiming pool  (0,1)"
   ]
  },
  {
   "cell_type": "code",
   "execution_count": 1296,
   "id": "b86064d5-deca-4195-98ac-08b5ce6cefb9",
   "metadata": {},
   "outputs": [],
   "source": [
    "df['swimming_pool'] = df['swimming_pool'].replace(-1,0)"
   ]
  },
  {
   "cell_type": "code",
   "execution_count": 1297,
   "id": "bb5cf8f1-42d5-4929-8e78-24c615160a35",
   "metadata": {},
   "outputs": [
    {
     "data": {
      "text/plain": [
       "0    45052\n",
       "1      936\n",
       "Name: swimming_pool, dtype: int64"
      ]
     },
     "execution_count": 1297,
     "metadata": {},
     "output_type": "execute_result"
    }
   ],
   "source": [
    "df['swimming_pool'].value_counts()"
   ]
  },
  {
   "cell_type": "markdown",
   "id": "f8f1e389-4ed5-46ca-81d0-3ddc8e58a39a",
   "metadata": {
    "jp-MarkdownHeadingCollapsed": true,
    "tags": []
   },
   "source": [
    "### Furnished (0,1)"
   ]
  },
  {
   "cell_type": "code",
   "execution_count": 1298,
   "id": "5934615e-fa8f-4091-a12b-cf8cecd3f0e1",
   "metadata": {},
   "outputs": [],
   "source": [
    "df['furnished'] = df['furnished'].replace(-1,0)"
   ]
  },
  {
   "cell_type": "code",
   "execution_count": 1299,
   "id": "a16f2992-a977-41a6-8783-5aec08e2d6e1",
   "metadata": {},
   "outputs": [
    {
     "data": {
      "text/plain": [
       "0    44783\n",
       "1     1205\n",
       "Name: furnished, dtype: int64"
      ]
     },
     "execution_count": 1299,
     "metadata": {},
     "output_type": "execute_result"
    }
   ],
   "source": [
    "df['furnished'].value_counts()"
   ]
  },
  {
   "cell_type": "markdown",
   "id": "2b2b57aa-d2db-470d-858d-315410eb116a",
   "metadata": {
    "jp-MarkdownHeadingCollapsed": true,
    "tags": []
   },
   "source": [
    "### Open fire (0,1)"
   ]
  },
  {
   "cell_type": "code",
   "execution_count": 1300,
   "id": "da2ab6c0-e078-4950-9d4c-6e703ce0bc1c",
   "metadata": {},
   "outputs": [],
   "source": [
    "df['open_fire'] = df['open_fire'].replace(-1,0)"
   ]
  },
  {
   "cell_type": "code",
   "execution_count": 1301,
   "id": "0a0a622c-c1a7-4695-81e4-c208ca99c7ef",
   "metadata": {},
   "outputs": [
    {
     "data": {
      "text/plain": [
       "0    43920\n",
       "1     2068\n",
       "Name: open_fire, dtype: int64"
      ]
     },
     "execution_count": 1301,
     "metadata": {},
     "output_type": "execute_result"
    }
   ],
   "source": [
    "df['open_fire'].value_counts()"
   ]
  },
  {
   "cell_type": "markdown",
   "id": "56cc21c9-87f2-4dfa-8376-9e50e39c5b57",
   "metadata": {
    "jp-MarkdownHeadingCollapsed": true,
    "tags": []
   },
   "source": [
    "### Terrace (0,1)"
   ]
  },
  {
   "cell_type": "code",
   "execution_count": 1302,
   "id": "362d9dbf-1e50-41c4-8b8b-19ea387ddd95",
   "metadata": {},
   "outputs": [],
   "source": [
    "df['terrace'] = df['terrace'].replace(-1,0)"
   ]
  },
  {
   "cell_type": "code",
   "execution_count": 1303,
   "id": "30c2b6c9-efaf-4039-903d-699e7f290c96",
   "metadata": {},
   "outputs": [
    {
     "data": {
      "text/plain": [
       "1    29302\n",
       "0    16686\n",
       "Name: terrace, dtype: int64"
      ]
     },
     "execution_count": 1303,
     "metadata": {},
     "output_type": "execute_result"
    }
   ],
   "source": [
    "df['terrace'].value_counts()"
   ]
  },
  {
   "cell_type": "markdown",
   "id": "59f6b318-800f-47d5-8d8f-98a549b33d3d",
   "metadata": {
    "jp-MarkdownHeadingCollapsed": true,
    "tags": []
   },
   "source": [
    "### Terrace surface (float)"
   ]
  },
  {
   "cell_type": "markdown",
   "id": "a05e65cf-9af7-4680-85e9-1c8a8344c791",
   "metadata": {},
   "source": [
    "we have two terraces > 1000 m2 !"
   ]
  },
  {
   "cell_type": "code",
   "execution_count": 1304,
   "id": "a4c8bde7-7dcd-4341-aa2c-ce8ef6969da4",
   "metadata": {},
   "outputs": [],
   "source": [
    "df = df.loc[df['terrace_surface'] < 500]"
   ]
  },
  {
   "cell_type": "code",
   "execution_count": 1305,
   "id": "d5ec63e9-1f16-4255-bcfa-363f7bdfedf1",
   "metadata": {},
   "outputs": [],
   "source": [
    "df['terrace_surface'] = df['terrace_surface'].replace(-1,0)"
   ]
  },
  {
   "cell_type": "code",
   "execution_count": 1306,
   "id": "618b24a2-82d7-400d-94d1-7419a747577e",
   "metadata": {},
   "outputs": [
    {
     "data": {
      "text/plain": [
       "0      26713\n",
       "20      1191\n",
       "10      1084\n",
       "15       939\n",
       "12       868\n",
       "       ...  \n",
       "163        1\n",
       "137        1\n",
       "190        1\n",
       "293        1\n",
       "290        1\n",
       "Name: terrace_surface, Length: 183, dtype: int64"
      ]
     },
     "execution_count": 1306,
     "metadata": {},
     "output_type": "execute_result"
    }
   ],
   "source": [
    "df['terrace_surface'].value_counts()"
   ]
  },
  {
   "cell_type": "markdown",
   "id": "e7438c79-a7e5-4381-90dc-fe3407a3b0d1",
   "metadata": {
    "jp-MarkdownHeadingCollapsed": true,
    "tags": []
   },
   "source": [
    "### Facades (int)"
   ]
  },
  {
   "cell_type": "code",
   "execution_count": 1307,
   "id": "1b5dd0ea-376c-4bec-ad67-dc170dac9fa7",
   "metadata": {},
   "outputs": [],
   "source": [
    "df = df.loc[df[\"number_of_facades\"] < 9]"
   ]
  },
  {
   "cell_type": "code",
   "execution_count": 1308,
   "id": "8c8ef143-e31a-47f7-b8f1-841e10a34805",
   "metadata": {},
   "outputs": [],
   "source": [
    "df[\"number_of_facades\"] = np.where((df[\"number_of_facades\"] == -1) & (df[\"type_of_property\"] == \"APARTMENT\"), 1, df[\"number_of_facades\"])\n",
    "df[\"number_of_facades\"] = np.where((df[\"number_of_facades\"] == -1) & (df[\"type_of_property\"] == \"HOUSE\"), 2, df[\"number_of_facades\"])"
   ]
  },
  {
   "cell_type": "code",
   "execution_count": 1309,
   "id": "0e36aca8-617d-4116-a24d-0d654d64fcfe",
   "metadata": {},
   "outputs": [],
   "source": [
    "df = df.loc[df[\"number_of_facades\"] != -1]"
   ]
  },
  {
   "cell_type": "code",
   "execution_count": 1310,
   "id": "b95095e8-b4aa-4fb4-8b48-6387b57bb78f",
   "metadata": {},
   "outputs": [
    {
     "data": {
      "text/plain": [
       "2    20272\n",
       "4     9268\n",
       "3     8129\n",
       "1     7777\n",
       "6        6\n",
       "5        6\n",
       "8        3\n",
       "Name: number_of_facades, dtype: int64"
      ]
     },
     "execution_count": 1310,
     "metadata": {},
     "output_type": "execute_result"
    }
   ],
   "source": [
    "df['number_of_facades'].value_counts()"
   ]
  },
  {
   "cell_type": "markdown",
   "id": "c75b4f65-c15f-4114-bcbb-a049071e5e12",
   "metadata": {
    "jp-MarkdownHeadingCollapsed": true,
    "tags": []
   },
   "source": [
    "### State of the building (category)"
   ]
  },
  {
   "cell_type": "markdown",
   "id": "dd808952-809e-45b1-bd9d-dccbc50a2782",
   "metadata": {},
   "source": [
    "Tranform this part to category"
   ]
  },
  {
   "cell_type": "code",
   "execution_count": 1311,
   "id": "d4e9ec19-8fe6-4211-8ecd-2c4f46911c1d",
   "metadata": {},
   "outputs": [],
   "source": [
    "df[\"state_of_the_building\"] = df[\"state_of_the_building\"].map({\n",
    "    \"NO_INFO\": \"TO_RENOVATE\",#0.25, \n",
    "    \"TO_BE_DONE_UP\": \"JUST_RENOVATED\",#0.75, \n",
    "    \"TO_RENOVATE\": \"TO_RENOVATE\",#0.25, \n",
    "    \"TO_RESTORE\": \"TO_REBUILD\",#0.25, \n",
    "    \"JUST_RENOVATED\": \"JUST_RENOVATED\",#0.75, \n",
    "    \"GOOD\": \"GOOD\",#0.5, \n",
    "    \"AS_NEW\": \"NEW\"#1.0\n",
    "})"
   ]
  },
  {
   "cell_type": "code",
   "execution_count": 1312,
   "id": "d8219917-803c-4388-875d-79b14b4e0eae",
   "metadata": {},
   "outputs": [
    {
     "data": {
      "text/plain": [
       "TO_RENOVATE       16151\n",
       "GOOD              12534\n",
       "NEW               10559\n",
       "JUST_RENOVATED     6035\n",
       "TO_REBUILD          182\n",
       "Name: state_of_the_building, dtype: int64"
      ]
     },
     "execution_count": 1312,
     "metadata": {},
     "output_type": "execute_result"
    }
   ],
   "source": [
    "df[\"state_of_the_building\"].value_counts()"
   ]
  },
  {
   "cell_type": "markdown",
   "id": "52d059fe-36c3-4462-b25c-a3844bba0688",
   "metadata": {
    "tags": []
   },
   "source": [
    "### Type of property (category)"
   ]
  },
  {
   "cell_type": "markdown",
   "id": "b891beef-51dd-472b-bb0d-b0993cdeceda",
   "metadata": {},
   "source": [
    "Separate into HOUSE, APARTMENTS and OTHERS"
   ]
  },
  {
   "cell_type": "code",
   "execution_count": 1313,
   "id": "bbcdedc9-3591-489b-bf35-e65c43df4179",
   "metadata": {},
   "outputs": [],
   "source": [
    "others = [\"CHALET\", \"MANOR_HOUSE\", \"OTHER_PROPERTY\", \"CASTLE\", \"PAVILION\"]"
   ]
  },
  {
   "cell_type": "code",
   "execution_count": 1314,
   "id": "82f3b64e-3135-4db3-a784-9b9625673dfb",
   "metadata": {},
   "outputs": [],
   "source": [
    "df.loc[df[\"price\"] >= 800000, \"type_of_property\"] = \"OTHER\""
   ]
  },
  {
   "cell_type": "code",
   "execution_count": 1315,
   "id": "495d523c-e58f-4f40-bacf-adbd0f0fff30",
   "metadata": {},
   "outputs": [],
   "source": [
    "df['type_of_property'] = np.where((df['number_of_bedrooms'] > 20), \"OTHER\", df['type_of_property'])"
   ]
  },
  {
   "cell_type": "code",
   "execution_count": 1316,
   "id": "435ab911-5473-4712-9a2f-b61fe8af17fe",
   "metadata": {},
   "outputs": [],
   "source": [
    "df.loc[df[\"subtype_of_property\"].isin(others), \"type_of_property\"] = \"OTHER\""
   ]
  },
  {
   "cell_type": "code",
   "execution_count": 1317,
   "id": "db78b10b-e02a-4115-b91a-88be11ae1fd6",
   "metadata": {},
   "outputs": [
    {
     "data": {
      "text/plain": [
       "HOUSE        23527\n",
       "APARTMENT    19808\n",
       "OTHER         2126\n",
       "Name: type_of_property, dtype: int64"
      ]
     },
     "execution_count": 1317,
     "metadata": {},
     "output_type": "execute_result"
    }
   ],
   "source": [
    "df['type_of_property'].value_counts()"
   ]
  },
  {
   "cell_type": "code",
   "execution_count": 1318,
   "id": "254f8acf-1e32-482b-add9-5e884b277936",
   "metadata": {},
   "outputs": [],
   "source": [
    "df_other = df.loc[df[\"type_of_property\"] == \"OTHER\"]"
   ]
  },
  {
   "cell_type": "code",
   "execution_count": 1319,
   "id": "3348f0c0-260e-4005-a84a-cb0a01b5303a",
   "metadata": {},
   "outputs": [],
   "source": [
    "df = df.loc[df[\"type_of_property\"] == \"HOUSE\"]"
   ]
  },
  {
   "cell_type": "code",
   "execution_count": null,
   "id": "ab5dd134-814a-47d8-8181-5695dfeeaad0",
   "metadata": {},
   "outputs": [],
   "source": []
  },
  {
   "cell_type": "code",
   "execution_count": 1320,
   "id": "ac33be83-c6a9-4f04-96a5-20619ab960ee",
   "metadata": {},
   "outputs": [
    {
     "data": {
      "text/html": [
       "<div>\n",
       "<style scoped>\n",
       "    .dataframe tbody tr th:only-of-type {\n",
       "        vertical-align: middle;\n",
       "    }\n",
       "\n",
       "    .dataframe tbody tr th {\n",
       "        vertical-align: top;\n",
       "    }\n",
       "\n",
       "    .dataframe thead th {\n",
       "        text-align: right;\n",
       "    }\n",
       "</style>\n",
       "<table border=\"1\" class=\"dataframe\">\n",
       "  <thead>\n",
       "    <tr style=\"text-align: right;\">\n",
       "      <th></th>\n",
       "      <th>id</th>\n",
       "      <th>postal_code</th>\n",
       "      <th>price</th>\n",
       "      <th>number_of_bedrooms</th>\n",
       "      <th>surface</th>\n",
       "      <th>fully_equipped_kitchen</th>\n",
       "      <th>furnished</th>\n",
       "      <th>open_fire</th>\n",
       "      <th>terrace</th>\n",
       "      <th>terrace_surface</th>\n",
       "      <th>garden</th>\n",
       "      <th>garden_surface</th>\n",
       "      <th>land_surface</th>\n",
       "      <th>number_of_facades</th>\n",
       "      <th>swimming_pool</th>\n",
       "    </tr>\n",
       "  </thead>\n",
       "  <tbody>\n",
       "    <tr>\n",
       "      <th>count</th>\n",
       "      <td>2.352700e+04</td>\n",
       "      <td>23527.000000</td>\n",
       "      <td>23527.000000</td>\n",
       "      <td>23527.000000</td>\n",
       "      <td>23527.000000</td>\n",
       "      <td>23527.000000</td>\n",
       "      <td>23527.000000</td>\n",
       "      <td>23527.000000</td>\n",
       "      <td>23527.000000</td>\n",
       "      <td>23527.000000</td>\n",
       "      <td>23527.000000</td>\n",
       "      <td>23527.000000</td>\n",
       "      <td>2.352700e+04</td>\n",
       "      <td>23527.000000</td>\n",
       "      <td>23527.00000</td>\n",
       "    </tr>\n",
       "    <tr>\n",
       "      <th>mean</th>\n",
       "      <td>1.000478e+07</td>\n",
       "      <td>5379.434352</td>\n",
       "      <td>346334.115357</td>\n",
       "      <td>3.345050</td>\n",
       "      <td>186.139159</td>\n",
       "      <td>0.245760</td>\n",
       "      <td>0.011349</td>\n",
       "      <td>0.061079</td>\n",
       "      <td>0.566583</td>\n",
       "      <td>9.270710</td>\n",
       "      <td>0.505504</td>\n",
       "      <td>169.307604</td>\n",
       "      <td>8.088920e+02</td>\n",
       "      <td>2.782165</td>\n",
       "      <td>0.02002</td>\n",
       "    </tr>\n",
       "    <tr>\n",
       "      <th>std</th>\n",
       "      <td>2.228319e+05</td>\n",
       "      <td>2828.356500</td>\n",
       "      <td>159784.282305</td>\n",
       "      <td>1.175656</td>\n",
       "      <td>81.895317</td>\n",
       "      <td>0.430546</td>\n",
       "      <td>0.105926</td>\n",
       "      <td>0.239480</td>\n",
       "      <td>0.495557</td>\n",
       "      <td>20.799314</td>\n",
       "      <td>0.499980</td>\n",
       "      <td>792.579611</td>\n",
       "      <td>7.954382e+03</td>\n",
       "      <td>0.845464</td>\n",
       "      <td>0.14007</td>\n",
       "    </tr>\n",
       "    <tr>\n",
       "      <th>min</th>\n",
       "      <td>1.882546e+06</td>\n",
       "      <td>1000.000000</td>\n",
       "      <td>2500.000000</td>\n",
       "      <td>0.000000</td>\n",
       "      <td>1.000000</td>\n",
       "      <td>0.000000</td>\n",
       "      <td>0.000000</td>\n",
       "      <td>0.000000</td>\n",
       "      <td>0.000000</td>\n",
       "      <td>0.000000</td>\n",
       "      <td>0.000000</td>\n",
       "      <td>0.000000</td>\n",
       "      <td>0.000000e+00</td>\n",
       "      <td>1.000000</td>\n",
       "      <td>0.00000</td>\n",
       "    </tr>\n",
       "    <tr>\n",
       "      <th>25%</th>\n",
       "      <td>9.972600e+06</td>\n",
       "      <td>2820.000000</td>\n",
       "      <td>229000.000000</td>\n",
       "      <td>3.000000</td>\n",
       "      <td>135.000000</td>\n",
       "      <td>0.000000</td>\n",
       "      <td>0.000000</td>\n",
       "      <td>0.000000</td>\n",
       "      <td>0.000000</td>\n",
       "      <td>0.000000</td>\n",
       "      <td>0.000000</td>\n",
       "      <td>0.000000</td>\n",
       "      <td>1.550000e+02</td>\n",
       "      <td>2.000000</td>\n",
       "      <td>0.00000</td>\n",
       "    </tr>\n",
       "    <tr>\n",
       "      <th>50%</th>\n",
       "      <td>1.006888e+07</td>\n",
       "      <td>5060.000000</td>\n",
       "      <td>325000.000000</td>\n",
       "      <td>3.000000</td>\n",
       "      <td>170.000000</td>\n",
       "      <td>0.000000</td>\n",
       "      <td>0.000000</td>\n",
       "      <td>0.000000</td>\n",
       "      <td>1.000000</td>\n",
       "      <td>0.000000</td>\n",
       "      <td>1.000000</td>\n",
       "      <td>0.000000</td>\n",
       "      <td>3.600000e+02</td>\n",
       "      <td>3.000000</td>\n",
       "      <td>0.00000</td>\n",
       "    </tr>\n",
       "    <tr>\n",
       "      <th>75%</th>\n",
       "      <td>1.011784e+07</td>\n",
       "      <td>8310.000000</td>\n",
       "      <td>439000.000000</td>\n",
       "      <td>4.000000</td>\n",
       "      <td>218.000000</td>\n",
       "      <td>0.000000</td>\n",
       "      <td>0.000000</td>\n",
       "      <td>0.000000</td>\n",
       "      <td>1.000000</td>\n",
       "      <td>13.000000</td>\n",
       "      <td>1.000000</td>\n",
       "      <td>78.000000</td>\n",
       "      <td>7.920000e+02</td>\n",
       "      <td>4.000000</td>\n",
       "      <td>0.00000</td>\n",
       "    </tr>\n",
       "    <tr>\n",
       "      <th>max</th>\n",
       "      <td>1.015115e+07</td>\n",
       "      <td>9992.000000</td>\n",
       "      <td>799950.000000</td>\n",
       "      <td>17.000000</td>\n",
       "      <td>800.000000</td>\n",
       "      <td>1.000000</td>\n",
       "      <td>1.000000</td>\n",
       "      <td>1.000000</td>\n",
       "      <td>1.000000</td>\n",
       "      <td>420.000000</td>\n",
       "      <td>1.000000</td>\n",
       "      <td>55000.000000</td>\n",
       "      <td>1.100000e+06</td>\n",
       "      <td>6.000000</td>\n",
       "      <td>1.00000</td>\n",
       "    </tr>\n",
       "  </tbody>\n",
       "</table>\n",
       "</div>"
      ],
      "text/plain": [
       "                 id   postal_code          price  number_of_bedrooms  \\\n",
       "count  2.352700e+04  23527.000000   23527.000000        23527.000000   \n",
       "mean   1.000478e+07   5379.434352  346334.115357            3.345050   \n",
       "std    2.228319e+05   2828.356500  159784.282305            1.175656   \n",
       "min    1.882546e+06   1000.000000    2500.000000            0.000000   \n",
       "25%    9.972600e+06   2820.000000  229000.000000            3.000000   \n",
       "50%    1.006888e+07   5060.000000  325000.000000            3.000000   \n",
       "75%    1.011784e+07   8310.000000  439000.000000            4.000000   \n",
       "max    1.015115e+07   9992.000000  799950.000000           17.000000   \n",
       "\n",
       "            surface  fully_equipped_kitchen     furnished     open_fire  \\\n",
       "count  23527.000000            23527.000000  23527.000000  23527.000000   \n",
       "mean     186.139159                0.245760      0.011349      0.061079   \n",
       "std       81.895317                0.430546      0.105926      0.239480   \n",
       "min        1.000000                0.000000      0.000000      0.000000   \n",
       "25%      135.000000                0.000000      0.000000      0.000000   \n",
       "50%      170.000000                0.000000      0.000000      0.000000   \n",
       "75%      218.000000                0.000000      0.000000      0.000000   \n",
       "max      800.000000                1.000000      1.000000      1.000000   \n",
       "\n",
       "            terrace  terrace_surface        garden  garden_surface  \\\n",
       "count  23527.000000     23527.000000  23527.000000    23527.000000   \n",
       "mean       0.566583         9.270710      0.505504      169.307604   \n",
       "std        0.495557        20.799314      0.499980      792.579611   \n",
       "min        0.000000         0.000000      0.000000        0.000000   \n",
       "25%        0.000000         0.000000      0.000000        0.000000   \n",
       "50%        1.000000         0.000000      1.000000        0.000000   \n",
       "75%        1.000000        13.000000      1.000000       78.000000   \n",
       "max        1.000000       420.000000      1.000000    55000.000000   \n",
       "\n",
       "       land_surface  number_of_facades  swimming_pool  \n",
       "count  2.352700e+04       23527.000000    23527.00000  \n",
       "mean   8.088920e+02           2.782165        0.02002  \n",
       "std    7.954382e+03           0.845464        0.14007  \n",
       "min    0.000000e+00           1.000000        0.00000  \n",
       "25%    1.550000e+02           2.000000        0.00000  \n",
       "50%    3.600000e+02           3.000000        0.00000  \n",
       "75%    7.920000e+02           4.000000        0.00000  \n",
       "max    1.100000e+06           6.000000        1.00000  "
      ]
     },
     "execution_count": 1320,
     "metadata": {},
     "output_type": "execute_result"
    }
   ],
   "source": [
    "df.describe()"
   ]
  },
  {
   "cell_type": "markdown",
   "id": "6d484790-8013-49db-b5aa-c9c4d949cd4e",
   "metadata": {},
   "source": [
    "### Price/m2"
   ]
  },
  {
   "cell_type": "code",
   "execution_count": 1321,
   "id": "662cd487-6b5a-4d70-82b2-4cda31335030",
   "metadata": {},
   "outputs": [],
   "source": [
    "df['price_m2'] = df['price']/df['surface']"
   ]
  },
  {
   "cell_type": "code",
   "execution_count": 1322,
   "id": "7633683f-6f93-4ca7-8e7c-18dcbe6e68d0",
   "metadata": {
    "tags": []
   },
   "outputs": [
    {
     "data": {
      "text/plain": [
       "2500.000000    108\n",
       "2000.000000    103\n",
       "1500.000000     86\n",
       "1000.000000     69\n",
       "1250.000000     66\n",
       "              ... \n",
       "2584.269663      1\n",
       "1935.344828      1\n",
       "4364.406780      1\n",
       "3818.681319      1\n",
       "1705.038760      1\n",
       "Name: price_m2, Length: 12338, dtype: int64"
      ]
     },
     "execution_count": 1322,
     "metadata": {},
     "output_type": "execute_result"
    }
   ],
   "source": [
    "df['price_m2'].value_counts()"
   ]
  },
  {
   "cell_type": "markdown",
   "id": "2d324a5c-2434-4b6c-807b-35820f42f40f",
   "metadata": {
    "tags": []
   },
   "source": [
    "### API list"
   ]
  },
  {
   "cell_type": "code",
   "execution_count": 1323,
   "id": "515a3112-ef58-4dd0-b848-ed4eee69f2be",
   "metadata": {},
   "outputs": [],
   "source": [
    "api_list = ['surface','number_of_bedrooms','postal_code','land_surface','garden','garden_surface','fully_equipped_kitchen','swimming_pool','furnished','open_fire','terrace','terrace_surface','number_of_facades','state_of_the_building','zip_code_xx','zip_code_x','price']"
   ]
  },
  {
   "cell_type": "code",
   "execution_count": 1324,
   "id": "2ab88b51-1b6d-4d59-baae-71255050ee2f",
   "metadata": {},
   "outputs": [],
   "source": [
    "df = df[api_list]"
   ]
  },
  {
   "cell_type": "code",
   "execution_count": 1325,
   "id": "8678e138-1ee4-4fba-802b-d8b7ff713a71",
   "metadata": {},
   "outputs": [],
   "source": [
    "claned_df = df.shape"
   ]
  },
  {
   "cell_type": "markdown",
   "id": "f5f280a8-3c0d-4e24-a4d0-37a0da369b6a",
   "metadata": {
    "jp-MarkdownHeadingCollapsed": true,
    "tags": []
   },
   "source": [
    "## Check database"
   ]
  },
  {
   "cell_type": "code",
   "execution_count": 1326,
   "id": "3dd7a92c-6256-43f5-853c-44a8b16f4fcc",
   "metadata": {},
   "outputs": [
    {
     "name": "stdout",
     "output_type": "stream",
     "text": [
      "initial_df (62430, 23) claned_df (23527, 17)\n"
     ]
    }
   ],
   "source": [
    "print(f'initial_df {initial_df} claned_df {claned_df}')"
   ]
  },
  {
   "cell_type": "code",
   "execution_count": 1327,
   "id": "a4ff57bc-4a40-4d0d-8c59-e26baad01900",
   "metadata": {},
   "outputs": [
    {
     "data": {
      "text/html": [
       "<div>\n",
       "<style scoped>\n",
       "    .dataframe tbody tr th:only-of-type {\n",
       "        vertical-align: middle;\n",
       "    }\n",
       "\n",
       "    .dataframe tbody tr th {\n",
       "        vertical-align: top;\n",
       "    }\n",
       "\n",
       "    .dataframe thead th {\n",
       "        text-align: right;\n",
       "    }\n",
       "</style>\n",
       "<table border=\"1\" class=\"dataframe\">\n",
       "  <thead>\n",
       "    <tr style=\"text-align: right;\">\n",
       "      <th></th>\n",
       "      <th>surface</th>\n",
       "      <th>number_of_bedrooms</th>\n",
       "      <th>postal_code</th>\n",
       "      <th>land_surface</th>\n",
       "      <th>garden</th>\n",
       "      <th>garden_surface</th>\n",
       "      <th>fully_equipped_kitchen</th>\n",
       "      <th>swimming_pool</th>\n",
       "      <th>furnished</th>\n",
       "      <th>open_fire</th>\n",
       "      <th>terrace</th>\n",
       "      <th>terrace_surface</th>\n",
       "      <th>number_of_facades</th>\n",
       "      <th>price</th>\n",
       "    </tr>\n",
       "  </thead>\n",
       "  <tbody>\n",
       "    <tr>\n",
       "      <th>count</th>\n",
       "      <td>23527.000000</td>\n",
       "      <td>23527.000000</td>\n",
       "      <td>23527.000000</td>\n",
       "      <td>2.352700e+04</td>\n",
       "      <td>23527.000000</td>\n",
       "      <td>23527.000000</td>\n",
       "      <td>23527.000000</td>\n",
       "      <td>23527.00000</td>\n",
       "      <td>23527.000000</td>\n",
       "      <td>23527.000000</td>\n",
       "      <td>23527.000000</td>\n",
       "      <td>23527.000000</td>\n",
       "      <td>23527.000000</td>\n",
       "      <td>23527.000000</td>\n",
       "    </tr>\n",
       "    <tr>\n",
       "      <th>mean</th>\n",
       "      <td>186.139159</td>\n",
       "      <td>3.345050</td>\n",
       "      <td>5379.434352</td>\n",
       "      <td>8.088920e+02</td>\n",
       "      <td>0.505504</td>\n",
       "      <td>169.307604</td>\n",
       "      <td>0.245760</td>\n",
       "      <td>0.02002</td>\n",
       "      <td>0.011349</td>\n",
       "      <td>0.061079</td>\n",
       "      <td>0.566583</td>\n",
       "      <td>9.270710</td>\n",
       "      <td>2.782165</td>\n",
       "      <td>346334.115357</td>\n",
       "    </tr>\n",
       "    <tr>\n",
       "      <th>std</th>\n",
       "      <td>81.895317</td>\n",
       "      <td>1.175656</td>\n",
       "      <td>2828.356500</td>\n",
       "      <td>7.954382e+03</td>\n",
       "      <td>0.499980</td>\n",
       "      <td>792.579611</td>\n",
       "      <td>0.430546</td>\n",
       "      <td>0.14007</td>\n",
       "      <td>0.105926</td>\n",
       "      <td>0.239480</td>\n",
       "      <td>0.495557</td>\n",
       "      <td>20.799314</td>\n",
       "      <td>0.845464</td>\n",
       "      <td>159784.282305</td>\n",
       "    </tr>\n",
       "    <tr>\n",
       "      <th>min</th>\n",
       "      <td>1.000000</td>\n",
       "      <td>0.000000</td>\n",
       "      <td>1000.000000</td>\n",
       "      <td>0.000000e+00</td>\n",
       "      <td>0.000000</td>\n",
       "      <td>0.000000</td>\n",
       "      <td>0.000000</td>\n",
       "      <td>0.00000</td>\n",
       "      <td>0.000000</td>\n",
       "      <td>0.000000</td>\n",
       "      <td>0.000000</td>\n",
       "      <td>0.000000</td>\n",
       "      <td>1.000000</td>\n",
       "      <td>2500.000000</td>\n",
       "    </tr>\n",
       "    <tr>\n",
       "      <th>25%</th>\n",
       "      <td>135.000000</td>\n",
       "      <td>3.000000</td>\n",
       "      <td>2820.000000</td>\n",
       "      <td>1.550000e+02</td>\n",
       "      <td>0.000000</td>\n",
       "      <td>0.000000</td>\n",
       "      <td>0.000000</td>\n",
       "      <td>0.00000</td>\n",
       "      <td>0.000000</td>\n",
       "      <td>0.000000</td>\n",
       "      <td>0.000000</td>\n",
       "      <td>0.000000</td>\n",
       "      <td>2.000000</td>\n",
       "      <td>229000.000000</td>\n",
       "    </tr>\n",
       "    <tr>\n",
       "      <th>50%</th>\n",
       "      <td>170.000000</td>\n",
       "      <td>3.000000</td>\n",
       "      <td>5060.000000</td>\n",
       "      <td>3.600000e+02</td>\n",
       "      <td>1.000000</td>\n",
       "      <td>0.000000</td>\n",
       "      <td>0.000000</td>\n",
       "      <td>0.00000</td>\n",
       "      <td>0.000000</td>\n",
       "      <td>0.000000</td>\n",
       "      <td>1.000000</td>\n",
       "      <td>0.000000</td>\n",
       "      <td>3.000000</td>\n",
       "      <td>325000.000000</td>\n",
       "    </tr>\n",
       "    <tr>\n",
       "      <th>75%</th>\n",
       "      <td>218.000000</td>\n",
       "      <td>4.000000</td>\n",
       "      <td>8310.000000</td>\n",
       "      <td>7.920000e+02</td>\n",
       "      <td>1.000000</td>\n",
       "      <td>78.000000</td>\n",
       "      <td>0.000000</td>\n",
       "      <td>0.00000</td>\n",
       "      <td>0.000000</td>\n",
       "      <td>0.000000</td>\n",
       "      <td>1.000000</td>\n",
       "      <td>13.000000</td>\n",
       "      <td>4.000000</td>\n",
       "      <td>439000.000000</td>\n",
       "    </tr>\n",
       "    <tr>\n",
       "      <th>max</th>\n",
       "      <td>800.000000</td>\n",
       "      <td>17.000000</td>\n",
       "      <td>9992.000000</td>\n",
       "      <td>1.100000e+06</td>\n",
       "      <td>1.000000</td>\n",
       "      <td>55000.000000</td>\n",
       "      <td>1.000000</td>\n",
       "      <td>1.00000</td>\n",
       "      <td>1.000000</td>\n",
       "      <td>1.000000</td>\n",
       "      <td>1.000000</td>\n",
       "      <td>420.000000</td>\n",
       "      <td>6.000000</td>\n",
       "      <td>799950.000000</td>\n",
       "    </tr>\n",
       "  </tbody>\n",
       "</table>\n",
       "</div>"
      ],
      "text/plain": [
       "            surface  number_of_bedrooms   postal_code  land_surface  \\\n",
       "count  23527.000000        23527.000000  23527.000000  2.352700e+04   \n",
       "mean     186.139159            3.345050   5379.434352  8.088920e+02   \n",
       "std       81.895317            1.175656   2828.356500  7.954382e+03   \n",
       "min        1.000000            0.000000   1000.000000  0.000000e+00   \n",
       "25%      135.000000            3.000000   2820.000000  1.550000e+02   \n",
       "50%      170.000000            3.000000   5060.000000  3.600000e+02   \n",
       "75%      218.000000            4.000000   8310.000000  7.920000e+02   \n",
       "max      800.000000           17.000000   9992.000000  1.100000e+06   \n",
       "\n",
       "             garden  garden_surface  fully_equipped_kitchen  swimming_pool  \\\n",
       "count  23527.000000    23527.000000            23527.000000    23527.00000   \n",
       "mean       0.505504      169.307604                0.245760        0.02002   \n",
       "std        0.499980      792.579611                0.430546        0.14007   \n",
       "min        0.000000        0.000000                0.000000        0.00000   \n",
       "25%        0.000000        0.000000                0.000000        0.00000   \n",
       "50%        1.000000        0.000000                0.000000        0.00000   \n",
       "75%        1.000000       78.000000                0.000000        0.00000   \n",
       "max        1.000000    55000.000000                1.000000        1.00000   \n",
       "\n",
       "          furnished     open_fire       terrace  terrace_surface  \\\n",
       "count  23527.000000  23527.000000  23527.000000     23527.000000   \n",
       "mean       0.011349      0.061079      0.566583         9.270710   \n",
       "std        0.105926      0.239480      0.495557        20.799314   \n",
       "min        0.000000      0.000000      0.000000         0.000000   \n",
       "25%        0.000000      0.000000      0.000000         0.000000   \n",
       "50%        0.000000      0.000000      1.000000         0.000000   \n",
       "75%        0.000000      0.000000      1.000000        13.000000   \n",
       "max        1.000000      1.000000      1.000000       420.000000   \n",
       "\n",
       "       number_of_facades          price  \n",
       "count       23527.000000   23527.000000  \n",
       "mean            2.782165  346334.115357  \n",
       "std             0.845464  159784.282305  \n",
       "min             1.000000    2500.000000  \n",
       "25%             2.000000  229000.000000  \n",
       "50%             3.000000  325000.000000  \n",
       "75%             4.000000  439000.000000  \n",
       "max             6.000000  799950.000000  "
      ]
     },
     "execution_count": 1327,
     "metadata": {},
     "output_type": "execute_result"
    }
   ],
   "source": [
    "df.describe()"
   ]
  },
  {
   "cell_type": "code",
   "execution_count": 1328,
   "id": "1fa37f13-6915-49ea-8256-c5ea015e0d28",
   "metadata": {
    "tags": []
   },
   "outputs": [
    {
     "name": "stdout",
     "output_type": "stream",
     "text": [
      "surface\n",
      "150    700\n",
      "160    562\n",
      "200    554\n",
      "180    547\n",
      "140    518\n",
      "      ... \n",
      "788      1\n",
      "705      1\n",
      "612      1\n",
      "549      1\n",
      "595      1\n",
      "Name: surface, Length: 568, dtype: int64\n",
      "\n",
      "\n",
      "number_of_bedrooms\n",
      "3     10648\n",
      "4      5698\n",
      "2      3691\n",
      "5      1927\n",
      "6       625\n",
      "1       466\n",
      "7       170\n",
      "0       133\n",
      "8        84\n",
      "9        46\n",
      "10       14\n",
      "11       11\n",
      "12        5\n",
      "16        2\n",
      "13        2\n",
      "15        2\n",
      "14        2\n",
      "17        1\n",
      "Name: number_of_bedrooms, dtype: int64\n",
      "\n",
      "\n",
      "postal_code\n",
      "9000    273\n",
      "7700    199\n",
      "9300    186\n",
      "4000    166\n",
      "9500    151\n",
      "       ... \n",
      "3471      1\n",
      "3798      1\n",
      "3211      1\n",
      "3512      1\n",
      "7543      1\n",
      "Name: postal_code, Length: 1036, dtype: int64\n",
      "\n",
      "\n",
      "land_surface\n",
      "0       2214\n",
      "100      160\n",
      "200      146\n",
      "160      143\n",
      "300      138\n",
      "        ... \n",
      "1571       1\n",
      "2122       1\n",
      "3104       1\n",
      "4848       1\n",
      "5414       1\n",
      "Name: land_surface, Length: 2809, dtype: int64\n",
      "\n",
      "\n",
      "garden\n",
      "1    11893\n",
      "0    11634\n",
      "Name: garden, dtype: int64\n",
      "\n",
      "\n",
      "garden_surface\n",
      "0       15987\n",
      "100       246\n",
      "200       219\n",
      "300       167\n",
      "500       152\n",
      "        ...  \n",
      "3692        1\n",
      "1873        1\n",
      "1018        1\n",
      "713         1\n",
      "5414        1\n",
      "Name: garden_surface, Length: 1204, dtype: int64\n",
      "\n",
      "\n",
      "fully_equipped_kitchen\n",
      "0    17745\n",
      "1     5782\n",
      "Name: fully_equipped_kitchen, dtype: int64\n",
      "\n",
      "\n",
      "swimming_pool\n",
      "0    23056\n",
      "1      471\n",
      "Name: swimming_pool, dtype: int64\n",
      "\n",
      "\n",
      "furnished\n",
      "0    23260\n",
      "1      267\n",
      "Name: furnished, dtype: int64\n",
      "\n",
      "\n",
      "open_fire\n",
      "0    22090\n",
      "1     1437\n",
      "Name: open_fire, dtype: int64\n",
      "\n",
      "\n",
      "terrace\n",
      "1    13330\n",
      "0    10197\n",
      "Name: terrace, dtype: int64\n",
      "\n",
      "\n",
      "terrace_surface\n",
      "0      16259\n",
      "20       768\n",
      "30       548\n",
      "15       427\n",
      "25       399\n",
      "       ...  \n",
      "230        1\n",
      "212        1\n",
      "250        1\n",
      "103        1\n",
      "104        1\n",
      "Name: terrace_surface, Length: 150, dtype: int64\n",
      "\n",
      "\n",
      "number_of_facades\n",
      "2    11302\n",
      "4     6305\n",
      "3     5841\n",
      "1       72\n",
      "5        5\n",
      "6        2\n",
      "Name: number_of_facades, dtype: int64\n",
      "\n",
      "\n",
      "state_of_the_building\n",
      "TO_RENOVATE       8953\n",
      "GOOD              6841\n",
      "JUST_RENOVATED    3833\n",
      "NEW               3747\n",
      "TO_REBUILD         153\n",
      "Name: state_of_the_building, dtype: int64\n",
      "\n",
      "\n",
      "zip_code_xx\n",
      "be_zip_14    668\n",
      "be_zip_60    616\n",
      "be_zip_90    602\n",
      "be_zip_40    578\n",
      "be_zip_13    549\n",
      "            ... \n",
      "be_zip_76     90\n",
      "be_zip_82     90\n",
      "be_zip_12     69\n",
      "be_zip_47     62\n",
      "be_zip_64     43\n",
      "Name: zip_code_xx, Length: 80, dtype: int64\n",
      "\n",
      "\n",
      "zip_code_x\n",
      "be_zip_9    3632\n",
      "be_zip_1    3344\n",
      "be_zip_2    3326\n",
      "be_zip_8    2553\n",
      "be_zip_4    2529\n",
      "be_zip_3    2370\n",
      "be_zip_6    2281\n",
      "be_zip_7    2255\n",
      "be_zip_5    1237\n",
      "Name: zip_code_x, dtype: int64\n",
      "\n",
      "\n",
      "price\n",
      "299000    402\n",
      "399000    359\n",
      "395000    357\n",
      "295000    352\n",
      "249000    347\n",
      "         ... \n",
      "421500      1\n",
      "193600      1\n",
      "122000      1\n",
      "329990      1\n",
      "398710      1\n",
      "Name: price, Length: 2106, dtype: int64\n",
      "\n",
      "\n"
     ]
    }
   ],
   "source": [
    "for index,atribute in enumerate(df.columns.to_list()):\n",
    "    print(atribute)\n",
    "    print(df[df.columns.to_list()[index]].value_counts())\n",
    "    print('\\n')"
   ]
  },
  {
   "cell_type": "markdown",
   "id": "2f42d946-6c8c-4701-b581-5d6cdf963b56",
   "metadata": {
    "tags": []
   },
   "source": [
    "# Data preprocessing"
   ]
  },
  {
   "cell_type": "code",
   "execution_count": 1329,
   "id": "4fc3c973-20b9-4ffc-862b-acac23ce7396",
   "metadata": {},
   "outputs": [],
   "source": [
    "transformer = make_column_transformer(\n",
    "    (OneHotEncoder(), ['zip_code_x','state_of_the_building']),\n",
    "    remainder='passthrough')"
   ]
  },
  {
   "cell_type": "code",
   "execution_count": 1330,
   "id": "6ef78c5f-f59c-4c98-9d10-c53df4b52314",
   "metadata": {},
   "outputs": [
    {
     "name": "stderr",
     "output_type": "stream",
     "text": [
      "/home/roku/Documents/becode_projects/challenge-regression/venv/lib/python3.10/site-packages/sklearn/utils/deprecation.py:87: FutureWarning: Function get_feature_names is deprecated; get_feature_names is deprecated in 1.0 and will be removed in 1.2. Please use get_feature_names_out instead.\n",
      "  warnings.warn(msg, category=FutureWarning)\n"
     ]
    }
   ],
   "source": [
    "transformed = transformer.fit_transform(df)\n",
    "transformed_df = pd.DataFrame(transformed, columns=transformer.get_feature_names())"
   ]
  },
  {
   "cell_type": "code",
   "execution_count": 1331,
   "id": "ee522036-3aee-44eb-ba4b-945ac2f19411",
   "metadata": {},
   "outputs": [
    {
     "data": {
      "text/plain": [
       "['onehotencoder__x0_be_zip_1',\n",
       " 'onehotencoder__x0_be_zip_2',\n",
       " 'onehotencoder__x0_be_zip_3',\n",
       " 'onehotencoder__x0_be_zip_4',\n",
       " 'onehotencoder__x0_be_zip_5',\n",
       " 'onehotencoder__x0_be_zip_6',\n",
       " 'onehotencoder__x0_be_zip_7',\n",
       " 'onehotencoder__x0_be_zip_8',\n",
       " 'onehotencoder__x0_be_zip_9',\n",
       " 'onehotencoder__x1_GOOD',\n",
       " 'onehotencoder__x1_JUST_RENOVATED',\n",
       " 'onehotencoder__x1_NEW',\n",
       " 'onehotencoder__x1_TO_REBUILD',\n",
       " 'onehotencoder__x1_TO_RENOVATE',\n",
       " 'surface',\n",
       " 'number_of_bedrooms',\n",
       " 'postal_code',\n",
       " 'land_surface',\n",
       " 'garden',\n",
       " 'garden_surface',\n",
       " 'fully_equipped_kitchen',\n",
       " 'swimming_pool',\n",
       " 'furnished',\n",
       " 'open_fire',\n",
       " 'terrace',\n",
       " 'terrace_surface',\n",
       " 'number_of_facades',\n",
       " 'zip_code_xx',\n",
       " 'price']"
      ]
     },
     "execution_count": 1331,
     "metadata": {},
     "output_type": "execute_result"
    }
   ],
   "source": [
    "transformed_df.columns.to_list()"
   ]
  },
  {
   "cell_type": "markdown",
   "id": "d9f1ba34-0359-4c67-bf1b-44909fd4a107",
   "metadata": {},
   "source": [
    "### Drop values from onehotencoder"
   ]
  },
  {
   "cell_type": "code",
   "execution_count": 1332,
   "id": "85cf37fd-1537-438b-9668-e304130fc031",
   "metadata": {},
   "outputs": [],
   "source": [
    "drop_list = [\n",
    " 'onehotencoder__x0_be_zip_1',\n",
    "#  'onehotencoder__x0_be_zip_2',\n",
    " 'onehotencoder__x0_be_zip_3',\n",
    " 'onehotencoder__x0_be_zip_4',\n",
    " 'onehotencoder__x0_be_zip_5',\n",
    " 'onehotencoder__x0_be_zip_6',\n",
    " 'onehotencoder__x0_be_zip_7',\n",
    " 'onehotencoder__x0_be_zip_8',\n",
    " 'onehotencoder__x0_be_zip_9',\n",
    "#  'onehotencoder__x1_GOOD',\n",
    " 'onehotencoder__x1_JUST_RENOVATED',\n",
    " 'onehotencoder__x1_NEW',\n",
    " 'onehotencoder__x1_TO_REBUILD',\n",
    " 'onehotencoder__x1_TO_RENOVATE',\n",
    " 'surface',\n",
    " 'number_of_bedrooms',\n",
    "#  'postal_code',\n",
    "#  'land_surface',\n",
    " 'garden',\n",
    " 'garden_surface',\n",
    " 'fully_equipped_kitchen',\n",
    " 'swimming_pool',\n",
    "#  'furnished',\n",
    " 'open_fire',\n",
    "#  'terrace',\n",
    "#  'terrace_surface',\n",
    " 'number_of_facades',\n",
    " #'zip_code_xx',\n",
    " 'price']"
   ]
  },
  {
   "cell_type": "code",
   "execution_count": 1333,
   "id": "3eac6157-b236-4772-9210-360f70c31e63",
   "metadata": {},
   "outputs": [],
   "source": [
    "transformed_df = transformed_df[drop_list]"
   ]
  },
  {
   "cell_type": "code",
   "execution_count": 1334,
   "id": "513f4251-3d29-48e8-b9dd-d3afefb757ff",
   "metadata": {},
   "outputs": [
    {
     "name": "stdout",
     "output_type": "stream",
     "text": [
      "onehotencoder__x0_be_zip_1\n",
      "0.0    20183\n",
      "1.0     3344\n",
      "Name: onehotencoder__x0_be_zip_1, dtype: int64\n",
      "\n",
      "\n",
      "onehotencoder__x0_be_zip_3\n",
      "0.0    21157\n",
      "1.0     2370\n",
      "Name: onehotencoder__x0_be_zip_3, dtype: int64\n",
      "\n",
      "\n",
      "onehotencoder__x0_be_zip_4\n",
      "0.0    20998\n",
      "1.0     2529\n",
      "Name: onehotencoder__x0_be_zip_4, dtype: int64\n",
      "\n",
      "\n",
      "onehotencoder__x0_be_zip_5\n",
      "0.0    22290\n",
      "1.0     1237\n",
      "Name: onehotencoder__x0_be_zip_5, dtype: int64\n",
      "\n",
      "\n",
      "onehotencoder__x0_be_zip_6\n",
      "0.0    21246\n",
      "1.0     2281\n",
      "Name: onehotencoder__x0_be_zip_6, dtype: int64\n",
      "\n",
      "\n",
      "onehotencoder__x0_be_zip_7\n",
      "0.0    21272\n",
      "1.0     2255\n",
      "Name: onehotencoder__x0_be_zip_7, dtype: int64\n",
      "\n",
      "\n",
      "onehotencoder__x0_be_zip_8\n",
      "0.0    20974\n",
      "1.0     2553\n",
      "Name: onehotencoder__x0_be_zip_8, dtype: int64\n",
      "\n",
      "\n",
      "onehotencoder__x0_be_zip_9\n",
      "0.0    19895\n",
      "1.0     3632\n",
      "Name: onehotencoder__x0_be_zip_9, dtype: int64\n",
      "\n",
      "\n",
      "onehotencoder__x1_JUST_RENOVATED\n",
      "0.0    19694\n",
      "1.0     3833\n",
      "Name: onehotencoder__x1_JUST_RENOVATED, dtype: int64\n",
      "\n",
      "\n",
      "onehotencoder__x1_NEW\n",
      "0.0    19780\n",
      "1.0     3747\n",
      "Name: onehotencoder__x1_NEW, dtype: int64\n",
      "\n",
      "\n",
      "onehotencoder__x1_TO_REBUILD\n",
      "0.0    23374\n",
      "1.0      153\n",
      "Name: onehotencoder__x1_TO_REBUILD, dtype: int64\n",
      "\n",
      "\n",
      "onehotencoder__x1_TO_RENOVATE\n",
      "0.0    14574\n",
      "1.0     8953\n",
      "Name: onehotencoder__x1_TO_RENOVATE, dtype: int64\n",
      "\n",
      "\n",
      "surface\n",
      "150    700\n",
      "160    562\n",
      "200    554\n",
      "180    547\n",
      "140    518\n",
      "      ... \n",
      "788      1\n",
      "705      1\n",
      "612      1\n",
      "549      1\n",
      "595      1\n",
      "Name: surface, Length: 568, dtype: int64\n",
      "\n",
      "\n",
      "number_of_bedrooms\n",
      "3     10648\n",
      "4      5698\n",
      "2      3691\n",
      "5      1927\n",
      "6       625\n",
      "1       466\n",
      "7       170\n",
      "0       133\n",
      "8        84\n",
      "9        46\n",
      "10       14\n",
      "11       11\n",
      "12        5\n",
      "16        2\n",
      "13        2\n",
      "15        2\n",
      "14        2\n",
      "17        1\n",
      "Name: number_of_bedrooms, dtype: int64\n",
      "\n",
      "\n",
      "garden\n",
      "1    11893\n",
      "0    11634\n",
      "Name: garden, dtype: int64\n",
      "\n",
      "\n",
      "garden_surface\n",
      "0       15987\n",
      "100       246\n",
      "200       219\n",
      "300       167\n",
      "500       152\n",
      "        ...  \n",
      "3692        1\n",
      "1873        1\n",
      "1018        1\n",
      "713         1\n",
      "5414        1\n",
      "Name: garden_surface, Length: 1204, dtype: int64\n",
      "\n",
      "\n",
      "fully_equipped_kitchen\n",
      "0    17745\n",
      "1     5782\n",
      "Name: fully_equipped_kitchen, dtype: int64\n",
      "\n",
      "\n",
      "swimming_pool\n",
      "0    23056\n",
      "1      471\n",
      "Name: swimming_pool, dtype: int64\n",
      "\n",
      "\n",
      "open_fire\n",
      "0    22090\n",
      "1     1437\n",
      "Name: open_fire, dtype: int64\n",
      "\n",
      "\n",
      "number_of_facades\n",
      "2    11302\n",
      "4     6305\n",
      "3     5841\n",
      "1       72\n",
      "5        5\n",
      "6        2\n",
      "Name: number_of_facades, dtype: int64\n",
      "\n",
      "\n",
      "price\n",
      "299000    402\n",
      "399000    359\n",
      "395000    357\n",
      "295000    352\n",
      "249000    347\n",
      "         ... \n",
      "421500      1\n",
      "193600      1\n",
      "122000      1\n",
      "329990      1\n",
      "398710      1\n",
      "Name: price, Length: 2106, dtype: int64\n",
      "\n",
      "\n"
     ]
    }
   ],
   "source": [
    "for index,atribute in enumerate(transformed_df.columns.to_list()):\n",
    "    print(atribute)\n",
    "    print(transformed_df[transformed_df.columns.to_list()[index]].value_counts())\n",
    "    print('\\n')"
   ]
  },
  {
   "cell_type": "markdown",
   "id": "244ddbb8-249c-4a1e-8eae-0d93d78ce216",
   "metadata": {
    "jp-MarkdownHeadingCollapsed": true,
    "tags": []
   },
   "source": [
    "# Split Data"
   ]
  },
  {
   "cell_type": "code",
   "execution_count": 1335,
   "id": "cc6179f9-6277-49f7-ba66-cafe5590f1c7",
   "metadata": {},
   "outputs": [],
   "source": [
    "y = transformed_df.iloc[:,-1].values  #price\n",
    "x = transformed_df.iloc[:,:-1].values  #rest"
   ]
  },
  {
   "cell_type": "code",
   "execution_count": 1337,
   "id": "17bf5c7b-eaee-4510-90b3-7b3909f1531b",
   "metadata": {},
   "outputs": [
    {
     "ename": "ValueError",
     "evalue": "invalid literal for int() with base 10: 'TO_RENOVATE'",
     "output_type": "error",
     "traceback": [
      "\u001b[0;31m---------------------------------------------------------------------------\u001b[0m",
      "\u001b[0;31mValueError\u001b[0m                                Traceback (most recent call last)",
      "Cell \u001b[0;32mIn [1337], line 1\u001b[0m\n\u001b[0;32m----> 1\u001b[0m x \u001b[38;5;241m=\u001b[39m \u001b[43mx\u001b[49m\u001b[38;5;241;43m.\u001b[39;49m\u001b[43mastype\u001b[49m\u001b[43m(\u001b[49m\u001b[38;5;28;43mint\u001b[39;49m\u001b[43m)\u001b[49m\n",
      "\u001b[0;31mValueError\u001b[0m: invalid literal for int() with base 10: 'TO_RENOVATE'"
     ]
    }
   ],
   "source": [
    "x = x.astype(int)"
   ]
  },
  {
   "cell_type": "code",
   "execution_count": null,
   "id": "d620c1a5-6c56-484f-8ec4-2aee08078d89",
   "metadata": {},
   "outputs": [],
   "source": [
    "y = y.astype(int)"
   ]
  },
  {
   "cell_type": "markdown",
   "id": "6812f6b8-f82e-425c-afda-6a64ae568a45",
   "metadata": {
    "tags": []
   },
   "source": [
    "# Linear regresion"
   ]
  },
  {
   "cell_type": "markdown",
   "id": "a150b7a0-7b7d-43c2-9a51-e79a16fc4de6",
   "metadata": {
    "tags": []
   },
   "source": [
    "### First split"
   ]
  },
  {
   "cell_type": "code",
   "execution_count": null,
   "id": "ec431d8b-693d-4bbc-8274-4854d89e207b",
   "metadata": {},
   "outputs": [],
   "source": [
    "x_train,x_test,y_train,y_test=train_test_split(x,y,test_size=0.2,shuffle=False)"
   ]
  },
  {
   "cell_type": "code",
   "execution_count": null,
   "id": "bc111cfc-cde8-43d4-b1f4-47082a3f6f08",
   "metadata": {},
   "outputs": [],
   "source": [
    "x_train, x_dev, y_train, y_dev = train_test_split(x_train, y_train, test_size=0.2, shuffle=False)"
   ]
  },
  {
   "cell_type": "code",
   "execution_count": null,
   "id": "48579123-8c49-4a85-88d7-52b74b6b0cb8",
   "metadata": {},
   "outputs": [
    {
     "name": "stdout",
     "output_type": "stream",
     "text": [
      "x_train: (15056, 20)\n",
      "x_dev: (3765, 20)\n",
      "x_test: (4706, 20)\n",
      "y_train: (15056,)\n",
      "y_dev: (3765,)\n",
      "y_test: (4706,)\n"
     ]
    }
   ],
   "source": [
    "print(\"x_train:\",x_train.shape)\n",
    "print(\"x_dev:\",x_dev.shape)\n",
    "print(\"x_test:\",x_test.shape)\n",
    "print(\"y_train:\",y_train.shape)\n",
    "print(\"y_dev:\",y_dev.shape)\n",
    "print(\"y_test:\",y_test.shape)"
   ]
  },
  {
   "cell_type": "markdown",
   "id": "5f5ec188-e2e9-4792-b1d0-5a0cb8385424",
   "metadata": {},
   "source": [
    "### Train the model"
   ]
  },
  {
   "cell_type": "code",
   "execution_count": null,
   "id": "d6f0c21b-ef8d-49be-9f2b-de3a4cb0b67b",
   "metadata": {},
   "outputs": [],
   "source": [
    "MLR = LinearRegression()"
   ]
  },
  {
   "cell_type": "code",
   "execution_count": null,
   "id": "61257ebf-e231-4131-9b3b-26dccf1a2b3e",
   "metadata": {},
   "outputs": [
    {
     "data": {
      "text/html": [
       "<style>#sk-container-id-11 {color: black;background-color: white;}#sk-container-id-11 pre{padding: 0;}#sk-container-id-11 div.sk-toggleable {background-color: white;}#sk-container-id-11 label.sk-toggleable__label {cursor: pointer;display: block;width: 100%;margin-bottom: 0;padding: 0.3em;box-sizing: border-box;text-align: center;}#sk-container-id-11 label.sk-toggleable__label-arrow:before {content: \"▸\";float: left;margin-right: 0.25em;color: #696969;}#sk-container-id-11 label.sk-toggleable__label-arrow:hover:before {color: black;}#sk-container-id-11 div.sk-estimator:hover label.sk-toggleable__label-arrow:before {color: black;}#sk-container-id-11 div.sk-toggleable__content {max-height: 0;max-width: 0;overflow: hidden;text-align: left;background-color: #f0f8ff;}#sk-container-id-11 div.sk-toggleable__content pre {margin: 0.2em;color: black;border-radius: 0.25em;background-color: #f0f8ff;}#sk-container-id-11 input.sk-toggleable__control:checked~div.sk-toggleable__content {max-height: 200px;max-width: 100%;overflow: auto;}#sk-container-id-11 input.sk-toggleable__control:checked~label.sk-toggleable__label-arrow:before {content: \"▾\";}#sk-container-id-11 div.sk-estimator input.sk-toggleable__control:checked~label.sk-toggleable__label {background-color: #d4ebff;}#sk-container-id-11 div.sk-label input.sk-toggleable__control:checked~label.sk-toggleable__label {background-color: #d4ebff;}#sk-container-id-11 input.sk-hidden--visually {border: 0;clip: rect(1px 1px 1px 1px);clip: rect(1px, 1px, 1px, 1px);height: 1px;margin: -1px;overflow: hidden;padding: 0;position: absolute;width: 1px;}#sk-container-id-11 div.sk-estimator {font-family: monospace;background-color: #f0f8ff;border: 1px dotted black;border-radius: 0.25em;box-sizing: border-box;margin-bottom: 0.5em;}#sk-container-id-11 div.sk-estimator:hover {background-color: #d4ebff;}#sk-container-id-11 div.sk-parallel-item::after {content: \"\";width: 100%;border-bottom: 1px solid gray;flex-grow: 1;}#sk-container-id-11 div.sk-label:hover label.sk-toggleable__label {background-color: #d4ebff;}#sk-container-id-11 div.sk-serial::before {content: \"\";position: absolute;border-left: 1px solid gray;box-sizing: border-box;top: 0;bottom: 0;left: 50%;z-index: 0;}#sk-container-id-11 div.sk-serial {display: flex;flex-direction: column;align-items: center;background-color: white;padding-right: 0.2em;padding-left: 0.2em;position: relative;}#sk-container-id-11 div.sk-item {position: relative;z-index: 1;}#sk-container-id-11 div.sk-parallel {display: flex;align-items: stretch;justify-content: center;background-color: white;position: relative;}#sk-container-id-11 div.sk-item::before, #sk-container-id-11 div.sk-parallel-item::before {content: \"\";position: absolute;border-left: 1px solid gray;box-sizing: border-box;top: 0;bottom: 0;left: 50%;z-index: -1;}#sk-container-id-11 div.sk-parallel-item {display: flex;flex-direction: column;z-index: 1;position: relative;background-color: white;}#sk-container-id-11 div.sk-parallel-item:first-child::after {align-self: flex-end;width: 50%;}#sk-container-id-11 div.sk-parallel-item:last-child::after {align-self: flex-start;width: 50%;}#sk-container-id-11 div.sk-parallel-item:only-child::after {width: 0;}#sk-container-id-11 div.sk-dashed-wrapped {border: 1px dashed gray;margin: 0 0.4em 0.5em 0.4em;box-sizing: border-box;padding-bottom: 0.4em;background-color: white;}#sk-container-id-11 div.sk-label label {font-family: monospace;font-weight: bold;display: inline-block;line-height: 1.2em;}#sk-container-id-11 div.sk-label-container {text-align: center;}#sk-container-id-11 div.sk-container {/* jupyter's `normalize.less` sets `[hidden] { display: none; }` but bootstrap.min.css set `[hidden] { display: none !important; }` so we also need the `!important` here to be able to override the default hidden behavior on the sphinx rendered scikit-learn.org. See: https://github.com/scikit-learn/scikit-learn/issues/21755 */display: inline-block !important;position: relative;}#sk-container-id-11 div.sk-text-repr-fallback {display: none;}</style><div id=\"sk-container-id-11\" class=\"sk-top-container\"><div class=\"sk-text-repr-fallback\"><pre>LinearRegression()</pre><b>In a Jupyter environment, please rerun this cell to show the HTML representation or trust the notebook. <br />On GitHub, the HTML representation is unable to render, please try loading this page with nbviewer.org.</b></div><div class=\"sk-container\" hidden><div class=\"sk-item\"><div class=\"sk-estimator sk-toggleable\"><input class=\"sk-toggleable__control sk-hidden--visually\" id=\"sk-estimator-id-11\" type=\"checkbox\" checked><label for=\"sk-estimator-id-11\" class=\"sk-toggleable__label sk-toggleable__label-arrow\">LinearRegression</label><div class=\"sk-toggleable__content\"><pre>LinearRegression()</pre></div></div></div></div></div>"
      ],
      "text/plain": [
       "LinearRegression()"
      ]
     },
     "execution_count": 1184,
     "metadata": {},
     "output_type": "execute_result"
    }
   ],
   "source": [
    "MLR.fit(x_train,y_train)"
   ]
  },
  {
   "cell_type": "code",
   "execution_count": null,
   "id": "9f474063-f7c8-4931-9df7-2d509b1e4714",
   "metadata": {},
   "outputs": [
    {
     "name": "stdout",
     "output_type": "stream",
     "text": [
      "constant : 105021.37605957213\n",
      "constant : [ 4.52269448e+04 -1.28056854e-09 -1.23753664e+05 -1.43110116e+05\n",
      " -1.50323828e+05 -1.46025837e+05 -5.06481257e+04  1.45519152e-11\n",
      " -2.31139551e+04  4.87716807e+04 -8.60106219e+04 -2.37240295e+04\n",
      "  7.26706163e+02  1.66971450e+04  8.86157219e+03  4.44221912e+00\n",
      "  1.08235343e+04  6.91173121e+04  2.93651101e+04  3.67982043e+04]\n"
     ]
    }
   ],
   "source": [
    "print(f'constant : {MLR.intercept_}')\n",
    "print(f'constant : {MLR.coef_}')"
   ]
  },
  {
   "cell_type": "code",
   "execution_count": null,
   "id": "bf02abe1-1dbd-4c8e-89d2-fdfd0b94939e",
   "metadata": {},
   "outputs": [],
   "source": [
    "y_predict = MLR.predict(x_train)"
   ]
  },
  {
   "cell_type": "code",
   "execution_count": null,
   "id": "601d973c-2caf-4f54-88a8-29239495c479",
   "metadata": {},
   "outputs": [],
   "source": [
    "df_mlr =  pd.DataFrame(data=y_train, columns =['y_train'])\n",
    "df_mlr['predict'] = y_predict.astype(int)\n",
    "df_mlr['delta'] = round((df_mlr['y_train'] - df_mlr['predict'])/df_mlr['y_train'],2)"
   ]
  },
  {
   "cell_type": "code",
   "execution_count": null,
   "id": "c2a3d5fa-bf2c-4860-b0e5-b6998c15c74c",
   "metadata": {},
   "outputs": [
    {
     "data": {
      "text/html": [
       "<div>\n",
       "<style scoped>\n",
       "    .dataframe tbody tr th:only-of-type {\n",
       "        vertical-align: middle;\n",
       "    }\n",
       "\n",
       "    .dataframe tbody tr th {\n",
       "        vertical-align: top;\n",
       "    }\n",
       "\n",
       "    .dataframe thead th {\n",
       "        text-align: right;\n",
       "    }\n",
       "</style>\n",
       "<table border=\"1\" class=\"dataframe\">\n",
       "  <thead>\n",
       "    <tr style=\"text-align: right;\">\n",
       "      <th></th>\n",
       "      <th>y_train</th>\n",
       "      <th>predict</th>\n",
       "      <th>delta</th>\n",
       "    </tr>\n",
       "  </thead>\n",
       "  <tbody>\n",
       "    <tr>\n",
       "      <th>0</th>\n",
       "      <td>100000</td>\n",
       "      <td>190982</td>\n",
       "      <td>-0.91</td>\n",
       "    </tr>\n",
       "    <tr>\n",
       "      <th>1</th>\n",
       "      <td>179000</td>\n",
       "      <td>236641</td>\n",
       "      <td>-0.32</td>\n",
       "    </tr>\n",
       "    <tr>\n",
       "      <th>2</th>\n",
       "      <td>275000</td>\n",
       "      <td>571805</td>\n",
       "      <td>-1.08</td>\n",
       "    </tr>\n",
       "    <tr>\n",
       "      <th>3</th>\n",
       "      <td>249000</td>\n",
       "      <td>354607</td>\n",
       "      <td>-0.42</td>\n",
       "    </tr>\n",
       "    <tr>\n",
       "      <th>4</th>\n",
       "      <td>260000</td>\n",
       "      <td>292008</td>\n",
       "      <td>-0.12</td>\n",
       "    </tr>\n",
       "    <tr>\n",
       "      <th>...</th>\n",
       "      <td>...</td>\n",
       "      <td>...</td>\n",
       "      <td>...</td>\n",
       "    </tr>\n",
       "    <tr>\n",
       "      <th>15051</th>\n",
       "      <td>235000</td>\n",
       "      <td>321410</td>\n",
       "      <td>-0.37</td>\n",
       "    </tr>\n",
       "    <tr>\n",
       "      <th>15052</th>\n",
       "      <td>359000</td>\n",
       "      <td>307414</td>\n",
       "      <td>0.14</td>\n",
       "    </tr>\n",
       "    <tr>\n",
       "      <th>15053</th>\n",
       "      <td>230000</td>\n",
       "      <td>332772</td>\n",
       "      <td>-0.45</td>\n",
       "    </tr>\n",
       "    <tr>\n",
       "      <th>15054</th>\n",
       "      <td>249000</td>\n",
       "      <td>212374</td>\n",
       "      <td>0.15</td>\n",
       "    </tr>\n",
       "    <tr>\n",
       "      <th>15055</th>\n",
       "      <td>205000</td>\n",
       "      <td>285144</td>\n",
       "      <td>-0.39</td>\n",
       "    </tr>\n",
       "  </tbody>\n",
       "</table>\n",
       "<p>15056 rows × 3 columns</p>\n",
       "</div>"
      ],
      "text/plain": [
       "       y_train  predict  delta\n",
       "0       100000   190982  -0.91\n",
       "1       179000   236641  -0.32\n",
       "2       275000   571805  -1.08\n",
       "3       249000   354607  -0.42\n",
       "4       260000   292008  -0.12\n",
       "...        ...      ...    ...\n",
       "15051   235000   321410  -0.37\n",
       "15052   359000   307414   0.14\n",
       "15053   230000   332772  -0.45\n",
       "15054   249000   212374   0.15\n",
       "15055   205000   285144  -0.39\n",
       "\n",
       "[15056 rows x 3 columns]"
      ]
     },
     "execution_count": 1188,
     "metadata": {},
     "output_type": "execute_result"
    }
   ],
   "source": [
    "df_mlr"
   ]
  },
  {
   "cell_type": "code",
   "execution_count": null,
   "id": "0fc1c3d1-97f8-45fa-a13c-d55e9c572f83",
   "metadata": {},
   "outputs": [
    {
     "data": {
      "text/html": [
       "<div>\n",
       "<style scoped>\n",
       "    .dataframe tbody tr th:only-of-type {\n",
       "        vertical-align: middle;\n",
       "    }\n",
       "\n",
       "    .dataframe tbody tr th {\n",
       "        vertical-align: top;\n",
       "    }\n",
       "\n",
       "    .dataframe thead th {\n",
       "        text-align: right;\n",
       "    }\n",
       "</style>\n",
       "<table border=\"1\" class=\"dataframe\">\n",
       "  <thead>\n",
       "    <tr style=\"text-align: right;\">\n",
       "      <th></th>\n",
       "      <th>y_train</th>\n",
       "      <th>predict</th>\n",
       "      <th>delta</th>\n",
       "    </tr>\n",
       "  </thead>\n",
       "  <tbody>\n",
       "    <tr>\n",
       "      <th>count</th>\n",
       "      <td>15056.000000</td>\n",
       "      <td>1.505600e+04</td>\n",
       "      <td>15056.000000</td>\n",
       "    </tr>\n",
       "    <tr>\n",
       "      <th>mean</th>\n",
       "      <td>326067.803201</td>\n",
       "      <td>3.260673e+05</td>\n",
       "      <td>-0.133806</td>\n",
       "    </tr>\n",
       "    <tr>\n",
       "      <th>std</th>\n",
       "      <td>163165.403041</td>\n",
       "      <td>1.251229e+05</td>\n",
       "      <td>1.040151</td>\n",
       "    </tr>\n",
       "    <tr>\n",
       "      <th>min</th>\n",
       "      <td>2500.000000</td>\n",
       "      <td>1.414700e+04</td>\n",
       "      <td>-109.810000</td>\n",
       "    </tr>\n",
       "    <tr>\n",
       "      <th>25%</th>\n",
       "      <td>199000.000000</td>\n",
       "      <td>2.297292e+05</td>\n",
       "      <td>-0.280000</td>\n",
       "    </tr>\n",
       "    <tr>\n",
       "      <th>50%</th>\n",
       "      <td>299000.000000</td>\n",
       "      <td>3.190140e+05</td>\n",
       "      <td>-0.040000</td>\n",
       "    </tr>\n",
       "    <tr>\n",
       "      <th>75%</th>\n",
       "      <td>419000.000000</td>\n",
       "      <td>4.082140e+05</td>\n",
       "      <td>0.150000</td>\n",
       "    </tr>\n",
       "    <tr>\n",
       "      <th>max</th>\n",
       "      <td>799950.000000</td>\n",
       "      <td>1.080459e+06</td>\n",
       "      <td>0.890000</td>\n",
       "    </tr>\n",
       "  </tbody>\n",
       "</table>\n",
       "</div>"
      ],
      "text/plain": [
       "             y_train       predict         delta\n",
       "count   15056.000000  1.505600e+04  15056.000000\n",
       "mean   326067.803201  3.260673e+05     -0.133806\n",
       "std    163165.403041  1.251229e+05      1.040151\n",
       "min      2500.000000  1.414700e+04   -109.810000\n",
       "25%    199000.000000  2.297292e+05     -0.280000\n",
       "50%    299000.000000  3.190140e+05     -0.040000\n",
       "75%    419000.000000  4.082140e+05      0.150000\n",
       "max    799950.000000  1.080459e+06      0.890000"
      ]
     },
     "execution_count": 1189,
     "metadata": {},
     "output_type": "execute_result"
    }
   ],
   "source": [
    "df_mlr.describe()"
   ]
  },
  {
   "cell_type": "markdown",
   "id": "85f97aef-53b1-4beb-8165-c0186df7db57",
   "metadata": {},
   "source": [
    "### Predict a single value"
   ]
  },
  {
   "cell_type": "code",
   "execution_count": null,
   "id": "e5c2804a-c533-4c7d-b173-7ca009028ca4",
   "metadata": {},
   "outputs": [],
   "source": [
    "test_objt = x_dev[1]  #test object"
   ]
  },
  {
   "cell_type": "code",
   "execution_count": null,
   "id": "71c1002b-7b1d-4a39-8bff-9e5fb29e353b",
   "metadata": {},
   "outputs": [
    {
     "data": {
      "text/plain": [
       "array([  0,   0,   0,   0,   0,   0,   1,   0,   0,   1,   0,   0, 194,\n",
       "         4,   1,   0,   0,   0,   0,   2])"
      ]
     },
     "execution_count": 1191,
     "metadata": {},
     "output_type": "execute_result"
    }
   ],
   "source": [
    "test_objt"
   ]
  },
  {
   "cell_type": "code",
   "execution_count": null,
   "id": "74f37f72-d4b1-4aed-bdc2-95871178e176",
   "metadata": {},
   "outputs": [
    {
     "data": {
      "text/plain": [
       "295000"
      ]
     },
     "execution_count": 1192,
     "metadata": {},
     "output_type": "execute_result"
    }
   ],
   "source": [
    "y_dev[1] #desired output"
   ]
  },
  {
   "cell_type": "code",
   "execution_count": null,
   "id": "7b8ef418-e3c4-4d93-8367-ccae8fc77100",
   "metadata": {},
   "outputs": [
    {
     "data": {
      "text/plain": [
       "393372.49"
      ]
     },
     "execution_count": 1193,
     "metadata": {},
     "output_type": "execute_result"
    }
   ],
   "source": [
    "y_predict_single_objt = MLR.predict(test_objt.reshape(1,-1))\n",
    "round(float(y_predict_single_objt),2)"
   ]
  },
  {
   "cell_type": "code",
   "execution_count": null,
   "id": "35cc2711-5e52-41e5-a5bf-beefe3bcee66",
   "metadata": {},
   "outputs": [
    {
     "data": {
      "text/plain": [
       "0.33346606779661014"
      ]
     },
     "execution_count": 1194,
     "metadata": {},
     "output_type": "execute_result"
    }
   ],
   "source": [
    "(round(float(y_predict_single_objt),2) - y_dev[1])/y_dev[1]"
   ]
  },
  {
   "cell_type": "code",
   "execution_count": null,
   "id": "4d81ad2e-730f-4606-aa6b-0627a225da6d",
   "metadata": {},
   "outputs": [
    {
     "name": "stdout",
     "output_type": "stream",
     "text": [
      "R-square Error: 0.5880538528537569\n"
     ]
    }
   ],
   "source": [
    "r_sqr = metrics.r2_score(y_train,y_predict)\n",
    "print('R-square Error:',r_sqr)"
   ]
  },
  {
   "cell_type": "code",
   "execution_count": null,
   "id": "8ec9b749-9052-496b-ae04-ddad19806d43",
   "metadata": {},
   "outputs": [
    {
     "name": "stdout",
     "output_type": "stream",
     "text": [
      "Adjusted R-square Error: 0.587678141937227\n"
     ]
    }
   ],
   "source": [
    "n = 29632 #number of rows\n",
    "p = 27 #number of columns\n",
    "adj_r_sqr = 1-(1-r_sqr)*(n-1)/(n-p-1)\n",
    "print('Adjusted R-square Error:',adj_r_sqr)"
   ]
  },
  {
   "cell_type": "code",
   "execution_count": null,
   "id": "7bd2669f",
   "metadata": {},
   "outputs": [
    {
     "name": "stdout",
     "output_type": "stream",
     "text": [
      "Square root of R-Square: 0.7668466944922935\n",
      "Square root of Adjusted R-Square: 0.7666016840166913\n"
     ]
    }
   ],
   "source": [
    "import math\n",
    "print(f\"Square root of R-Square: {math.sqrt(r_sqr)}\")\n",
    "print(f\"Square root of Adjusted R-Square: {math.sqrt(adj_r_sqr)}\")"
   ]
  },
  {
   "cell_type": "markdown",
   "id": "e8565c3e-3629-43bf-a0e9-f7831b0dc97b",
   "metadata": {},
   "source": [
    "### Model evaluation"
   ]
  },
  {
   "cell_type": "code",
   "execution_count": null,
   "id": "35b00a7e-ab44-4d30-893e-e7eb29e8c797",
   "metadata": {
    "jupyter": {
     "source_hidden": true
    },
    "tags": []
   },
   "outputs": [
    {
     "name": "stderr",
     "output_type": "stream",
     "text": [
      "/tmp/ipykernel_3789/441180871.py:1: FutureWarning: The default value of numeric_only in DataFrame.corr is deprecated. In a future version, it will default to False. Select only valid columns or specify the value of numeric_only to silence this warning.\n",
      "  df.corr()['price']\n"
     ]
    },
    {
     "data": {
      "text/plain": [
       "surface                   0.534756\n",
       "number_of_bedrooms        0.386515\n",
       "postal_code              -0.216753\n",
       "land_surface              0.055565\n",
       "garden                    0.097869\n",
       "garden_surface            0.094874\n",
       "fully_equipped_kitchen    0.092878\n",
       "swimming_pool             0.160402\n",
       "furnished                 0.007972\n",
       "open_fire                 0.145199\n",
       "terrace                   0.126391\n",
       "terrace_surface           0.110363\n",
       "number_of_facades         0.253669\n",
       "price                     1.000000\n",
       "Name: price, dtype: float64"
      ]
     },
     "execution_count": 1198,
     "metadata": {},
     "output_type": "execute_result"
    }
   ],
   "source": [
    "df.corr()['price']"
   ]
  },
  {
   "cell_type": "markdown",
   "id": "3f157410-3990-4d9c-bf64-c146661adb3f",
   "metadata": {
    "tags": []
   },
   "source": [
    "zscore = 2\n",
    "surface                   0.302527\n",
    "number_of_bedrooms        0.425484\n",
    "postal_code              -0.134247\n",
    "land_surface              0.096298\n",
    "garden                    0.123056\n",
    "garden_surface            0.083741\n",
    "fully_equipped_kitchen    0.121539\n",
    "swimming_pool             0.203234\n",
    "furnished                -0.002207\n",
    "open_fire                 0.169739\n",
    "terrace                   0.117912\n",
    "terrace_surface           0.185802\n",
    "number_of_facades         0.252756\n",
    "price                     1.000000\n",
    "Name: price, dtype: float64"
   ]
  },
  {
   "cell_type": "markdown",
   "id": "b8dff888-877c-44b6-9d55-26014f41fd1e",
   "metadata": {
    "tags": []
   },
   "source": [
    "zscore = None\n",
    "surface                   0.375369\n",
    "number_of_bedrooms        0.408380\n",
    "postal_code              -0.115528\n",
    "land_surface              0.250008\n",
    "garden                    0.064717\n",
    "garden_surface            0.178264\n",
    "fully_equipped_kitchen    0.127337\n",
    "swimming_pool             0.275658\n",
    "furnished                 0.011266\n",
    "open_fire                 0.148603\n",
    "terrace                   0.098585\n",
    "terrace_surface           0.188799\n",
    "number_of_facades         0.239361\n",
    "price                     1.000000\n",
    "Name: price, dtype: float64"
   ]
  },
  {
   "cell_type": "code",
   "execution_count": null,
   "id": "3376bcc0-6a3d-4c43-8985-4bad5b1c2b3c",
   "metadata": {},
   "outputs": [
    {
     "data": {
      "text/plain": [
       "Text(0, 0.5, 'Surface m²')"
      ]
     },
     "execution_count": 1199,
     "metadata": {},
     "output_type": "execute_result"
    },
    {
     "data": {
      "image/png": "[encoded data removed]",
      "text/plain": [
       "<Figure size 640x480 with 1 Axes>"
      ]
     },
     "metadata": {},
     "output_type": "display_data"
    }
   ],
   "source": [
    "plt.scatter(df['price'],df['surface'])\n",
    "plt.title('price / m² relation')\n",
    "plt.xlabel('Price €')\n",
    "plt.ylabel('Surface m²')"
   ]
  },
  {
   "cell_type": "code",
   "execution_count": null,
   "id": "6a3d75d2-d680-4bc7-8892-30b0a42be3dd",
   "metadata": {},
   "outputs": [
    {
     "data": {
      "text/plain": [
       "Text(0, 0.5, 'number of bedrooms')"
      ]
     },
     "execution_count": 1200,
     "metadata": {},
     "output_type": "execute_result"
    },
    {
     "data": {
      "image/png": "[encoded data removed]",
      "text/plain": [
       "<Figure size 640x480 with 1 Axes>"
      ]
     },
     "metadata": {},
     "output_type": "display_data"
    }
   ],
   "source": [
    "plt.scatter(df['price'],df['number_of_bedrooms'])\n",
    "plt.title('price / m² relation')\n",
    "plt.xlabel('Price €')\n",
    "plt.ylabel('number of bedrooms')"
   ]
  },
  {
   "cell_type": "markdown",
   "id": "46ca72ae-52af-4baa-928b-0d7fad68ccaf",
   "metadata": {},
   "source": []
  },
  {
   "cell_type": "code",
   "execution_count": null,
   "id": "5fe9d8bb-c708-4cf7-a936-59549b516cd9",
   "metadata": {},
   "outputs": [],
   "source": []
  },
  {
   "cell_type": "code",
   "execution_count": null,
   "id": "503fc1fd-3a9c-4660-a62f-dfcf6bfc8911",
   "metadata": {},
   "outputs": [],
   "source": []
  }
 ],
 "metadata": {
  "kernelspec": {
   "display_name": "Python 3.10.7 ('venv': venv)",
   "language": "python",
   "name": "python3"
  },
  "language_info": {
   "codemirror_mode": {
    "name": "ipython",
    "version": 3
   },
   "file_extension": ".py",
   "mimetype": "text/x-python",
   "name": "python",
   "nbconvert_exporter": "python",
   "pygments_lexer": "ipython3",
   "version": "3.10.7"
  },
  "vscode": {
   "interpreter": {
    "hash": "a5586c792c8f2c2660df6ad3f72d83fedb2a4bda78b97547cd7b1eb323db9afd"
   }
  }
 },
 "nbformat": 4,
 "nbformat_minor": 5
}
