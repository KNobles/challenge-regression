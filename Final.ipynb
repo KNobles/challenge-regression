{
 "cells": [
  {
   "cell_type": "code",
   "execution_count": 1,
   "id": "b8c56074-7861-40d5-946b-8cac019ecaae",
   "metadata": {},
   "outputs": [],
   "source": [
    "import pandas as pd\n",
    "import numpy as np\n",
    "import seaborn as sns\n",
    "from sklearn.linear_model import LinearRegression\n",
    "from sklearn.model_selection import train_test_split\n",
    "from matplotlib import pyplot as plt\n",
    "from scipy.stats import zscore"
   ]
  },
  {
   "cell_type": "code",
   "execution_count": 2,
   "id": "ac0575ac-4560-4431-992b-702d9ffd31da",
   "metadata": {},
   "outputs": [],
   "source": [
    "df = pd.read_csv('Property_structured_data.csv')"
   ]
  },
  {
   "cell_type": "code",
   "execution_count": 3,
   "id": "ca8e6c14-27c2-4b0f-ba19-0f2ba06f5313",
   "metadata": {},
   "outputs": [],
   "source": [
    "initial_df = df.shape"
   ]
  },
  {
   "cell_type": "code",
   "execution_count": 4,
   "id": "0f2e5f07-c6ae-495d-b979-41cdd4815a3e",
   "metadata": {
    "tags": []
   },
   "outputs": [],
   "source": [
    "initial_df_columns = df.columns.to_list()"
   ]
  },
  {
   "cell_type": "markdown",
   "id": "b3e5515c-f057-42bd-b599-58b0fffb0dce",
   "metadata": {
    "tags": []
   },
   "source": [
    "## Clean Database"
   ]
  },
  {
   "cell_type": "markdown",
   "id": "16e306a6-5475-4946-be7a-5829f875e69e",
   "metadata": {
    "tags": []
   },
   "source": [
    "### Price"
   ]
  },
  {
   "cell_type": "code",
   "execution_count": 5,
   "id": "2b0dfb30-afda-4d4e-ac4f-4bc8247ea71a",
   "metadata": {
    "tags": []
   },
   "outputs": [
    {
     "data": {
      "text/plain": [
       "(59429, 23)"
      ]
     },
     "execution_count": 5,
     "metadata": {},
     "output_type": "execute_result"
    }
   ],
   "source": [
    "df= df.loc[df['price'] != -1]\n",
    "df.shape"
   ]
  },
  {
   "cell_type": "markdown",
   "id": "9f927464-faad-4588-b406-56e631973524",
   "metadata": {
    "jp-MarkdownHeadingCollapsed": true,
    "tags": []
   },
   "source": [
    "### Surface"
   ]
  },
  {
   "cell_type": "code",
   "execution_count": 6,
   "id": "a9ef092c-5d1b-410d-8973-9edd67493d33",
   "metadata": {
    "tags": []
   },
   "outputs": [
    {
     "data": {
      "text/plain": [
       "(49412, 23)"
      ]
     },
     "execution_count": 6,
     "metadata": {},
     "output_type": "execute_result"
    }
   ],
   "source": [
    "df = df.loc[df['surface'] != -1]\n",
    "df.shape"
   ]
  },
  {
   "cell_type": "markdown",
   "id": "b6df2fd2-e04c-44e7-9349-5ea9a327cab5",
   "metadata": {
    "tags": []
   },
   "source": [
    "### Sub Type of property"
   ]
  },
  {
   "cell_type": "code",
   "execution_count": 7,
   "id": "089ff62b-7009-4129-ba43-d19c9be1d983",
   "metadata": {
    "tags": []
   },
   "outputs": [
    {
     "data": {
      "text/plain": [
       "HOUSE                   20679\n",
       "APARTMENT               15864\n",
       "VILLA                    2954\n",
       "APARTMENT_BLOCK          1414\n",
       "DUPLEX                   1247\n",
       "GROUND_FLOOR             1146\n",
       "PENTHOUSE                1009\n",
       "MIXED_USE_BUILDING        993\n",
       "FLAT_STUDIO               693\n",
       "EXCEPTIONAL_PROPERTY      636\n",
       "MANSION                   494\n",
       "SERVICE_FLAT              483\n",
       "TOWN_HOUSE                376\n",
       "COUNTRY_COTTAGE           301\n",
       "BUNGALOW                  243\n",
       "LOFT                      231\n",
       "FARMHOUSE                 155\n",
       "TRIPLEX                   119\n",
       "CHALET                    107\n",
       "MANOR_HOUSE                76\n",
       "OTHER_PROPERTY             72\n",
       "CASTLE                     61\n",
       "KOT                        58\n",
       "PAVILION                    1\n",
       "Name: subtype_of_property, dtype: int64"
      ]
     },
     "execution_count": 7,
     "metadata": {},
     "output_type": "execute_result"
    }
   ],
   "source": [
    "df['subtype_of_property'].value_counts()"
   ]
  },
  {
   "cell_type": "code",
   "execution_count": 8,
   "id": "4f9b5f63-bfbf-4308-955a-aafa9d7dd462",
   "metadata": {},
   "outputs": [
    {
     "data": {
      "text/plain": [
       "(47998, 23)"
      ]
     },
     "execution_count": 8,
     "metadata": {},
     "output_type": "execute_result"
    }
   ],
   "source": [
    "df= df.loc[df['subtype_of_property'] != 'APARTMENT_BLOCK']\n",
    "df.shape"
   ]
  },
  {
   "cell_type": "code",
   "execution_count": 9,
   "id": "474d1b65-e002-4ec8-99f0-aeb655ec497f",
   "metadata": {},
   "outputs": [
    {
     "data": {
      "text/plain": [
       "(47005, 23)"
      ]
     },
     "execution_count": 9,
     "metadata": {},
     "output_type": "execute_result"
    }
   ],
   "source": [
    "df= df.loc[df['subtype_of_property'] != 'MIXED_USE_BUILDING']\n",
    "df.shape"
   ]
  },
  {
   "cell_type": "markdown",
   "id": "52077eff-569f-4d10-98fd-7a99797a9af7",
   "metadata": {
    "jp-MarkdownHeadingCollapsed": true,
    "tags": []
   },
   "source": [
    "### Number of bedrooms"
   ]
  },
  {
   "cell_type": "code",
   "execution_count": 10,
   "id": "3876a2c4-8436-4806-aa18-f2d800a2ca84",
   "metadata": {},
   "outputs": [],
   "source": [
    "df['number_of_bedrooms'] = df['number_of_bedrooms'].replace(-1,0)"
   ]
  },
  {
   "cell_type": "code",
   "execution_count": 11,
   "id": "2f3a1dce-6405-4ef6-a1a1-3a688a3a0636",
   "metadata": {
    "tags": []
   },
   "outputs": [
    {
     "data": {
      "text/plain": [
       "3       15278\n",
       "2       14724\n",
       "4        6945\n",
       "1        4875\n",
       "5        2662\n",
       "6        1032\n",
       "0         755\n",
       "7         323\n",
       "8         168\n",
       "9          89\n",
       "10         52\n",
       "12         21\n",
       "11         21\n",
       "14         13\n",
       "13          7\n",
       "16          5\n",
       "15          5\n",
       "20          4\n",
       "17          4\n",
       "18          3\n",
       "25          3\n",
       "19          2\n",
       "28          2\n",
       "22          2\n",
       "23          1\n",
       "26          1\n",
       "66          1\n",
       "70          1\n",
       "24          1\n",
       "45          1\n",
       "30          1\n",
       "204         1\n",
       "31          1\n",
       "2020        1\n",
       "Name: number_of_bedrooms, dtype: int64"
      ]
     },
     "execution_count": 11,
     "metadata": {},
     "output_type": "execute_result"
    }
   ],
   "source": [
    "df['number_of_bedrooms'].value_counts()"
   ]
  },
  {
   "cell_type": "markdown",
   "id": "97b291a7-1212-4240-96db-2ce2720ae9c7",
   "metadata": {
    "jp-MarkdownHeadingCollapsed": true,
    "tags": []
   },
   "source": [
    "### Land surface"
   ]
  },
  {
   "cell_type": "markdown",
   "id": "a500360b-2707-4afa-95af-101baa59e998",
   "metadata": {
    "tags": []
   },
   "source": [
    "#### Land surface of apartments = garden "
   ]
  },
  {
   "cell_type": "markdown",
   "id": "f95f0a93-c406-4e88-9cf8-5db8ed937cb2",
   "metadata": {},
   "source": [
    "for apartments garden area = land surface"
   ]
  },
  {
   "cell_type": "markdown",
   "id": "0c697343-0c55-4aa7-af85-8bb799331c46",
   "metadata": {
    "tags": []
   },
   "source": [
    "#### Land surface = 0"
   ]
  },
  {
   "cell_type": "code",
   "execution_count": 12,
   "id": "78ec5e86-4782-4142-b177-ae19a6be8928",
   "metadata": {},
   "outputs": [],
   "source": [
    "df['land_surface'] = df['land_surface'].replace(-1,0)"
   ]
  },
  {
   "cell_type": "code",
   "execution_count": 13,
   "id": "986c9df8-8931-4319-b7ab-dc41dd93be91",
   "metadata": {},
   "outputs": [
    {
     "data": {
      "text/plain": [
       "0         23206\n",
       "100         167\n",
       "200         157\n",
       "300         147\n",
       "160         145\n",
       "          ...  \n",
       "2761          1\n",
       "6832          1\n",
       "2006          1\n",
       "2507          1\n",
       "175000        1\n",
       "Name: land_surface, Length: 3518, dtype: int64"
      ]
     },
     "execution_count": 13,
     "metadata": {},
     "output_type": "execute_result"
    }
   ],
   "source": [
    "df['land_surface'].value_counts()"
   ]
  },
  {
   "cell_type": "markdown",
   "id": "eeec778e-12ae-480c-82c6-405490ec5315",
   "metadata": {
    "jp-MarkdownHeadingCollapsed": true,
    "tags": []
   },
   "source": [
    "### Garden"
   ]
  },
  {
   "cell_type": "code",
   "execution_count": 14,
   "id": "9feaada6-8b3f-480a-936f-0cf7f62d2561",
   "metadata": {},
   "outputs": [],
   "source": [
    "df['garden'] = df['garden'].replace(-1,0)"
   ]
  },
  {
   "cell_type": "code",
   "execution_count": 15,
   "id": "504a000c-41db-42f9-bfbb-6710d6c750b8",
   "metadata": {},
   "outputs": [
    {
     "data": {
      "text/plain": [
       "0    30840\n",
       "1    16165\n",
       "Name: garden, dtype: int64"
      ]
     },
     "execution_count": 15,
     "metadata": {},
     "output_type": "execute_result"
    }
   ],
   "source": [
    "df['garden'].value_counts()"
   ]
  },
  {
   "cell_type": "markdown",
   "id": "4d0d6c6d-4696-49cd-9f26-c5add6d825fb",
   "metadata": {
    "jp-MarkdownHeadingCollapsed": true,
    "tags": []
   },
   "source": [
    "### Garden surface"
   ]
  },
  {
   "cell_type": "code",
   "execution_count": 16,
   "id": "cb34919d-b56f-486c-8fba-16e583b5aaa1",
   "metadata": {},
   "outputs": [],
   "source": [
    "df['garden_surface'] = df['garden_surface'].replace(-1,0)\n",
    "df['garden_surface'] = df['garden_surface'].replace(1,0)"
   ]
  },
  {
   "cell_type": "code",
   "execution_count": 17,
   "id": "40d98773-dd91-44b3-94bf-699a393b4703",
   "metadata": {},
   "outputs": [
    {
     "data": {
      "text/plain": [
       "0       37111\n",
       "100       304\n",
       "200       270\n",
       "50        198\n",
       "300       196\n",
       "        ...  \n",
       "292         1\n",
       "1115        1\n",
       "568         1\n",
       "1043        1\n",
       "7200        1\n",
       "Name: garden_surface, Length: 1413, dtype: int64"
      ]
     },
     "execution_count": 17,
     "metadata": {},
     "output_type": "execute_result"
    }
   ],
   "source": [
    "df['garden_surface'].value_counts()"
   ]
  },
  {
   "cell_type": "markdown",
   "id": "a36b8eb6-215b-4fc6-aec2-b44c8bdc68a4",
   "metadata": {
    "jp-MarkdownHeadingCollapsed": true,
    "tags": []
   },
   "source": [
    "### Fully equiped kitchen"
   ]
  },
  {
   "cell_type": "code",
   "execution_count": 18,
   "id": "8852b657-4e0c-4a07-8d97-0336cd1af716",
   "metadata": {},
   "outputs": [],
   "source": [
    "df[\"fully_equipped_kitchen\"] = df[\"fully_equipped_kitchen\"].map({\"-1.0\": 0.25, \"1.0\": 1,\"-1\": 0.25, \"1\": 1, \"INSTALLED\": 0.5, \"SEMI_EQUIPPED\": 0.75, \"NOT_INSTALLED\": 0, \"USA_INSTALLED\": 0.5, \"USA_SEMI_EQUIPPED\": 0.75, \"USA_UNINSTALLED\": 0})"
   ]
  },
  {
   "cell_type": "code",
   "execution_count": 19,
   "id": "c1e85a0b-11b4-4ec4-a877-43619e3ffd0b",
   "metadata": {},
   "outputs": [
    {
     "data": {
      "text/plain": [
       "0.50    17109\n",
       "0.25    15316\n",
       "1.00     8351\n",
       "0.75     4372\n",
       "0.00     1857\n",
       "Name: fully_equipped_kitchen, dtype: int64"
      ]
     },
     "execution_count": 19,
     "metadata": {},
     "output_type": "execute_result"
    }
   ],
   "source": [
    "df[\"fully_equipped_kitchen\"].value_counts()"
   ]
  },
  {
   "cell_type": "markdown",
   "id": "58185812-8e59-41ec-a252-c1eb6c650a34",
   "metadata": {
    "jp-MarkdownHeadingCollapsed": true,
    "tags": []
   },
   "source": [
    "### Swiming pool"
   ]
  },
  {
   "cell_type": "code",
   "execution_count": 20,
   "id": "b86064d5-deca-4195-98ac-08b5ce6cefb9",
   "metadata": {},
   "outputs": [],
   "source": [
    "df['swimming_pool'] = df['swimming_pool'].replace(-1,0)"
   ]
  },
  {
   "cell_type": "code",
   "execution_count": 21,
   "id": "bb5cf8f1-42d5-4929-8e78-24c615160a35",
   "metadata": {},
   "outputs": [
    {
     "data": {
      "text/plain": [
       "0    45865\n",
       "1     1140\n",
       "Name: swimming_pool, dtype: int64"
      ]
     },
     "execution_count": 21,
     "metadata": {},
     "output_type": "execute_result"
    }
   ],
   "source": [
    "df['swimming_pool'].value_counts()"
   ]
  },
  {
   "cell_type": "markdown",
   "id": "f8f1e389-4ed5-46ca-81d0-3ddc8e58a39a",
   "metadata": {
    "jp-MarkdownHeadingCollapsed": true,
    "tags": []
   },
   "source": [
    "### Furnished"
   ]
  },
  {
   "cell_type": "code",
   "execution_count": 22,
   "id": "5934615e-fa8f-4091-a12b-cf8cecd3f0e1",
   "metadata": {},
   "outputs": [],
   "source": [
    "df['furnished'] = df['furnished'].replace(-1,0)"
   ]
  },
  {
   "cell_type": "code",
   "execution_count": 23,
   "id": "a16f2992-a977-41a6-8783-5aec08e2d6e1",
   "metadata": {},
   "outputs": [
    {
     "data": {
      "text/plain": [
       "0    45756\n",
       "1     1249\n",
       "Name: furnished, dtype: int64"
      ]
     },
     "execution_count": 23,
     "metadata": {},
     "output_type": "execute_result"
    }
   ],
   "source": [
    "df['furnished'].value_counts()"
   ]
  },
  {
   "cell_type": "markdown",
   "id": "2b2b57aa-d2db-470d-858d-315410eb116a",
   "metadata": {
    "jp-MarkdownHeadingCollapsed": true,
    "tags": []
   },
   "source": [
    "### Open fire"
   ]
  },
  {
   "cell_type": "code",
   "execution_count": 24,
   "id": "da2ab6c0-e078-4950-9d4c-6e703ce0bc1c",
   "metadata": {},
   "outputs": [],
   "source": [
    "df['open_fire'] = df['open_fire'].replace(-1,0)"
   ]
  },
  {
   "cell_type": "code",
   "execution_count": 25,
   "id": "0a0a622c-c1a7-4695-81e4-c208ca99c7ef",
   "metadata": {},
   "outputs": [
    {
     "data": {
      "text/plain": [
       "0    44779\n",
       "1     2226\n",
       "Name: open_fire, dtype: int64"
      ]
     },
     "execution_count": 25,
     "metadata": {},
     "output_type": "execute_result"
    }
   ],
   "source": [
    "df['open_fire'].value_counts()"
   ]
  },
  {
   "cell_type": "markdown",
   "id": "56cc21c9-87f2-4dfa-8376-9e50e39c5b57",
   "metadata": {
    "jp-MarkdownHeadingCollapsed": true,
    "tags": []
   },
   "source": [
    "### Terrace"
   ]
  },
  {
   "cell_type": "code",
   "execution_count": 26,
   "id": "362d9dbf-1e50-41c4-8b8b-19ea387ddd95",
   "metadata": {},
   "outputs": [],
   "source": [
    "df['terrace'] = df['terrace'].replace(-1,0)"
   ]
  },
  {
   "cell_type": "code",
   "execution_count": 27,
   "id": "30c2b6c9-efaf-4039-903d-699e7f290c96",
   "metadata": {},
   "outputs": [
    {
     "data": {
      "text/plain": [
       "1    30074\n",
       "0    16931\n",
       "Name: terrace, dtype: int64"
      ]
     },
     "execution_count": 27,
     "metadata": {},
     "output_type": "execute_result"
    }
   ],
   "source": [
    "df['terrace'].value_counts()"
   ]
  },
  {
   "cell_type": "markdown",
   "id": "59f6b318-800f-47d5-8d8f-98a549b33d3d",
   "metadata": {
    "jp-MarkdownHeadingCollapsed": true,
    "tags": []
   },
   "source": [
    "### Terrace surface"
   ]
  },
  {
   "cell_type": "markdown",
   "id": "a05e65cf-9af7-4680-85e9-1c8a8344c791",
   "metadata": {},
   "source": [
    "we have two terraces > 1000 m2 !"
   ]
  },
  {
   "cell_type": "code",
   "execution_count": 28,
   "id": "a4c8bde7-7dcd-4341-aa2c-ce8ef6969da4",
   "metadata": {},
   "outputs": [],
   "source": [
    "df = df.loc[df['terrace_surface'] < 500]"
   ]
  },
  {
   "cell_type": "code",
   "execution_count": 29,
   "id": "d5ec63e9-1f16-4255-bcfa-363f7bdfedf1",
   "metadata": {},
   "outputs": [],
   "source": [
    "df['terrace_surface'] = df['terrace_surface'].replace(-1,0)"
   ]
  },
  {
   "cell_type": "code",
   "execution_count": 30,
   "id": "618b24a2-82d7-400d-94d1-7419a747577e",
   "metadata": {},
   "outputs": [
    {
     "data": {
      "text/plain": [
       "0      27371\n",
       "20      1197\n",
       "10      1088\n",
       "15       948\n",
       "12       870\n",
       "       ...  \n",
       "137        1\n",
       "190        1\n",
       "210        1\n",
       "370        1\n",
       "290        1\n",
       "Name: terrace_surface, Length: 195, dtype: int64"
      ]
     },
     "execution_count": 30,
     "metadata": {},
     "output_type": "execute_result"
    }
   ],
   "source": [
    "df['terrace_surface'].value_counts()"
   ]
  },
  {
   "cell_type": "markdown",
   "id": "e7438c79-a7e5-4381-90dc-fe3407a3b0d1",
   "metadata": {
    "jp-MarkdownHeadingCollapsed": true,
    "tags": []
   },
   "source": [
    "### Facades"
   ]
  },
  {
   "cell_type": "code",
   "execution_count": 31,
   "id": "1b5dd0ea-376c-4bec-ad67-dc170dac9fa7",
   "metadata": {},
   "outputs": [],
   "source": [
    "df = df.loc[df[\"number_of_facades\"] < 9]"
   ]
  },
  {
   "cell_type": "code",
   "execution_count": 32,
   "id": "8c8ef143-e31a-47f7-b8f1-841e10a34805",
   "metadata": {},
   "outputs": [],
   "source": [
    "df[\"number_of_facades\"] = np.where((df[\"number_of_facades\"] == -1) & (df[\"type_of_property\"] == \"APARTMENT\"), 1, df[\"number_of_facades\"])\n",
    "df[\"number_of_facades\"] = np.where((df[\"number_of_facades\"] == -1) & (df[\"type_of_property\"] == \"HOUSE\"), 2, df[\"number_of_facades\"])"
   ]
  },
  {
   "cell_type": "code",
   "execution_count": 33,
   "id": "b95095e8-b4aa-4fb4-8b48-6387b57bb78f",
   "metadata": {},
   "outputs": [
    {
     "data": {
      "text/plain": [
       "2    20799\n",
       "4     9804\n",
       "3     8238\n",
       "1     8126\n",
       "6        6\n",
       "5        6\n",
       "8        4\n",
       "Name: number_of_facades, dtype: int64"
      ]
     },
     "execution_count": 33,
     "metadata": {},
     "output_type": "execute_result"
    }
   ],
   "source": [
    "df['number_of_facades'].value_counts()"
   ]
  },
  {
   "cell_type": "markdown",
   "id": "c75b4f65-c15f-4114-bcbb-a049071e5e12",
   "metadata": {
    "jp-MarkdownHeadingCollapsed": true,
    "tags": []
   },
   "source": [
    "### State of the building"
   ]
  },
  {
   "cell_type": "code",
   "execution_count": 34,
   "id": "b6b05400-c2e2-4e84-924c-6bc7710daad9",
   "metadata": {},
   "outputs": [],
   "source": [
    "df[\"state_of_the_building\"] = df[\"state_of_the_building\"].map({\"NO_INFO\": 0.25, \"TO_BE_DONE_UP\": 0.75, \"TO_RENOVATE\": 0.25, \"TO_RESTORE\": 0.25, \"JUST_RENOVATED\": 0.75, \"GOOD\": 0.5, \"AS_NEW\": 1.0})"
   ]
  },
  {
   "cell_type": "code",
   "execution_count": 35,
   "id": "d8219917-803c-4388-875d-79b14b4e0eae",
   "metadata": {},
   "outputs": [
    {
     "data": {
      "text/plain": [
       "0.25    16805\n",
       "0.50    12785\n",
       "1.00    11216\n",
       "0.75     6177\n",
       "Name: state_of_the_building, dtype: int64"
      ]
     },
     "execution_count": 35,
     "metadata": {},
     "output_type": "execute_result"
    }
   ],
   "source": [
    "df[\"state_of_the_building\"].value_counts()"
   ]
  },
  {
   "cell_type": "markdown",
   "id": "52d059fe-36c3-4462-b25c-a3844bba0688",
   "metadata": {
    "jp-MarkdownHeadingCollapsed": true,
    "tags": []
   },
   "source": [
    "### Type of property"
   ]
  },
  {
   "cell_type": "code",
   "execution_count": 36,
   "id": "1822b474-cfd7-49fe-92de-bff66addfb0a",
   "metadata": {},
   "outputs": [],
   "source": [
    "df['type_of_property'] = df['type_of_property'].map({'APARTMENT':1,'HOUSE':2})"
   ]
  },
  {
   "cell_type": "code",
   "execution_count": 37,
   "id": "db78b10b-e02a-4115-b91a-88be11ae1fd6",
   "metadata": {},
   "outputs": [
    {
     "data": {
      "text/plain": [
       "2    26138\n",
       "1    20845\n",
       "Name: type_of_property, dtype: int64"
      ]
     },
     "execution_count": 37,
     "metadata": {},
     "output_type": "execute_result"
    }
   ],
   "source": [
    "df['type_of_property'].value_counts()"
   ]
  },
  {
   "cell_type": "markdown",
   "id": "2d324a5c-2434-4b6c-807b-35820f42f40f",
   "metadata": {
    "tags": []
   },
   "source": [
    "### API list"
   ]
  },
  {
   "cell_type": "code",
   "execution_count": 38,
   "id": "515a3112-ef58-4dd0-b848-ed4eee69f2be",
   "metadata": {},
   "outputs": [],
   "source": [
    "api_list = ['price','surface','type_of_property','number_of_bedrooms','postal_code','land_surface','garden','garden_surface','fully_equipped_kitchen','swimming_pool','furnished','open_fire','terrace','terrace_surface','number_of_facades','state_of_the_building']"
   ]
  },
  {
   "cell_type": "code",
   "execution_count": 39,
   "id": "2ab88b51-1b6d-4d59-baae-71255050ee2f",
   "metadata": {},
   "outputs": [],
   "source": [
    "df = df[api_list]"
   ]
  },
  {
   "cell_type": "code",
   "execution_count": 40,
   "id": "8678e138-1ee4-4fba-802b-d8b7ff713a71",
   "metadata": {},
   "outputs": [],
   "source": [
    "claned_df = df.shape"
   ]
  },
  {
   "cell_type": "markdown",
   "id": "f5f280a8-3c0d-4e24-a4d0-37a0da369b6a",
   "metadata": {
    "tags": []
   },
   "source": [
    "## Check database"
   ]
  },
  {
   "cell_type": "code",
   "execution_count": 41,
   "id": "3dd7a92c-6256-43f5-853c-44a8b16f4fcc",
   "metadata": {},
   "outputs": [
    {
     "name": "stdout",
     "output_type": "stream",
     "text": [
      "initial_df (62430, 23) claned_df (46983, 16)\n"
     ]
    }
   ],
   "source": [
    "print(f'initial_df {initial_df} claned_df {claned_df}')"
   ]
  },
  {
   "cell_type": "code",
   "execution_count": 42,
   "id": "a4ff57bc-4a40-4d0d-8c59-e26baad01900",
   "metadata": {},
   "outputs": [
    {
     "data": {
      "text/html": [
       "<div>\n",
       "<style scoped>\n",
       "    .dataframe tbody tr th:only-of-type {\n",
       "        vertical-align: middle;\n",
       "    }\n",
       "\n",
       "    .dataframe tbody tr th {\n",
       "        vertical-align: top;\n",
       "    }\n",
       "\n",
       "    .dataframe thead th {\n",
       "        text-align: right;\n",
       "    }\n",
       "</style>\n",
       "<table border=\"1\" class=\"dataframe\">\n",
       "  <thead>\n",
       "    <tr style=\"text-align: right;\">\n",
       "      <th></th>\n",
       "      <th>price</th>\n",
       "      <th>surface</th>\n",
       "      <th>type_of_property</th>\n",
       "      <th>number_of_bedrooms</th>\n",
       "      <th>postal_code</th>\n",
       "      <th>land_surface</th>\n",
       "      <th>garden</th>\n",
       "      <th>garden_surface</th>\n",
       "      <th>fully_equipped_kitchen</th>\n",
       "      <th>swimming_pool</th>\n",
       "      <th>furnished</th>\n",
       "      <th>open_fire</th>\n",
       "      <th>terrace</th>\n",
       "      <th>terrace_surface</th>\n",
       "      <th>number_of_facades</th>\n",
       "      <th>state_of_the_building</th>\n",
       "    </tr>\n",
       "  </thead>\n",
       "  <tbody>\n",
       "    <tr>\n",
       "      <th>count</th>\n",
       "      <td>4.698300e+04</td>\n",
       "      <td>46983.000000</td>\n",
       "      <td>46983.000000</td>\n",
       "      <td>46983.000000</td>\n",
       "      <td>46983.000000</td>\n",
       "      <td>4.698300e+04</td>\n",
       "      <td>46983.000000</td>\n",
       "      <td>46983.000000</td>\n",
       "      <td>46983.000000</td>\n",
       "      <td>46983.000000</td>\n",
       "      <td>46983.000000</td>\n",
       "      <td>46983.000000</td>\n",
       "      <td>46983.000000</td>\n",
       "      <td>46983.000000</td>\n",
       "      <td>46983.000000</td>\n",
       "      <td>46983.000000</td>\n",
       "    </tr>\n",
       "    <tr>\n",
       "      <th>mean</th>\n",
       "      <td>4.118668e+05</td>\n",
       "      <td>168.096907</td>\n",
       "      <td>1.556329</td>\n",
       "      <td>2.897878</td>\n",
       "      <td>4989.489773</td>\n",
       "      <td>8.551362e+02</td>\n",
       "      <td>0.343805</td>\n",
       "      <td>185.388013</td>\n",
       "      <td>0.510887</td>\n",
       "      <td>0.024222</td>\n",
       "      <td>0.026584</td>\n",
       "      <td>0.047336</td>\n",
       "      <td>0.639678</td>\n",
       "      <td>10.437158</td>\n",
       "      <td>2.421131</td>\n",
       "      <td>0.562810</td>\n",
       "    </tr>\n",
       "    <tr>\n",
       "      <th>std</th>\n",
       "      <td>4.325989e+05</td>\n",
       "      <td>220.547766</td>\n",
       "      <td>0.496822</td>\n",
       "      <td>9.474797</td>\n",
       "      <td>3045.797793</td>\n",
       "      <td>9.203217e+03</td>\n",
       "      <td>0.474982</td>\n",
       "      <td>2441.990116</td>\n",
       "      <td>0.283467</td>\n",
       "      <td>0.153738</td>\n",
       "      <td>0.160866</td>\n",
       "      <td>0.212359</td>\n",
       "      <td>0.480099</td>\n",
       "      <td>22.146879</td>\n",
       "      <td>1.005937</td>\n",
       "      <td>0.293786</td>\n",
       "    </tr>\n",
       "    <tr>\n",
       "      <th>min</th>\n",
       "      <td>2.500000e+03</td>\n",
       "      <td>1.000000</td>\n",
       "      <td>1.000000</td>\n",
       "      <td>0.000000</td>\n",
       "      <td>1000.000000</td>\n",
       "      <td>0.000000e+00</td>\n",
       "      <td>0.000000</td>\n",
       "      <td>0.000000</td>\n",
       "      <td>0.000000</td>\n",
       "      <td>0.000000</td>\n",
       "      <td>0.000000</td>\n",
       "      <td>0.000000</td>\n",
       "      <td>0.000000</td>\n",
       "      <td>0.000000</td>\n",
       "      <td>1.000000</td>\n",
       "      <td>0.250000</td>\n",
       "    </tr>\n",
       "    <tr>\n",
       "      <th>25%</th>\n",
       "      <td>2.250000e+05</td>\n",
       "      <td>94.000000</td>\n",
       "      <td>1.000000</td>\n",
       "      <td>2.000000</td>\n",
       "      <td>2140.000000</td>\n",
       "      <td>0.000000e+00</td>\n",
       "      <td>0.000000</td>\n",
       "      <td>0.000000</td>\n",
       "      <td>0.250000</td>\n",
       "      <td>0.000000</td>\n",
       "      <td>0.000000</td>\n",
       "      <td>0.000000</td>\n",
       "      <td>0.000000</td>\n",
       "      <td>0.000000</td>\n",
       "      <td>2.000000</td>\n",
       "      <td>0.250000</td>\n",
       "    </tr>\n",
       "    <tr>\n",
       "      <th>50%</th>\n",
       "      <td>3.000000e+05</td>\n",
       "      <td>135.000000</td>\n",
       "      <td>2.000000</td>\n",
       "      <td>3.000000</td>\n",
       "      <td>4250.000000</td>\n",
       "      <td>5.000000e+01</td>\n",
       "      <td>0.000000</td>\n",
       "      <td>0.000000</td>\n",
       "      <td>0.500000</td>\n",
       "      <td>0.000000</td>\n",
       "      <td>0.000000</td>\n",
       "      <td>0.000000</td>\n",
       "      <td>1.000000</td>\n",
       "      <td>0.000000</td>\n",
       "      <td>2.000000</td>\n",
       "      <td>0.500000</td>\n",
       "    </tr>\n",
       "    <tr>\n",
       "      <th>75%</th>\n",
       "      <td>4.450000e+05</td>\n",
       "      <td>194.000000</td>\n",
       "      <td>2.000000</td>\n",
       "      <td>3.000000</td>\n",
       "      <td>8370.000000</td>\n",
       "      <td>4.710000e+02</td>\n",
       "      <td>1.000000</td>\n",
       "      <td>0.000000</td>\n",
       "      <td>0.750000</td>\n",
       "      <td>0.000000</td>\n",
       "      <td>0.000000</td>\n",
       "      <td>0.000000</td>\n",
       "      <td>1.000000</td>\n",
       "      <td>14.000000</td>\n",
       "      <td>3.000000</td>\n",
       "      <td>0.750000</td>\n",
       "    </tr>\n",
       "    <tr>\n",
       "      <th>max</th>\n",
       "      <td>1.500000e+07</td>\n",
       "      <td>22617.000000</td>\n",
       "      <td>2.000000</td>\n",
       "      <td>2020.000000</td>\n",
       "      <td>9992.000000</td>\n",
       "      <td>1.100000e+06</td>\n",
       "      <td>1.000000</td>\n",
       "      <td>150000.000000</td>\n",
       "      <td>1.000000</td>\n",
       "      <td>1.000000</td>\n",
       "      <td>1.000000</td>\n",
       "      <td>1.000000</td>\n",
       "      <td>1.000000</td>\n",
       "      <td>420.000000</td>\n",
       "      <td>8.000000</td>\n",
       "      <td>1.000000</td>\n",
       "    </tr>\n",
       "  </tbody>\n",
       "</table>\n",
       "</div>"
      ],
      "text/plain": [
       "              price       surface  type_of_property  number_of_bedrooms  \\\n",
       "count  4.698300e+04  46983.000000      46983.000000        46983.000000   \n",
       "mean   4.118668e+05    168.096907          1.556329            2.897878   \n",
       "std    4.325989e+05    220.547766          0.496822            9.474797   \n",
       "min    2.500000e+03      1.000000          1.000000            0.000000   \n",
       "25%    2.250000e+05     94.000000          1.000000            2.000000   \n",
       "50%    3.000000e+05    135.000000          2.000000            3.000000   \n",
       "75%    4.450000e+05    194.000000          2.000000            3.000000   \n",
       "max    1.500000e+07  22617.000000          2.000000         2020.000000   \n",
       "\n",
       "        postal_code  land_surface        garden  garden_surface  \\\n",
       "count  46983.000000  4.698300e+04  46983.000000    46983.000000   \n",
       "mean    4989.489773  8.551362e+02      0.343805      185.388013   \n",
       "std     3045.797793  9.203217e+03      0.474982     2441.990116   \n",
       "min     1000.000000  0.000000e+00      0.000000        0.000000   \n",
       "25%     2140.000000  0.000000e+00      0.000000        0.000000   \n",
       "50%     4250.000000  5.000000e+01      0.000000        0.000000   \n",
       "75%     8370.000000  4.710000e+02      1.000000        0.000000   \n",
       "max     9992.000000  1.100000e+06      1.000000   150000.000000   \n",
       "\n",
       "       fully_equipped_kitchen  swimming_pool     furnished     open_fire  \\\n",
       "count            46983.000000   46983.000000  46983.000000  46983.000000   \n",
       "mean                 0.510887       0.024222      0.026584      0.047336   \n",
       "std                  0.283467       0.153738      0.160866      0.212359   \n",
       "min                  0.000000       0.000000      0.000000      0.000000   \n",
       "25%                  0.250000       0.000000      0.000000      0.000000   \n",
       "50%                  0.500000       0.000000      0.000000      0.000000   \n",
       "75%                  0.750000       0.000000      0.000000      0.000000   \n",
       "max                  1.000000       1.000000      1.000000      1.000000   \n",
       "\n",
       "            terrace  terrace_surface  number_of_facades  state_of_the_building  \n",
       "count  46983.000000     46983.000000       46983.000000           46983.000000  \n",
       "mean       0.639678        10.437158           2.421131               0.562810  \n",
       "std        0.480099        22.146879           1.005937               0.293786  \n",
       "min        0.000000         0.000000           1.000000               0.250000  \n",
       "25%        0.000000         0.000000           2.000000               0.250000  \n",
       "50%        1.000000         0.000000           2.000000               0.500000  \n",
       "75%        1.000000        14.000000           3.000000               0.750000  \n",
       "max        1.000000       420.000000           8.000000               1.000000  "
      ]
     },
     "execution_count": 42,
     "metadata": {},
     "output_type": "execute_result"
    }
   ],
   "source": [
    "df.describe()"
   ]
  },
  {
   "cell_type": "code",
   "execution_count": 43,
   "id": "1fa37f13-6915-49ea-8256-c5ea015e0d28",
   "metadata": {
    "tags": []
   },
   "outputs": [
    {
     "name": "stdout",
     "output_type": "stream",
     "text": [
      "price\n",
      "299000    762\n",
      "249000    672\n",
      "295000    666\n",
      "199000    623\n",
      "275000    599\n",
      "395000    558\n",
      "399000    502\n",
      "225000    498\n",
      "349000    495\n",
      "325000    490\n",
      "Name: price, dtype: int64\n",
      "\n",
      "\n",
      "surface\n",
      "100    890\n",
      "150    884\n",
      "90     835\n",
      "120    804\n",
      "110    717\n",
      "140    694\n",
      "80     679\n",
      "160    670\n",
      "200    665\n",
      "130    649\n",
      "Name: surface, dtype: int64\n",
      "\n",
      "\n",
      "type_of_property\n",
      "2    26138\n",
      "1    20845\n",
      "Name: type_of_property, dtype: int64\n",
      "\n",
      "\n",
      "number_of_bedrooms\n",
      "3    15271\n",
      "2    14722\n",
      "4     6939\n",
      "1     4873\n",
      "5     2662\n",
      "6     1029\n",
      "0      754\n",
      "7      323\n",
      "8      168\n",
      "9       89\n",
      "Name: number_of_bedrooms, dtype: int64\n",
      "\n",
      "\n",
      "postal_code\n",
      "1180    749\n",
      "8300    706\n",
      "1000    693\n",
      "9000    686\n",
      "8400    583\n",
      "1050    569\n",
      "8370    517\n",
      "2000    493\n",
      "1070    420\n",
      "1030    419\n",
      "Name: postal_code, dtype: int64\n",
      "\n",
      "\n",
      "land_surface\n",
      "0      23198\n",
      "100      167\n",
      "200      157\n",
      "300      147\n",
      "160      145\n",
      "250      140\n",
      "150      140\n",
      "120      135\n",
      "170      131\n",
      "180      129\n",
      "Name: land_surface, dtype: int64\n",
      "\n",
      "\n",
      "garden\n",
      "0    30830\n",
      "1    16153\n",
      "Name: garden, dtype: int64\n",
      "\n",
      "\n",
      "garden_surface\n",
      "0      37101\n",
      "100      304\n",
      "200      270\n",
      "50       198\n",
      "300      196\n",
      "500      190\n",
      "150      173\n",
      "400      169\n",
      "40       164\n",
      "60       164\n",
      "Name: garden_surface, dtype: int64\n",
      "\n",
      "\n",
      "fully_equipped_kitchen\n",
      "0.50    17100\n",
      "0.25    15308\n",
      "1.00     8347\n",
      "0.75     4372\n",
      "0.00     1856\n",
      "Name: fully_equipped_kitchen, dtype: int64\n",
      "\n",
      "\n",
      "swimming_pool\n",
      "0    45845\n",
      "1     1138\n",
      "Name: swimming_pool, dtype: int64\n",
      "\n",
      "\n",
      "furnished\n",
      "0    45734\n",
      "1     1249\n",
      "Name: furnished, dtype: int64\n",
      "\n",
      "\n",
      "open_fire\n",
      "0    44759\n",
      "1     2224\n",
      "Name: open_fire, dtype: int64\n",
      "\n",
      "\n",
      "terrace\n",
      "1    30054\n",
      "0    16929\n",
      "Name: terrace, dtype: int64\n",
      "\n",
      "\n",
      "terrace_surface\n",
      "0     27369\n",
      "20     1197\n",
      "10     1088\n",
      "15      948\n",
      "12      870\n",
      "6       813\n",
      "30      792\n",
      "8       780\n",
      "25      688\n",
      "7       596\n",
      "Name: terrace_surface, dtype: int64\n",
      "\n",
      "\n",
      "number_of_facades\n",
      "2    20799\n",
      "4     9804\n",
      "3     8238\n",
      "1     8126\n",
      "6        6\n",
      "5        6\n",
      "8        4\n",
      "Name: number_of_facades, dtype: int64\n",
      "\n",
      "\n",
      "state_of_the_building\n",
      "0.25    16805\n",
      "0.50    12785\n",
      "1.00    11216\n",
      "0.75     6177\n",
      "Name: state_of_the_building, dtype: int64\n",
      "\n",
      "\n"
     ]
    }
   ],
   "source": [
    "for index,atribute in enumerate(df.columns.to_list()):\n",
    "    print(atribute)\n",
    "    print(df[df.columns.to_list()[index]].value_counts().head(10))\n",
    "    print('\\n')"
   ]
  },
  {
   "cell_type": "code",
   "execution_count": 44,
   "id": "9bfc2cba-fd4d-4b86-813a-a837242ded69",
   "metadata": {},
   "outputs": [],
   "source": [
    "df.to_csv(\"regresion_data.csv\",index=False)"
   ]
  },
  {
   "cell_type": "markdown",
   "id": "7dfa2f47-43f8-4bde-aae8-c2cff6e3d161",
   "metadata": {},
   "source": [
    "# Zipcode"
   ]
  },
  {
   "cell_type": "code",
   "execution_count": 45,
   "id": "f4b6a79e-e0e4-4efc-8d32-6c64ba476603",
   "metadata": {
    "tags": []
   },
   "outputs": [
    {
     "data": {
      "text/plain": [
       "1180    749\n",
       "8300    706\n",
       "1000    693\n",
       "9000    686\n",
       "8400    583\n",
       "       ... \n",
       "5564      1\n",
       "8956      1\n",
       "8957      1\n",
       "8950      1\n",
       "6922      1\n",
       "Name: postal_code, Length: 1048, dtype: int64"
      ]
     },
     "execution_count": 45,
     "metadata": {},
     "output_type": "execute_result"
    }
   ],
   "source": [
    "df['postal_code'].value_counts()"
   ]
  },
  {
   "cell_type": "code",
   "execution_count": 46,
   "id": "11caa8e1-bd1f-4a39-8660-972af508ea7e",
   "metadata": {
    "tags": []
   },
   "outputs": [],
   "source": [
    "zip_counts = dict()\n",
    "for counts in df['postal_code']:\n",
    "    #print (str(counts)[:2])\n",
    "    #break\n",
    "    zip_counts[str(counts)[:2]] = zip_counts.get(str(counts)[:2],0)+1"
   ]
  },
  {
   "cell_type": "code",
   "execution_count": 47,
   "id": "46f0f33a-ab8c-40b9-b518-6fc2a995cef4",
   "metadata": {},
   "outputs": [
    {
     "data": {
      "text/plain": [
       "80"
      ]
     },
     "execution_count": 47,
     "metadata": {},
     "output_type": "execute_result"
    }
   ],
   "source": [
    "len(zip_counts)"
   ]
  },
  {
   "cell_type": "code",
   "execution_count": 48,
   "id": "6da63643-36d7-434a-b9af-7f4badafa6f8",
   "metadata": {
    "tags": []
   },
   "outputs": [
    {
     "data": {
      "text/plain": [
       "{'53': 265,\n",
       " '55': 402,\n",
       " '50': 543,\n",
       " '51': 239,\n",
       " '56': 302,\n",
       " '69': 312,\n",
       " '66': 170,\n",
       " '67': 407,\n",
       " '68': 270,\n",
       " '10': 3494,\n",
       " '11': 1661,\n",
       " '12': 360,\n",
       " '71': 551,\n",
       " '61': 347,\n",
       " '70': 669,\n",
       " '60': 843,\n",
       " '65': 160,\n",
       " '77': 500,\n",
       " '73': 512,\n",
       " '62': 511,\n",
       " '78': 348,\n",
       " '76': 111,\n",
       " '79': 131,\n",
       " '75': 287,\n",
       " '64': 53,\n",
       " '45': 321,\n",
       " '41': 457,\n",
       " '40': 1074,\n",
       " '44': 411,\n",
       " '46': 374,\n",
       " '47': 88,\n",
       " '49': 237,\n",
       " '48': 442,\n",
       " '42': 162,\n",
       " '43': 171,\n",
       " '13': 947,\n",
       " '14': 1153,\n",
       " '21': 999,\n",
       " '28': 1009,\n",
       " '22': 628,\n",
       " '26': 961,\n",
       " '24': 553,\n",
       " '25': 702,\n",
       " '29': 899,\n",
       " '23': 707,\n",
       " '20': 1336,\n",
       " '85': 994,\n",
       " '84': 1275,\n",
       " '88': 709,\n",
       " '83': 1628,\n",
       " '86': 872,\n",
       " '87': 665,\n",
       " '89': 412,\n",
       " '80': 337,\n",
       " '82': 187,\n",
       " '39': 447,\n",
       " '35': 820,\n",
       " '37': 286,\n",
       " '38': 381,\n",
       " '36': 423,\n",
       " '16': 490,\n",
       " '34': 163,\n",
       " '31': 232,\n",
       " '33': 301,\n",
       " '30': 721,\n",
       " '17': 744,\n",
       " '15': 320,\n",
       " '19': 321,\n",
       " '18': 541,\n",
       " '32': 321,\n",
       " '98': 625,\n",
       " '95': 403,\n",
       " '93': 570,\n",
       " '91': 935,\n",
       " '90': 1272,\n",
       " '99': 522,\n",
       " '97': 244,\n",
       " '96': 545,\n",
       " '92': 795,\n",
       " '94': 403}"
      ]
     },
     "execution_count": 48,
     "metadata": {},
     "output_type": "execute_result"
    }
   ],
   "source": [
    "zip_counts"
   ]
  },
  {
   "cell_type": "code",
   "execution_count": 49,
   "id": "3cf69f22-4a8e-4d8b-b3dc-a833fb60e08c",
   "metadata": {
    "tags": []
   },
   "outputs": [],
   "source": [
    "zip_cleaned = []\n",
    "for zipcode,count in zip_counts.items():\n",
    "    if count > 3:\n",
    "        zip_cleaned.append(zipcode)"
   ]
  },
  {
   "cell_type": "code",
   "execution_count": 50,
   "id": "ad876ab0-39ae-48e8-abe9-efc637c07e7c",
   "metadata": {
    "tags": []
   },
   "outputs": [
    {
     "data": {
      "text/plain": [
       "80"
      ]
     },
     "execution_count": 50,
     "metadata": {},
     "output_type": "execute_result"
    }
   ],
   "source": [
    "len(zip_cleaned)"
   ]
  },
  {
   "cell_type": "code",
   "execution_count": 51,
   "id": "da5664ab-6e0e-4db0-8fb6-5ab950959366",
   "metadata": {
    "tags": []
   },
   "outputs": [
    {
     "data": {
      "text/plain": [
       "['53',\n",
       " '55',\n",
       " '50',\n",
       " '51',\n",
       " '56',\n",
       " '69',\n",
       " '66',\n",
       " '67',\n",
       " '68',\n",
       " '10',\n",
       " '11',\n",
       " '12',\n",
       " '71',\n",
       " '61',\n",
       " '70',\n",
       " '60',\n",
       " '65',\n",
       " '77',\n",
       " '73',\n",
       " '62',\n",
       " '78',\n",
       " '76',\n",
       " '79',\n",
       " '75',\n",
       " '64',\n",
       " '45',\n",
       " '41',\n",
       " '40',\n",
       " '44',\n",
       " '46',\n",
       " '47',\n",
       " '49',\n",
       " '48',\n",
       " '42',\n",
       " '43',\n",
       " '13',\n",
       " '14',\n",
       " '21',\n",
       " '28',\n",
       " '22',\n",
       " '26',\n",
       " '24',\n",
       " '25',\n",
       " '29',\n",
       " '23',\n",
       " '20',\n",
       " '85',\n",
       " '84',\n",
       " '88',\n",
       " '83',\n",
       " '86',\n",
       " '87',\n",
       " '89',\n",
       " '80',\n",
       " '82',\n",
       " '39',\n",
       " '35',\n",
       " '37',\n",
       " '38',\n",
       " '36',\n",
       " '16',\n",
       " '34',\n",
       " '31',\n",
       " '33',\n",
       " '30',\n",
       " '17',\n",
       " '15',\n",
       " '19',\n",
       " '18',\n",
       " '32',\n",
       " '98',\n",
       " '95',\n",
       " '93',\n",
       " '91',\n",
       " '90',\n",
       " '99',\n",
       " '97',\n",
       " '96',\n",
       " '92',\n",
       " '94']"
      ]
     },
     "execution_count": 51,
     "metadata": {},
     "output_type": "execute_result"
    }
   ],
   "source": [
    "zip_cleaned"
   ]
  },
  {
   "cell_type": "code",
   "execution_count": null,
   "id": "2b5293f9-ca91-41bb-b199-8735dd1a7294",
   "metadata": {},
   "outputs": [],
   "source": []
  }
 ],
 "metadata": {
  "kernelspec": {
   "display_name": "Python 3 (ipykernel)",
   "language": "python",
   "name": "python3"
  },
  "language_info": {
   "codemirror_mode": {
    "name": "ipython",
    "version": 3
   },
   "file_extension": ".py",
   "mimetype": "text/x-python",
   "name": "python",
   "nbconvert_exporter": "python",
   "pygments_lexer": "ipython3",
   "version": "3.10.6"
  }
 },
 "nbformat": 4,
 "nbformat_minor": 5
}
