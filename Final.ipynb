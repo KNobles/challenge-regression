{
 "cells": [
  {
   "cell_type": "code",
   "execution_count": 1,
   "id": "b8c56074-7861-40d5-946b-8cac019ecaae",
   "metadata": {},
   "outputs": [],
   "source": [
    "import pandas as pd\n",
    "import numpy as np\n",
    "import seaborn as sns\n",
    "from sklearn.linear_model import LinearRegression\n",
    "from sklearn.model_selection import train_test_split\n",
    "from sklearn.preprocessing import LabelEncoder,OneHotEncoder\n",
    "from sklearn.compose import make_column_transformer\n",
    "from matplotlib import pyplot as plt\n",
    "from scipy.stats import zscore"
   ]
  },
  {
   "cell_type": "code",
   "execution_count": 2,
   "id": "ac0575ac-4560-4431-992b-702d9ffd31da",
   "metadata": {},
   "outputs": [],
   "source": [
    "df = pd.read_csv('Property_structured_data.csv')"
   ]
  },
  {
   "cell_type": "code",
   "execution_count": 3,
   "id": "ca8e6c14-27c2-4b0f-ba19-0f2ba06f5313",
   "metadata": {},
   "outputs": [],
   "source": [
    "initial_df = df.shape"
   ]
  },
  {
   "cell_type": "code",
   "execution_count": 4,
   "id": "0f2e5f07-c6ae-495d-b979-41cdd4815a3e",
   "metadata": {
    "tags": []
   },
   "outputs": [],
   "source": [
    "initial_df_columns = df.columns.to_list()"
   ]
  },
  {
   "cell_type": "markdown",
   "id": "b3e5515c-f057-42bd-b599-58b0fffb0dce",
   "metadata": {
    "tags": []
   },
   "source": [
    "## Clean Database"
   ]
  },
  {
   "cell_type": "markdown",
   "id": "16e306a6-5475-4946-be7a-5829f875e69e",
   "metadata": {
    "jp-MarkdownHeadingCollapsed": true,
    "tags": []
   },
   "source": [
    "### Price (float)"
   ]
  },
  {
   "cell_type": "code",
   "execution_count": 5,
   "id": "4f0ba7e6-92ee-42b9-a4cd-0697f2bb75e1",
   "metadata": {},
   "outputs": [],
   "source": [
    "df.loc[df[\"price\"] >= 800000, \"type_of_property\"] = \"OTHER\""
   ]
  },
  {
   "cell_type": "code",
   "execution_count": 6,
   "id": "2b0dfb30-afda-4d4e-ac4f-4bc8247ea71a",
   "metadata": {
    "tags": []
   },
   "outputs": [
    {
     "data": {
      "text/plain": [
       "(59429, 23)"
      ]
     },
     "execution_count": 6,
     "metadata": {},
     "output_type": "execute_result"
    }
   ],
   "source": [
    "df= df.loc[df['price'] != -1]\n",
    "df.shape"
   ]
  },
  {
   "cell_type": "markdown",
   "id": "9f927464-faad-4588-b406-56e631973524",
   "metadata": {
    "jp-MarkdownHeadingCollapsed": true,
    "tags": []
   },
   "source": [
    "### Surface (float)"
   ]
  },
  {
   "cell_type": "code",
   "execution_count": 7,
   "id": "a9ef092c-5d1b-410d-8973-9edd67493d33",
   "metadata": {
    "tags": []
   },
   "outputs": [
    {
     "data": {
      "text/plain": [
       "(49412, 23)"
      ]
     },
     "execution_count": 7,
     "metadata": {},
     "output_type": "execute_result"
    }
   ],
   "source": [
    "df = df.loc[df['surface'] != -1]\n",
    "df.shape"
   ]
  },
  {
   "cell_type": "markdown",
   "id": "b6df2fd2-e04c-44e7-9349-5ea9a327cab5",
   "metadata": {
    "jp-MarkdownHeadingCollapsed": true,
    "tags": []
   },
   "source": [
    "### Sub Type of property (filter and drop)"
   ]
  },
  {
   "cell_type": "code",
   "execution_count": 8,
   "id": "089ff62b-7009-4129-ba43-d19c9be1d983",
   "metadata": {
    "tags": []
   },
   "outputs": [
    {
     "data": {
      "text/plain": [
       "HOUSE                   20679\n",
       "APARTMENT               15864\n",
       "VILLA                    2954\n",
       "APARTMENT_BLOCK          1414\n",
       "DUPLEX                   1247\n",
       "GROUND_FLOOR             1146\n",
       "PENTHOUSE                1009\n",
       "MIXED_USE_BUILDING        993\n",
       "FLAT_STUDIO               693\n",
       "EXCEPTIONAL_PROPERTY      636\n",
       "MANSION                   494\n",
       "SERVICE_FLAT              483\n",
       "TOWN_HOUSE                376\n",
       "COUNTRY_COTTAGE           301\n",
       "BUNGALOW                  243\n",
       "LOFT                      231\n",
       "FARMHOUSE                 155\n",
       "TRIPLEX                   119\n",
       "CHALET                    107\n",
       "MANOR_HOUSE                76\n",
       "OTHER_PROPERTY             72\n",
       "CASTLE                     61\n",
       "KOT                        58\n",
       "PAVILION                    1\n",
       "Name: subtype_of_property, dtype: int64"
      ]
     },
     "execution_count": 8,
     "metadata": {},
     "output_type": "execute_result"
    }
   ],
   "source": [
    "df['subtype_of_property'].value_counts()"
   ]
  },
  {
   "cell_type": "code",
   "execution_count": 9,
   "id": "4f9b5f63-bfbf-4308-955a-aafa9d7dd462",
   "metadata": {},
   "outputs": [
    {
     "data": {
      "text/plain": [
       "(47998, 23)"
      ]
     },
     "execution_count": 9,
     "metadata": {},
     "output_type": "execute_result"
    }
   ],
   "source": [
    "df= df.loc[df['subtype_of_property'] != 'APARTMENT_BLOCK']\n",
    "df.shape"
   ]
  },
  {
   "cell_type": "code",
   "execution_count": 10,
   "id": "474d1b65-e002-4ec8-99f0-aeb655ec497f",
   "metadata": {},
   "outputs": [
    {
     "data": {
      "text/plain": [
       "(47005, 23)"
      ]
     },
     "execution_count": 10,
     "metadata": {},
     "output_type": "execute_result"
    }
   ],
   "source": [
    "df= df.loc[df['subtype_of_property'] != 'MIXED_USE_BUILDING']\n",
    "df.shape"
   ]
  },
  {
   "cell_type": "markdown",
   "id": "52077eff-569f-4d10-98fd-7a99797a9af7",
   "metadata": {
    "jp-MarkdownHeadingCollapsed": true,
    "tags": []
   },
   "source": [
    "### Number of bedrooms (int)"
   ]
  },
  {
   "cell_type": "code",
   "execution_count": 11,
   "id": "67d8b3e6-a37d-44d1-b2f4-0105e53d7999",
   "metadata": {},
   "outputs": [],
   "source": [
    "df = df.loc[df['number_of_bedrooms'] <200]"
   ]
  },
  {
   "cell_type": "code",
   "execution_count": 12,
   "id": "3876a2c4-8436-4806-aa18-f2d800a2ca84",
   "metadata": {},
   "outputs": [],
   "source": [
    "df['number_of_bedrooms'] = df['number_of_bedrooms'].replace(-1,0)"
   ]
  },
  {
   "cell_type": "code",
   "execution_count": 13,
   "id": "2f3a1dce-6405-4ef6-a1a1-3a688a3a0636",
   "metadata": {
    "tags": []
   },
   "outputs": [
    {
     "data": {
      "text/plain": [
       "3     15278\n",
       "2     14724\n",
       "4      6945\n",
       "1      4875\n",
       "5      2662\n",
       "6      1032\n",
       "0       755\n",
       "7       323\n",
       "8       168\n",
       "9        89\n",
       "10       52\n",
       "11       21\n",
       "12       21\n",
       "14       13\n",
       "13        7\n",
       "16        5\n",
       "15        5\n",
       "20        4\n",
       "17        4\n",
       "18        3\n",
       "25        3\n",
       "19        2\n",
       "28        2\n",
       "22        2\n",
       "23        1\n",
       "26        1\n",
       "66        1\n",
       "70        1\n",
       "24        1\n",
       "45        1\n",
       "30        1\n",
       "31        1\n",
       "Name: number_of_bedrooms, dtype: int64"
      ]
     },
     "execution_count": 13,
     "metadata": {},
     "output_type": "execute_result"
    }
   ],
   "source": [
    "df['number_of_bedrooms'].value_counts()"
   ]
  },
  {
   "cell_type": "markdown",
   "id": "3ce9ff47-b1f6-4dea-92d0-9171ddbf8685",
   "metadata": {
    "jp-MarkdownHeadingCollapsed": true,
    "tags": []
   },
   "source": [
    "### Zip Code (category)"
   ]
  },
  {
   "cell_type": "markdown",
   "id": "e970f9b3-90bd-4958-8861-91aaa30f0a66",
   "metadata": {
    "jp-MarkdownHeadingCollapsed": true,
    "tags": []
   },
   "source": [
    "#### XX"
   ]
  },
  {
   "cell_type": "code",
   "execution_count": 14,
   "id": "aec18d35-5d6e-4724-9ca5-8f363b6fecdc",
   "metadata": {},
   "outputs": [],
   "source": [
    "df['zip_code_xx'] = df['postal_code'].apply(lambda x : 'be_zip_'+str(x)[:2])"
   ]
  },
  {
   "cell_type": "code",
   "execution_count": 15,
   "id": "50ee0332-112b-4f70-b9f5-4f3aa7ab32af",
   "metadata": {
    "tags": []
   },
   "outputs": [
    {
     "data": {
      "text/plain": [
       "be_zip_10    3496\n",
       "be_zip_11    1661\n",
       "be_zip_83    1628\n",
       "be_zip_20    1336\n",
       "be_zip_84    1275\n",
       "             ... \n",
       "be_zip_65     161\n",
       "be_zip_79     131\n",
       "be_zip_76     111\n",
       "be_zip_47      88\n",
       "be_zip_64      53\n",
       "Name: zip_code_xx, Length: 80, dtype: int64"
      ]
     },
     "execution_count": 15,
     "metadata": {},
     "output_type": "execute_result"
    }
   ],
   "source": [
    "df['zip_code_xx'].value_counts()"
   ]
  },
  {
   "cell_type": "markdown",
   "id": "3dd762b2-1475-4016-8496-d87b0d39d6b0",
   "metadata": {
    "jp-MarkdownHeadingCollapsed": true,
    "tags": []
   },
   "source": [
    "#### X"
   ]
  },
  {
   "cell_type": "code",
   "execution_count": 16,
   "id": "fa21648c-72ff-4ef4-a035-9ec24cdfc714",
   "metadata": {},
   "outputs": [],
   "source": [
    "df['zip_code_x'] = df['postal_code'].apply(lambda x : 'be_zip_'+str(x)[:1])"
   ]
  },
  {
   "cell_type": "code",
   "execution_count": 17,
   "id": "20bdca9e-b22d-498b-aad6-491ebd504c15",
   "metadata": {},
   "outputs": [
    {
     "data": {
      "text/plain": [
       "be_zip_1    10036\n",
       "be_zip_2     7795\n",
       "be_zip_8     7080\n",
       "be_zip_9     6314\n",
       "be_zip_3     4096\n",
       "be_zip_4     3742\n",
       "be_zip_7     3111\n",
       "be_zip_6     3077\n",
       "be_zip_5     1752\n",
       "Name: zip_code_x, dtype: int64"
      ]
     },
     "execution_count": 17,
     "metadata": {},
     "output_type": "execute_result"
    }
   ],
   "source": [
    "df['zip_code_x'].value_counts()"
   ]
  },
  {
   "cell_type": "markdown",
   "id": "97b291a7-1212-4240-96db-2ce2720ae9c7",
   "metadata": {
    "jp-MarkdownHeadingCollapsed": true,
    "tags": []
   },
   "source": [
    "### Land surface (float)"
   ]
  },
  {
   "cell_type": "code",
   "execution_count": 18,
   "id": "518beb04-e6f0-44f1-9efc-f3515e049923",
   "metadata": {},
   "outputs": [],
   "source": [
    "#df.loc[(df['land_surface'] == -1) & (df['garden_surface'] > 0 )]"
   ]
  },
  {
   "cell_type": "code",
   "execution_count": 19,
   "id": "04572d4c-0a3d-43db-98b7-9e26c2cc140e",
   "metadata": {},
   "outputs": [],
   "source": [
    "df['land_surface'] = [land_surface if land_surface != -1 else garden_surface if garden_surface > 0 else land_surface for garden_surface,land_surface in zip(df['garden_surface'],df['land_surface'])]"
   ]
  },
  {
   "cell_type": "code",
   "execution_count": 20,
   "id": "78ec5e86-4782-4142-b177-ae19a6be8928",
   "metadata": {},
   "outputs": [],
   "source": [
    "df['land_surface'] = df['land_surface'].replace(-1,0)"
   ]
  },
  {
   "cell_type": "code",
   "execution_count": 21,
   "id": "986c9df8-8931-4319-b7ab-dc41dd93be91",
   "metadata": {},
   "outputs": [
    {
     "data": {
      "text/plain": [
       "0         21668\n",
       "100         209\n",
       "200         193\n",
       "300         163\n",
       "150         157\n",
       "          ...  \n",
       "3584          1\n",
       "3051          1\n",
       "7069          1\n",
       "8030          1\n",
       "175000        1\n",
       "Name: land_surface, Length: 3528, dtype: int64"
      ]
     },
     "execution_count": 21,
     "metadata": {},
     "output_type": "execute_result"
    }
   ],
   "source": [
    "df['land_surface'].value_counts()"
   ]
  },
  {
   "cell_type": "markdown",
   "id": "eeec778e-12ae-480c-82c6-405490ec5315",
   "metadata": {
    "jp-MarkdownHeadingCollapsed": true,
    "tags": []
   },
   "source": [
    "### Garden (0,1)"
   ]
  },
  {
   "cell_type": "code",
   "execution_count": 22,
   "id": "9feaada6-8b3f-480a-936f-0cf7f62d2561",
   "metadata": {},
   "outputs": [],
   "source": [
    "df['garden'] = df['garden'].replace(-1,0)"
   ]
  },
  {
   "cell_type": "code",
   "execution_count": 23,
   "id": "504a000c-41db-42f9-bfbb-6710d6c750b8",
   "metadata": {},
   "outputs": [
    {
     "data": {
      "text/plain": [
       "0    30839\n",
       "1    16164\n",
       "Name: garden, dtype: int64"
      ]
     },
     "execution_count": 23,
     "metadata": {},
     "output_type": "execute_result"
    }
   ],
   "source": [
    "df['garden'].value_counts()"
   ]
  },
  {
   "cell_type": "markdown",
   "id": "4d0d6c6d-4696-49cd-9f26-c5add6d825fb",
   "metadata": {
    "jp-MarkdownHeadingCollapsed": true,
    "tags": []
   },
   "source": [
    "### Garden surface (float)"
   ]
  },
  {
   "cell_type": "code",
   "execution_count": 24,
   "id": "cb34919d-b56f-486c-8fba-16e583b5aaa1",
   "metadata": {},
   "outputs": [],
   "source": [
    "df['garden_surface'] = df['garden_surface'].replace(-1,0)\n",
    "df['garden_surface'] = df['garden_surface'].replace(1,0)"
   ]
  },
  {
   "cell_type": "code",
   "execution_count": 25,
   "id": "40d98773-dd91-44b3-94bf-699a393b4703",
   "metadata": {},
   "outputs": [
    {
     "data": {
      "text/plain": [
       "0       37109\n",
       "100       304\n",
       "200       270\n",
       "50        198\n",
       "300       196\n",
       "        ...  \n",
       "292         1\n",
       "1115        1\n",
       "568         1\n",
       "1043        1\n",
       "7200        1\n",
       "Name: garden_surface, Length: 1413, dtype: int64"
      ]
     },
     "execution_count": 25,
     "metadata": {},
     "output_type": "execute_result"
    }
   ],
   "source": [
    "df['garden_surface'].value_counts()"
   ]
  },
  {
   "cell_type": "markdown",
   "id": "a36b8eb6-215b-4fc6-aec2-b44c8bdc68a4",
   "metadata": {
    "jp-MarkdownHeadingCollapsed": true,
    "tags": []
   },
   "source": [
    "### Fully equiped kitchen  (0,1)"
   ]
  },
  {
   "cell_type": "code",
   "execution_count": 26,
   "id": "8852b657-4e0c-4a07-8d97-0336cd1af716",
   "metadata": {},
   "outputs": [],
   "source": [
    "#df[\"fully_equipped_kitchen\"] = df[\"fully_equipped_kitchen\"].map({\"-1.0\": 0.25, \"1.0\": 1,\"-1\": 0.25, \"1\": 1, \"INSTALLED\": 0.5, \"SEMI_EQUIPPED\": 0.75, \"NOT_INSTALLED\": 0, \"USA_INSTALLED\": 0.5, \"USA_SEMI_EQUIPPED\": 0.75, \"USA_UNINSTALLED\": 0})"
   ]
  },
  {
   "cell_type": "code",
   "execution_count": 27,
   "id": "b6325560-dd68-4317-937b-529dc6afd15b",
   "metadata": {},
   "outputs": [],
   "source": [
    "df[\"fully_equipped_kitchen\"] = df[\"fully_equipped_kitchen\"].map({\"-1.0\": 0, \"1.0\": 1,\"-1\": 0, \"1\": 1, \"INSTALLED\": 0, \"SEMI_EQUIPPED\": 1, \"NOT_INSTALLED\": 0, \"USA_INSTALLED\": 0, \"USA_SEMI_EQUIPPED\": 1, \"USA_UNINSTALLED\": 0})"
   ]
  },
  {
   "cell_type": "code",
   "execution_count": 28,
   "id": "c1e85a0b-11b4-4ec4-a877-43619e3ffd0b",
   "metadata": {},
   "outputs": [
    {
     "data": {
      "text/plain": [
       "0    34280\n",
       "1    12723\n",
       "Name: fully_equipped_kitchen, dtype: int64"
      ]
     },
     "execution_count": 28,
     "metadata": {},
     "output_type": "execute_result"
    }
   ],
   "source": [
    "df[\"fully_equipped_kitchen\"].value_counts()"
   ]
  },
  {
   "cell_type": "markdown",
   "id": "58185812-8e59-41ec-a252-c1eb6c650a34",
   "metadata": {
    "jp-MarkdownHeadingCollapsed": true,
    "tags": []
   },
   "source": [
    "### Swiming pool  (0,1)"
   ]
  },
  {
   "cell_type": "code",
   "execution_count": 29,
   "id": "b86064d5-deca-4195-98ac-08b5ce6cefb9",
   "metadata": {},
   "outputs": [],
   "source": [
    "df['swimming_pool'] = df['swimming_pool'].replace(-1,0)"
   ]
  },
  {
   "cell_type": "code",
   "execution_count": 30,
   "id": "bb5cf8f1-42d5-4929-8e78-24c615160a35",
   "metadata": {},
   "outputs": [
    {
     "data": {
      "text/plain": [
       "0    45863\n",
       "1     1140\n",
       "Name: swimming_pool, dtype: int64"
      ]
     },
     "execution_count": 30,
     "metadata": {},
     "output_type": "execute_result"
    }
   ],
   "source": [
    "df['swimming_pool'].value_counts()"
   ]
  },
  {
   "cell_type": "markdown",
   "id": "f8f1e389-4ed5-46ca-81d0-3ddc8e58a39a",
   "metadata": {
    "jp-MarkdownHeadingCollapsed": true,
    "tags": []
   },
   "source": [
    "### Furnished (0,1)"
   ]
  },
  {
   "cell_type": "code",
   "execution_count": 31,
   "id": "5934615e-fa8f-4091-a12b-cf8cecd3f0e1",
   "metadata": {},
   "outputs": [],
   "source": [
    "df['furnished'] = df['furnished'].replace(-1,0)"
   ]
  },
  {
   "cell_type": "code",
   "execution_count": 32,
   "id": "a16f2992-a977-41a6-8783-5aec08e2d6e1",
   "metadata": {},
   "outputs": [
    {
     "data": {
      "text/plain": [
       "0    45754\n",
       "1     1249\n",
       "Name: furnished, dtype: int64"
      ]
     },
     "execution_count": 32,
     "metadata": {},
     "output_type": "execute_result"
    }
   ],
   "source": [
    "df['furnished'].value_counts()"
   ]
  },
  {
   "cell_type": "markdown",
   "id": "2b2b57aa-d2db-470d-858d-315410eb116a",
   "metadata": {
    "jp-MarkdownHeadingCollapsed": true,
    "tags": []
   },
   "source": [
    "### Open fire (0,1)"
   ]
  },
  {
   "cell_type": "code",
   "execution_count": 33,
   "id": "da2ab6c0-e078-4950-9d4c-6e703ce0bc1c",
   "metadata": {},
   "outputs": [],
   "source": [
    "df['open_fire'] = df['open_fire'].replace(-1,0)"
   ]
  },
  {
   "cell_type": "code",
   "execution_count": 34,
   "id": "0a0a622c-c1a7-4695-81e4-c208ca99c7ef",
   "metadata": {},
   "outputs": [
    {
     "data": {
      "text/plain": [
       "0    44777\n",
       "1     2226\n",
       "Name: open_fire, dtype: int64"
      ]
     },
     "execution_count": 34,
     "metadata": {},
     "output_type": "execute_result"
    }
   ],
   "source": [
    "df['open_fire'].value_counts()"
   ]
  },
  {
   "cell_type": "markdown",
   "id": "56cc21c9-87f2-4dfa-8376-9e50e39c5b57",
   "metadata": {
    "jp-MarkdownHeadingCollapsed": true,
    "tags": []
   },
   "source": [
    "### Terrace (0,1)"
   ]
  },
  {
   "cell_type": "code",
   "execution_count": 35,
   "id": "362d9dbf-1e50-41c4-8b8b-19ea387ddd95",
   "metadata": {},
   "outputs": [],
   "source": [
    "df['terrace'] = df['terrace'].replace(-1,0)"
   ]
  },
  {
   "cell_type": "code",
   "execution_count": 36,
   "id": "30c2b6c9-efaf-4039-903d-699e7f290c96",
   "metadata": {},
   "outputs": [
    {
     "data": {
      "text/plain": [
       "1    30074\n",
       "0    16929\n",
       "Name: terrace, dtype: int64"
      ]
     },
     "execution_count": 36,
     "metadata": {},
     "output_type": "execute_result"
    }
   ],
   "source": [
    "df['terrace'].value_counts()"
   ]
  },
  {
   "cell_type": "markdown",
   "id": "59f6b318-800f-47d5-8d8f-98a549b33d3d",
   "metadata": {
    "jp-MarkdownHeadingCollapsed": true,
    "tags": []
   },
   "source": [
    "### Terrace surface (float)"
   ]
  },
  {
   "cell_type": "markdown",
   "id": "a05e65cf-9af7-4680-85e9-1c8a8344c791",
   "metadata": {},
   "source": [
    "we have two terraces > 1000 m2 !"
   ]
  },
  {
   "cell_type": "code",
   "execution_count": 37,
   "id": "a4c8bde7-7dcd-4341-aa2c-ce8ef6969da4",
   "metadata": {},
   "outputs": [],
   "source": [
    "df = df.loc[df['terrace_surface'] < 500]"
   ]
  },
  {
   "cell_type": "code",
   "execution_count": 38,
   "id": "d5ec63e9-1f16-4255-bcfa-363f7bdfedf1",
   "metadata": {},
   "outputs": [],
   "source": [
    "df['terrace_surface'] = df['terrace_surface'].replace(-1,0)"
   ]
  },
  {
   "cell_type": "code",
   "execution_count": 39,
   "id": "618b24a2-82d7-400d-94d1-7419a747577e",
   "metadata": {},
   "outputs": [
    {
     "data": {
      "text/plain": [
       "0      27369\n",
       "20      1197\n",
       "10      1088\n",
       "15       948\n",
       "12       870\n",
       "       ...  \n",
       "137        1\n",
       "190        1\n",
       "210        1\n",
       "370        1\n",
       "290        1\n",
       "Name: terrace_surface, Length: 195, dtype: int64"
      ]
     },
     "execution_count": 39,
     "metadata": {},
     "output_type": "execute_result"
    }
   ],
   "source": [
    "df['terrace_surface'].value_counts()"
   ]
  },
  {
   "cell_type": "markdown",
   "id": "e7438c79-a7e5-4381-90dc-fe3407a3b0d1",
   "metadata": {
    "jp-MarkdownHeadingCollapsed": true,
    "tags": []
   },
   "source": [
    "### Facades (int)"
   ]
  },
  {
   "cell_type": "code",
   "execution_count": 40,
   "id": "1b5dd0ea-376c-4bec-ad67-dc170dac9fa7",
   "metadata": {},
   "outputs": [],
   "source": [
    "df = df.loc[df[\"number_of_facades\"] < 9]"
   ]
  },
  {
   "cell_type": "code",
   "execution_count": 41,
   "id": "8c8ef143-e31a-47f7-b8f1-841e10a34805",
   "metadata": {},
   "outputs": [],
   "source": [
    "df[\"number_of_facades\"] = np.where((df[\"number_of_facades\"] == -1) & (df[\"type_of_property\"] == \"APARTMENT\"), 1, df[\"number_of_facades\"])\n",
    "df[\"number_of_facades\"] = np.where((df[\"number_of_facades\"] == -1) & (df[\"type_of_property\"] == \"HOUSE\"), 2, df[\"number_of_facades\"])"
   ]
  },
  {
   "cell_type": "code",
   "execution_count": 42,
   "id": "0e36aca8-617d-4116-a24d-0d654d64fcfe",
   "metadata": {},
   "outputs": [],
   "source": [
    "df = df.loc[df[\"number_of_facades\"] != -1]"
   ]
  },
  {
   "cell_type": "code",
   "execution_count": 43,
   "id": "b95095e8-b4aa-4fb4-8b48-6387b57bb78f",
   "metadata": {},
   "outputs": [
    {
     "data": {
      "text/plain": [
       "2    20461\n",
       "4     9802\n",
       "3     8238\n",
       "1     7783\n",
       "6        6\n",
       "5        6\n",
       "8        4\n",
       "Name: number_of_facades, dtype: int64"
      ]
     },
     "execution_count": 43,
     "metadata": {},
     "output_type": "execute_result"
    }
   ],
   "source": [
    "df['number_of_facades'].value_counts()"
   ]
  },
  {
   "cell_type": "markdown",
   "id": "c75b4f65-c15f-4114-bcbb-a049071e5e12",
   "metadata": {
    "jp-MarkdownHeadingCollapsed": true,
    "tags": []
   },
   "source": [
    "### State of the building (category)"
   ]
  },
  {
   "cell_type": "markdown",
   "id": "dd808952-809e-45b1-bd9d-dccbc50a2782",
   "metadata": {},
   "source": [
    "Tranform this part to category"
   ]
  },
  {
   "cell_type": "code",
   "execution_count": 44,
   "id": "d4e9ec19-8fe6-4211-8ecd-2c4f46911c1d",
   "metadata": {},
   "outputs": [],
   "source": [
    "df[\"state_of_the_building\"] = df[\"state_of_the_building\"].map({\n",
    "    \"NO_INFO\": \"TO_RENOVATE\",#0.25, \n",
    "    \"TO_BE_DONE_UP\": \"JUST_RENOVATED\",#0.75, \n",
    "    \"TO_RENOVATE\": \"TO_RENOVATE\",#0.25, \n",
    "    \"TO_RESTORE\": \"TO_REBUILD\",#0.25, \n",
    "    \"JUST_RENOVATED\": \"JUST_RENOVATED\",#0.75, \n",
    "    \"GOOD\": \"GOOD\",#0.5, \n",
    "    \"AS_NEW\": \"NEW\"#1.0\n",
    "})"
   ]
  },
  {
   "cell_type": "code",
   "execution_count": 45,
   "id": "d8219917-803c-4388-875d-79b14b4e0eae",
   "metadata": {},
   "outputs": [
    {
     "data": {
      "text/plain": [
       "TO_RENOVATE       16329\n",
       "GOOD              12701\n",
       "NEW               10961\n",
       "JUST_RENOVATED     6123\n",
       "TO_REBUILD          186\n",
       "Name: state_of_the_building, dtype: int64"
      ]
     },
     "execution_count": 45,
     "metadata": {},
     "output_type": "execute_result"
    }
   ],
   "source": [
    "df[\"state_of_the_building\"].value_counts()"
   ]
  },
  {
   "cell_type": "markdown",
   "id": "52d059fe-36c3-4462-b25c-a3844bba0688",
   "metadata": {
    "tags": []
   },
   "source": [
    "### Type of property (category)"
   ]
  },
  {
   "cell_type": "markdown",
   "id": "b891beef-51dd-472b-bb0d-b0993cdeceda",
   "metadata": {},
   "source": [
    "Separate into HOUSE, APARTMENTS and OTHERS"
   ]
  },
  {
   "cell_type": "code",
   "execution_count": 46,
   "id": "bbcdedc9-3591-489b-bf35-e65c43df4179",
   "metadata": {},
   "outputs": [],
   "source": [
    "others = [\"CHALET\", \"MANOR_HOUSE\", \"OTHER_PROPERTY\", \"CASTLE\", \"PAVILION\"]"
   ]
  },
  {
   "cell_type": "code",
   "execution_count": 47,
   "id": "82f3b64e-3135-4db3-a784-9b9625673dfb",
   "metadata": {},
   "outputs": [],
   "source": [
    "df.loc[df[\"price\"] >= 800000, \"type_of_property\"] = \"OTHER\""
   ]
  },
  {
   "cell_type": "code",
   "execution_count": 48,
   "id": "435ab911-5473-4712-9a2f-b61fe8af17fe",
   "metadata": {},
   "outputs": [],
   "source": [
    "df.loc[df[\"subtype_of_property\"].isin(others), \"type_of_property\"] = \"OTHER\""
   ]
  },
  {
   "cell_type": "code",
   "execution_count": 49,
   "id": "db78b10b-e02a-4115-b91a-88be11ae1fd6",
   "metadata": {},
   "outputs": [
    {
     "data": {
      "text/plain": [
       "HOUSE        23583\n",
       "APARTMENT    19819\n",
       "OTHER         2898\n",
       "Name: type_of_property, dtype: int64"
      ]
     },
     "execution_count": 49,
     "metadata": {},
     "output_type": "execute_result"
    }
   ],
   "source": [
    "df['type_of_property'].value_counts()"
   ]
  },
  {
   "cell_type": "markdown",
   "id": "6d484790-8013-49db-b5aa-c9c4d949cd4e",
   "metadata": {},
   "source": [
    "### Price/m2"
   ]
  },
  {
   "cell_type": "code",
   "execution_count": 50,
   "id": "662cd487-6b5a-4d70-82b2-4cda31335030",
   "metadata": {},
   "outputs": [],
   "source": [
    "df['price_m2'] = df['price']/df['surface']"
   ]
  },
  {
   "cell_type": "code",
   "execution_count": 51,
   "id": "7633683f-6f93-4ca7-8e7c-18dcbe6e68d0",
   "metadata": {
    "tags": []
   },
   "outputs": [
    {
     "data": {
      "text/plain": [
       "2500.000000    274\n",
       "3000.000000    173\n",
       "2000.000000    169\n",
       "1500.000000    108\n",
       "2750.000000    107\n",
       "              ... \n",
       "4299.065421      1\n",
       "3307.228916      1\n",
       "3312.169014      1\n",
       "1605.539474      1\n",
       "1705.038760      1\n",
       "Name: price_m2, Length: 20104, dtype: int64"
      ]
     },
     "execution_count": 51,
     "metadata": {},
     "output_type": "execute_result"
    }
   ],
   "source": [
    "df['price_m2'].value_counts()"
   ]
  },
  {
   "cell_type": "markdown",
   "id": "2d324a5c-2434-4b6c-807b-35820f42f40f",
   "metadata": {
    "tags": []
   },
   "source": [
    "### API list"
   ]
  },
  {
   "cell_type": "code",
   "execution_count": 52,
   "id": "515a3112-ef58-4dd0-b848-ed4eee69f2be",
   "metadata": {},
   "outputs": [],
   "source": [
    "api_list = ['surface','type_of_property','number_of_bedrooms','postal_code','land_surface','garden','garden_surface','fully_equipped_kitchen','swimming_pool','furnished','open_fire','terrace','terrace_surface','number_of_facades','state_of_the_building','zip_code_xx','zip_code_x','price']"
   ]
  },
  {
   "cell_type": "code",
   "execution_count": 53,
   "id": "2ab88b51-1b6d-4d59-baae-71255050ee2f",
   "metadata": {},
   "outputs": [],
   "source": [
    "df = df[api_list]"
   ]
  },
  {
   "cell_type": "code",
   "execution_count": 54,
   "id": "8678e138-1ee4-4fba-802b-d8b7ff713a71",
   "metadata": {},
   "outputs": [],
   "source": [
    "claned_df = df.shape"
   ]
  },
  {
   "cell_type": "markdown",
   "id": "f5f280a8-3c0d-4e24-a4d0-37a0da369b6a",
   "metadata": {
    "tags": []
   },
   "source": [
    "## Check database"
   ]
  },
  {
   "cell_type": "code",
   "execution_count": 55,
   "id": "3dd7a92c-6256-43f5-853c-44a8b16f4fcc",
   "metadata": {},
   "outputs": [
    {
     "name": "stdout",
     "output_type": "stream",
     "text": [
      "initial_df (62430, 23) claned_df (46300, 18)\n"
     ]
    }
   ],
   "source": [
    "print(f'initial_df {initial_df} claned_df {claned_df}')"
   ]
  },
  {
   "cell_type": "code",
   "execution_count": 56,
   "id": "a4ff57bc-4a40-4d0d-8c59-e26baad01900",
   "metadata": {},
   "outputs": [
    {
     "data": {
      "text/html": [
       "<div>\n",
       "<style scoped>\n",
       "    .dataframe tbody tr th:only-of-type {\n",
       "        vertical-align: middle;\n",
       "    }\n",
       "\n",
       "    .dataframe tbody tr th {\n",
       "        vertical-align: top;\n",
       "    }\n",
       "\n",
       "    .dataframe thead th {\n",
       "        text-align: right;\n",
       "    }\n",
       "</style>\n",
       "<table border=\"1\" class=\"dataframe\">\n",
       "  <thead>\n",
       "    <tr style=\"text-align: right;\">\n",
       "      <th></th>\n",
       "      <th>surface</th>\n",
       "      <th>number_of_bedrooms</th>\n",
       "      <th>postal_code</th>\n",
       "      <th>land_surface</th>\n",
       "      <th>garden</th>\n",
       "      <th>garden_surface</th>\n",
       "      <th>fully_equipped_kitchen</th>\n",
       "      <th>swimming_pool</th>\n",
       "      <th>furnished</th>\n",
       "      <th>open_fire</th>\n",
       "      <th>terrace</th>\n",
       "      <th>terrace_surface</th>\n",
       "      <th>number_of_facades</th>\n",
       "      <th>price</th>\n",
       "    </tr>\n",
       "  </thead>\n",
       "  <tbody>\n",
       "    <tr>\n",
       "      <th>count</th>\n",
       "      <td>46300.000000</td>\n",
       "      <td>46300.000000</td>\n",
       "      <td>46300.000000</td>\n",
       "      <td>4.630000e+04</td>\n",
       "      <td>46300.000000</td>\n",
       "      <td>46300.000000</td>\n",
       "      <td>46300.000000</td>\n",
       "      <td>46300.000000</td>\n",
       "      <td>46300.000000</td>\n",
       "      <td>46300.000000</td>\n",
       "      <td>46300.000000</td>\n",
       "      <td>46300.000000</td>\n",
       "      <td>46300.000000</td>\n",
       "      <td>4.630000e+04</td>\n",
       "    </tr>\n",
       "    <tr>\n",
       "      <th>mean</th>\n",
       "      <td>165.168812</td>\n",
       "      <td>2.833089</td>\n",
       "      <td>4984.067948</td>\n",
       "      <td>8.325338e+02</td>\n",
       "      <td>0.343024</td>\n",
       "      <td>182.958488</td>\n",
       "      <td>0.270302</td>\n",
       "      <td>0.023153</td>\n",
       "      <td>0.026220</td>\n",
       "      <td>0.046739</td>\n",
       "      <td>0.639417</td>\n",
       "      <td>10.281533</td>\n",
       "      <td>2.434665</td>\n",
       "      <td>3.962921e+05</td>\n",
       "    </tr>\n",
       "    <tr>\n",
       "      <th>std</th>\n",
       "      <td>207.372201</td>\n",
       "      <td>1.466459</td>\n",
       "      <td>3040.887123</td>\n",
       "      <td>9.160139e+03</td>\n",
       "      <td>0.474724</td>\n",
       "      <td>2394.490809</td>\n",
       "      <td>0.444121</td>\n",
       "      <td>0.150392</td>\n",
       "      <td>0.159792</td>\n",
       "      <td>0.211081</td>\n",
       "      <td>0.480175</td>\n",
       "      <td>21.609825</td>\n",
       "      <td>1.005131</td>\n",
       "      <td>3.977620e+05</td>\n",
       "    </tr>\n",
       "    <tr>\n",
       "      <th>min</th>\n",
       "      <td>1.000000</td>\n",
       "      <td>0.000000</td>\n",
       "      <td>1000.000000</td>\n",
       "      <td>0.000000e+00</td>\n",
       "      <td>0.000000</td>\n",
       "      <td>0.000000</td>\n",
       "      <td>0.000000</td>\n",
       "      <td>0.000000</td>\n",
       "      <td>0.000000</td>\n",
       "      <td>0.000000</td>\n",
       "      <td>0.000000</td>\n",
       "      <td>0.000000</td>\n",
       "      <td>1.000000</td>\n",
       "      <td>2.500000e+03</td>\n",
       "    </tr>\n",
       "    <tr>\n",
       "      <th>25%</th>\n",
       "      <td>94.000000</td>\n",
       "      <td>2.000000</td>\n",
       "      <td>2140.000000</td>\n",
       "      <td>0.000000e+00</td>\n",
       "      <td>0.000000</td>\n",
       "      <td>0.000000</td>\n",
       "      <td>0.000000</td>\n",
       "      <td>0.000000</td>\n",
       "      <td>0.000000</td>\n",
       "      <td>0.000000</td>\n",
       "      <td>0.000000</td>\n",
       "      <td>0.000000</td>\n",
       "      <td>2.000000</td>\n",
       "      <td>2.249000e+05</td>\n",
       "    </tr>\n",
       "    <tr>\n",
       "      <th>50%</th>\n",
       "      <td>134.000000</td>\n",
       "      <td>3.000000</td>\n",
       "      <td>4219.000000</td>\n",
       "      <td>7.600000e+01</td>\n",
       "      <td>0.000000</td>\n",
       "      <td>0.000000</td>\n",
       "      <td>0.000000</td>\n",
       "      <td>0.000000</td>\n",
       "      <td>0.000000</td>\n",
       "      <td>0.000000</td>\n",
       "      <td>1.000000</td>\n",
       "      <td>0.000000</td>\n",
       "      <td>2.000000</td>\n",
       "      <td>2.990000e+05</td>\n",
       "    </tr>\n",
       "    <tr>\n",
       "      <th>75%</th>\n",
       "      <td>191.000000</td>\n",
       "      <td>3.000000</td>\n",
       "      <td>8370.000000</td>\n",
       "      <td>4.730000e+02</td>\n",
       "      <td>1.000000</td>\n",
       "      <td>0.000000</td>\n",
       "      <td>1.000000</td>\n",
       "      <td>0.000000</td>\n",
       "      <td>0.000000</td>\n",
       "      <td>0.000000</td>\n",
       "      <td>1.000000</td>\n",
       "      <td>14.000000</td>\n",
       "      <td>3.000000</td>\n",
       "      <td>4.300000e+05</td>\n",
       "    </tr>\n",
       "    <tr>\n",
       "      <th>max</th>\n",
       "      <td>22617.000000</td>\n",
       "      <td>66.000000</td>\n",
       "      <td>9992.000000</td>\n",
       "      <td>1.100000e+06</td>\n",
       "      <td>1.000000</td>\n",
       "      <td>150000.000000</td>\n",
       "      <td>1.000000</td>\n",
       "      <td>1.000000</td>\n",
       "      <td>1.000000</td>\n",
       "      <td>1.000000</td>\n",
       "      <td>1.000000</td>\n",
       "      <td>420.000000</td>\n",
       "      <td>8.000000</td>\n",
       "      <td>9.999999e+06</td>\n",
       "    </tr>\n",
       "  </tbody>\n",
       "</table>\n",
       "</div>"
      ],
      "text/plain": [
       "            surface  number_of_bedrooms   postal_code  land_surface  \\\n",
       "count  46300.000000        46300.000000  46300.000000  4.630000e+04   \n",
       "mean     165.168812            2.833089   4984.067948  8.325338e+02   \n",
       "std      207.372201            1.466459   3040.887123  9.160139e+03   \n",
       "min        1.000000            0.000000   1000.000000  0.000000e+00   \n",
       "25%       94.000000            2.000000   2140.000000  0.000000e+00   \n",
       "50%      134.000000            3.000000   4219.000000  7.600000e+01   \n",
       "75%      191.000000            3.000000   8370.000000  4.730000e+02   \n",
       "max    22617.000000           66.000000   9992.000000  1.100000e+06   \n",
       "\n",
       "             garden  garden_surface  fully_equipped_kitchen  swimming_pool  \\\n",
       "count  46300.000000    46300.000000            46300.000000   46300.000000   \n",
       "mean       0.343024      182.958488                0.270302       0.023153   \n",
       "std        0.474724     2394.490809                0.444121       0.150392   \n",
       "min        0.000000        0.000000                0.000000       0.000000   \n",
       "25%        0.000000        0.000000                0.000000       0.000000   \n",
       "50%        0.000000        0.000000                0.000000       0.000000   \n",
       "75%        1.000000        0.000000                1.000000       0.000000   \n",
       "max        1.000000   150000.000000                1.000000       1.000000   \n",
       "\n",
       "          furnished     open_fire       terrace  terrace_surface  \\\n",
       "count  46300.000000  46300.000000  46300.000000     46300.000000   \n",
       "mean       0.026220      0.046739      0.639417        10.281533   \n",
       "std        0.159792      0.211081      0.480175        21.609825   \n",
       "min        0.000000      0.000000      0.000000         0.000000   \n",
       "25%        0.000000      0.000000      0.000000         0.000000   \n",
       "50%        0.000000      0.000000      1.000000         0.000000   \n",
       "75%        0.000000      0.000000      1.000000        14.000000   \n",
       "max        1.000000      1.000000      1.000000       420.000000   \n",
       "\n",
       "       number_of_facades         price  \n",
       "count       46300.000000  4.630000e+04  \n",
       "mean            2.434665  3.962921e+05  \n",
       "std             1.005131  3.977620e+05  \n",
       "min             1.000000  2.500000e+03  \n",
       "25%             2.000000  2.249000e+05  \n",
       "50%             2.000000  2.990000e+05  \n",
       "75%             3.000000  4.300000e+05  \n",
       "max             8.000000  9.999999e+06  "
      ]
     },
     "execution_count": 56,
     "metadata": {},
     "output_type": "execute_result"
    }
   ],
   "source": [
    "df.describe()"
   ]
  },
  {
   "cell_type": "code",
   "execution_count": 57,
   "id": "1fa37f13-6915-49ea-8256-c5ea015e0d28",
   "metadata": {
    "tags": []
   },
   "outputs": [
    {
     "name": "stdout",
     "output_type": "stream",
     "text": [
      "surface\n",
      "100    887\n",
      "150    880\n",
      "90     833\n",
      "120    804\n",
      "110    714\n",
      "      ... \n",
      "678      1\n",
      "707      1\n",
      "708      1\n",
      "487      1\n",
      "433      1\n",
      "Name: surface, Length: 813, dtype: int64\n",
      "\n",
      "\n",
      "type_of_property\n",
      "HOUSE        23583\n",
      "APARTMENT    19819\n",
      "OTHER         2898\n",
      "Name: type_of_property, dtype: int64\n",
      "\n",
      "\n",
      "number_of_bedrooms\n",
      "3     15023\n",
      "2     14606\n",
      "4      6822\n",
      "1      4869\n",
      "5      2585\n",
      "6       976\n",
      "0       747\n",
      "7       299\n",
      "8       157\n",
      "9        83\n",
      "10       45\n",
      "12       18\n",
      "11       18\n",
      "14       11\n",
      "13        7\n",
      "16        5\n",
      "15        5\n",
      "17        4\n",
      "18        3\n",
      "20        3\n",
      "25        3\n",
      "22        2\n",
      "23        1\n",
      "45        1\n",
      "24        1\n",
      "66        1\n",
      "28        1\n",
      "26        1\n",
      "19        1\n",
      "30        1\n",
      "31        1\n",
      "Name: number_of_bedrooms, dtype: int64\n",
      "\n",
      "\n",
      "postal_code\n",
      "1180    707\n",
      "1000    678\n",
      "9000    663\n",
      "8300    585\n",
      "8400    569\n",
      "       ... \n",
      "6781      1\n",
      "6542      1\n",
      "6922      1\n",
      "6972      1\n",
      "6674      1\n",
      "Name: postal_code, Length: 1048, dtype: int64\n",
      "\n",
      "\n",
      "land_surface\n",
      "0         21317\n",
      "100         208\n",
      "200         192\n",
      "300         163\n",
      "150         156\n",
      "          ...  \n",
      "12901         1\n",
      "180000        1\n",
      "2556          1\n",
      "3829          1\n",
      "175000        1\n",
      "Name: land_surface, Length: 3434, dtype: int64\n",
      "\n",
      "\n",
      "garden\n",
      "0    30418\n",
      "1    15882\n",
      "Name: garden, dtype: int64\n",
      "\n",
      "\n",
      "garden_surface\n",
      "0       36484\n",
      "100       304\n",
      "200       269\n",
      "50        198\n",
      "300       195\n",
      "        ...  \n",
      "2032        1\n",
      "2715        1\n",
      "1376        1\n",
      "1424        1\n",
      "5414        1\n",
      "Name: garden_surface, Length: 1397, dtype: int64\n",
      "\n",
      "\n",
      "fully_equipped_kitchen\n",
      "0    33785\n",
      "1    12515\n",
      "Name: fully_equipped_kitchen, dtype: int64\n",
      "\n",
      "\n",
      "swimming_pool\n",
      "0    45228\n",
      "1     1072\n",
      "Name: swimming_pool, dtype: int64\n",
      "\n",
      "\n",
      "furnished\n",
      "0    45086\n",
      "1     1214\n",
      "Name: furnished, dtype: int64\n",
      "\n",
      "\n",
      "open_fire\n",
      "0    44136\n",
      "1     2164\n",
      "Name: open_fire, dtype: int64\n",
      "\n",
      "\n",
      "terrace\n",
      "1    29605\n",
      "0    16695\n",
      "Name: terrace, dtype: int64\n",
      "\n",
      "\n",
      "terrace_surface\n",
      "0      26907\n",
      "20      1191\n",
      "10      1087\n",
      "15       939\n",
      "12       865\n",
      "       ...  \n",
      "137        1\n",
      "190        1\n",
      "210        1\n",
      "370        1\n",
      "290        1\n",
      "Name: terrace_surface, Length: 190, dtype: int64\n",
      "\n",
      "\n",
      "number_of_facades\n",
      "2    20461\n",
      "4     9802\n",
      "3     8238\n",
      "1     7783\n",
      "6        6\n",
      "5        6\n",
      "8        4\n",
      "Name: number_of_facades, dtype: int64\n",
      "\n",
      "\n",
      "state_of_the_building\n",
      "TO_RENOVATE       16329\n",
      "GOOD              12701\n",
      "NEW               10961\n",
      "JUST_RENOVATED     6123\n",
      "TO_REBUILD          186\n",
      "Name: state_of_the_building, dtype: int64\n",
      "\n",
      "\n",
      "zip_code_xx\n",
      "be_zip_10    3437\n",
      "be_zip_11    1610\n",
      "be_zip_83    1483\n",
      "be_zip_20    1281\n",
      "be_zip_84    1252\n",
      "             ... \n",
      "be_zip_65     160\n",
      "be_zip_79     131\n",
      "be_zip_76     111\n",
      "be_zip_47      87\n",
      "be_zip_64      53\n",
      "Name: zip_code_xx, Length: 80, dtype: int64\n",
      "\n",
      "\n",
      "zip_code_x\n",
      "be_zip_1    9887\n",
      "be_zip_2    7667\n",
      "be_zip_8    6849\n",
      "be_zip_9    6218\n",
      "be_zip_3    4035\n",
      "be_zip_4    3729\n",
      "be_zip_7    3100\n",
      "be_zip_6    3067\n",
      "be_zip_5    1748\n",
      "Name: zip_code_x, dtype: int64\n",
      "\n",
      "\n",
      "price\n",
      "299000    762\n",
      "249000    672\n",
      "295000    666\n",
      "199000    623\n",
      "275000    599\n",
      "         ... \n",
      "504350      1\n",
      "602950      1\n",
      "693000      1\n",
      "484205      1\n",
      "316200      1\n",
      "Name: price, Length: 4052, dtype: int64\n",
      "\n",
      "\n"
     ]
    }
   ],
   "source": [
    "for index,atribute in enumerate(df.columns.to_list()):\n",
    "    print(atribute)\n",
    "    print(df[df.columns.to_list()[index]].value_counts())\n",
    "    print('\\n')"
   ]
  },
  {
   "cell_type": "markdown",
   "id": "2f42d946-6c8c-4701-b581-5d6cdf963b56",
   "metadata": {},
   "source": [
    "# Data preprocessing"
   ]
  },
  {
   "cell_type": "code",
   "execution_count": 58,
   "id": "4fc3c973-20b9-4ffc-862b-acac23ce7396",
   "metadata": {},
   "outputs": [],
   "source": [
    "transformer = make_column_transformer(\n",
    "    (OneHotEncoder(), ['type_of_property', 'zip_code_x','state_of_the_building']),\n",
    "    remainder='passthrough')"
   ]
  },
  {
   "cell_type": "code",
   "execution_count": 59,
   "id": "6ef78c5f-f59c-4c98-9d10-c53df4b52314",
   "metadata": {},
   "outputs": [
    {
     "name": "stderr",
     "output_type": "stream",
     "text": [
      "/home/david/MyGithub/challenge-regression/env/lib/python3.10/site-packages/sklearn/utils/deprecation.py:87: FutureWarning: Function get_feature_names is deprecated; get_feature_names is deprecated in 1.0 and will be removed in 1.2. Please use get_feature_names_out instead.\n",
      "  warnings.warn(msg, category=FutureWarning)\n"
     ]
    }
   ],
   "source": [
    "transformed = transformer.fit_transform(df)\n",
    "transformed_df = pd.DataFrame(transformed, columns=transformer.get_feature_names())"
   ]
  },
  {
   "cell_type": "code",
   "execution_count": 60,
   "id": "ee522036-3aee-44eb-ba4b-945ac2f19411",
   "metadata": {},
   "outputs": [
    {
     "data": {
      "text/plain": [
       "['onehotencoder__x0_APARTMENT',\n",
       " 'onehotencoder__x0_HOUSE',\n",
       " 'onehotencoder__x0_OTHER',\n",
       " 'onehotencoder__x1_be_zip_1',\n",
       " 'onehotencoder__x1_be_zip_2',\n",
       " 'onehotencoder__x1_be_zip_3',\n",
       " 'onehotencoder__x1_be_zip_4',\n",
       " 'onehotencoder__x1_be_zip_5',\n",
       " 'onehotencoder__x1_be_zip_6',\n",
       " 'onehotencoder__x1_be_zip_7',\n",
       " 'onehotencoder__x1_be_zip_8',\n",
       " 'onehotencoder__x1_be_zip_9',\n",
       " 'onehotencoder__x2_GOOD',\n",
       " 'onehotencoder__x2_JUST_RENOVATED',\n",
       " 'onehotencoder__x2_NEW',\n",
       " 'onehotencoder__x2_TO_REBUILD',\n",
       " 'onehotencoder__x2_TO_RENOVATE',\n",
       " 'surface',\n",
       " 'number_of_bedrooms',\n",
       " 'postal_code',\n",
       " 'land_surface',\n",
       " 'garden',\n",
       " 'garden_surface',\n",
       " 'fully_equipped_kitchen',\n",
       " 'swimming_pool',\n",
       " 'furnished',\n",
       " 'open_fire',\n",
       " 'terrace',\n",
       " 'terrace_surface',\n",
       " 'number_of_facades',\n",
       " 'zip_code_xx',\n",
       " 'price']"
      ]
     },
     "execution_count": 60,
     "metadata": {},
     "output_type": "execute_result"
    }
   ],
   "source": [
    "transformed_df.columns.to_list()"
   ]
  },
  {
   "cell_type": "markdown",
   "id": "d9f1ba34-0359-4c67-bf1b-44909fd4a107",
   "metadata": {},
   "source": [
    "### Drop values from onehotencoder"
   ]
  },
  {
   "cell_type": "code",
   "execution_count": 61,
   "id": "85cf37fd-1537-438b-9668-e304130fc031",
   "metadata": {},
   "outputs": [],
   "source": [
    "drop_list = ['onehotencoder__x0_APARTMENT',\n",
    " 'onehotencoder__x0_HOUSE',\n",
    " 'onehotencoder__x0_OTHER',\n",
    " 'onehotencoder__x1_be_zip_1',\n",
    " 'onehotencoder__x1_be_zip_2',\n",
    " 'onehotencoder__x1_be_zip_3',\n",
    " 'onehotencoder__x1_be_zip_4',\n",
    " 'onehotencoder__x1_be_zip_5',\n",
    " 'onehotencoder__x1_be_zip_6',\n",
    " 'onehotencoder__x1_be_zip_7',\n",
    " 'onehotencoder__x1_be_zip_8',\n",
    " #'onehotencoder__x1_be_zip_9',\n",
    " 'onehotencoder__x2_GOOD',\n",
    " 'onehotencoder__x2_JUST_RENOVATED',\n",
    " 'onehotencoder__x2_NEW',\n",
    " 'onehotencoder__x2_TO_REBUILD',\n",
    " #'onehotencoder__x2_TO_RENOVATE',\n",
    " 'surface',\n",
    " 'number_of_bedrooms',\n",
    " #'postal_code',\n",
    " 'land_surface',\n",
    " 'garden',\n",
    " 'garden_surface',\n",
    " 'fully_equipped_kitchen',\n",
    " 'swimming_pool',\n",
    " 'furnished',\n",
    " 'open_fire',\n",
    " 'terrace',\n",
    " 'terrace_surface',\n",
    " 'number_of_facades',\n",
    " #'zip_code_xx',\n",
    " 'price']"
   ]
  },
  {
   "cell_type": "code",
   "execution_count": 62,
   "id": "3eac6157-b236-4772-9210-360f70c31e63",
   "metadata": {},
   "outputs": [],
   "source": [
    "transformed_df = transformed_df[drop_list]"
   ]
  },
  {
   "cell_type": "code",
   "execution_count": 70,
   "id": "513f4251-3d29-48e8-b9dd-d3afefb757ff",
   "metadata": {},
   "outputs": [
    {
     "name": "stdout",
     "output_type": "stream",
     "text": [
      "onehotencoder__x0_APARTMENT\n",
      "0.0    26481\n",
      "1.0    19819\n",
      "Name: onehotencoder__x0_APARTMENT, dtype: int64\n",
      "\n",
      "\n",
      "onehotencoder__x0_HOUSE\n",
      "1.0    23583\n",
      "0.0    22717\n",
      "Name: onehotencoder__x0_HOUSE, dtype: int64\n",
      "\n",
      "\n",
      "onehotencoder__x0_OTHER\n",
      "0.0    43402\n",
      "1.0     2898\n",
      "Name: onehotencoder__x0_OTHER, dtype: int64\n",
      "\n",
      "\n",
      "onehotencoder__x1_be_zip_1\n",
      "0.0    36413\n",
      "1.0     9887\n",
      "Name: onehotencoder__x1_be_zip_1, dtype: int64\n",
      "\n",
      "\n",
      "onehotencoder__x1_be_zip_2\n",
      "0.0    38633\n",
      "1.0     7667\n",
      "Name: onehotencoder__x1_be_zip_2, dtype: int64\n",
      "\n",
      "\n",
      "onehotencoder__x1_be_zip_3\n",
      "0.0    42265\n",
      "1.0     4035\n",
      "Name: onehotencoder__x1_be_zip_3, dtype: int64\n",
      "\n",
      "\n",
      "onehotencoder__x1_be_zip_4\n",
      "0.0    42571\n",
      "1.0     3729\n",
      "Name: onehotencoder__x1_be_zip_4, dtype: int64\n",
      "\n",
      "\n",
      "onehotencoder__x1_be_zip_5\n",
      "0.0    44552\n",
      "1.0     1748\n",
      "Name: onehotencoder__x1_be_zip_5, dtype: int64\n",
      "\n",
      "\n",
      "onehotencoder__x1_be_zip_6\n",
      "0.0    43233\n",
      "1.0     3067\n",
      "Name: onehotencoder__x1_be_zip_6, dtype: int64\n",
      "\n",
      "\n",
      "onehotencoder__x1_be_zip_7\n",
      "0.0    43200\n",
      "1.0     3100\n",
      "Name: onehotencoder__x1_be_zip_7, dtype: int64\n",
      "\n",
      "\n",
      "onehotencoder__x1_be_zip_8\n",
      "0.0    39451\n",
      "1.0     6849\n",
      "Name: onehotencoder__x1_be_zip_8, dtype: int64\n",
      "\n",
      "\n",
      "onehotencoder__x2_GOOD\n",
      "0.0    33599\n",
      "1.0    12701\n",
      "Name: onehotencoder__x2_GOOD, dtype: int64\n",
      "\n",
      "\n",
      "onehotencoder__x2_JUST_RENOVATED\n",
      "0.0    40177\n",
      "1.0     6123\n",
      "Name: onehotencoder__x2_JUST_RENOVATED, dtype: int64\n",
      "\n",
      "\n",
      "onehotencoder__x2_NEW\n",
      "0.0    35339\n",
      "1.0    10961\n",
      "Name: onehotencoder__x2_NEW, dtype: int64\n",
      "\n",
      "\n",
      "onehotencoder__x2_TO_REBUILD\n",
      "0.0    46114\n",
      "1.0      186\n",
      "Name: onehotencoder__x2_TO_REBUILD, dtype: int64\n",
      "\n",
      "\n",
      "surface\n",
      "100    887\n",
      "150    880\n",
      "90     833\n",
      "120    804\n",
      "110    714\n",
      "      ... \n",
      "678      1\n",
      "707      1\n",
      "708      1\n",
      "487      1\n",
      "433      1\n",
      "Name: surface, Length: 813, dtype: int64\n",
      "\n",
      "\n",
      "number_of_bedrooms\n",
      "3     15023\n",
      "2     14606\n",
      "4      6822\n",
      "1      4869\n",
      "5      2585\n",
      "6       976\n",
      "0       747\n",
      "7       299\n",
      "8       157\n",
      "9        83\n",
      "10       45\n",
      "12       18\n",
      "11       18\n",
      "14       11\n",
      "13        7\n",
      "16        5\n",
      "15        5\n",
      "17        4\n",
      "18        3\n",
      "20        3\n",
      "25        3\n",
      "22        2\n",
      "23        1\n",
      "45        1\n",
      "24        1\n",
      "66        1\n",
      "28        1\n",
      "26        1\n",
      "19        1\n",
      "30        1\n",
      "31        1\n",
      "Name: number_of_bedrooms, dtype: int64\n",
      "\n",
      "\n",
      "land_surface\n",
      "0         21317\n",
      "100         208\n",
      "200         192\n",
      "300         163\n",
      "150         156\n",
      "          ...  \n",
      "12901         1\n",
      "180000        1\n",
      "2556          1\n",
      "3829          1\n",
      "175000        1\n",
      "Name: land_surface, Length: 3434, dtype: int64\n",
      "\n",
      "\n",
      "garden\n",
      "0    30418\n",
      "1    15882\n",
      "Name: garden, dtype: int64\n",
      "\n",
      "\n",
      "garden_surface\n",
      "0       36484\n",
      "100       304\n",
      "200       269\n",
      "50        198\n",
      "300       195\n",
      "        ...  \n",
      "2032        1\n",
      "2715        1\n",
      "1376        1\n",
      "1424        1\n",
      "5414        1\n",
      "Name: garden_surface, Length: 1397, dtype: int64\n",
      "\n",
      "\n",
      "fully_equipped_kitchen\n",
      "0    33785\n",
      "1    12515\n",
      "Name: fully_equipped_kitchen, dtype: int64\n",
      "\n",
      "\n",
      "swimming_pool\n",
      "0    45228\n",
      "1     1072\n",
      "Name: swimming_pool, dtype: int64\n",
      "\n",
      "\n",
      "furnished\n",
      "0    45086\n",
      "1     1214\n",
      "Name: furnished, dtype: int64\n",
      "\n",
      "\n",
      "open_fire\n",
      "0    44136\n",
      "1     2164\n",
      "Name: open_fire, dtype: int64\n",
      "\n",
      "\n",
      "terrace\n",
      "1    29605\n",
      "0    16695\n",
      "Name: terrace, dtype: int64\n",
      "\n",
      "\n",
      "terrace_surface\n",
      "0      26907\n",
      "20      1191\n",
      "10      1087\n",
      "15       939\n",
      "12       865\n",
      "       ...  \n",
      "137        1\n",
      "190        1\n",
      "210        1\n",
      "370        1\n",
      "290        1\n",
      "Name: terrace_surface, Length: 190, dtype: int64\n",
      "\n",
      "\n",
      "number_of_facades\n",
      "2    20461\n",
      "4     9802\n",
      "3     8238\n",
      "1     7783\n",
      "6        6\n",
      "5        6\n",
      "8        4\n",
      "Name: number_of_facades, dtype: int64\n",
      "\n",
      "\n",
      "price\n",
      "299000    762\n",
      "249000    672\n",
      "295000    666\n",
      "199000    623\n",
      "275000    599\n",
      "         ... \n",
      "504350      1\n",
      "602950      1\n",
      "693000      1\n",
      "484205      1\n",
      "316200      1\n",
      "Name: price, Length: 4052, dtype: int64\n",
      "\n",
      "\n"
     ]
    }
   ],
   "source": [
    "for index,atribute in enumerate(transformed_df.columns.to_list()):\n",
    "    print(atribute)\n",
    "    print(transformed_df[transformed_df.columns.to_list()[index]].value_counts())\n",
    "    print('\\n')"
   ]
  },
  {
   "cell_type": "markdown",
   "id": "244ddbb8-249c-4a1e-8eae-0d93d78ce216",
   "metadata": {
    "tags": []
   },
   "source": [
    "# Split Data"
   ]
  },
  {
   "cell_type": "code",
   "execution_count": 63,
   "id": "cc6179f9-6277-49f7-ba66-cafe5590f1c7",
   "metadata": {},
   "outputs": [],
   "source": [
    "y = transformed_df.iloc[:,-1].values  #price\n",
    "x = transformed_df.iloc[:,:-1].values  #rest"
   ]
  },
  {
   "cell_type": "code",
   "execution_count": 64,
   "id": "0e39e934-41f9-466e-a2e4-6bf6eee26b09",
   "metadata": {},
   "outputs": [
    {
     "data": {
      "text/plain": [
       "(46300, 27)"
      ]
     },
     "execution_count": 64,
     "metadata": {},
     "output_type": "execute_result"
    }
   ],
   "source": [
    "x.shape"
   ]
  },
  {
   "cell_type": "code",
   "execution_count": 65,
   "id": "17bf5c7b-eaee-4510-90b3-7b3909f1531b",
   "metadata": {},
   "outputs": [
    {
     "data": {
      "text/plain": [
       "array([[0.0, 1.0, 0.0, ..., 1, 0, 3],\n",
       "       [1.0, 0.0, 0.0, ..., 1, 0, 3],\n",
       "       [1.0, 0.0, 0.0, ..., 1, 6, 2],\n",
       "       ...,\n",
       "       [0.0, 1.0, 0.0, ..., 1, 30, 2],\n",
       "       [1.0, 0.0, 0.0, ..., 1, 0, 1],\n",
       "       [0.0, 1.0, 0.0, ..., 1, 40, 4]], dtype=object)"
      ]
     },
     "execution_count": 65,
     "metadata": {},
     "output_type": "execute_result"
    }
   ],
   "source": [
    "x"
   ]
  },
  {
   "cell_type": "code",
   "execution_count": 66,
   "id": "46c4df10-6a0f-4865-84ec-a501db992f76",
   "metadata": {},
   "outputs": [
    {
     "data": {
      "text/plain": [
       "(46300,)"
      ]
     },
     "execution_count": 66,
     "metadata": {},
     "output_type": "execute_result"
    }
   ],
   "source": [
    "y.shape"
   ]
  },
  {
   "cell_type": "code",
   "execution_count": 67,
   "id": "d620c1a5-6c56-484f-8ec4-2aee08078d89",
   "metadata": {},
   "outputs": [
    {
     "data": {
      "text/plain": [
       "array([100000, 219000, 285000, ..., 235000, 316200, 210000], dtype=object)"
      ]
     },
     "execution_count": 67,
     "metadata": {},
     "output_type": "execute_result"
    }
   ],
   "source": [
    "y"
   ]
  },
  {
   "cell_type": "code",
   "execution_count": null,
   "id": "11d5c340-d046-45de-9392-217d64eb3079",
   "metadata": {},
   "outputs": [],
   "source": []
  }
 ],
 "metadata": {
  "kernelspec": {
   "display_name": "Python 3 (ipykernel)",
   "language": "python",
   "name": "python3"
  },
  "language_info": {
   "codemirror_mode": {
    "name": "ipython",
    "version": 3
   },
   "file_extension": ".py",
   "mimetype": "text/x-python",
   "name": "python",
   "nbconvert_exporter": "python",
   "pygments_lexer": "ipython3",
   "version": "3.10.6"
  }
 },
 "nbformat": 4,
 "nbformat_minor": 5
}
