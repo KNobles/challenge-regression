{
 "cells": [
  {
   "cell_type": "code",
   "execution_count": 1,
   "id": "b8c56074-7861-40d5-946b-8cac019ecaae",
   "metadata": {},
   "outputs": [],
   "source": [
    "import pandas as pd\n",
    "import numpy as np\n",
    "import statistics\n",
    "\n",
    "import seaborn as sns\n",
    "from matplotlib import pyplot as plt\n",
    "\n",
    "from scipy import stats\n",
    "\n",
    "import operator\n",
    "\n",
    "from sklearn.model_selection import train_test_split\n",
    "from sklearn.linear_model import LinearRegression\n",
    "from sklearn.metrics import mean_squared_error\n",
    "from sklearn.metrics import r2_score\n",
    "from sklearn.preprocessing import PolynomialFeatures\n",
    "from sklearn.preprocessing import StandardScaler"
   ]
  },
  {
   "cell_type": "markdown",
   "id": "46113c0b-f7f8-4042-aad5-a6be24afaa20",
   "metadata": {
    "jp-MarkdownHeadingCollapsed": true,
    "tags": []
   },
   "source": [
    "### **Import** DataBase"
   ]
  },
  {
   "cell_type": "code",
   "execution_count": 2,
   "id": "ac0575ac-4560-4431-992b-702d9ffd31da",
   "metadata": {},
   "outputs": [],
   "source": [
    "df = pd.read_csv('Property_structured_data.csv')"
   ]
  },
  {
   "cell_type": "code",
   "execution_count": 3,
   "id": "ca8e6c14-27c2-4b0f-ba19-0f2ba06f5313",
   "metadata": {},
   "outputs": [],
   "source": [
    "df_shape_initial = df.shape"
   ]
  },
  {
   "cell_type": "markdown",
   "id": "b3e5515c-f057-42bd-b599-58b0fffb0dce",
   "metadata": {
    "tags": []
   },
   "source": [
    "### **Clean** DataBase"
   ]
  },
  {
   "cell_type": "markdown",
   "id": "0b6d04f8-7d4e-4848-80e4-9847c3f592a4",
   "metadata": {},
   "source": [
    "Transform the data into digits, drop elements that are outliers, change -1 to 1 (Nan = -1 in this DataBase)"
   ]
  },
  {
   "cell_type": "markdown",
   "id": "16e306a6-5475-4946-be7a-5829f875e69e",
   "metadata": {
    "tags": []
   },
   "source": [
    "#### **Price** (float)"
   ]
  },
  {
   "cell_type": "code",
   "execution_count": 4,
   "id": "33d00d7a-1e0f-4735-89bb-f4c92d504d5d",
   "metadata": {},
   "outputs": [],
   "source": [
    "z_scores_price = stats.zscore(df['price'])\n",
    "abs_z_scores_price = np.abs(z_scores_price) \n",
    "filtered_entries_price = (abs_z_scores_price < 1)\n",
    "df = df[filtered_entries_price]"
   ]
  },
  {
   "cell_type": "code",
   "execution_count": 5,
   "id": "2b0dfb30-afda-4d4e-ac4f-4bc8247ea71a",
   "metadata": {
    "tags": []
   },
   "outputs": [],
   "source": [
    "df= df.loc[df['price'] != -1]"
   ]
  },
  {
   "cell_type": "markdown",
   "id": "9f927464-faad-4588-b406-56e631973524",
   "metadata": {
    "tags": []
   },
   "source": [
    "#### **Surface** (float)"
   ]
  },
  {
   "cell_type": "code",
   "execution_count": 6,
   "id": "e8c28b9e-614e-46a5-b0b9-05d05fc3e1cd",
   "metadata": {},
   "outputs": [],
   "source": [
    "df = df.loc[df['surface'] <= 800]"
   ]
  },
  {
   "cell_type": "code",
   "execution_count": 7,
   "id": "3b5b80d7-5f88-4b95-b0d1-107dc16c9f3a",
   "metadata": {},
   "outputs": [],
   "source": [
    "df = df.loc[df['surface'] >= 35]"
   ]
  },
  {
   "cell_type": "code",
   "execution_count": 8,
   "id": "a9ef092c-5d1b-410d-8973-9edd67493d33",
   "metadata": {
    "tags": []
   },
   "outputs": [],
   "source": [
    "df = df.loc[df['surface'] != -1]"
   ]
  },
  {
   "cell_type": "markdown",
   "id": "b6df2fd2-e04c-44e7-9349-5ea9a327cab5",
   "metadata": {
    "tags": []
   },
   "source": [
    "#### **Sub type of property** (str)"
   ]
  },
  {
   "cell_type": "code",
   "execution_count": 9,
   "id": "089ff62b-7009-4129-ba43-d19c9be1d983",
   "metadata": {
    "tags": []
   },
   "outputs": [
    {
     "data": {
      "text/plain": [
       "HOUSE                   19895\n",
       "APARTMENT               15178\n",
       "VILLA                    2083\n",
       "DUPLEX                   1179\n",
       "APARTMENT_BLOCK          1100\n",
       "GROUND_FLOOR             1097\n",
       "MIXED_USE_BUILDING        839\n",
       "PENTHOUSE                 809\n",
       "SERVICE_FLAT              469\n",
       "FLAT_STUDIO               450\n",
       "TOWN_HOUSE                367\n",
       "MANSION                   358\n",
       "EXCEPTIONAL_PROPERTY      355\n",
       "COUNTRY_COTTAGE           253\n",
       "BUNGALOW                  239\n",
       "LOFT                      197\n",
       "FARMHOUSE                 123\n",
       "TRIPLEX                   106\n",
       "CHALET                    101\n",
       "OTHER_PROPERTY             56\n",
       "MANOR_HOUSE                33\n",
       "KOT                         8\n",
       "CASTLE                      4\n",
       "PAVILION                    1\n",
       "Name: subtype_of_property, dtype: int64"
      ]
     },
     "execution_count": 9,
     "metadata": {},
     "output_type": "execute_result"
    }
   ],
   "source": [
    "df['subtype_of_property'].value_counts()"
   ]
  },
  {
   "cell_type": "code",
   "execution_count": 10,
   "id": "4f9b5f63-bfbf-4308-955a-aafa9d7dd462",
   "metadata": {},
   "outputs": [],
   "source": [
    "df= df.loc[df['subtype_of_property'] != 'APARTMENT_BLOCK']"
   ]
  },
  {
   "cell_type": "code",
   "execution_count": 11,
   "id": "474d1b65-e002-4ec8-99f0-aeb655ec497f",
   "metadata": {},
   "outputs": [],
   "source": [
    "df= df.loc[df['subtype_of_property'] != 'MIXED_USE_BUILDING']"
   ]
  },
  {
   "cell_type": "code",
   "execution_count": 12,
   "id": "8595e36a-ec25-4492-94ae-0fc9ac26cbc7",
   "metadata": {},
   "outputs": [],
   "source": [
    "others = [\"CHALET\", \"MANOR_HOUSE\", \"OTHER_PROPERTY\", \"CASTLE\", \"PAVILION\"]"
   ]
  },
  {
   "cell_type": "code",
   "execution_count": 13,
   "id": "83597451-4a83-44d7-aa6c-9c519698ded7",
   "metadata": {},
   "outputs": [],
   "source": [
    "df.loc[df[\"subtype_of_property\"].isin(others), \"type_of_property\"] = \"OTHER\""
   ]
  },
  {
   "cell_type": "markdown",
   "id": "52077eff-569f-4d10-98fd-7a99797a9af7",
   "metadata": {
    "tags": []
   },
   "source": [
    "#### **Number of bedrooms** (int)"
   ]
  },
  {
   "cell_type": "code",
   "execution_count": 14,
   "id": "67d8b3e6-a37d-44d1-b2f4-0105e53d7999",
   "metadata": {},
   "outputs": [],
   "source": [
    "df = df.loc[df['number_of_bedrooms'] <20]"
   ]
  },
  {
   "cell_type": "code",
   "execution_count": 15,
   "id": "5d9fff55-b04b-454f-a588-0a22adb8485c",
   "metadata": {},
   "outputs": [],
   "source": [
    "df['type_of_property'] = np.where((df['number_of_bedrooms'] > 20), \"OTHER\", df['type_of_property'])"
   ]
  },
  {
   "cell_type": "code",
   "execution_count": 16,
   "id": "3876a2c4-8436-4806-aa18-f2d800a2ca84",
   "metadata": {},
   "outputs": [],
   "source": [
    "df['number_of_bedrooms'] = df['number_of_bedrooms'].replace(-1,0)"
   ]
  },
  {
   "cell_type": "markdown",
   "id": "3ce9ff47-b1f6-4dea-92d0-9171ddbf8685",
   "metadata": {
    "tags": []
   },
   "source": [
    "#### **Zip Code** (category)"
   ]
  },
  {
   "cell_type": "code",
   "execution_count": 17,
   "id": "aec18d35-5d6e-4724-9ca5-8f363b6fecdc",
   "metadata": {},
   "outputs": [],
   "source": [
    "df['zip_code_xx'] = df['postal_code'].apply(lambda x : 'be_zip_'+str(x)[:3])"
   ]
  },
  {
   "cell_type": "markdown",
   "id": "97b291a7-1212-4240-96db-2ce2720ae9c7",
   "metadata": {
    "tags": []
   },
   "source": [
    "#### **Land surface** (float)"
   ]
  },
  {
   "cell_type": "code",
   "execution_count": 18,
   "id": "04572d4c-0a3d-43db-98b7-9e26c2cc140e",
   "metadata": {},
   "outputs": [],
   "source": [
    "df['land_surface'] = [land_surface if land_surface != -1 else garden_surface if garden_surface > 0 else land_surface for garden_surface,land_surface in zip(df['garden_surface'],df['land_surface'])]"
   ]
  },
  {
   "cell_type": "code",
   "execution_count": 19,
   "id": "78ec5e86-4782-4142-b177-ae19a6be8928",
   "metadata": {},
   "outputs": [],
   "source": [
    "df['land_surface'] = df['land_surface'].replace(-1,0)"
   ]
  },
  {
   "cell_type": "markdown",
   "id": "eeec778e-12ae-480c-82c6-405490ec5315",
   "metadata": {
    "tags": []
   },
   "source": [
    "#### **Garden** (0,1)"
   ]
  },
  {
   "cell_type": "code",
   "execution_count": 20,
   "id": "9feaada6-8b3f-480a-936f-0cf7f62d2561",
   "metadata": {},
   "outputs": [],
   "source": [
    "df['garden'] = df['garden'].replace(-1,0)"
   ]
  },
  {
   "cell_type": "markdown",
   "id": "4d0d6c6d-4696-49cd-9f26-c5add6d825fb",
   "metadata": {
    "tags": []
   },
   "source": [
    "#### **Garden surface** (float)"
   ]
  },
  {
   "cell_type": "code",
   "execution_count": 21,
   "id": "cb34919d-b56f-486c-8fba-16e583b5aaa1",
   "metadata": {},
   "outputs": [],
   "source": [
    "df['garden_surface'] = df['garden_surface'].replace(-1,0)"
   ]
  },
  {
   "cell_type": "code",
   "execution_count": 22,
   "id": "52bbc8cd-dfcb-4cae-bc86-ac919d1dbc9c",
   "metadata": {},
   "outputs": [],
   "source": [
    "df['garden_surface'] = df['garden_surface'].replace(1,0)"
   ]
  },
  {
   "cell_type": "code",
   "execution_count": 23,
   "id": "c4af90c1-9326-4659-878d-e15f8e0a466e",
   "metadata": {},
   "outputs": [],
   "source": [
    "df.loc[(df[\"garden_surface\"] > 2000) & (df['type_of_property'] == 'APARTMENT'),'type_of_property'] = \"OTHER\""
   ]
  },
  {
   "cell_type": "markdown",
   "id": "a36b8eb6-215b-4fc6-aec2-b44c8bdc68a4",
   "metadata": {
    "tags": []
   },
   "source": [
    "#### **Fully equiped kitchen** (int)"
   ]
  },
  {
   "cell_type": "code",
   "execution_count": 24,
   "id": "8852b657-4e0c-4a07-8d97-0336cd1af716",
   "metadata": {},
   "outputs": [],
   "source": [
    "df[\"fully_equipped_kitchen\"] = df[\"fully_equipped_kitchen\"].map({\"-1.0\": 0.25, \"1.0\": 1,\"-1\": 0.25, \"1\": 1, \"INSTALLED\": 0.5, \"SEMI_EQUIPPED\": 0.75, \"NOT_INSTALLED\": 0, \"USA_INSTALLED\": 0.5, \"USA_SEMI_EQUIPPED\": 0.75, \"USA_UNINSTALLED\": 0})"
   ]
  },
  {
   "cell_type": "code",
   "execution_count": 25,
   "id": "b6325560-dd68-4317-937b-529dc6afd15b",
   "metadata": {},
   "outputs": [],
   "source": [
    "#df[\"fully_equipped_kitchen\"] = df[\"fully_equipped_kitchen\"].map({\"-1.0\": 0, \"1.0\": 1,\"-1\": 0, \"1\": 1, \"INSTALLED\": 0, \"SEMI_EQUIPPED\": 1, \"NOT_INSTALLED\": 0, \"USA_INSTALLED\": 0, \"USA_SEMI_EQUIPPED\": 1, \"USA_UNINSTALLED\": 0})"
   ]
  },
  {
   "cell_type": "markdown",
   "id": "58185812-8e59-41ec-a252-c1eb6c650a34",
   "metadata": {
    "tags": []
   },
   "source": [
    "#### **Swiming pool**  (0,1)"
   ]
  },
  {
   "cell_type": "code",
   "execution_count": 26,
   "id": "b86064d5-deca-4195-98ac-08b5ce6cefb9",
   "metadata": {},
   "outputs": [],
   "source": [
    "df['swimming_pool'] = df['swimming_pool'].replace(-1,0)"
   ]
  },
  {
   "cell_type": "markdown",
   "id": "f8f1e389-4ed5-46ca-81d0-3ddc8e58a39a",
   "metadata": {
    "tags": []
   },
   "source": [
    "#### **Furnished** (0,1)"
   ]
  },
  {
   "cell_type": "code",
   "execution_count": 27,
   "id": "5934615e-fa8f-4091-a12b-cf8cecd3f0e1",
   "metadata": {},
   "outputs": [],
   "source": [
    "df['furnished'] = df['furnished'].replace(-1,0)"
   ]
  },
  {
   "cell_type": "markdown",
   "id": "2b2b57aa-d2db-470d-858d-315410eb116a",
   "metadata": {
    "tags": []
   },
   "source": [
    "#### **Open fire** (0,1)"
   ]
  },
  {
   "cell_type": "code",
   "execution_count": 28,
   "id": "da2ab6c0-e078-4950-9d4c-6e703ce0bc1c",
   "metadata": {},
   "outputs": [],
   "source": [
    "df['open_fire'] = df['open_fire'].replace(-1,0)"
   ]
  },
  {
   "cell_type": "markdown",
   "id": "56cc21c9-87f2-4dfa-8376-9e50e39c5b57",
   "metadata": {
    "tags": []
   },
   "source": [
    "#### **Terrace** (0,1)"
   ]
  },
  {
   "cell_type": "code",
   "execution_count": 29,
   "id": "362d9dbf-1e50-41c4-8b8b-19ea387ddd95",
   "metadata": {},
   "outputs": [],
   "source": [
    "df['terrace'] = df['terrace'].replace(-1,0)"
   ]
  },
  {
   "cell_type": "markdown",
   "id": "59f6b318-800f-47d5-8d8f-98a549b33d3d",
   "metadata": {
    "tags": []
   },
   "source": [
    "#### **Terrace surface** (float)"
   ]
  },
  {
   "cell_type": "code",
   "execution_count": 30,
   "id": "a4c8bde7-7dcd-4341-aa2c-ce8ef6969da4",
   "metadata": {},
   "outputs": [],
   "source": [
    "df = df.loc[df['terrace_surface'] < 500]"
   ]
  },
  {
   "cell_type": "code",
   "execution_count": 31,
   "id": "d5ec63e9-1f16-4255-bcfa-363f7bdfedf1",
   "metadata": {},
   "outputs": [],
   "source": [
    "df['terrace_surface'] = df['terrace_surface'].replace(-1,0)"
   ]
  },
  {
   "cell_type": "markdown",
   "id": "e7438c79-a7e5-4381-90dc-fe3407a3b0d1",
   "metadata": {
    "tags": []
   },
   "source": [
    "#### **Facades** (int)"
   ]
  },
  {
   "cell_type": "code",
   "execution_count": 32,
   "id": "1b5dd0ea-376c-4bec-ad67-dc170dac9fa7",
   "metadata": {},
   "outputs": [],
   "source": [
    "df = df.loc[df[\"number_of_facades\"] < 9]"
   ]
  },
  {
   "cell_type": "code",
   "execution_count": 33,
   "id": "8c8ef143-e31a-47f7-b8f1-841e10a34805",
   "metadata": {},
   "outputs": [],
   "source": [
    "df[\"number_of_facades\"] = np.where((df[\"number_of_facades\"] == -1) & (df[\"type_of_property\"] == \"APARTMENT\"), 1, df[\"number_of_facades\"])"
   ]
  },
  {
   "cell_type": "code",
   "execution_count": 34,
   "id": "9193ae4f-ac99-48c6-ae88-5a07e29ebf49",
   "metadata": {},
   "outputs": [],
   "source": [
    "df[\"number_of_facades\"] = np.where((df[\"number_of_facades\"] == -1) & (df[\"type_of_property\"] == \"HOUSE\"), 2, df[\"number_of_facades\"])"
   ]
  },
  {
   "cell_type": "code",
   "execution_count": 35,
   "id": "0e36aca8-617d-4116-a24d-0d654d64fcfe",
   "metadata": {},
   "outputs": [],
   "source": [
    "df = df.loc[df[\"number_of_facades\"] != -1]"
   ]
  },
  {
   "cell_type": "markdown",
   "id": "c75b4f65-c15f-4114-bcbb-a049071e5e12",
   "metadata": {
    "tags": []
   },
   "source": [
    "#### **State of the building** (int)"
   ]
  },
  {
   "cell_type": "code",
   "execution_count": 36,
   "id": "864866ce-49f9-493c-99ed-c1a50aa500be",
   "metadata": {},
   "outputs": [],
   "source": [
    "df[\"state_of_the_building\"] = df[\"state_of_the_building\"].map({\n",
    "    \"NO_INFO\": 0.25, #\"TO_RENOVATE\"\n",
    "    \"TO_BE_DONE_UP\": 0.75, #\"JUST_RENOVATED\"\n",
    "    \"TO_RENOVATE\": 0.25, #\"TO_RENOVATE\"\n",
    "    \"TO_RESTORE\": 0.25, #\"TO_REBUILD\"\n",
    "    \"JUST_RENOVATED\": 0.75, #\"JUST_RENOVATED\"\n",
    "    \"GOOD\": 0.5, #\"GOOD\"\n",
    "    \"AS_NEW\": 1.0 #\"NEW\"\n",
    "})"
   ]
  },
  {
   "cell_type": "markdown",
   "id": "52d059fe-36c3-4462-b25c-a3844bba0688",
   "metadata": {
    "tags": []
   },
   "source": [
    "#### **Type of property** (category)"
   ]
  },
  {
   "cell_type": "code",
   "execution_count": 37,
   "id": "254f8acf-1e32-482b-add9-5e884b277936",
   "metadata": {},
   "outputs": [],
   "source": [
    "df_other = df.loc[df[\"type_of_property\"] == \"OTHER\"]"
   ]
  },
  {
   "cell_type": "code",
   "execution_count": 38,
   "id": "3348f0c0-260e-4005-a84a-cb0a01b5303a",
   "metadata": {},
   "outputs": [],
   "source": [
    "df= df.loc[df[\"type_of_property\"] != \"OTHER\"]"
   ]
  },
  {
   "cell_type": "markdown",
   "id": "322c49a6-b9a0-456e-9d53-fb9c3e7afa0b",
   "metadata": {
    "tags": []
   },
   "source": [
    "### **Add Values** to DataBase"
   ]
  },
  {
   "cell_type": "markdown",
   "id": "6d484790-8013-49db-b5aa-c9c4d949cd4e",
   "metadata": {
    "tags": []
   },
   "source": [
    "#### **price/m²** calculate(float)"
   ]
  },
  {
   "cell_type": "code",
   "execution_count": 39,
   "id": "662cd487-6b5a-4d70-82b2-4cda31335030",
   "metadata": {},
   "outputs": [],
   "source": [
    "df['price_m2'] = round(df['price']/df['surface'],2)"
   ]
  },
  {
   "cell_type": "markdown",
   "id": "4cc2c7a7-d49a-42fe-8b7d-a7743efbf805",
   "metadata": {
    "tags": []
   },
   "source": [
    "#### **zipcode ratio** calculate(float)"
   ]
  },
  {
   "cell_type": "markdown",
   "id": "a5f4ae59-cbd1-4936-bece-40e86dc5cc91",
   "metadata": {},
   "source": [
    "Calculate the mean value of price/m² by zip"
   ]
  },
  {
   "cell_type": "code",
   "execution_count": 40,
   "id": "3dd32d57-9ca5-49c3-bebc-d98744da834b",
   "metadata": {},
   "outputs": [],
   "source": [
    "df_zip_list = ['price_m2','zip_code_xx']"
   ]
  },
  {
   "cell_type": "code",
   "execution_count": 41,
   "id": "0ba2707e-c480-44c2-a37e-7c8ff362373b",
   "metadata": {},
   "outputs": [],
   "source": [
    "df_zips = df[df_zip_list]"
   ]
  },
  {
   "cell_type": "code",
   "execution_count": 42,
   "id": "12aff137-9a9c-455c-88e1-73870211d7f4",
   "metadata": {},
   "outputs": [],
   "source": [
    "xxx_zip = df_zips.groupby('zip_code_xx')"
   ]
  },
  {
   "cell_type": "code",
   "execution_count": 43,
   "id": "8ba3bc80-58e7-4cbd-887a-27d98b194fe7",
   "metadata": {
    "tags": []
   },
   "outputs": [],
   "source": [
    "xxx_zip_list = []  #stores the name of each zipcode from the data base\n",
    "for key, values in xxx_zip:\n",
    "    xxx_zip_list.append(key)"
   ]
  },
  {
   "cell_type": "code",
   "execution_count": 44,
   "id": "4fcec9ad-1bfd-4b56-abc0-56e228dfda24",
   "metadata": {},
   "outputs": [],
   "source": [
    "df_zips_mean = round(df_zips.groupby('zip_code_xx').mean(),2)"
   ]
  },
  {
   "cell_type": "code",
   "execution_count": 45,
   "id": "a88133b3-42a2-42f2-b3ce-b4a4ba83b00b",
   "metadata": {},
   "outputs": [],
   "source": [
    "df_zips_mean_values = df_zips_mean.values  # calculates mean for each zipxx"
   ]
  },
  {
   "cell_type": "code",
   "execution_count": 46,
   "id": "c2273446-9025-469e-9ce1-e718bb8a05b8",
   "metadata": {},
   "outputs": [],
   "source": [
    "zip_mean = [] # stores the values as a list of mean for each zipxx\n",
    "for x in df_zips_mean_values:\n",
    "    for i in x:\n",
    "        zip_mean.append(i)"
   ]
  },
  {
   "cell_type": "code",
   "execution_count": 47,
   "id": "3b57ccba-4f56-4e4d-ab16-5353da54d5b2",
   "metadata": {},
   "outputs": [],
   "source": [
    "global_mean = statistics.mean(zip_mean)  #calculate a global mean"
   ]
  },
  {
   "cell_type": "code",
   "execution_count": 48,
   "id": "f1420824-7f2c-4947-9204-10bf34f6e90d",
   "metadata": {},
   "outputs": [],
   "source": [
    "xxx = [] #list of the ponderated means \n",
    "for y,i in enumerate(zip_mean):\n",
    "    xxx.append(round(i/global_mean,2)) #calculates the relation of mean/zip code and the global mean"
   ]
  },
  {
   "cell_type": "markdown",
   "id": "218f22e8-c610-4c5e-a6e8-1c403988a679",
   "metadata": {},
   "source": [
    "Send this to the data frame as a column"
   ]
  },
  {
   "cell_type": "code",
   "execution_count": 49,
   "id": "f7b25387-4ef6-43b8-938e-b702e6efe288",
   "metadata": {},
   "outputs": [],
   "source": [
    "dic_zip_value = dict()  #creates a dictionay for zipcodes and values\n",
    "for i,x in enumerate(xxx_zip_list):\n",
    "    dic_zip_value[x] = xxx[i]"
   ]
  },
  {
   "cell_type": "code",
   "execution_count": 50,
   "id": "de2e207e-2156-4b37-b3d3-fe7400f3e211",
   "metadata": {},
   "outputs": [
    {
     "data": {
      "text/plain": [
       "{'be_zip_100': 1.78,\n",
       " 'be_zip_102': 1.24,\n",
       " 'be_zip_103': 1.37,\n",
       " 'be_zip_104': 1.77,\n",
       " 'be_zip_105': 1.94,\n",
       " 'be_zip_106': 1.58,\n",
       " 'be_zip_107': 1.25,\n",
       " 'be_zip_108': 1.18,\n",
       " 'be_zip_109': 1.26,\n",
       " 'be_zip_112': 1.31,\n",
       " 'be_zip_113': 1.19,\n",
       " 'be_zip_114': 1.42,\n",
       " 'be_zip_115': 1.82,\n",
       " 'be_zip_116': 1.89,\n",
       " 'be_zip_117': 1.7,\n",
       " 'be_zip_118': 1.73,\n",
       " 'be_zip_119': 1.36,\n",
       " 'be_zip_120': 1.68,\n",
       " 'be_zip_121': 1.29,\n",
       " 'be_zip_130': 1.33,\n",
       " 'be_zip_131': 1.2,\n",
       " 'be_zip_132': 1.27,\n",
       " 'be_zip_133': 1.36,\n",
       " 'be_zip_134': 1.52,\n",
       " 'be_zip_135': 0.87,\n",
       " 'be_zip_136': 0.97,\n",
       " 'be_zip_137': 1.01,\n",
       " 'be_zip_138': 1.56,\n",
       " 'be_zip_139': 1.14,\n",
       " 'be_zip_140': 1.09,\n",
       " 'be_zip_141': 1.5,\n",
       " 'be_zip_142': 1.23,\n",
       " 'be_zip_143': 0.98,\n",
       " 'be_zip_144': 1.04,\n",
       " 'be_zip_145': 0.97,\n",
       " 'be_zip_146': 0.93,\n",
       " 'be_zip_147': 1.06,\n",
       " 'be_zip_148': 1.07,\n",
       " 'be_zip_149': 1.18,\n",
       " 'be_zip_150': 1.25,\n",
       " 'be_zip_154': 0.93,\n",
       " 'be_zip_156': 1.59,\n",
       " 'be_zip_157': 0.98,\n",
       " 'be_zip_160': 1.22,\n",
       " 'be_zip_162': 1.24,\n",
       " 'be_zip_163': 1.27,\n",
       " 'be_zip_164': 1.47,\n",
       " 'be_zip_165': 1.23,\n",
       " 'be_zip_167': 0.93,\n",
       " 'be_zip_170': 1.35,\n",
       " 'be_zip_173': 1.24,\n",
       " 'be_zip_174': 1.07,\n",
       " 'be_zip_175': 1.05,\n",
       " 'be_zip_176': 1.06,\n",
       " 'be_zip_177': 0.95,\n",
       " 'be_zip_178': 1.3,\n",
       " 'be_zip_179': 0.94,\n",
       " 'be_zip_180': 1.17,\n",
       " 'be_zip_182': 1.14,\n",
       " 'be_zip_183': 1.38,\n",
       " 'be_zip_184': 1.07,\n",
       " 'be_zip_185': 1.18,\n",
       " 'be_zip_186': 1.26,\n",
       " 'be_zip_188': 0.98,\n",
       " 'be_zip_191': 1.13,\n",
       " 'be_zip_193': 1.47,\n",
       " 'be_zip_195': 1.64,\n",
       " 'be_zip_197': 1.74,\n",
       " 'be_zip_198': 1.11,\n",
       " 'be_zip_200': 1.82,\n",
       " 'be_zip_201': 1.48,\n",
       " 'be_zip_202': 1.22,\n",
       " 'be_zip_203': 1.22,\n",
       " 'be_zip_204': 1.05,\n",
       " 'be_zip_205': 1.38,\n",
       " 'be_zip_206': 1.21,\n",
       " 'be_zip_207': 1.2,\n",
       " 'be_zip_210': 1.1,\n",
       " 'be_zip_211': 1.27,\n",
       " 'be_zip_214': 1.14,\n",
       " 'be_zip_215': 1.29,\n",
       " 'be_zip_216': 1.32,\n",
       " 'be_zip_217': 1.1,\n",
       " 'be_zip_218': 1.1,\n",
       " 'be_zip_220': 1.08,\n",
       " 'be_zip_222': 1.06,\n",
       " 'be_zip_223': 1.12,\n",
       " 'be_zip_224': 1.22,\n",
       " 'be_zip_225': 1.09,\n",
       " 'be_zip_226': 0.95,\n",
       " 'be_zip_227': 1.12,\n",
       " 'be_zip_228': 1.22,\n",
       " 'be_zip_229': 1.05,\n",
       " 'be_zip_230': 1.02,\n",
       " 'be_zip_231': 0.99,\n",
       " 'be_zip_232': 1.42,\n",
       " 'be_zip_233': 0.9,\n",
       " 'be_zip_234': 1.06,\n",
       " 'be_zip_235': 1.05,\n",
       " 'be_zip_236': 0.99,\n",
       " 'be_zip_237': 1.05,\n",
       " 'be_zip_238': 1.03,\n",
       " 'be_zip_239': 1.49,\n",
       " 'be_zip_240': 1.04,\n",
       " 'be_zip_243': 1.01,\n",
       " 'be_zip_244': 0.98,\n",
       " 'be_zip_245': 0.91,\n",
       " 'be_zip_246': 1.01,\n",
       " 'be_zip_247': 1.01,\n",
       " 'be_zip_248': 1.05,\n",
       " 'be_zip_249': 0.96,\n",
       " 'be_zip_250': 1.26,\n",
       " 'be_zip_252': 1.19,\n",
       " 'be_zip_253': 1.15,\n",
       " 'be_zip_254': 1.38,\n",
       " 'be_zip_255': 1.29,\n",
       " 'be_zip_256': 1.16,\n",
       " 'be_zip_257': 1.08,\n",
       " 'be_zip_258': 1.04,\n",
       " 'be_zip_259': 1.17,\n",
       " 'be_zip_260': 1.3,\n",
       " 'be_zip_261': 1.21,\n",
       " 'be_zip_262': 1.08,\n",
       " 'be_zip_263': 1.29,\n",
       " 'be_zip_264': 1.28,\n",
       " 'be_zip_265': 1.44,\n",
       " 'be_zip_266': 1.04,\n",
       " 'be_zip_280': 1.23,\n",
       " 'be_zip_281': 1.23,\n",
       " 'be_zip_282': 1.2,\n",
       " 'be_zip_283': 1.19,\n",
       " 'be_zip_284': 1.18,\n",
       " 'be_zip_285': 1.07,\n",
       " 'be_zip_286': 1.21,\n",
       " 'be_zip_287': 1.28,\n",
       " 'be_zip_288': 1.19,\n",
       " 'be_zip_289': 1.11,\n",
       " 'be_zip_290': 1.11,\n",
       " 'be_zip_291': 1.13,\n",
       " 'be_zip_292': 1.2,\n",
       " 'be_zip_293': 1.39,\n",
       " 'be_zip_294': 1.11,\n",
       " 'be_zip_295': 1.25,\n",
       " 'be_zip_296': 1.33,\n",
       " 'be_zip_297': 1.43,\n",
       " 'be_zip_298': 1.29,\n",
       " 'be_zip_299': 1.24,\n",
       " 'be_zip_300': 1.91,\n",
       " 'be_zip_301': 1.38,\n",
       " 'be_zip_302': 1.47,\n",
       " 'be_zip_304': 1.2,\n",
       " 'be_zip_305': 1.39,\n",
       " 'be_zip_306': 1.21,\n",
       " 'be_zip_307': 1.16,\n",
       " 'be_zip_308': 1.49,\n",
       " 'be_zip_309': 1.37,\n",
       " 'be_zip_311': 1.18,\n",
       " 'be_zip_312': 1.19,\n",
       " 'be_zip_313': 1.03,\n",
       " 'be_zip_314': 1.15,\n",
       " 'be_zip_315': 1.11,\n",
       " 'be_zip_319': 1.16,\n",
       " 'be_zip_320': 1.05,\n",
       " 'be_zip_321': 1.13,\n",
       " 'be_zip_322': 1.09,\n",
       " 'be_zip_327': 1.09,\n",
       " 'be_zip_329': 0.96,\n",
       " 'be_zip_330': 1.02,\n",
       " 'be_zip_332': 0.74,\n",
       " 'be_zip_335': 1.04,\n",
       " 'be_zip_336': 1.4,\n",
       " 'be_zip_337': 1.13,\n",
       " 'be_zip_338': 0.79,\n",
       " 'be_zip_339': 1.08,\n",
       " 'be_zip_340': 0.8,\n",
       " 'be_zip_344': 0.84,\n",
       " 'be_zip_345': 0.92,\n",
       " 'be_zip_346': 0.95,\n",
       " 'be_zip_347': 0.87,\n",
       " 'be_zip_350': 1.35,\n",
       " 'be_zip_351': 0.94,\n",
       " 'be_zip_352': 0.96,\n",
       " 'be_zip_353': 0.88,\n",
       " 'be_zip_354': 0.96,\n",
       " 'be_zip_355': 0.89,\n",
       " 'be_zip_356': 1.02,\n",
       " 'be_zip_357': 0.97,\n",
       " 'be_zip_358': 0.9,\n",
       " 'be_zip_359': 1.01,\n",
       " 'be_zip_360': 1.01,\n",
       " 'be_zip_362': 1.03,\n",
       " 'be_zip_363': 0.99,\n",
       " 'be_zip_364': 0.87,\n",
       " 'be_zip_365': 0.9,\n",
       " 'be_zip_366': 0.94,\n",
       " 'be_zip_367': 1.06,\n",
       " 'be_zip_368': 0.87,\n",
       " 'be_zip_369': 0.93,\n",
       " 'be_zip_370': 0.9,\n",
       " 'be_zip_372': 0.92,\n",
       " 'be_zip_373': 0.91,\n",
       " 'be_zip_374': 0.93,\n",
       " 'be_zip_377': 0.64,\n",
       " 'be_zip_379': 0.88,\n",
       " 'be_zip_380': 0.93,\n",
       " 'be_zip_383': 0.85,\n",
       " 'be_zip_384': 0.97,\n",
       " 'be_zip_385': 0.93,\n",
       " 'be_zip_387': 0.83,\n",
       " 'be_zip_389': 0.83,\n",
       " 'be_zip_390': 1.0,\n",
       " 'be_zip_391': 0.91,\n",
       " 'be_zip_392': 1.0,\n",
       " 'be_zip_393': 1.0,\n",
       " 'be_zip_394': 0.96,\n",
       " 'be_zip_395': 0.92,\n",
       " 'be_zip_396': 0.93,\n",
       " 'be_zip_397': 0.81,\n",
       " 'be_zip_398': 0.94,\n",
       " 'be_zip_399': 1.3,\n",
       " 'be_zip_400': 1.0,\n",
       " 'be_zip_402': 0.85,\n",
       " 'be_zip_403': 0.77,\n",
       " 'be_zip_404': 0.83,\n",
       " 'be_zip_405': 0.96,\n",
       " 'be_zip_410': 0.8,\n",
       " 'be_zip_412': 1.03,\n",
       " 'be_zip_413': 0.95,\n",
       " 'be_zip_414': 0.84,\n",
       " 'be_zip_416': 0.9,\n",
       " 'be_zip_417': 0.62,\n",
       " 'be_zip_418': 0.63,\n",
       " 'be_zip_419': 0.76,\n",
       " 'be_zip_421': 0.87,\n",
       " 'be_zip_425': 0.83,\n",
       " 'be_zip_426': 0.76,\n",
       " 'be_zip_428': 0.83,\n",
       " 'be_zip_430': 0.82,\n",
       " 'be_zip_431': 0.7,\n",
       " 'be_zip_434': 0.87,\n",
       " 'be_zip_435': 0.78,\n",
       " 'be_zip_436': 0.95,\n",
       " 'be_zip_440': 0.83,\n",
       " 'be_zip_442': 0.71,\n",
       " 'be_zip_443': 0.83,\n",
       " 'be_zip_445': 0.92,\n",
       " 'be_zip_446': 0.71,\n",
       " 'be_zip_447': 0.87,\n",
       " 'be_zip_448': 0.69,\n",
       " 'be_zip_450': 0.72,\n",
       " 'be_zip_452': 0.77,\n",
       " 'be_zip_453': 0.9,\n",
       " 'be_zip_454': 0.64,\n",
       " 'be_zip_455': 0.84,\n",
       " 'be_zip_456': 0.7,\n",
       " 'be_zip_457': 0.67,\n",
       " 'be_zip_459': 0.73,\n",
       " 'be_zip_460': 0.91,\n",
       " 'be_zip_461': 0.78,\n",
       " 'be_zip_462': 1.0,\n",
       " 'be_zip_463': 1.03,\n",
       " 'be_zip_465': 0.93,\n",
       " 'be_zip_467': 0.97,\n",
       " 'be_zip_468': 0.96,\n",
       " 'be_zip_469': 0.67,\n",
       " 'be_zip_470': 0.98,\n",
       " 'be_zip_471': 1.21,\n",
       " 'be_zip_472': 0.83,\n",
       " 'be_zip_473': 1.07,\n",
       " 'be_zip_475': 1.08,\n",
       " 'be_zip_476': 0.74,\n",
       " 'be_zip_477': 0.64,\n",
       " 'be_zip_478': 1.42,\n",
       " 'be_zip_479': 0.56,\n",
       " 'be_zip_480': 0.77,\n",
       " 'be_zip_482': 0.56,\n",
       " 'be_zip_483': 0.83,\n",
       " 'be_zip_484': 1.21,\n",
       " 'be_zip_485': 1.2,\n",
       " 'be_zip_486': 0.63,\n",
       " 'be_zip_487': 0.72,\n",
       " 'be_zip_488': 0.96,\n",
       " 'be_zip_489': 1.17,\n",
       " 'be_zip_490': 1.11,\n",
       " 'be_zip_491': 0.89,\n",
       " 'be_zip_492': 0.8,\n",
       " 'be_zip_495': 0.91,\n",
       " 'be_zip_496': 0.91,\n",
       " 'be_zip_497': 0.87,\n",
       " 'be_zip_498': 0.91,\n",
       " 'be_zip_499': 0.78,\n",
       " 'be_zip_500': 1.02,\n",
       " 'be_zip_502': 0.98,\n",
       " 'be_zip_503': 1.05,\n",
       " 'be_zip_506': 0.81,\n",
       " 'be_zip_507': 0.76,\n",
       " 'be_zip_508': 0.95,\n",
       " 'be_zip_510': 1.12,\n",
       " 'be_zip_514': 0.85,\n",
       " 'be_zip_515': 0.9,\n",
       " 'be_zip_517': 0.93,\n",
       " 'be_zip_519': 0.76,\n",
       " 'be_zip_530': 0.82,\n",
       " 'be_zip_531': 1.0,\n",
       " 'be_zip_533': 1.01,\n",
       " 'be_zip_534': 0.83,\n",
       " 'be_zip_535': 0.66,\n",
       " 'be_zip_536': 0.84,\n",
       " 'be_zip_537': 0.74,\n",
       " 'be_zip_538': 0.9,\n",
       " 'be_zip_550': 0.72,\n",
       " 'be_zip_552': 0.7,\n",
       " 'be_zip_553': 0.86,\n",
       " 'be_zip_554': 0.71,\n",
       " 'be_zip_555': 0.59,\n",
       " 'be_zip_556': 0.84,\n",
       " 'be_zip_557': 0.66,\n",
       " 'be_zip_558': 0.72,\n",
       " 'be_zip_559': 0.85,\n",
       " 'be_zip_560': 0.68,\n",
       " 'be_zip_562': 0.7,\n",
       " 'be_zip_563': 0.64,\n",
       " 'be_zip_564': 0.75,\n",
       " 'be_zip_565': 0.65,\n",
       " 'be_zip_566': 0.6,\n",
       " 'be_zip_567': 0.51,\n",
       " 'be_zip_568': 0.46,\n",
       " 'be_zip_600': 0.65,\n",
       " 'be_zip_601': 0.53,\n",
       " 'be_zip_602': 0.48,\n",
       " 'be_zip_603': 0.67,\n",
       " 'be_zip_604': 0.58,\n",
       " 'be_zip_606': 0.63,\n",
       " 'be_zip_611': 0.84,\n",
       " 'be_zip_612': 0.88,\n",
       " 'be_zip_614': 0.7,\n",
       " 'be_zip_615': 0.58,\n",
       " 'be_zip_618': 0.71,\n",
       " 'be_zip_620': 0.59,\n",
       " 'be_zip_621': 0.95,\n",
       " 'be_zip_622': 0.76,\n",
       " 'be_zip_623': 0.79,\n",
       " 'be_zip_624': 0.66,\n",
       " 'be_zip_625': 0.76,\n",
       " 'be_zip_628': 0.87,\n",
       " 'be_zip_644': 0.86,\n",
       " 'be_zip_646': 0.47,\n",
       " 'be_zip_647': 0.6,\n",
       " 'be_zip_650': 0.64,\n",
       " 'be_zip_651': 0.55,\n",
       " 'be_zip_653': 0.73,\n",
       " 'be_zip_654': 0.79,\n",
       " 'be_zip_656': 0.59,\n",
       " 'be_zip_659': 0.51,\n",
       " 'be_zip_660': 1.13,\n",
       " 'be_zip_663': 0.91,\n",
       " 'be_zip_664': 0.76,\n",
       " 'be_zip_666': 0.79,\n",
       " 'be_zip_667': 0.69,\n",
       " 'be_zip_668': 0.79,\n",
       " 'be_zip_669': 0.76,\n",
       " 'be_zip_670': 1.07,\n",
       " 'be_zip_671': 1.14,\n",
       " 'be_zip_672': 0.85,\n",
       " 'be_zip_673': 0.74,\n",
       " 'be_zip_674': 0.91,\n",
       " 'be_zip_675': 0.65,\n",
       " 'be_zip_676': 0.72,\n",
       " 'be_zip_678': 0.94,\n",
       " 'be_zip_679': 1.04,\n",
       " 'be_zip_680': 1.02,\n",
       " 'be_zip_681': 0.98,\n",
       " 'be_zip_682': 0.78,\n",
       " 'be_zip_683': 0.78,\n",
       " 'be_zip_684': 0.78,\n",
       " 'be_zip_685': 0.84,\n",
       " 'be_zip_686': 0.68,\n",
       " 'be_zip_687': 0.63,\n",
       " 'be_zip_688': 0.62,\n",
       " 'be_zip_689': 0.84,\n",
       " 'be_zip_690': 0.83,\n",
       " 'be_zip_692': 0.77,\n",
       " 'be_zip_694': 0.95,\n",
       " 'be_zip_695': 0.7,\n",
       " 'be_zip_696': 0.71,\n",
       " 'be_zip_697': 0.86,\n",
       " 'be_zip_698': 0.71,\n",
       " 'be_zip_699': 0.72,\n",
       " 'be_zip_700': 0.86,\n",
       " 'be_zip_701': 0.51,\n",
       " 'be_zip_702': 0.73,\n",
       " 'be_zip_703': 0.66,\n",
       " 'be_zip_704': 0.75,\n",
       " 'be_zip_705': 0.97,\n",
       " 'be_zip_706': 0.87,\n",
       " 'be_zip_707': 0.78,\n",
       " 'be_zip_708': 0.62,\n",
       " 'be_zip_709': 0.92,\n",
       " 'be_zip_710': 0.71,\n",
       " 'be_zip_711': 0.58,\n",
       " 'be_zip_712': 0.58,\n",
       " 'be_zip_713': 0.59,\n",
       " 'be_zip_714': 0.58,\n",
       " 'be_zip_716': 0.73,\n",
       " 'be_zip_717': 0.69,\n",
       " 'be_zip_718': 0.88,\n",
       " 'be_zip_719': 0.82,\n",
       " 'be_zip_730': 0.53,\n",
       " 'be_zip_732': 0.63,\n",
       " 'be_zip_733': 0.75,\n",
       " 'be_zip_734': 0.48,\n",
       " 'be_zip_735': 0.59,\n",
       " 'be_zip_737': 0.51,\n",
       " 'be_zip_738': 0.51,\n",
       " 'be_zip_739': 0.52,\n",
       " 'be_zip_750': 0.86,\n",
       " 'be_zip_752': 0.76,\n",
       " 'be_zip_753': 0.52,\n",
       " 'be_zip_754': 0.83,\n",
       " 'be_zip_760': 0.53,\n",
       " 'be_zip_761': 0.77,\n",
       " 'be_zip_762': 0.86,\n",
       " 'be_zip_764': 0.68,\n",
       " 'be_zip_770': 0.76,\n",
       " 'be_zip_771': 0.8,\n",
       " 'be_zip_773': 0.79,\n",
       " 'be_zip_774': 0.79,\n",
       " 'be_zip_775': 0.88,\n",
       " 'be_zip_776': 0.9,\n",
       " 'be_zip_778': 0.64,\n",
       " 'be_zip_780': 0.98,\n",
       " 'be_zip_781': 0.71,\n",
       " 'be_zip_782': 0.74,\n",
       " 'be_zip_783': 0.97,\n",
       " 'be_zip_785': 1.02,\n",
       " 'be_zip_786': 0.72,\n",
       " 'be_zip_787': 0.54,\n",
       " 'be_zip_788': 0.64,\n",
       " 'be_zip_789': 0.93,\n",
       " 'be_zip_790': 0.69,\n",
       " 'be_zip_791': 0.78,\n",
       " 'be_zip_794': 0.63,\n",
       " 'be_zip_795': 0.56,\n",
       " 'be_zip_797': 0.54,\n",
       " 'be_zip_800': 1.33,\n",
       " 'be_zip_802': 1.08,\n",
       " 'be_zip_820': 1.35,\n",
       " 'be_zip_821': 1.19,\n",
       " 'be_zip_830': 3.25,\n",
       " 'be_zip_831': 1.07,\n",
       " 'be_zip_834': 1.21,\n",
       " 'be_zip_837': 1.52,\n",
       " 'be_zip_838': 1.54,\n",
       " 'be_zip_840': 1.41,\n",
       " 'be_zip_842': 1.55,\n",
       " 'be_zip_843': 1.51,\n",
       " 'be_zip_845': 1.18,\n",
       " 'be_zip_846': 1.11,\n",
       " 'be_zip_847': 0.98,\n",
       " 'be_zip_848': 1.0,\n",
       " 'be_zip_849': 1.19,\n",
       " 'be_zip_850': 1.12,\n",
       " 'be_zip_851': 0.92,\n",
       " 'be_zip_852': 0.8,\n",
       " 'be_zip_853': 0.98,\n",
       " 'be_zip_854': 1.06,\n",
       " 'be_zip_855': 1.11,\n",
       " 'be_zip_856': 0.84,\n",
       " 'be_zip_857': 1.27,\n",
       " 'be_zip_858': 0.85,\n",
       " 'be_zip_860': 0.92,\n",
       " 'be_zip_861': 1.04,\n",
       " 'be_zip_862': 2.01,\n",
       " 'be_zip_863': 1.21,\n",
       " 'be_zip_864': 0.66,\n",
       " 'be_zip_865': 0.98,\n",
       " 'be_zip_866': 1.61,\n",
       " 'be_zip_867': 1.84,\n",
       " 'be_zip_868': 1.09,\n",
       " 'be_zip_869': 0.85,\n",
       " 'be_zip_870': 1.04,\n",
       " 'be_zip_871': 1.02,\n",
       " 'be_zip_872': 1.22,\n",
       " 'be_zip_873': 1.01,\n",
       " 'be_zip_874': 1.02,\n",
       " 'be_zip_875': 0.99,\n",
       " 'be_zip_876': 0.85,\n",
       " 'be_zip_877': 1.04,\n",
       " 'be_zip_878': 0.89,\n",
       " 'be_zip_879': 1.29,\n",
       " 'be_zip_880': 0.99,\n",
       " 'be_zip_881': 0.81,\n",
       " 'be_zip_882': 0.97,\n",
       " 'be_zip_883': 1.03,\n",
       " 'be_zip_884': 0.92,\n",
       " 'be_zip_885': 1.02,\n",
       " 'be_zip_886': 0.8,\n",
       " 'be_zip_887': 0.85,\n",
       " 'be_zip_888': 0.81,\n",
       " 'be_zip_889': 0.79,\n",
       " 'be_zip_890': 1.15,\n",
       " 'be_zip_892': 0.96,\n",
       " 'be_zip_893': 0.7,\n",
       " 'be_zip_894': 0.76,\n",
       " 'be_zip_895': 0.68,\n",
       " 'be_zip_897': 0.87,\n",
       " 'be_zip_898': 1.01,\n",
       " 'be_zip_900': 1.53,\n",
       " 'be_zip_903': 1.18,\n",
       " 'be_zip_904': 1.25,\n",
       " 'be_zip_905': 1.41,\n",
       " 'be_zip_906': 1.11,\n",
       " 'be_zip_907': 1.39,\n",
       " 'be_zip_908': 1.23,\n",
       " 'be_zip_909': 1.16,\n",
       " 'be_zip_910': 1.0,\n",
       " 'be_zip_911': 1.03,\n",
       " 'be_zip_912': 1.23,\n",
       " 'be_zip_913': 1.02,\n",
       " 'be_zip_914': 1.07,\n",
       " 'be_zip_915': 1.03,\n",
       " 'be_zip_916': 1.13,\n",
       " 'be_zip_917': 1.03,\n",
       " 'be_zip_918': 1.18,\n",
       " 'be_zip_919': 1.07,\n",
       " 'be_zip_920': 1.12,\n",
       " 'be_zip_922': 0.98,\n",
       " 'be_zip_923': 1.07,\n",
       " 'be_zip_924': 0.92,\n",
       " 'be_zip_925': 1.16,\n",
       " 'be_zip_926': 0.96,\n",
       " 'be_zip_927': 1.19,\n",
       " 'be_zip_928': 0.99,\n",
       " 'be_zip_929': 1.27,\n",
       " 'be_zip_930': 1.01,\n",
       " 'be_zip_931': 0.97,\n",
       " 'be_zip_932': 0.9,\n",
       " 'be_zip_934': 1.08,\n",
       " 'be_zip_940': 0.99,\n",
       " 'be_zip_942': 0.97,\n",
       " 'be_zip_945': 0.95,\n",
       " 'be_zip_947': 0.93,\n",
       " 'be_zip_950': 0.93,\n",
       " 'be_zip_952': 1.01,\n",
       " 'be_zip_955': 0.93,\n",
       " 'be_zip_957': 0.82,\n",
       " 'be_zip_960': 0.92,\n",
       " 'be_zip_962': 0.97,\n",
       " 'be_zip_963': 0.95,\n",
       " 'be_zip_966': 0.82,\n",
       " 'be_zip_968': 0.79,\n",
       " 'be_zip_969': 0.82,\n",
       " 'be_zip_970': 1.1,\n",
       " 'be_zip_975': 0.99,\n",
       " 'be_zip_977': 1.06,\n",
       " 'be_zip_979': 0.95,\n",
       " 'be_zip_980': 1.25,\n",
       " 'be_zip_981': 1.2,\n",
       " 'be_zip_982': 1.3,\n",
       " 'be_zip_983': 1.29,\n",
       " 'be_zip_984': 1.4,\n",
       " 'be_zip_985': 1.2,\n",
       " 'be_zip_986': 1.06,\n",
       " 'be_zip_987': 1.0,\n",
       " 'be_zip_988': 1.21,\n",
       " 'be_zip_989': 1.31,\n",
       " 'be_zip_990': 0.99,\n",
       " 'be_zip_991': 0.9,\n",
       " 'be_zip_992': 1.24,\n",
       " 'be_zip_993': 1.28,\n",
       " 'be_zip_994': 1.28,\n",
       " 'be_zip_995': 1.15,\n",
       " 'be_zip_996': 1.15,\n",
       " 'be_zip_997': 1.01,\n",
       " 'be_zip_998': 0.97,\n",
       " 'be_zip_999': 1.11}"
      ]
     },
     "execution_count": 50,
     "metadata": {},
     "output_type": "execute_result"
    }
   ],
   "source": [
    "dic_zip_value"
   ]
  },
  {
   "cell_type": "code",
   "execution_count": 51,
   "id": "9d15b91b-59ad-45f3-a3b3-c0984982eaef",
   "metadata": {},
   "outputs": [],
   "source": [
    "df['zip_code_ratio'] = df['zip_code_xx']"
   ]
  },
  {
   "cell_type": "code",
   "execution_count": 52,
   "id": "68148c36-d254-40fd-89fc-e5c786ad3915",
   "metadata": {
    "tags": []
   },
   "outputs": [],
   "source": [
    "df['zip_code_ratio'] = df['zip_code_ratio'].map(dic_zip_value)"
   ]
  },
  {
   "cell_type": "markdown",
   "id": "f5f280a8-3c0d-4e24-a4d0-37a0da369b6a",
   "metadata": {
    "jp-MarkdownHeadingCollapsed": true,
    "tags": []
   },
   "source": [
    "### **Check** DataBase"
   ]
  },
  {
   "cell_type": "code",
   "execution_count": 53,
   "id": "02533c16-f421-472d-99e4-f72271c3c782",
   "metadata": {},
   "outputs": [],
   "source": [
    "filtered_atributes = [#'id',\n",
    " #'locality',\n",
    " #'postal_code',\n",
    " #'region',\n",
    " #'province',\n",
    " 'type_of_property',\n",
    " #'subtype_of_property',\n",
    " #'type_of_sale',\n",
    " 'price',\n",
    " 'number_of_bedrooms',\n",
    " 'surface',\n",
    " #'kitchen_type',\n",
    " 'fully_equipped_kitchen',\n",
    " 'furnished',\n",
    " 'open_fire',\n",
    " 'terrace',\n",
    " 'terrace_surface',\n",
    " 'garden',\n",
    " 'garden_surface',\n",
    " 'land_surface',\n",
    " 'number_of_facades',\n",
    " 'swimming_pool',\n",
    " 'state_of_the_building',\n",
    " #'zip_code_xx',\n",
    " #'price_m2',\n",
    " 'zip_code_ratio']"
   ]
  },
  {
   "cell_type": "code",
   "execution_count": 54,
   "id": "efe71066-711c-4b15-8c02-4cd88022eecf",
   "metadata": {},
   "outputs": [],
   "source": [
    "df = df[filtered_atributes]"
   ]
  },
  {
   "cell_type": "code",
   "execution_count": 55,
   "id": "8152551b-7f24-4036-a076-c4966850e8ec",
   "metadata": {},
   "outputs": [],
   "source": [
    "df_shape_final = df.shape"
   ]
  },
  {
   "cell_type": "code",
   "execution_count": 56,
   "id": "3dd7a92c-6256-43f5-853c-44a8b16f4fcc",
   "metadata": {
    "tags": []
   },
   "outputs": [
    {
     "name": "stdout",
     "output_type": "stream",
     "text": [
      "initial_df (62430, 23) claned_df (43122, 16)\n"
     ]
    }
   ],
   "source": [
    "print(f'initial_df {df_shape_initial} claned_df {df_shape_final}')"
   ]
  },
  {
   "cell_type": "code",
   "execution_count": 57,
   "id": "a4ff57bc-4a40-4d0d-8c59-e26baad01900",
   "metadata": {
    "tags": []
   },
   "outputs": [
    {
     "data": {
      "text/html": [
       "<div>\n",
       "<style scoped>\n",
       "    .dataframe tbody tr th:only-of-type {\n",
       "        vertical-align: middle;\n",
       "    }\n",
       "\n",
       "    .dataframe tbody tr th {\n",
       "        vertical-align: top;\n",
       "    }\n",
       "\n",
       "    .dataframe thead th {\n",
       "        text-align: right;\n",
       "    }\n",
       "</style>\n",
       "<table border=\"1\" class=\"dataframe\">\n",
       "  <thead>\n",
       "    <tr style=\"text-align: right;\">\n",
       "      <th></th>\n",
       "      <th>price</th>\n",
       "      <th>number_of_bedrooms</th>\n",
       "      <th>surface</th>\n",
       "      <th>fully_equipped_kitchen</th>\n",
       "      <th>furnished</th>\n",
       "      <th>open_fire</th>\n",
       "      <th>terrace</th>\n",
       "      <th>terrace_surface</th>\n",
       "      <th>garden</th>\n",
       "      <th>garden_surface</th>\n",
       "      <th>land_surface</th>\n",
       "      <th>number_of_facades</th>\n",
       "      <th>swimming_pool</th>\n",
       "      <th>state_of_the_building</th>\n",
       "      <th>zip_code_ratio</th>\n",
       "    </tr>\n",
       "  </thead>\n",
       "  <tbody>\n",
       "    <tr>\n",
       "      <th>count</th>\n",
       "      <td>43122.000000</td>\n",
       "      <td>43122.000000</td>\n",
       "      <td>43122.000000</td>\n",
       "      <td>43122.000000</td>\n",
       "      <td>43122.000000</td>\n",
       "      <td>43122.000000</td>\n",
       "      <td>43122.000000</td>\n",
       "      <td>43122.000000</td>\n",
       "      <td>43122.000000</td>\n",
       "      <td>43122.000000</td>\n",
       "      <td>4.312200e+04</td>\n",
       "      <td>43122.000000</td>\n",
       "      <td>43122.000000</td>\n",
       "      <td>43122.000000</td>\n",
       "      <td>43122.000000</td>\n",
       "    </tr>\n",
       "    <tr>\n",
       "      <th>mean</th>\n",
       "      <td>328583.237466</td>\n",
       "      <td>2.743588</td>\n",
       "      <td>148.213255</td>\n",
       "      <td>0.503281</td>\n",
       "      <td>0.022309</td>\n",
       "      <td>0.040096</td>\n",
       "      <td>0.635662</td>\n",
       "      <td>9.557975</td>\n",
       "      <td>0.341148</td>\n",
       "      <td>97.829206</td>\n",
       "      <td>4.549637e+02</td>\n",
       "      <td>2.381824</td>\n",
       "      <td>0.013868</td>\n",
       "      <td>0.554624</td>\n",
       "      <td>1.135574</td>\n",
       "    </tr>\n",
       "    <tr>\n",
       "      <th>std</th>\n",
       "      <td>153914.065231</td>\n",
       "      <td>1.229925</td>\n",
       "      <td>80.263773</td>\n",
       "      <td>0.278390</td>\n",
       "      <td>0.147688</td>\n",
       "      <td>0.196186</td>\n",
       "      <td>0.481250</td>\n",
       "      <td>18.972661</td>\n",
       "      <td>0.474101</td>\n",
       "      <td>598.034703</td>\n",
       "      <td>5.902189e+03</td>\n",
       "      <td>0.982350</td>\n",
       "      <td>0.116943</td>\n",
       "      <td>0.290758</td>\n",
       "      <td>0.371293</td>\n",
       "    </tr>\n",
       "    <tr>\n",
       "      <th>min</th>\n",
       "      <td>2500.000000</td>\n",
       "      <td>0.000000</td>\n",
       "      <td>35.000000</td>\n",
       "      <td>0.000000</td>\n",
       "      <td>0.000000</td>\n",
       "      <td>0.000000</td>\n",
       "      <td>0.000000</td>\n",
       "      <td>0.000000</td>\n",
       "      <td>0.000000</td>\n",
       "      <td>0.000000</td>\n",
       "      <td>0.000000e+00</td>\n",
       "      <td>1.000000</td>\n",
       "      <td>0.000000</td>\n",
       "      <td>0.250000</td>\n",
       "      <td>0.460000</td>\n",
       "    </tr>\n",
       "    <tr>\n",
       "      <th>25%</th>\n",
       "      <td>220000.000000</td>\n",
       "      <td>2.000000</td>\n",
       "      <td>93.000000</td>\n",
       "      <td>0.250000</td>\n",
       "      <td>0.000000</td>\n",
       "      <td>0.000000</td>\n",
       "      <td>0.000000</td>\n",
       "      <td>0.000000</td>\n",
       "      <td>0.000000</td>\n",
       "      <td>0.000000</td>\n",
       "      <td>0.000000e+00</td>\n",
       "      <td>2.000000</td>\n",
       "      <td>0.000000</td>\n",
       "      <td>0.250000</td>\n",
       "      <td>0.910000</td>\n",
       "    </tr>\n",
       "    <tr>\n",
       "      <th>50%</th>\n",
       "      <td>295000.000000</td>\n",
       "      <td>3.000000</td>\n",
       "      <td>130.000000</td>\n",
       "      <td>0.500000</td>\n",
       "      <td>0.000000</td>\n",
       "      <td>0.000000</td>\n",
       "      <td>1.000000</td>\n",
       "      <td>0.000000</td>\n",
       "      <td>0.000000</td>\n",
       "      <td>0.000000</td>\n",
       "      <td>6.300000e+01</td>\n",
       "      <td>2.000000</td>\n",
       "      <td>0.000000</td>\n",
       "      <td>0.500000</td>\n",
       "      <td>1.080000</td>\n",
       "    </tr>\n",
       "    <tr>\n",
       "      <th>75%</th>\n",
       "      <td>399000.000000</td>\n",
       "      <td>3.000000</td>\n",
       "      <td>180.000000</td>\n",
       "      <td>0.750000</td>\n",
       "      <td>0.000000</td>\n",
       "      <td>0.000000</td>\n",
       "      <td>1.000000</td>\n",
       "      <td>13.000000</td>\n",
       "      <td>1.000000</td>\n",
       "      <td>0.000000</td>\n",
       "      <td>4.200000e+02</td>\n",
       "      <td>3.000000</td>\n",
       "      <td>0.000000</td>\n",
       "      <td>0.750000</td>\n",
       "      <td>1.290000</td>\n",
       "    </tr>\n",
       "    <tr>\n",
       "      <th>max</th>\n",
       "      <td>849000.000000</td>\n",
       "      <td>17.000000</td>\n",
       "      <td>800.000000</td>\n",
       "      <td>1.000000</td>\n",
       "      <td>1.000000</td>\n",
       "      <td>1.000000</td>\n",
       "      <td>1.000000</td>\n",
       "      <td>420.000000</td>\n",
       "      <td>1.000000</td>\n",
       "      <td>55000.000000</td>\n",
       "      <td>1.100000e+06</td>\n",
       "      <td>6.000000</td>\n",
       "      <td>1.000000</td>\n",
       "      <td>1.000000</td>\n",
       "      <td>3.250000</td>\n",
       "    </tr>\n",
       "  </tbody>\n",
       "</table>\n",
       "</div>"
      ],
      "text/plain": [
       "               price  number_of_bedrooms       surface  \\\n",
       "count   43122.000000        43122.000000  43122.000000   \n",
       "mean   328583.237466            2.743588    148.213255   \n",
       "std    153914.065231            1.229925     80.263773   \n",
       "min      2500.000000            0.000000     35.000000   \n",
       "25%    220000.000000            2.000000     93.000000   \n",
       "50%    295000.000000            3.000000    130.000000   \n",
       "75%    399000.000000            3.000000    180.000000   \n",
       "max    849000.000000           17.000000    800.000000   \n",
       "\n",
       "       fully_equipped_kitchen     furnished     open_fire       terrace  \\\n",
       "count            43122.000000  43122.000000  43122.000000  43122.000000   \n",
       "mean                 0.503281      0.022309      0.040096      0.635662   \n",
       "std                  0.278390      0.147688      0.196186      0.481250   \n",
       "min                  0.000000      0.000000      0.000000      0.000000   \n",
       "25%                  0.250000      0.000000      0.000000      0.000000   \n",
       "50%                  0.500000      0.000000      0.000000      1.000000   \n",
       "75%                  0.750000      0.000000      0.000000      1.000000   \n",
       "max                  1.000000      1.000000      1.000000      1.000000   \n",
       "\n",
       "       terrace_surface        garden  garden_surface  land_surface  \\\n",
       "count     43122.000000  43122.000000    43122.000000  4.312200e+04   \n",
       "mean          9.557975      0.341148       97.829206  4.549637e+02   \n",
       "std          18.972661      0.474101      598.034703  5.902189e+03   \n",
       "min           0.000000      0.000000        0.000000  0.000000e+00   \n",
       "25%           0.000000      0.000000        0.000000  0.000000e+00   \n",
       "50%           0.000000      0.000000        0.000000  6.300000e+01   \n",
       "75%          13.000000      1.000000        0.000000  4.200000e+02   \n",
       "max         420.000000      1.000000    55000.000000  1.100000e+06   \n",
       "\n",
       "       number_of_facades  swimming_pool  state_of_the_building  zip_code_ratio  \n",
       "count       43122.000000   43122.000000           43122.000000    43122.000000  \n",
       "mean            2.381824       0.013868               0.554624        1.135574  \n",
       "std             0.982350       0.116943               0.290758        0.371293  \n",
       "min             1.000000       0.000000               0.250000        0.460000  \n",
       "25%             2.000000       0.000000               0.250000        0.910000  \n",
       "50%             2.000000       0.000000               0.500000        1.080000  \n",
       "75%             3.000000       0.000000               0.750000        1.290000  \n",
       "max             6.000000       1.000000               1.000000        3.250000  "
      ]
     },
     "execution_count": 57,
     "metadata": {},
     "output_type": "execute_result"
    }
   ],
   "source": [
    "df.describe()"
   ]
  },
  {
   "cell_type": "code",
   "execution_count": 58,
   "id": "1fa37f13-6915-49ea-8256-c5ea015e0d28",
   "metadata": {
    "tags": []
   },
   "outputs": [
    {
     "name": "stdout",
     "output_type": "stream",
     "text": [
      "type_of_property\n",
      "HOUSE        23659\n",
      "APARTMENT    19463\n",
      "Name: type_of_property, dtype: int64\n",
      "\n",
      "\n",
      "price\n",
      "299000    757\n",
      "249000    668\n",
      "295000    663\n",
      "199000    614\n",
      "275000    595\n",
      "         ... \n",
      "308601      1\n",
      "392865      1\n",
      "237236      1\n",
      "537334      1\n",
      "316200      1\n",
      "Name: price, Length: 3637, dtype: int64\n",
      "\n",
      "\n",
      "number_of_bedrooms\n",
      "3     14436\n",
      "2     14345\n",
      "4      6142\n",
      "1      4621\n",
      "5      2030\n",
      "6       663\n",
      "0       513\n",
      "7       183\n",
      "8        93\n",
      "9        55\n",
      "10       16\n",
      "11       11\n",
      "12        5\n",
      "16        2\n",
      "13        2\n",
      "15        2\n",
      "14        2\n",
      "17        1\n",
      "Name: number_of_bedrooms, dtype: int64\n",
      "\n",
      "\n",
      "surface\n",
      "100    873\n",
      "150    870\n",
      "90     830\n",
      "120    801\n",
      "110    702\n",
      "      ... \n",
      "476      1\n",
      "539      1\n",
      "633      1\n",
      "686      1\n",
      "595      1\n",
      "Name: surface, Length: 566, dtype: int64\n",
      "\n",
      "\n",
      "fully_equipped_kitchen\n",
      "0.50    16011\n",
      "0.25    14123\n",
      "1.00     7017\n",
      "0.75     4199\n",
      "0.00     1772\n",
      "Name: fully_equipped_kitchen, dtype: int64\n",
      "\n",
      "\n",
      "furnished\n",
      "0    42160\n",
      "1      962\n",
      "Name: furnished, dtype: int64\n",
      "\n",
      "\n",
      "open_fire\n",
      "0    41393\n",
      "1     1729\n",
      "Name: open_fire, dtype: int64\n",
      "\n",
      "\n",
      "terrace\n",
      "1    27411\n",
      "0    15711\n",
      "Name: terrace, dtype: int64\n",
      "\n",
      "\n",
      "terrace_surface\n",
      "0      24914\n",
      "20      1130\n",
      "10      1055\n",
      "15       899\n",
      "12       843\n",
      "       ...  \n",
      "250        1\n",
      "103        1\n",
      "302        1\n",
      "190        1\n",
      "118        1\n",
      "Name: terrace_surface, Length: 166, dtype: int64\n",
      "\n",
      "\n",
      "garden\n",
      "0    28411\n",
      "1    14711\n",
      "Name: garden, dtype: int64\n",
      "\n",
      "\n",
      "garden_surface\n",
      "0       34140\n",
      "100       289\n",
      "200       252\n",
      "50        189\n",
      "300       182\n",
      "        ...  \n",
      "1043        1\n",
      "2697        1\n",
      "2119        1\n",
      "3945        1\n",
      "7200        1\n",
      "Name: garden_surface, Length: 1223, dtype: int64\n",
      "\n",
      "\n",
      "land_surface\n",
      "0       20256\n",
      "100       200\n",
      "200       177\n",
      "300       152\n",
      "160       149\n",
      "        ...  \n",
      "2895        1\n",
      "7098        1\n",
      "1702        1\n",
      "3215        1\n",
      "7670        1\n",
      "Name: land_surface, Length: 2849, dtype: int64\n",
      "\n",
      "\n",
      "number_of_facades\n",
      "2    19553\n",
      "4     8079\n",
      "3     7879\n",
      "1     7602\n",
      "5        6\n",
      "6        3\n",
      "Name: number_of_facades, dtype: int64\n",
      "\n",
      "\n",
      "swimming_pool\n",
      "0    42524\n",
      "1      598\n",
      "Name: swimming_pool, dtype: int64\n",
      "\n",
      "\n",
      "state_of_the_building\n",
      "0.25    15777\n",
      "0.50    11851\n",
      "1.00     9705\n",
      "0.75     5789\n",
      "Name: state_of_the_building, dtype: int64\n",
      "\n",
      "\n",
      "zip_code_ratio\n",
      "1.18    1190\n",
      "1.25    1019\n",
      "1.07     969\n",
      "1.02     901\n",
      "1.00     893\n",
      "        ... \n",
      "1.64      32\n",
      "1.59      18\n",
      "0.47      15\n",
      "0.46      12\n",
      "0.55       2\n",
      "Name: zip_code_ratio, Length: 121, dtype: int64\n",
      "\n",
      "\n"
     ]
    }
   ],
   "source": [
    "for index,atribute in enumerate(df.columns.to_list()):\n",
    "    print(atribute)\n",
    "    print(df[df.columns.to_list()[index]].value_counts())\n",
    "    print('\\n')"
   ]
  },
  {
   "cell_type": "markdown",
   "id": "03816216-4b35-4aaa-948e-8f19588f3ef9",
   "metadata": {
    "tags": []
   },
   "source": [
    "### **Separate** DataBase Houses / Apartments"
   ]
  },
  {
   "cell_type": "code",
   "execution_count": 59,
   "id": "49e334c2-7bfd-4e7e-85c5-efe030410dc8",
   "metadata": {},
   "outputs": [],
   "source": [
    "df_house = df.loc[df[\"type_of_property\"] == \"HOUSE\"]"
   ]
  },
  {
   "cell_type": "code",
   "execution_count": 60,
   "id": "263039e3-6bbb-40ea-8ade-a00e2f418310",
   "metadata": {},
   "outputs": [],
   "source": [
    "df_apartment = df.loc[df[\"type_of_property\"] == \"APARTMENT\"]"
   ]
  },
  {
   "cell_type": "markdown",
   "id": "1394e126-72d4-4081-8a51-cfb1f6dea842",
   "metadata": {},
   "source": [
    "#### New boundaries"
   ]
  },
  {
   "cell_type": "code",
   "execution_count": 61,
   "id": "11444434-3b4f-422c-9982-d9e185a9929f",
   "metadata": {},
   "outputs": [],
   "source": [
    "df_house = df_house.loc[df_house['surface'] <= 500]"
   ]
  },
  {
   "cell_type": "code",
   "execution_count": 62,
   "id": "383d8e98-dc9f-4a5b-b577-0c3a4a3f5112",
   "metadata": {},
   "outputs": [],
   "source": [
    "df_apartment = df_apartment.loc[df_apartment['number_of_bedrooms'] <= 5]"
   ]
  },
  {
   "cell_type": "code",
   "execution_count": 63,
   "id": "e475c685-42ac-4b1d-a741-30dfc8d5c4e4",
   "metadata": {},
   "outputs": [],
   "source": [
    "#df_apartment = df_apartment.loc[df_apartment['number_of_bedrooms'] >= 1]"
   ]
  },
  {
   "cell_type": "code",
   "execution_count": 64,
   "id": "5e5ed211-760a-40e0-95fe-d25b23007c1c",
   "metadata": {},
   "outputs": [],
   "source": [
    "df_apartment = df_apartment.loc[df_apartment['price'] <= 700000]"
   ]
  },
  {
   "cell_type": "code",
   "execution_count": 65,
   "id": "dcc9d7b0-cdc8-46d8-944c-e6d9012c3f28",
   "metadata": {},
   "outputs": [],
   "source": [
    "df_apartment = df_apartment.loc[df_apartment['surface'] <= 300]"
   ]
  },
  {
   "cell_type": "markdown",
   "id": "be2ab1ae-e985-4aff-b63f-5d5f1fb6d8e7",
   "metadata": {
    "tags": []
   },
   "source": [
    "### Data **Exploration**"
   ]
  },
  {
   "cell_type": "markdown",
   "id": "8d7012cc-f2c7-4ca3-ad00-1f5536d8cbb5",
   "metadata": {
    "tags": []
   },
   "source": [
    "#### **Select** atributes"
   ]
  },
  {
   "cell_type": "code",
   "execution_count": 66,
   "id": "d03ddbaf-0abd-46d8-9981-415f879d687c",
   "metadata": {
    "tags": []
   },
   "outputs": [],
   "source": [
    "atributes_house=[#'type_of_property',\n",
    " 'price',\n",
    " 'number_of_bedrooms',\n",
    " 'surface',\n",
    " 'fully_equipped_kitchen',\n",
    " #'furnished',\n",
    " 'open_fire',\n",
    " #'terrace',\n",
    " #'terrace_surface',\n",
    " #'garden',\n",
    " #'garden_surface',\n",
    " #'land_surface',\n",
    " 'number_of_facades',\n",
    " 'swimming_pool',\n",
    " 'state_of_the_building',\n",
    " 'zip_code_ratio']"
   ]
  },
  {
   "cell_type": "code",
   "execution_count": 67,
   "id": "9a85e43d-12fa-42ac-b84c-c18a55e0e437",
   "metadata": {},
   "outputs": [],
   "source": [
    "df_house = df_house[atributes_house]"
   ]
  },
  {
   "cell_type": "code",
   "execution_count": 68,
   "id": "96521222-f733-42e7-b9fe-966604f28132",
   "metadata": {
    "tags": []
   },
   "outputs": [],
   "source": [
    "atributes_apartment=[#'type_of_property',\n",
    " 'price',\n",
    " 'number_of_bedrooms',\n",
    " 'surface',\n",
    " 'fully_equipped_kitchen',\n",
    " #'furnished',\n",
    " #'open_fire',\n",
    " 'terrace',\n",
    " 'terrace_surface',\n",
    " #'garden',\n",
    " #'garden_surface',\n",
    " #'land_surface',\n",
    " #'number_of_facades',\n",
    " #'swimming_pool',\n",
    " 'state_of_the_building',\n",
    " 'zip_code_ratio']"
   ]
  },
  {
   "cell_type": "code",
   "execution_count": 69,
   "id": "b981099b-78cf-4f4d-a438-5f52a9c1b476",
   "metadata": {},
   "outputs": [],
   "source": [
    "df_apartment = df_apartment[atributes_apartment]"
   ]
  },
  {
   "cell_type": "markdown",
   "id": "5f180fc5-39ad-4aab-b423-57835ae939fe",
   "metadata": {
    "tags": []
   },
   "source": [
    "#### Attributes **correlation**"
   ]
  },
  {
   "cell_type": "markdown",
   "id": "d66c355f-11e1-4a93-b3dc-d55d64943688",
   "metadata": {},
   "source": [
    "use lasso"
   ]
  },
  {
   "cell_type": "code",
   "execution_count": 70,
   "id": "2fec1114-ef88-4f5b-8448-d96d3e4f86d5",
   "metadata": {},
   "outputs": [
    {
     "data": {
      "text/plain": [
       "price                     1.000000\n",
       "number_of_bedrooms        0.386389\n",
       "surface                   0.563293\n",
       "fully_equipped_kitchen    0.213299\n",
       "open_fire                 0.148348\n",
       "number_of_facades         0.255955\n",
       "swimming_pool             0.162788\n",
       "state_of_the_building     0.174704\n",
       "zip_code_ratio            0.491941\n",
       "Name: price, dtype: float64"
      ]
     },
     "execution_count": 70,
     "metadata": {},
     "output_type": "execute_result"
    }
   ],
   "source": [
    "df_house.corr()['price']"
   ]
  },
  {
   "cell_type": "markdown",
   "id": "260a2506-65d8-4709-a7c2-df754d31a66d",
   "metadata": {
    "tags": []
   },
   "source": [
    "**Relationship of house atributes wit price:**\n",
    "* **number_of_bedrooms        0.384784**\n",
    "* **surface                   0.533437**\n",
    "* fully_equipped_kitchen    0.209290\n",
    "* open_fire                 0.145386\n",
    "* number_of_facades         0.253947\n",
    "* swimming_pool             0.160394\n",
    "* state_of_the_building     0.173194\n",
    "* **zip_code_ratio            0.446084**"
   ]
  },
  {
   "cell_type": "code",
   "execution_count": 71,
   "id": "b612a323-3a5c-40ad-b372-cfee0a12ba1d",
   "metadata": {},
   "outputs": [
    {
     "data": {
      "text/plain": [
       "price                     1.000000\n",
       "number_of_bedrooms        0.410903\n",
       "surface                   0.574051\n",
       "fully_equipped_kitchen    0.171247\n",
       "terrace                   0.194913\n",
       "terrace_surface           0.302033\n",
       "state_of_the_building     0.143207\n",
       "zip_code_ratio            0.455725\n",
       "Name: price, dtype: float64"
      ]
     },
     "execution_count": 71,
     "metadata": {},
     "output_type": "execute_result"
    }
   ],
   "source": [
    "df_apartment.corr()['price']"
   ]
  },
  {
   "cell_type": "markdown",
   "id": "001c102b-cc7d-4844-b1a8-2e13cb8cd48b",
   "metadata": {
    "tags": []
   },
   "source": [
    "**Relationship of apartment atributes wit price:**\n",
    "* **number_of_bedrooms        0.410458**\n",
    "* **surface                   0.537731**\n",
    "* fully_equipped_kitchen    0.170661\n",
    "* terrace                   0.177441\n",
    "* **terrace_surface           0.301534**\n",
    "* state_of_the_building     0.150617\n",
    "* **zip_code_ratio            0.341447**"
   ]
  },
  {
   "cell_type": "markdown",
   "id": "00bd9ee6-733e-4a85-8828-565ed8e01811",
   "metadata": {
    "tags": []
   },
   "source": [
    "#### Data **Exploration**"
   ]
  },
  {
   "cell_type": "code",
   "execution_count": 72,
   "id": "1f48d7d7-122a-4d51-8f53-468bff4db7db",
   "metadata": {
    "tags": []
   },
   "outputs": [],
   "source": [
    "def plt_chart(chart_x, chart_y, chart_title, chart_x_label, chart_y_label):\n",
    "    plt.scatter(chart_x, chart_y)\n",
    "    plt.title(chart_title)\n",
    "    plt.ylabel(chart_y_label)\n",
    "    plt.xlabel(chart_x_label)\n",
    "    return plt"
   ]
  },
  {
   "cell_type": "code",
   "execution_count": 73,
   "id": "3df12e40-8afb-47f3-9285-398e6b0f23ae",
   "metadata": {
    "tags": []
   },
   "outputs": [
    {
     "data": {
      "text/plain": [
       "<module 'matplotlib.pyplot' from '/home/david/MyGithub/challenge-regression/env/lib/python3.10/site-packages/matplotlib/pyplot.py'>"
      ]
     },
     "execution_count": 73,
     "metadata": {},
     "output_type": "execute_result"
    },
    {
     "data": {
      "image/png": "[encoded data removed]",
      "text/plain": [
       "<Figure size 640x480 with 1 Axes>"
      ]
     },
     "metadata": {},
     "output_type": "display_data"
    }
   ],
   "source": [
    "plt_chart(df_house['surface'],df_house['price'],'House price / m² relation','Surface (m)²','Price (€)')"
   ]
  },
  {
   "cell_type": "code",
   "execution_count": 74,
   "id": "36354b80-b606-43fd-9f25-0f655174016e",
   "metadata": {
    "tags": []
   },
   "outputs": [
    {
     "data": {
      "text/plain": [
       "<module 'matplotlib.pyplot' from '/home/david/MyGithub/challenge-regression/env/lib/python3.10/site-packages/matplotlib/pyplot.py'>"
      ]
     },
     "execution_count": 74,
     "metadata": {},
     "output_type": "execute_result"
    },
    {
     "data": {
      "image/png": "[encoded data removed]",
      "text/plain": [
       "<Figure size 640x480 with 1 Axes>"
      ]
     },
     "metadata": {},
     "output_type": "display_data"
    }
   ],
   "source": [
    "plt_chart(df_apartment['surface'],df_apartment['price'],'House price / m² relation','Surface (m)²','Price (€)')"
   ]
  },
  {
   "cell_type": "code",
   "execution_count": 75,
   "id": "765fca0b-55fa-4fb5-a4a5-54f683404cbf",
   "metadata": {
    "tags": []
   },
   "outputs": [
    {
     "name": "stderr",
     "output_type": "stream",
     "text": [
      "/tmp/ipykernel_14208/2064535743.py:1: UserWarning: \n",
      "\n",
      "`distplot` is a deprecated function and will be removed in seaborn v0.14.0.\n",
      "\n",
      "Please adapt your code to use either `displot` (a figure-level function with\n",
      "similar flexibility) or `histplot` (an axes-level function for histograms).\n",
      "\n",
      "For a guide to updating your code to use the new functions, please see\n",
      "https://gist.github.com/mwaskom/de44147ed2974457ad6372750bbe5751\n",
      "\n",
      "  sns.distplot(df_house['price'], bins=30)\n"
     ]
    },
    {
     "data": {
      "text/plain": [
       "<AxesSubplot: xlabel='price', ylabel='Density'>"
      ]
     },
     "execution_count": 75,
     "metadata": {},
     "output_type": "execute_result"
    },
    {
     "data": {
      "image/png": "[encoded data removed]",
      "text/plain": [
       "<Figure size 640x480 with 1 Axes>"
      ]
     },
     "metadata": {},
     "output_type": "display_data"
    }
   ],
   "source": [
    "sns.distplot(df_house['price'], bins=30)"
   ]
  },
  {
   "cell_type": "code",
   "execution_count": 76,
   "id": "8546808d-c029-413a-8a48-0564df032101",
   "metadata": {
    "tags": []
   },
   "outputs": [
    {
     "name": "stderr",
     "output_type": "stream",
     "text": [
      "/tmp/ipykernel_14208/2610420630.py:1: UserWarning: \n",
      "\n",
      "`distplot` is a deprecated function and will be removed in seaborn v0.14.0.\n",
      "\n",
      "Please adapt your code to use either `displot` (a figure-level function with\n",
      "similar flexibility) or `histplot` (an axes-level function for histograms).\n",
      "\n",
      "For a guide to updating your code to use the new functions, please see\n",
      "https://gist.github.com/mwaskom/de44147ed2974457ad6372750bbe5751\n",
      "\n",
      "  sns.distplot(df_apartment['price'], bins=30)\n"
     ]
    },
    {
     "data": {
      "text/plain": [
       "<AxesSubplot: xlabel='price', ylabel='Density'>"
      ]
     },
     "execution_count": 76,
     "metadata": {},
     "output_type": "execute_result"
    },
    {
     "data": {
      "image/png": "[encoded data removed]",
      "text/plain": [
       "<Figure size 640x480 with 1 Axes>"
      ]
     },
     "metadata": {},
     "output_type": "display_data"
    }
   ],
   "source": [
    "sns.distplot(df_apartment['price'], bins=30)"
   ]
  },
  {
   "cell_type": "code",
   "execution_count": 77,
   "id": "8483703f-ad76-4ff8-9c53-32968b872059",
   "metadata": {
    "tags": []
   },
   "outputs": [
    {
     "data": {
      "text/plain": [
       "<AxesSubplot: >"
      ]
     },
     "execution_count": 77,
     "metadata": {},
     "output_type": "execute_result"
    },
    {
     "data": {
      "image/png": "[encoded data removed]",
      "text/plain": [
       "<Figure size 640x480 with 2 Axes>"
      ]
     },
     "metadata": {},
     "output_type": "display_data"
    }
   ],
   "source": [
    "correlation_matrix_house = df_house.corr().round(2)\n",
    "sns.heatmap(data=correlation_matrix_house, annot=True)"
   ]
  },
  {
   "cell_type": "code",
   "execution_count": 78,
   "id": "3c6e3463-b437-4b07-984f-37ef6246fd35",
   "metadata": {
    "tags": []
   },
   "outputs": [
    {
     "data": {
      "text/plain": [
       "<AxesSubplot: >"
      ]
     },
     "execution_count": 78,
     "metadata": {},
     "output_type": "execute_result"
    },
    {
     "data": {
      "image/png": "[encoded data removed]",
      "text/plain": [
       "<Figure size 640x480 with 2 Axes>"
      ]
     },
     "metadata": {},
     "output_type": "display_data"
    }
   ],
   "source": [
    "correlation_matrix_apartment = df_apartment.corr().round(2)\n",
    "sns.heatmap(data=correlation_matrix_apartment, annot=True)"
   ]
  },
  {
   "cell_type": "markdown",
   "id": "5083626a-5dc8-4e22-a123-03044ddc78de",
   "metadata": {
    "tags": []
   },
   "source": [
    "## **ML regresion**"
   ]
  },
  {
   "cell_type": "markdown",
   "id": "ade5e74f-9fdd-4a01-b78b-1a7d08c1315e",
   "metadata": {},
   "source": [
    "- learning rate\n",
    "- overfiting\n",
    "- test and plot\n",
    "- use the same seed for shuffle\n",
    "- use polinoms"
   ]
  },
  {
   "cell_type": "markdown",
   "id": "5efe39da-9b46-41df-a282-8fef5e3fc087",
   "metadata": {
    "tags": []
   },
   "source": [
    "### House model / Lineal Regresion"
   ]
  },
  {
   "cell_type": "markdown",
   "id": "b1d49fc2-f8d1-4301-bb27-f43054320068",
   "metadata": {
    "tags": []
   },
   "source": [
    "#### **Prepare** X and Y"
   ]
  },
  {
   "cell_type": "code",
   "execution_count": 79,
   "id": "855ab180-1068-4075-a04f-79199c1c5de1",
   "metadata": {},
   "outputs": [],
   "source": [
    "X = df_house.iloc[:,1:].values  #features"
   ]
  },
  {
   "cell_type": "code",
   "execution_count": 80,
   "id": "d7bc4ba4-cacd-40ba-9437-0d732863b342",
   "metadata": {},
   "outputs": [],
   "source": [
    "Y = df_house.iloc[:,0].values  #target : price"
   ]
  },
  {
   "cell_type": "markdown",
   "id": "33f11fe9-f623-4dce-969e-a9036ebd35ef",
   "metadata": {
    "tags": []
   },
   "source": [
    "#### **Split** the Data"
   ]
  },
  {
   "cell_type": "code",
   "execution_count": 81,
   "id": "00bb7811-8c2d-4a14-8a50-a8c1a64fd246",
   "metadata": {},
   "outputs": [
    {
     "name": "stdout",
     "output_type": "stream",
     "text": [
      "(18760, 8)\n",
      "(4691, 8)\n",
      "(18760,)\n",
      "(4691,)\n"
     ]
    }
   ],
   "source": [
    "X_train, X_test, Y_train, Y_test = train_test_split(X, Y, test_size = 0.2, random_state=5)\n",
    "print(X_train.shape)\n",
    "print(X_test.shape)\n",
    "print(Y_train.shape)\n",
    "print(Y_test.shape)"
   ]
  },
  {
   "cell_type": "markdown",
   "id": "67672613-b8c4-41d9-921e-927e6cb5a268",
   "metadata": {
    "tags": []
   },
   "source": [
    "#### **Training and testing** the model"
   ]
  },
  {
   "cell_type": "code",
   "execution_count": 82,
   "id": "e0afac02-212d-4297-9b56-cd3e59eaddbe",
   "metadata": {},
   "outputs": [
    {
     "data": {
      "text/html": [
       "<style>#sk-container-id-1 {color: black;background-color: white;}#sk-container-id-1 pre{padding: 0;}#sk-container-id-1 div.sk-toggleable {background-color: white;}#sk-container-id-1 label.sk-toggleable__label {cursor: pointer;display: block;width: 100%;margin-bottom: 0;padding: 0.3em;box-sizing: border-box;text-align: center;}#sk-container-id-1 label.sk-toggleable__label-arrow:before {content: \"▸\";float: left;margin-right: 0.25em;color: #696969;}#sk-container-id-1 label.sk-toggleable__label-arrow:hover:before {color: black;}#sk-container-id-1 div.sk-estimator:hover label.sk-toggleable__label-arrow:before {color: black;}#sk-container-id-1 div.sk-toggleable__content {max-height: 0;max-width: 0;overflow: hidden;text-align: left;background-color: #f0f8ff;}#sk-container-id-1 div.sk-toggleable__content pre {margin: 0.2em;color: black;border-radius: 0.25em;background-color: #f0f8ff;}#sk-container-id-1 input.sk-toggleable__control:checked~div.sk-toggleable__content {max-height: 200px;max-width: 100%;overflow: auto;}#sk-container-id-1 input.sk-toggleable__control:checked~label.sk-toggleable__label-arrow:before {content: \"▾\";}#sk-container-id-1 div.sk-estimator input.sk-toggleable__control:checked~label.sk-toggleable__label {background-color: #d4ebff;}#sk-container-id-1 div.sk-label input.sk-toggleable__control:checked~label.sk-toggleable__label {background-color: #d4ebff;}#sk-container-id-1 input.sk-hidden--visually {border: 0;clip: rect(1px 1px 1px 1px);clip: rect(1px, 1px, 1px, 1px);height: 1px;margin: -1px;overflow: hidden;padding: 0;position: absolute;width: 1px;}#sk-container-id-1 div.sk-estimator {font-family: monospace;background-color: #f0f8ff;border: 1px dotted black;border-radius: 0.25em;box-sizing: border-box;margin-bottom: 0.5em;}#sk-container-id-1 div.sk-estimator:hover {background-color: #d4ebff;}#sk-container-id-1 div.sk-parallel-item::after {content: \"\";width: 100%;border-bottom: 1px solid gray;flex-grow: 1;}#sk-container-id-1 div.sk-label:hover label.sk-toggleable__label {background-color: #d4ebff;}#sk-container-id-1 div.sk-serial::before {content: \"\";position: absolute;border-left: 1px solid gray;box-sizing: border-box;top: 0;bottom: 0;left: 50%;z-index: 0;}#sk-container-id-1 div.sk-serial {display: flex;flex-direction: column;align-items: center;background-color: white;padding-right: 0.2em;padding-left: 0.2em;position: relative;}#sk-container-id-1 div.sk-item {position: relative;z-index: 1;}#sk-container-id-1 div.sk-parallel {display: flex;align-items: stretch;justify-content: center;background-color: white;position: relative;}#sk-container-id-1 div.sk-item::before, #sk-container-id-1 div.sk-parallel-item::before {content: \"\";position: absolute;border-left: 1px solid gray;box-sizing: border-box;top: 0;bottom: 0;left: 50%;z-index: -1;}#sk-container-id-1 div.sk-parallel-item {display: flex;flex-direction: column;z-index: 1;position: relative;background-color: white;}#sk-container-id-1 div.sk-parallel-item:first-child::after {align-self: flex-end;width: 50%;}#sk-container-id-1 div.sk-parallel-item:last-child::after {align-self: flex-start;width: 50%;}#sk-container-id-1 div.sk-parallel-item:only-child::after {width: 0;}#sk-container-id-1 div.sk-dashed-wrapped {border: 1px dashed gray;margin: 0 0.4em 0.5em 0.4em;box-sizing: border-box;padding-bottom: 0.4em;background-color: white;}#sk-container-id-1 div.sk-label label {font-family: monospace;font-weight: bold;display: inline-block;line-height: 1.2em;}#sk-container-id-1 div.sk-label-container {text-align: center;}#sk-container-id-1 div.sk-container {/* jupyter's `normalize.less` sets `[hidden] { display: none; }` but bootstrap.min.css set `[hidden] { display: none !important; }` so we also need the `!important` here to be able to override the default hidden behavior on the sphinx rendered scikit-learn.org. See: https://github.com/scikit-learn/scikit-learn/issues/21755 */display: inline-block !important;position: relative;}#sk-container-id-1 div.sk-text-repr-fallback {display: none;}</style><div id=\"sk-container-id-1\" class=\"sk-top-container\"><div class=\"sk-text-repr-fallback\"><pre>LinearRegression()</pre><b>In a Jupyter environment, please rerun this cell to show the HTML representation or trust the notebook. <br />On GitHub, the HTML representation is unable to render, please try loading this page with nbviewer.org.</b></div><div class=\"sk-container\" hidden><div class=\"sk-item\"><div class=\"sk-estimator sk-toggleable\"><input class=\"sk-toggleable__control sk-hidden--visually\" id=\"sk-estimator-id-1\" type=\"checkbox\" checked><label for=\"sk-estimator-id-1\" class=\"sk-toggleable__label sk-toggleable__label-arrow\">LinearRegression</label><div class=\"sk-toggleable__content\"><pre>LinearRegression()</pre></div></div></div></div></div>"
      ],
      "text/plain": [
       "LinearRegression()"
      ]
     },
     "execution_count": 82,
     "metadata": {},
     "output_type": "execute_result"
    }
   ],
   "source": [
    "lin_model = LinearRegression()\n",
    "lin_model.fit(X_train, Y_train)"
   ]
  },
  {
   "cell_type": "markdown",
   "id": "cb3a518c-4eee-4c7a-ade3-41e4cf305ea1",
   "metadata": {
    "tags": []
   },
   "source": [
    "#### **Model evaluation**"
   ]
  },
  {
   "cell_type": "markdown",
   "id": "aa829be8-dc83-4457-8716-a4accca98d68",
   "metadata": {},
   "source": [
    "Evaluate our model using RMSE and R2-score."
   ]
  },
  {
   "cell_type": "code",
   "execution_count": 83,
   "id": "3d53a3e1-9b16-4ba4-bf3d-22f8ff12c662",
   "metadata": {},
   "outputs": [
    {
     "name": "stdout",
     "output_type": "stream",
     "text": [
      "The model performance for training set\n",
      "--------------------------------------\n",
      "RMSE is 102052.43371762572\n",
      "R2 score is 0.6025917364909643\n"
     ]
    }
   ],
   "source": [
    "# model evaluation for training set\n",
    "y_train_predict = lin_model.predict(X_train)\n",
    "rmse = (np.sqrt(mean_squared_error(Y_train, y_train_predict)))\n",
    "r2 = r2_score(Y_train, y_train_predict)\n",
    "\n",
    "print(\"The model performance for training set\")\n",
    "print(\"--------------------------------------\")\n",
    "print('RMSE is {}'.format(rmse))\n",
    "print('R2 score is {}'.format(r2))"
   ]
  },
  {
   "cell_type": "code",
   "execution_count": 84,
   "id": "5be904a1-36c6-4d33-afb8-cfb697ea78ee",
   "metadata": {},
   "outputs": [
    {
     "name": "stdout",
     "output_type": "stream",
     "text": [
      "The model performance for testing set\n",
      "--------------------------------------\n",
      "RMSE is 104421.13068254606\n",
      "R2 score is 0.6044773976142506\n"
     ]
    }
   ],
   "source": [
    "# model evaluation for testing set\n",
    "y_test_predict = lin_model.predict(X_test)\n",
    "rmse = (np.sqrt(mean_squared_error(Y_test, y_test_predict)))\n",
    "r2 = r2_score(Y_test, y_test_predict)\n",
    "\n",
    "print(\"The model performance for testing set\")\n",
    "print(\"--------------------------------------\")\n",
    "print('RMSE is {}'.format(rmse))\n",
    "print('R2 score is {}'.format(r2))"
   ]
  },
  {
   "cell_type": "code",
   "execution_count": 85,
   "id": "19ca4266-4742-4f94-aa0b-0431ac184b3c",
   "metadata": {},
   "outputs": [
    {
     "data": {
      "image/png": "[encoded data removed]",
      "text/plain": [
       "<Figure size 640x480 with 1 Axes>"
      ]
     },
     "metadata": {},
     "output_type": "display_data"
    }
   ],
   "source": [
    "# plotting the y_test vs y_pred\n",
    "# ideally should have been a straight line\n",
    "plt.scatter(Y_test, y_test_predict, s=15).set_color(['royalblue','red'])\n",
    "plt.show()"
   ]
  },
  {
   "cell_type": "markdown",
   "id": "18e75340-600d-4e56-b10f-2d95d48c3058",
   "metadata": {
    "tags": []
   },
   "source": [
    "## **Polynominal Regresion**"
   ]
  },
  {
   "cell_type": "markdown",
   "id": "569e1423-d059-483a-a684-49c13e5863cb",
   "metadata": {
    "tags": []
   },
   "source": [
    "### **House Model**"
   ]
  },
  {
   "cell_type": "markdown",
   "id": "63d6bcb7-ea54-451c-890a-893110a47f8d",
   "metadata": {},
   "source": [
    "#### **Prepare** X and Y"
   ]
  },
  {
   "cell_type": "code",
   "execution_count": 86,
   "id": "89894b72-1a79-4c55-b5c4-48bb1dc684a3",
   "metadata": {},
   "outputs": [],
   "source": [
    "X = df_house.iloc[:,1:].values  #features"
   ]
  },
  {
   "cell_type": "code",
   "execution_count": 87,
   "id": "579f5606-d718-4e67-9bc3-78f4ddb9c00a",
   "metadata": {},
   "outputs": [],
   "source": [
    "Y = df_house.iloc[:,0].values  #target : price"
   ]
  },
  {
   "cell_type": "markdown",
   "id": "b222bbea-3b9a-4696-9fae-1649221caef0",
   "metadata": {},
   "source": [
    "#### **Split** the Data"
   ]
  },
  {
   "cell_type": "code",
   "execution_count": 88,
   "id": "bdcc1589-e8e2-482d-9277-46ff31c89b76",
   "metadata": {},
   "outputs": [
    {
     "name": "stdout",
     "output_type": "stream",
     "text": [
      "(18760, 8)\n",
      "(4691, 8)\n",
      "(18760,)\n",
      "(4691,)\n"
     ]
    }
   ],
   "source": [
    "X_train, X_test, Y_train, Y_test = train_test_split(X, Y, test_size = 0.2, random_state=5)\n",
    "print(X_train.shape)\n",
    "print(X_test.shape)\n",
    "print(Y_train.shape)\n",
    "print(Y_test.shape)"
   ]
  },
  {
   "cell_type": "markdown",
   "id": "0ae83fae-f8fb-4657-a083-68faf7b0f288",
   "metadata": {
    "tags": []
   },
   "source": [
    "#### **Normalizing** Data"
   ]
  },
  {
   "cell_type": "code",
   "execution_count": 89,
   "id": "51552912-df35-4e23-b985-d3069674aa7e",
   "metadata": {},
   "outputs": [],
   "source": [
    "scaler = StandardScaler().fit(X_train)"
   ]
  },
  {
   "cell_type": "code",
   "execution_count": 90,
   "id": "6340967d-c420-438a-aef1-28af77f8b9b5",
   "metadata": {},
   "outputs": [],
   "source": [
    "X_train = scaler.transform(X_train)"
   ]
  },
  {
   "cell_type": "code",
   "execution_count": 91,
   "id": "943cc346-bb70-4742-8010-5984556ce6e5",
   "metadata": {},
   "outputs": [],
   "source": [
    "X_test = scaler.transform(X_test)"
   ]
  },
  {
   "cell_type": "markdown",
   "id": "aa102979-fd05-4c3b-96d6-a4b1337ef95c",
   "metadata": {
    "tags": []
   },
   "source": [
    "#### **Model evaluation** "
   ]
  },
  {
   "cell_type": "code",
   "execution_count": 92,
   "id": "4a016272-2f42-42f4-bc39-4e44a8ca7351",
   "metadata": {},
   "outputs": [],
   "source": [
    "def create_polynomial_regression_model(degree):\n",
    "    \"Creates a polynomial regression model for the given degree\"\n",
    "    poly_features = PolynomialFeatures(degree=degree)\n",
    "\n",
    "    # transforms the existing features to higher degree features.\n",
    "    X_train_poly = poly_features.fit_transform(X_train)\n",
    "\n",
    "    # fit the transformed features to Linear Regression\n",
    "    poly_model = LinearRegression()\n",
    "    poly_model.fit(X_train_poly, Y_train)\n",
    "\n",
    "    # predicting on training data-set\n",
    "    y_train_predicted = poly_model.predict(X_train_poly)\n",
    "  \n",
    "    # predicting on test data-set\n",
    "    y_test_predict = poly_model.predict(poly_features.fit_transform(X_test))\n",
    "\n",
    "    # evaluating the model on training dataset\n",
    "    rmse_train = np.sqrt(mean_squared_error(Y_train, y_train_predicted))\n",
    "    r2_train = r2_score(Y_train, y_train_predicted)\n",
    "\n",
    "    # evaluating the model on test dataset\n",
    "    rmse_test = np.sqrt(mean_squared_error(Y_test, y_test_predict))\n",
    "    r2_test = r2_score(Y_test, y_test_predict)\n",
    "\n",
    "#     print(\"The model performance for the training set\")\n",
    "#     print(\"-------------------------------------------\")\n",
    "#     print(\"RMSE of training set is {}\".format(rmse_train))\n",
    "#     print(\"R2 score of training set is {}\".format(r2_train))\n",
    "\n",
    "#     print(\"\\n\")\n",
    "  \n",
    "#     print(\"The model performance for the test set\")\n",
    "#     print(\"-------------------------------------------\")\n",
    "#     print(\"RMSE of test set is {}\".format(rmse_test))\n",
    "#     print(\"R2 score of test set is {}\".format(r2_test))\n",
    "    \n",
    "    result= {'Degree':degree,'rmse_train':round(rmse_train,2),'r2_train':round(r2_train,2),'rmse_test':round(rmse_test,2),'r2_test':round(r2_test,2)}\n",
    "    return result"
   ]
  },
  {
   "cell_type": "markdown",
   "id": "ebc67c42-956e-43ad-856f-5e23eb40c9a5",
   "metadata": {},
   "source": [
    "#### **Results**"
   ]
  },
  {
   "cell_type": "code",
   "execution_count": 93,
   "id": "831f6b92-3268-4542-97e2-32969c69d2b8",
   "metadata": {},
   "outputs": [],
   "source": [
    "results_list = []"
   ]
  },
  {
   "cell_type": "code",
   "execution_count": 94,
   "id": "9d198a85-dfc9-4e9e-88de-c98252774825",
   "metadata": {},
   "outputs": [],
   "source": [
    "for i in range(1,6):\n",
    "    results_list.append(create_polynomial_regression_model(i))"
   ]
  },
  {
   "cell_type": "code",
   "execution_count": 95,
   "id": "85b03f2f-94e0-4456-a73e-0fa3fe464a1a",
   "metadata": {},
   "outputs": [],
   "source": [
    "df_results = pd.DataFrame(results_list)"
   ]
  },
  {
   "cell_type": "code",
   "execution_count": 96,
   "id": "fc80b83c-687c-4166-be35-5b0584e710d3",
   "metadata": {},
   "outputs": [
    {
     "data": {
      "text/html": [
       "<div>\n",
       "<style scoped>\n",
       "    .dataframe tbody tr th:only-of-type {\n",
       "        vertical-align: middle;\n",
       "    }\n",
       "\n",
       "    .dataframe tbody tr th {\n",
       "        vertical-align: top;\n",
       "    }\n",
       "\n",
       "    .dataframe thead th {\n",
       "        text-align: right;\n",
       "    }\n",
       "</style>\n",
       "<table border=\"1\" class=\"dataframe\">\n",
       "  <thead>\n",
       "    <tr style=\"text-align: right;\">\n",
       "      <th></th>\n",
       "      <th>Degree</th>\n",
       "      <th>rmse_train</th>\n",
       "      <th>r2_train</th>\n",
       "      <th>rmse_test</th>\n",
       "      <th>r2_test</th>\n",
       "    </tr>\n",
       "  </thead>\n",
       "  <tbody>\n",
       "    <tr>\n",
       "      <th>0</th>\n",
       "      <td>1</td>\n",
       "      <td>102052.43</td>\n",
       "      <td>0.60</td>\n",
       "      <td>1.044211e+05</td>\n",
       "      <td>6.000000e-01</td>\n",
       "    </tr>\n",
       "    <tr>\n",
       "      <th>1</th>\n",
       "      <td>2</td>\n",
       "      <td>97746.48</td>\n",
       "      <td>0.64</td>\n",
       "      <td>9.882637e+04</td>\n",
       "      <td>6.500000e-01</td>\n",
       "    </tr>\n",
       "    <tr>\n",
       "      <th>2</th>\n",
       "      <td>3</td>\n",
       "      <td>94625.00</td>\n",
       "      <td>0.66</td>\n",
       "      <td>9.693871e+04</td>\n",
       "      <td>6.600000e-01</td>\n",
       "    </tr>\n",
       "    <tr>\n",
       "      <th>3</th>\n",
       "      <td>4</td>\n",
       "      <td>92102.06</td>\n",
       "      <td>0.68</td>\n",
       "      <td>9.859717e+04</td>\n",
       "      <td>6.500000e-01</td>\n",
       "    </tr>\n",
       "    <tr>\n",
       "      <th>4</th>\n",
       "      <td>5</td>\n",
       "      <td>89565.86</td>\n",
       "      <td>0.69</td>\n",
       "      <td>2.121817e+12</td>\n",
       "      <td>-1.633091e+14</td>\n",
       "    </tr>\n",
       "  </tbody>\n",
       "</table>\n",
       "</div>"
      ],
      "text/plain": [
       "   Degree  rmse_train  r2_train     rmse_test       r2_test\n",
       "0       1   102052.43      0.60  1.044211e+05  6.000000e-01\n",
       "1       2    97746.48      0.64  9.882637e+04  6.500000e-01\n",
       "2       3    94625.00      0.66  9.693871e+04  6.600000e-01\n",
       "3       4    92102.06      0.68  9.859717e+04  6.500000e-01\n",
       "4       5    89565.86      0.69  2.121817e+12 -1.633091e+14"
      ]
     },
     "execution_count": 96,
     "metadata": {},
     "output_type": "execute_result"
    }
   ],
   "source": [
    "df_results"
   ]
  },
  {
   "cell_type": "code",
   "execution_count": 97,
   "id": "2a9de09e-8de8-4092-bdd7-bd217e174aa0",
   "metadata": {},
   "outputs": [],
   "source": [
    "val = df_results[\"Degree\"].loc[df_results[\"r2_test\"] == df_results[\"r2_test\"].max()].values[0]"
   ]
  },
  {
   "cell_type": "code",
   "execution_count": 98,
   "id": "3553d2f4-f1ce-4e89-ae09-58e88aede1a2",
   "metadata": {
    "tags": []
   },
   "outputs": [
    {
     "data": {
      "image/png": "[encoded data removed]",
      "text/plain": [
       "<Figure size 640x480 with 1 Axes>"
      ]
     },
     "metadata": {},
     "output_type": "display_data"
    }
   ],
   "source": [
    "plt.plot(df_results['Degree'], df_results['r2_train'], label='Train')\n",
    "plt.plot(df_results['Degree'], df_results['r2_test'], label='Test')\n",
    "plt.axvline(x=val,color='#808080', linestyle=\"dashed\")\n",
    "plt.yscale('log')\n",
    "plt.legend()\n",
    "plt.title('House Model Complexity')\n",
    "plt.ylabel('Result (r2)')\n",
    "plt.xlabel('Degree')\n",
    "plt.gca().invert_yaxis()"
   ]
  },
  {
   "cell_type": "markdown",
   "id": "c58f225b-c003-4f18-bb48-1835aba86bb2",
   "metadata": {},
   "source": [
    "**Final results**\n",
    "* Underfit : < 3 Degrees\n",
    "* **Correct fit : 3 Degrees**\n",
    "* Overfit : > 3 Degrees"
   ]
  },
  {
   "cell_type": "markdown",
   "id": "ae8d5685-f047-4152-b6cd-bca49797ccc7",
   "metadata": {},
   "source": [
    "### **Apartment Model**"
   ]
  },
  {
   "cell_type": "markdown",
   "id": "84a50431-e99f-4a26-9bf7-4c42e371f7c2",
   "metadata": {},
   "source": [
    "#### **Prepare** X and Y"
   ]
  },
  {
   "cell_type": "code",
   "execution_count": 99,
   "id": "7e50d384-efe0-4638-966a-f5f61e653d90",
   "metadata": {},
   "outputs": [],
   "source": [
    "X = df_apartment.iloc[:,1:].values  #features"
   ]
  },
  {
   "cell_type": "code",
   "execution_count": 100,
   "id": "8198ce46-9699-4fef-be59-470e743e4628",
   "metadata": {},
   "outputs": [],
   "source": [
    "Y = df_apartment.iloc[:,0].values  #target : price"
   ]
  },
  {
   "cell_type": "markdown",
   "id": "78905dc3-3d8c-4f85-94b0-a10a092b0bf4",
   "metadata": {},
   "source": [
    "#### **Split** the Data"
   ]
  },
  {
   "cell_type": "code",
   "execution_count": 101,
   "id": "fc413f61-c863-439d-8edd-0bb525f65493",
   "metadata": {},
   "outputs": [
    {
     "name": "stdout",
     "output_type": "stream",
     "text": [
      "(15193, 7)\n",
      "(3799, 7)\n",
      "(15193,)\n",
      "(3799,)\n"
     ]
    }
   ],
   "source": [
    "X_train, X_test, Y_train, Y_test = train_test_split(X, Y, test_size = 0.2, random_state=5)\n",
    "print(X_train.shape)\n",
    "print(X_test.shape)\n",
    "print(Y_train.shape)\n",
    "print(Y_test.shape)"
   ]
  },
  {
   "cell_type": "markdown",
   "id": "02c74c52-145b-46f6-a56c-e4013c84c8c7",
   "metadata": {},
   "source": [
    "#### **Normalizing** Data"
   ]
  },
  {
   "cell_type": "code",
   "execution_count": 102,
   "id": "b8cc5bd6-0c7c-4134-8276-4262c8dcbbeb",
   "metadata": {},
   "outputs": [],
   "source": [
    "scaler = StandardScaler().fit(X_train)"
   ]
  },
  {
   "cell_type": "code",
   "execution_count": 103,
   "id": "444c6d19-0946-4ba1-9b58-5a0c3ddb8f89",
   "metadata": {},
   "outputs": [],
   "source": [
    "X_train = scaler.transform(X_train)"
   ]
  },
  {
   "cell_type": "code",
   "execution_count": 104,
   "id": "56b2efa9-b891-4458-9188-c8739e5fd964",
   "metadata": {},
   "outputs": [],
   "source": [
    "X_test = scaler.transform(X_test)"
   ]
  },
  {
   "cell_type": "markdown",
   "id": "8da31d30-a2ca-4204-811f-f4718212f4c4",
   "metadata": {
    "tags": []
   },
   "source": [
    "#### **Model evaluation** "
   ]
  },
  {
   "cell_type": "code",
   "execution_count": 105,
   "id": "8f7d8ea7-2030-4d22-896b-62ff291386d0",
   "metadata": {},
   "outputs": [],
   "source": [
    "def create_polynomial_regression_model(degree):\n",
    "    \"Creates a polynomial regression model for the given degree\"\n",
    "    poly_features = PolynomialFeatures(degree=degree)\n",
    "\n",
    "    # transforms the existing features to higher degree features.\n",
    "    X_train_poly = poly_features.fit_transform(X_train)\n",
    "\n",
    "    # fit the transformed features to Linear Regression\n",
    "    poly_model = LinearRegression()\n",
    "    poly_model.fit(X_train_poly, Y_train)\n",
    "\n",
    "    # predicting on training data-set\n",
    "    y_train_predicted = poly_model.predict(X_train_poly)\n",
    "  \n",
    "    # predicting on test data-set\n",
    "    y_test_predict = poly_model.predict(poly_features.fit_transform(X_test))\n",
    "\n",
    "    # evaluating the model on training dataset\n",
    "    rmse_train = np.sqrt(mean_squared_error(Y_train, y_train_predicted))\n",
    "    r2_train = r2_score(Y_train, y_train_predicted)\n",
    "\n",
    "    # evaluating the model on test dataset\n",
    "    rmse_test = np.sqrt(mean_squared_error(Y_test, y_test_predict))\n",
    "    r2_test = r2_score(Y_test, y_test_predict)\n",
    "\n",
    "#     print(\"The model performance for the training set\")\n",
    "#     print(\"-------------------------------------------\")\n",
    "#     print(\"RMSE of training set is {}\".format(rmse_train))\n",
    "#     print(\"R2 score of training set is {}\".format(r2_train))\n",
    "\n",
    "#     print(\"\\n\")\n",
    "  \n",
    "#     print(\"The model performance for the test set\")\n",
    "#     print(\"-------------------------------------------\")\n",
    "#     print(\"RMSE of test set is {}\".format(rmse_test))\n",
    "#     print(\"R2 score of test set is {}\".format(r2_test))\n",
    "    \n",
    "    result= {'Degree':degree,'rmse_train':round(rmse_train,2),'r2_train':round(r2_train,2),'rmse_test':round(rmse_test,2),'r2_test':round(r2_test,2)}\n",
    "    return result"
   ]
  },
  {
   "cell_type": "markdown",
   "id": "98c41ada-2031-46b9-82f5-f466a5ac4614",
   "metadata": {},
   "source": [
    "#### **Results**"
   ]
  },
  {
   "cell_type": "code",
   "execution_count": 106,
   "id": "e1bd4dd4-44a5-451a-8012-06c18a15859f",
   "metadata": {},
   "outputs": [],
   "source": [
    "results_list = []"
   ]
  },
  {
   "cell_type": "code",
   "execution_count": 107,
   "id": "78a7ae4a-079c-46d1-ac0f-5061c5d2e754",
   "metadata": {},
   "outputs": [],
   "source": [
    "for i in range(1,6):\n",
    "    results_list.append(create_polynomial_regression_model(i))"
   ]
  },
  {
   "cell_type": "code",
   "execution_count": 108,
   "id": "9784a208-53cb-41c2-a510-8c5889147e30",
   "metadata": {},
   "outputs": [],
   "source": [
    "df_results = pd.DataFrame(results_list)"
   ]
  },
  {
   "cell_type": "code",
   "execution_count": 109,
   "id": "2ccf4123-6057-42be-ab3b-446925bb7af1",
   "metadata": {},
   "outputs": [
    {
     "data": {
      "text/html": [
       "<div>\n",
       "<style scoped>\n",
       "    .dataframe tbody tr th:only-of-type {\n",
       "        vertical-align: middle;\n",
       "    }\n",
       "\n",
       "    .dataframe tbody tr th {\n",
       "        vertical-align: top;\n",
       "    }\n",
       "\n",
       "    .dataframe thead th {\n",
       "        text-align: right;\n",
       "    }\n",
       "</style>\n",
       "<table border=\"1\" class=\"dataframe\">\n",
       "  <thead>\n",
       "    <tr style=\"text-align: right;\">\n",
       "      <th></th>\n",
       "      <th>Degree</th>\n",
       "      <th>rmse_train</th>\n",
       "      <th>r2_train</th>\n",
       "      <th>rmse_test</th>\n",
       "      <th>r2_test</th>\n",
       "    </tr>\n",
       "  </thead>\n",
       "  <tbody>\n",
       "    <tr>\n",
       "      <th>0</th>\n",
       "      <td>1</td>\n",
       "      <td>70799.57</td>\n",
       "      <td>0.65</td>\n",
       "      <td>73212.79</td>\n",
       "      <td>0.62</td>\n",
       "    </tr>\n",
       "    <tr>\n",
       "      <th>1</th>\n",
       "      <td>2</td>\n",
       "      <td>64831.90</td>\n",
       "      <td>0.71</td>\n",
       "      <td>67764.57</td>\n",
       "      <td>0.68</td>\n",
       "    </tr>\n",
       "    <tr>\n",
       "      <th>2</th>\n",
       "      <td>3</td>\n",
       "      <td>62856.46</td>\n",
       "      <td>0.72</td>\n",
       "      <td>65584.64</td>\n",
       "      <td>0.70</td>\n",
       "    </tr>\n",
       "    <tr>\n",
       "      <th>3</th>\n",
       "      <td>4</td>\n",
       "      <td>61469.31</td>\n",
       "      <td>0.74</td>\n",
       "      <td>65742.90</td>\n",
       "      <td>0.70</td>\n",
       "    </tr>\n",
       "    <tr>\n",
       "      <th>4</th>\n",
       "      <td>5</td>\n",
       "      <td>59915.48</td>\n",
       "      <td>0.75</td>\n",
       "      <td>72526.38</td>\n",
       "      <td>0.63</td>\n",
       "    </tr>\n",
       "  </tbody>\n",
       "</table>\n",
       "</div>"
      ],
      "text/plain": [
       "   Degree  rmse_train  r2_train  rmse_test  r2_test\n",
       "0       1    70799.57      0.65   73212.79     0.62\n",
       "1       2    64831.90      0.71   67764.57     0.68\n",
       "2       3    62856.46      0.72   65584.64     0.70\n",
       "3       4    61469.31      0.74   65742.90     0.70\n",
       "4       5    59915.48      0.75   72526.38     0.63"
      ]
     },
     "execution_count": 109,
     "metadata": {},
     "output_type": "execute_result"
    }
   ],
   "source": [
    "df_results"
   ]
  },
  {
   "cell_type": "code",
   "execution_count": 110,
   "id": "a32ac283-eadb-46e9-9483-3452ecca85d9",
   "metadata": {},
   "outputs": [],
   "source": [
    "val = df_results[\"Degree\"].loc[df_results[\"r2_test\"] == df_results[\"r2_test\"].max()].values[0]"
   ]
  },
  {
   "cell_type": "code",
   "execution_count": 111,
   "id": "d663d68d-1d86-4890-ae44-33c9c7635f92",
   "metadata": {
    "tags": []
   },
   "outputs": [
    {
     "data": {
      "image/png": "[encoded data removed]",
      "text/plain": [
       "<Figure size 640x480 with 1 Axes>"
      ]
     },
     "metadata": {},
     "output_type": "display_data"
    }
   ],
   "source": [
    "plt.plot(df_results['Degree'], df_results['r2_train'], label='Train')\n",
    "plt.plot(df_results['Degree'], df_results['r2_test'], label='Test')\n",
    "plt.axvline(x=val,color='#808080', linestyle=\"dashed\")\n",
    "plt.yscale('log')\n",
    "plt.legend()\n",
    "plt.title('Apartment Model Complexity')\n",
    "plt.ylabel('Result (r2)')\n",
    "plt.xlabel('Degree')\n",
    "plt.gca().invert_yaxis()"
   ]
  },
  {
   "cell_type": "markdown",
   "id": "11309863-fd72-47f9-9b3d-cf174de7fb7f",
   "metadata": {},
   "source": [
    "**Final results**\n",
    "* Underfit : < 3 Degrees\n",
    "* **Correct fit : 3 Degrees**\n",
    "* Overfit : > 3 Degrees"
   ]
  },
  {
   "cell_type": "markdown",
   "id": "c55bebe4-9593-4c01-a166-9f514e119fad",
   "metadata": {},
   "source": [
    "### **Other Model**"
   ]
  },
  {
   "cell_type": "code",
   "execution_count": 112,
   "id": "f8453083-78be-4346-a44a-207ed46c6d0e",
   "metadata": {},
   "outputs": [
    {
     "data": {
      "text/html": [
       "<div>\n",
       "<style scoped>\n",
       "    .dataframe tbody tr th:only-of-type {\n",
       "        vertical-align: middle;\n",
       "    }\n",
       "\n",
       "    .dataframe tbody tr th {\n",
       "        vertical-align: top;\n",
       "    }\n",
       "\n",
       "    .dataframe thead th {\n",
       "        text-align: right;\n",
       "    }\n",
       "</style>\n",
       "<table border=\"1\" class=\"dataframe\">\n",
       "  <thead>\n",
       "    <tr style=\"text-align: right;\">\n",
       "      <th></th>\n",
       "      <th>id</th>\n",
       "      <th>locality</th>\n",
       "      <th>postal_code</th>\n",
       "      <th>region</th>\n",
       "      <th>province</th>\n",
       "      <th>type_of_property</th>\n",
       "      <th>subtype_of_property</th>\n",
       "      <th>type_of_sale</th>\n",
       "      <th>price</th>\n",
       "      <th>number_of_bedrooms</th>\n",
       "      <th>...</th>\n",
       "      <th>open_fire</th>\n",
       "      <th>terrace</th>\n",
       "      <th>terrace_surface</th>\n",
       "      <th>garden</th>\n",
       "      <th>garden_surface</th>\n",
       "      <th>land_surface</th>\n",
       "      <th>number_of_facades</th>\n",
       "      <th>swimming_pool</th>\n",
       "      <th>state_of_the_building</th>\n",
       "      <th>zip_code_xx</th>\n",
       "    </tr>\n",
       "  </thead>\n",
       "  <tbody>\n",
       "    <tr>\n",
       "      <th>106</th>\n",
       "      <td>9992033</td>\n",
       "      <td>Ham-sur-Sambre</td>\n",
       "      <td>5190</td>\n",
       "      <td>Wallonie</td>\n",
       "      <td>Namur</td>\n",
       "      <td>OTHER</td>\n",
       "      <td>OTHER_PROPERTY</td>\n",
       "      <td>residential_sale</td>\n",
       "      <td>278000</td>\n",
       "      <td>0</td>\n",
       "      <td>...</td>\n",
       "      <td>0</td>\n",
       "      <td>0</td>\n",
       "      <td>0</td>\n",
       "      <td>1</td>\n",
       "      <td>100</td>\n",
       "      <td>535</td>\n",
       "      <td>4</td>\n",
       "      <td>0</td>\n",
       "      <td>0.25</td>\n",
       "      <td>be_zip_519</td>\n",
       "    </tr>\n",
       "    <tr>\n",
       "      <th>199</th>\n",
       "      <td>9839029</td>\n",
       "      <td>Hastière-Lavaux</td>\n",
       "      <td>5540</td>\n",
       "      <td>Wallonie</td>\n",
       "      <td>Namur</td>\n",
       "      <td>OTHER</td>\n",
       "      <td>CHALET</td>\n",
       "      <td>residential_sale</td>\n",
       "      <td>118000</td>\n",
       "      <td>2</td>\n",
       "      <td>...</td>\n",
       "      <td>0</td>\n",
       "      <td>1</td>\n",
       "      <td>0</td>\n",
       "      <td>1</td>\n",
       "      <td>0</td>\n",
       "      <td>280</td>\n",
       "      <td>4</td>\n",
       "      <td>0</td>\n",
       "      <td>1.00</td>\n",
       "      <td>be_zip_554</td>\n",
       "    </tr>\n",
       "    <tr>\n",
       "      <th>265</th>\n",
       "      <td>10132676</td>\n",
       "      <td>Hastiere</td>\n",
       "      <td>5540</td>\n",
       "      <td>Wallonie</td>\n",
       "      <td>Namur</td>\n",
       "      <td>OTHER</td>\n",
       "      <td>CHALET</td>\n",
       "      <td>residential_sale</td>\n",
       "      <td>48000</td>\n",
       "      <td>1</td>\n",
       "      <td>...</td>\n",
       "      <td>0</td>\n",
       "      <td>0</td>\n",
       "      <td>0</td>\n",
       "      <td>1</td>\n",
       "      <td>0</td>\n",
       "      <td>211</td>\n",
       "      <td>4</td>\n",
       "      <td>0</td>\n",
       "      <td>0.50</td>\n",
       "      <td>be_zip_554</td>\n",
       "    </tr>\n",
       "    <tr>\n",
       "      <th>315</th>\n",
       "      <td>10062930</td>\n",
       "      <td>Hastiere</td>\n",
       "      <td>5540</td>\n",
       "      <td>Wallonie</td>\n",
       "      <td>Namur</td>\n",
       "      <td>OTHER</td>\n",
       "      <td>CHALET</td>\n",
       "      <td>residential_sale</td>\n",
       "      <td>99500</td>\n",
       "      <td>2</td>\n",
       "      <td>...</td>\n",
       "      <td>0</td>\n",
       "      <td>0</td>\n",
       "      <td>0</td>\n",
       "      <td>1</td>\n",
       "      <td>280</td>\n",
       "      <td>378</td>\n",
       "      <td>4</td>\n",
       "      <td>0</td>\n",
       "      <td>0.50</td>\n",
       "      <td>be_zip_554</td>\n",
       "    </tr>\n",
       "    <tr>\n",
       "      <th>418</th>\n",
       "      <td>9539560</td>\n",
       "      <td>Yvoir</td>\n",
       "      <td>5530</td>\n",
       "      <td>Wallonie</td>\n",
       "      <td>Namur</td>\n",
       "      <td>OTHER</td>\n",
       "      <td>CHALET</td>\n",
       "      <td>residential_sale</td>\n",
       "      <td>120000</td>\n",
       "      <td>1</td>\n",
       "      <td>...</td>\n",
       "      <td>0</td>\n",
       "      <td>1</td>\n",
       "      <td>0</td>\n",
       "      <td>0</td>\n",
       "      <td>0</td>\n",
       "      <td>494</td>\n",
       "      <td>4</td>\n",
       "      <td>0</td>\n",
       "      <td>0.75</td>\n",
       "      <td>be_zip_553</td>\n",
       "    </tr>\n",
       "    <tr>\n",
       "      <th>...</th>\n",
       "      <td>...</td>\n",
       "      <td>...</td>\n",
       "      <td>...</td>\n",
       "      <td>...</td>\n",
       "      <td>...</td>\n",
       "      <td>...</td>\n",
       "      <td>...</td>\n",
       "      <td>...</td>\n",
       "      <td>...</td>\n",
       "      <td>...</td>\n",
       "      <td>...</td>\n",
       "      <td>...</td>\n",
       "      <td>...</td>\n",
       "      <td>...</td>\n",
       "      <td>...</td>\n",
       "      <td>...</td>\n",
       "      <td>...</td>\n",
       "      <td>...</td>\n",
       "      <td>...</td>\n",
       "      <td>...</td>\n",
       "      <td>...</td>\n",
       "    </tr>\n",
       "    <tr>\n",
       "      <th>58471</th>\n",
       "      <td>10073234</td>\n",
       "      <td>Gent</td>\n",
       "      <td>9000</td>\n",
       "      <td>Flanders</td>\n",
       "      <td>East Flanders</td>\n",
       "      <td>OTHER</td>\n",
       "      <td>OTHER_PROPERTY</td>\n",
       "      <td>residential_sale</td>\n",
       "      <td>725000</td>\n",
       "      <td>3</td>\n",
       "      <td>...</td>\n",
       "      <td>0</td>\n",
       "      <td>1</td>\n",
       "      <td>41</td>\n",
       "      <td>1</td>\n",
       "      <td>41</td>\n",
       "      <td>332</td>\n",
       "      <td>2</td>\n",
       "      <td>0</td>\n",
       "      <td>0.50</td>\n",
       "      <td>be_zip_900</td>\n",
       "    </tr>\n",
       "    <tr>\n",
       "      <th>58952</th>\n",
       "      <td>9992767</td>\n",
       "      <td>Gent</td>\n",
       "      <td>9000</td>\n",
       "      <td>Flanders</td>\n",
       "      <td>East Flanders</td>\n",
       "      <td>OTHER</td>\n",
       "      <td>OTHER_PROPERTY</td>\n",
       "      <td>residential_sale</td>\n",
       "      <td>250000</td>\n",
       "      <td>3</td>\n",
       "      <td>...</td>\n",
       "      <td>0</td>\n",
       "      <td>0</td>\n",
       "      <td>0</td>\n",
       "      <td>0</td>\n",
       "      <td>0</td>\n",
       "      <td>0</td>\n",
       "      <td>4</td>\n",
       "      <td>0</td>\n",
       "      <td>0.25</td>\n",
       "      <td>be_zip_900</td>\n",
       "    </tr>\n",
       "    <tr>\n",
       "      <th>59939</th>\n",
       "      <td>10087034</td>\n",
       "      <td>EVERBEEK</td>\n",
       "      <td>9660</td>\n",
       "      <td>Flanders</td>\n",
       "      <td>East Flanders</td>\n",
       "      <td>OTHER</td>\n",
       "      <td>OTHER_PROPERTY</td>\n",
       "      <td>residential_sale</td>\n",
       "      <td>450000</td>\n",
       "      <td>8</td>\n",
       "      <td>...</td>\n",
       "      <td>0</td>\n",
       "      <td>1</td>\n",
       "      <td>0</td>\n",
       "      <td>0</td>\n",
       "      <td>0</td>\n",
       "      <td>3031</td>\n",
       "      <td>4</td>\n",
       "      <td>0</td>\n",
       "      <td>0.75</td>\n",
       "      <td>be_zip_966</td>\n",
       "    </tr>\n",
       "    <tr>\n",
       "      <th>59961</th>\n",
       "      <td>10131056</td>\n",
       "      <td>MUNKZWALM</td>\n",
       "      <td>9630</td>\n",
       "      <td>Flanders</td>\n",
       "      <td>East Flanders</td>\n",
       "      <td>OTHER</td>\n",
       "      <td>APARTMENT</td>\n",
       "      <td>residential_sale</td>\n",
       "      <td>430000</td>\n",
       "      <td>3</td>\n",
       "      <td>...</td>\n",
       "      <td>0</td>\n",
       "      <td>1</td>\n",
       "      <td>24</td>\n",
       "      <td>1</td>\n",
       "      <td>5500</td>\n",
       "      <td>5500</td>\n",
       "      <td>4</td>\n",
       "      <td>1</td>\n",
       "      <td>0.50</td>\n",
       "      <td>be_zip_963</td>\n",
       "    </tr>\n",
       "    <tr>\n",
       "      <th>61164</th>\n",
       "      <td>9427539</td>\n",
       "      <td>Lokeren</td>\n",
       "      <td>9160</td>\n",
       "      <td>Flanders</td>\n",
       "      <td>East Flanders</td>\n",
       "      <td>OTHER</td>\n",
       "      <td>SERVICE_FLAT</td>\n",
       "      <td>residential_sale</td>\n",
       "      <td>255000</td>\n",
       "      <td>1</td>\n",
       "      <td>...</td>\n",
       "      <td>0</td>\n",
       "      <td>1</td>\n",
       "      <td>15</td>\n",
       "      <td>1</td>\n",
       "      <td>26000</td>\n",
       "      <td>26000</td>\n",
       "      <td>1</td>\n",
       "      <td>1</td>\n",
       "      <td>1.00</td>\n",
       "      <td>be_zip_916</td>\n",
       "    </tr>\n",
       "  </tbody>\n",
       "</table>\n",
       "<p>197 rows × 24 columns</p>\n",
       "</div>"
      ],
      "text/plain": [
       "             id         locality  postal_code    region       province  \\\n",
       "106     9992033   Ham-sur-Sambre         5190  Wallonie          Namur   \n",
       "199     9839029  Hastière-Lavaux         5540  Wallonie          Namur   \n",
       "265    10132676         Hastiere         5540  Wallonie          Namur   \n",
       "315    10062930         Hastiere         5540  Wallonie          Namur   \n",
       "418     9539560            Yvoir         5530  Wallonie          Namur   \n",
       "...         ...              ...          ...       ...            ...   \n",
       "58471  10073234             Gent         9000  Flanders  East Flanders   \n",
       "58952   9992767             Gent         9000  Flanders  East Flanders   \n",
       "59939  10087034         EVERBEEK         9660  Flanders  East Flanders   \n",
       "59961  10131056        MUNKZWALM         9630  Flanders  East Flanders   \n",
       "61164   9427539          Lokeren         9160  Flanders  East Flanders   \n",
       "\n",
       "      type_of_property subtype_of_property      type_of_sale   price  \\\n",
       "106              OTHER      OTHER_PROPERTY  residential_sale  278000   \n",
       "199              OTHER              CHALET  residential_sale  118000   \n",
       "265              OTHER              CHALET  residential_sale   48000   \n",
       "315              OTHER              CHALET  residential_sale   99500   \n",
       "418              OTHER              CHALET  residential_sale  120000   \n",
       "...                ...                 ...               ...     ...   \n",
       "58471            OTHER      OTHER_PROPERTY  residential_sale  725000   \n",
       "58952            OTHER      OTHER_PROPERTY  residential_sale  250000   \n",
       "59939            OTHER      OTHER_PROPERTY  residential_sale  450000   \n",
       "59961            OTHER           APARTMENT  residential_sale  430000   \n",
       "61164            OTHER        SERVICE_FLAT  residential_sale  255000   \n",
       "\n",
       "       number_of_bedrooms  ...  open_fire terrace  terrace_surface  garden  \\\n",
       "106                     0  ...          0       0                0       1   \n",
       "199                     2  ...          0       1                0       1   \n",
       "265                     1  ...          0       0                0       1   \n",
       "315                     2  ...          0       0                0       1   \n",
       "418                     1  ...          0       1                0       0   \n",
       "...                   ...  ...        ...     ...              ...     ...   \n",
       "58471                   3  ...          0       1               41       1   \n",
       "58952                   3  ...          0       0                0       0   \n",
       "59939                   8  ...          0       1                0       0   \n",
       "59961                   3  ...          0       1               24       1   \n",
       "61164                   1  ...          0       1               15       1   \n",
       "\n",
       "       garden_surface  land_surface  number_of_facades  swimming_pool  \\\n",
       "106               100           535                  4              0   \n",
       "199                 0           280                  4              0   \n",
       "265                 0           211                  4              0   \n",
       "315               280           378                  4              0   \n",
       "418                 0           494                  4              0   \n",
       "...               ...           ...                ...            ...   \n",
       "58471              41           332                  2              0   \n",
       "58952               0             0                  4              0   \n",
       "59939               0          3031                  4              0   \n",
       "59961            5500          5500                  4              1   \n",
       "61164           26000         26000                  1              1   \n",
       "\n",
       "       state_of_the_building  zip_code_xx  \n",
       "106                     0.25   be_zip_519  \n",
       "199                     1.00   be_zip_554  \n",
       "265                     0.50   be_zip_554  \n",
       "315                     0.50   be_zip_554  \n",
       "418                     0.75   be_zip_553  \n",
       "...                      ...          ...  \n",
       "58471                   0.50   be_zip_900  \n",
       "58952                   0.25   be_zip_900  \n",
       "59939                   0.75   be_zip_966  \n",
       "59961                   0.50   be_zip_963  \n",
       "61164                   1.00   be_zip_916  \n",
       "\n",
       "[197 rows x 24 columns]"
      ]
     },
     "execution_count": 112,
     "metadata": {},
     "output_type": "execute_result"
    }
   ],
   "source": [
    "df_other"
   ]
  },
  {
   "cell_type": "code",
   "execution_count": 113,
   "id": "2c186cc7-8cc8-4695-8af5-2904c61b1a9b",
   "metadata": {},
   "outputs": [
    {
     "name": "stderr",
     "output_type": "stream",
     "text": [
      "/tmp/ipykernel_14208/921088034.py:1: FutureWarning: The default value of numeric_only in DataFrame.corr is deprecated. In a future version, it will default to False. Select only valid columns or specify the value of numeric_only to silence this warning.\n",
      "  df_other.corr()['price']\n"
     ]
    },
    {
     "data": {
      "text/plain": [
       "id                        0.082535\n",
       "postal_code              -0.018252\n",
       "price                     1.000000\n",
       "number_of_bedrooms        0.623255\n",
       "surface                   0.711486\n",
       "fully_equipped_kitchen    0.108717\n",
       "furnished                -0.130488\n",
       "open_fire                 0.349570\n",
       "terrace                   0.047398\n",
       "terrace_surface           0.242407\n",
       "garden                    0.091757\n",
       "garden_surface            0.084122\n",
       "land_surface              0.142626\n",
       "number_of_facades        -0.096406\n",
       "swimming_pool             0.218501\n",
       "state_of_the_building     0.008930\n",
       "Name: price, dtype: float64"
      ]
     },
     "execution_count": 113,
     "metadata": {},
     "output_type": "execute_result"
    }
   ],
   "source": [
    "df_other.corr()['price']"
   ]
  },
  {
   "cell_type": "markdown",
   "id": "5a87d69b-1e02-4d7d-a99e-00aa0e624eb3",
   "metadata": {},
   "source": [
    "#### **Prepare** X and Y"
   ]
  },
  {
   "cell_type": "code",
   "execution_count": 114,
   "id": "74e60e14-6d68-4073-93dc-2dafe0143514",
   "metadata": {},
   "outputs": [],
   "source": [
    "X = df_other.iloc[:,1:].values  #features"
   ]
  },
  {
   "cell_type": "code",
   "execution_count": 115,
   "id": "a2a68bac-e6ca-4cc4-ba99-82f1e7e71373",
   "metadata": {},
   "outputs": [],
   "source": [
    "Y = df_other.iloc[:,0].values  #target : price"
   ]
  },
  {
   "cell_type": "markdown",
   "id": "73f32b98-72ed-4718-9e43-622d1a1d842f",
   "metadata": {},
   "source": [
    "#### **Split** the Data"
   ]
  },
  {
   "cell_type": "code",
   "execution_count": 116,
   "id": "8fb29841-9851-445b-ab1d-2a43d8403566",
   "metadata": {},
   "outputs": [
    {
     "name": "stdout",
     "output_type": "stream",
     "text": [
      "(157, 23)\n",
      "(40, 23)\n",
      "(157,)\n",
      "(40,)\n"
     ]
    }
   ],
   "source": [
    "X_train, X_test, Y_train, Y_test = train_test_split(X, Y, test_size = 0.2, random_state=5)\n",
    "print(X_train.shape)\n",
    "print(X_test.shape)\n",
    "print(Y_train.shape)\n",
    "print(Y_test.shape)"
   ]
  },
  {
   "cell_type": "markdown",
   "id": "c9596145-6ab7-4941-934b-56a0c39f423b",
   "metadata": {},
   "source": [
    "#### **Normalizing** Data"
   ]
  },
  {
   "cell_type": "code",
   "execution_count": 117,
   "id": "d8a48d17-7636-419c-848a-c7db2480b4a8",
   "metadata": {},
   "outputs": [
    {
     "ename": "ValueError",
     "evalue": "could not convert string to float: 'Yvoir'",
     "output_type": "error",
     "traceback": [
      "\u001b[0;31m---------------------------------------------------------------------------\u001b[0m",
      "\u001b[0;31mValueError\u001b[0m                                Traceback (most recent call last)",
      "Cell \u001b[0;32mIn [117], line 1\u001b[0m\n\u001b[0;32m----> 1\u001b[0m scaler \u001b[38;5;241m=\u001b[39m \u001b[43mStandardScaler\u001b[49m\u001b[43m(\u001b[49m\u001b[43m)\u001b[49m\u001b[38;5;241;43m.\u001b[39;49m\u001b[43mfit\u001b[49m\u001b[43m(\u001b[49m\u001b[43mX_train\u001b[49m\u001b[43m)\u001b[49m\n",
      "File \u001b[0;32m~/MyGithub/challenge-regression/env/lib/python3.10/site-packages/sklearn/preprocessing/_data.py:809\u001b[0m, in \u001b[0;36mStandardScaler.fit\u001b[0;34m(self, X, y, sample_weight)\u001b[0m\n\u001b[1;32m    807\u001b[0m \u001b[38;5;66;03m# Reset internal state before fitting\u001b[39;00m\n\u001b[1;32m    808\u001b[0m \u001b[38;5;28mself\u001b[39m\u001b[38;5;241m.\u001b[39m_reset()\n\u001b[0;32m--> 809\u001b[0m \u001b[38;5;28;01mreturn\u001b[39;00m \u001b[38;5;28;43mself\u001b[39;49m\u001b[38;5;241;43m.\u001b[39;49m\u001b[43mpartial_fit\u001b[49m\u001b[43m(\u001b[49m\u001b[43mX\u001b[49m\u001b[43m,\u001b[49m\u001b[43m \u001b[49m\u001b[43my\u001b[49m\u001b[43m,\u001b[49m\u001b[43m \u001b[49m\u001b[43msample_weight\u001b[49m\u001b[43m)\u001b[49m\n",
      "File \u001b[0;32m~/MyGithub/challenge-regression/env/lib/python3.10/site-packages/sklearn/preprocessing/_data.py:844\u001b[0m, in \u001b[0;36mStandardScaler.partial_fit\u001b[0;34m(self, X, y, sample_weight)\u001b[0m\n\u001b[1;32m    812\u001b[0m \u001b[38;5;124;03m\"\"\"Online computation of mean and std on X for later scaling.\u001b[39;00m\n\u001b[1;32m    813\u001b[0m \n\u001b[1;32m    814\u001b[0m \u001b[38;5;124;03mAll of X is processed as a single batch. This is intended for cases\u001b[39;00m\n\u001b[0;32m   (...)\u001b[0m\n\u001b[1;32m    841\u001b[0m \u001b[38;5;124;03m    Fitted scaler.\u001b[39;00m\n\u001b[1;32m    842\u001b[0m \u001b[38;5;124;03m\"\"\"\u001b[39;00m\n\u001b[1;32m    843\u001b[0m first_call \u001b[38;5;241m=\u001b[39m \u001b[38;5;129;01mnot\u001b[39;00m \u001b[38;5;28mhasattr\u001b[39m(\u001b[38;5;28mself\u001b[39m, \u001b[38;5;124m\"\u001b[39m\u001b[38;5;124mn_samples_seen_\u001b[39m\u001b[38;5;124m\"\u001b[39m)\n\u001b[0;32m--> 844\u001b[0m X \u001b[38;5;241m=\u001b[39m \u001b[38;5;28;43mself\u001b[39;49m\u001b[38;5;241;43m.\u001b[39;49m\u001b[43m_validate_data\u001b[49m\u001b[43m(\u001b[49m\n\u001b[1;32m    845\u001b[0m \u001b[43m    \u001b[49m\u001b[43mX\u001b[49m\u001b[43m,\u001b[49m\n\u001b[1;32m    846\u001b[0m \u001b[43m    \u001b[49m\u001b[43maccept_sparse\u001b[49m\u001b[38;5;241;43m=\u001b[39;49m\u001b[43m(\u001b[49m\u001b[38;5;124;43m\"\u001b[39;49m\u001b[38;5;124;43mcsr\u001b[39;49m\u001b[38;5;124;43m\"\u001b[39;49m\u001b[43m,\u001b[49m\u001b[43m \u001b[49m\u001b[38;5;124;43m\"\u001b[39;49m\u001b[38;5;124;43mcsc\u001b[39;49m\u001b[38;5;124;43m\"\u001b[39;49m\u001b[43m)\u001b[49m\u001b[43m,\u001b[49m\n\u001b[1;32m    847\u001b[0m \u001b[43m    \u001b[49m\u001b[43mdtype\u001b[49m\u001b[38;5;241;43m=\u001b[39;49m\u001b[43mFLOAT_DTYPES\u001b[49m\u001b[43m,\u001b[49m\n\u001b[1;32m    848\u001b[0m \u001b[43m    \u001b[49m\u001b[43mforce_all_finite\u001b[49m\u001b[38;5;241;43m=\u001b[39;49m\u001b[38;5;124;43m\"\u001b[39;49m\u001b[38;5;124;43mallow-nan\u001b[39;49m\u001b[38;5;124;43m\"\u001b[39;49m\u001b[43m,\u001b[49m\n\u001b[1;32m    849\u001b[0m \u001b[43m    \u001b[49m\u001b[43mreset\u001b[49m\u001b[38;5;241;43m=\u001b[39;49m\u001b[43mfirst_call\u001b[49m\u001b[43m,\u001b[49m\n\u001b[1;32m    850\u001b[0m \u001b[43m\u001b[49m\u001b[43m)\u001b[49m\n\u001b[1;32m    851\u001b[0m n_features \u001b[38;5;241m=\u001b[39m X\u001b[38;5;241m.\u001b[39mshape[\u001b[38;5;241m1\u001b[39m]\n\u001b[1;32m    853\u001b[0m \u001b[38;5;28;01mif\u001b[39;00m sample_weight \u001b[38;5;129;01mis\u001b[39;00m \u001b[38;5;129;01mnot\u001b[39;00m \u001b[38;5;28;01mNone\u001b[39;00m:\n",
      "File \u001b[0;32m~/MyGithub/challenge-regression/env/lib/python3.10/site-packages/sklearn/base.py:577\u001b[0m, in \u001b[0;36mBaseEstimator._validate_data\u001b[0;34m(self, X, y, reset, validate_separately, **check_params)\u001b[0m\n\u001b[1;32m    575\u001b[0m     \u001b[38;5;28;01mraise\u001b[39;00m \u001b[38;5;167;01mValueError\u001b[39;00m(\u001b[38;5;124m\"\u001b[39m\u001b[38;5;124mValidation should be done on X, y or both.\u001b[39m\u001b[38;5;124m\"\u001b[39m)\n\u001b[1;32m    576\u001b[0m \u001b[38;5;28;01melif\u001b[39;00m \u001b[38;5;129;01mnot\u001b[39;00m no_val_X \u001b[38;5;129;01mand\u001b[39;00m no_val_y:\n\u001b[0;32m--> 577\u001b[0m     X \u001b[38;5;241m=\u001b[39m \u001b[43mcheck_array\u001b[49m\u001b[43m(\u001b[49m\u001b[43mX\u001b[49m\u001b[43m,\u001b[49m\u001b[43m \u001b[49m\u001b[43minput_name\u001b[49m\u001b[38;5;241;43m=\u001b[39;49m\u001b[38;5;124;43m\"\u001b[39;49m\u001b[38;5;124;43mX\u001b[39;49m\u001b[38;5;124;43m\"\u001b[39;49m\u001b[43m,\u001b[49m\u001b[43m \u001b[49m\u001b[38;5;241;43m*\u001b[39;49m\u001b[38;5;241;43m*\u001b[39;49m\u001b[43mcheck_params\u001b[49m\u001b[43m)\u001b[49m\n\u001b[1;32m    578\u001b[0m     out \u001b[38;5;241m=\u001b[39m X\n\u001b[1;32m    579\u001b[0m \u001b[38;5;28;01melif\u001b[39;00m no_val_X \u001b[38;5;129;01mand\u001b[39;00m \u001b[38;5;129;01mnot\u001b[39;00m no_val_y:\n",
      "File \u001b[0;32m~/MyGithub/challenge-regression/env/lib/python3.10/site-packages/sklearn/utils/validation.py:856\u001b[0m, in \u001b[0;36mcheck_array\u001b[0;34m(array, accept_sparse, accept_large_sparse, dtype, order, copy, force_all_finite, ensure_2d, allow_nd, ensure_min_samples, ensure_min_features, estimator, input_name)\u001b[0m\n\u001b[1;32m    854\u001b[0m         array \u001b[38;5;241m=\u001b[39m array\u001b[38;5;241m.\u001b[39mastype(dtype, casting\u001b[38;5;241m=\u001b[39m\u001b[38;5;124m\"\u001b[39m\u001b[38;5;124munsafe\u001b[39m\u001b[38;5;124m\"\u001b[39m, copy\u001b[38;5;241m=\u001b[39m\u001b[38;5;28;01mFalse\u001b[39;00m)\n\u001b[1;32m    855\u001b[0m     \u001b[38;5;28;01melse\u001b[39;00m:\n\u001b[0;32m--> 856\u001b[0m         array \u001b[38;5;241m=\u001b[39m \u001b[43mnp\u001b[49m\u001b[38;5;241;43m.\u001b[39;49m\u001b[43masarray\u001b[49m\u001b[43m(\u001b[49m\u001b[43marray\u001b[49m\u001b[43m,\u001b[49m\u001b[43m \u001b[49m\u001b[43morder\u001b[49m\u001b[38;5;241;43m=\u001b[39;49m\u001b[43morder\u001b[49m\u001b[43m,\u001b[49m\u001b[43m \u001b[49m\u001b[43mdtype\u001b[49m\u001b[38;5;241;43m=\u001b[39;49m\u001b[43mdtype\u001b[49m\u001b[43m)\u001b[49m\n\u001b[1;32m    857\u001b[0m \u001b[38;5;28;01mexcept\u001b[39;00m ComplexWarning \u001b[38;5;28;01mas\u001b[39;00m complex_warning:\n\u001b[1;32m    858\u001b[0m     \u001b[38;5;28;01mraise\u001b[39;00m \u001b[38;5;167;01mValueError\u001b[39;00m(\n\u001b[1;32m    859\u001b[0m         \u001b[38;5;124m\"\u001b[39m\u001b[38;5;124mComplex data not supported\u001b[39m\u001b[38;5;130;01m\\n\u001b[39;00m\u001b[38;5;132;01m{}\u001b[39;00m\u001b[38;5;130;01m\\n\u001b[39;00m\u001b[38;5;124m\"\u001b[39m\u001b[38;5;241m.\u001b[39mformat(array)\n\u001b[1;32m    860\u001b[0m     ) \u001b[38;5;28;01mfrom\u001b[39;00m \u001b[38;5;21;01mcomplex_warning\u001b[39;00m\n",
      "\u001b[0;31mValueError\u001b[0m: could not convert string to float: 'Yvoir'"
     ]
    }
   ],
   "source": [
    "scaler = StandardScaler().fit(X_train)"
   ]
  },
  {
   "cell_type": "code",
   "execution_count": null,
   "id": "1d427552-1dbb-4ed4-805a-d66e873a515d",
   "metadata": {},
   "outputs": [],
   "source": [
    "X_train = scaler.transform(X_train)"
   ]
  },
  {
   "cell_type": "code",
   "execution_count": null,
   "id": "1a718312-c0aa-4ed6-bb44-46114ac76568",
   "metadata": {},
   "outputs": [],
   "source": [
    "X_test = scaler.transform(X_test)"
   ]
  },
  {
   "cell_type": "markdown",
   "id": "88fdc0d2-7970-4452-be67-26306d21e701",
   "metadata": {},
   "source": [
    "#### **Model evaluation** "
   ]
  },
  {
   "cell_type": "code",
   "execution_count": null,
   "id": "12ba8060-a3f5-44e9-88d6-dc5de0a26d76",
   "metadata": {},
   "outputs": [],
   "source": [
    "def create_polynomial_regression_model(degree):\n",
    "    \"Creates a polynomial regression model for the given degree\"\n",
    "    poly_features = PolynomialFeatures(degree=degree)\n",
    "\n",
    "    # transforms the existing features to higher degree features.\n",
    "    X_train_poly = poly_features.fit_transform(X_train)\n",
    "\n",
    "    # fit the transformed features to Linear Regression\n",
    "    poly_model = LinearRegression()\n",
    "    poly_model.fit(X_train_poly, Y_train)\n",
    "\n",
    "    # predicting on training data-set\n",
    "    y_train_predicted = poly_model.predict(X_train_poly)\n",
    "  \n",
    "    # predicting on test data-set\n",
    "    y_test_predict = poly_model.predict(poly_features.fit_transform(X_test))\n",
    "\n",
    "    # evaluating the model on training dataset\n",
    "    rmse_train = np.sqrt(mean_squared_error(Y_train, y_train_predicted))\n",
    "    r2_train = r2_score(Y_train, y_train_predicted)\n",
    "\n",
    "    # evaluating the model on test dataset\n",
    "    rmse_test = np.sqrt(mean_squared_error(Y_test, y_test_predict))\n",
    "    r2_test = r2_score(Y_test, y_test_predict)\n",
    "\n",
    "#     print(\"The model performance for the training set\")\n",
    "#     print(\"-------------------------------------------\")\n",
    "#     print(\"RMSE of training set is {}\".format(rmse_train))\n",
    "#     print(\"R2 score of training set is {}\".format(r2_train))\n",
    "\n",
    "#     print(\"\\n\")\n",
    "  \n",
    "#     print(\"The model performance for the test set\")\n",
    "#     print(\"-------------------------------------------\")\n",
    "#     print(\"RMSE of test set is {}\".format(rmse_test))\n",
    "#     print(\"R2 score of test set is {}\".format(r2_test))\n",
    "    \n",
    "    result= {'Degree':degree,'rmse_train':round(rmse_train,2),'r2_train':round(r2_train,2),'rmse_test':round(rmse_test,2),'r2_test':round(r2_test,2)}\n",
    "    return result"
   ]
  },
  {
   "cell_type": "markdown",
   "id": "9d36d315-6bf3-4a68-a38c-6fa35b11601a",
   "metadata": {},
   "source": [
    "#### **Results**"
   ]
  },
  {
   "cell_type": "code",
   "execution_count": null,
   "id": "4117d0be-246e-4217-bb38-2a10fce9d642",
   "metadata": {},
   "outputs": [],
   "source": [
    "results_list = []"
   ]
  },
  {
   "cell_type": "code",
   "execution_count": null,
   "id": "0aa83844-8653-4582-858a-edb7d331c26b",
   "metadata": {},
   "outputs": [],
   "source": [
    "for i in range(1,8):\n",
    "    results_list.append(create_polynomial_regression_model(i))"
   ]
  },
  {
   "cell_type": "code",
   "execution_count": null,
   "id": "364eade0-543d-49d7-8f27-d6f8fe36851e",
   "metadata": {},
   "outputs": [],
   "source": [
    "df_results = pd.DataFrame(results_list)"
   ]
  },
  {
   "cell_type": "code",
   "execution_count": null,
   "id": "1f76a8a4-cf35-465d-9a87-7597efe79488",
   "metadata": {},
   "outputs": [],
   "source": [
    "df_results"
   ]
  },
  {
   "cell_type": "code",
   "execution_count": null,
   "id": "937fe06e-65ab-45e0-9865-1ed193a9c008",
   "metadata": {},
   "outputs": [],
   "source": [
    "plt.plot(df_results['Degree'], df_results['r2_train'], label='Train')\n",
    "plt.plot(df_results['Degree'], df_results['r2_test'], label='Test')\n",
    "plt.yscale('log')\n",
    "plt.legend()\n",
    "plt.title('Apartment Model Complexity')\n",
    "plt.ylabel('Result')\n",
    "plt.xlabel('Degree')\n",
    "plt.gca().invert_yaxis()"
   ]
  },
  {
   "cell_type": "markdown",
   "id": "f32131d4-ecf4-4a3e-8209-c995d315fa56",
   "metadata": {},
   "source": [
    "**Final results**\n",
    "* Underfit : <= 4 Degrees\n",
    "* **Correct fit : 5 Degrees**\n",
    "* Overfit : >= 6 Degrees"
   ]
  },
  {
   "cell_type": "markdown",
   "id": "fd120844-3dc0-4424-bd00-cb31f00e2a93",
   "metadata": {},
   "source": [
    "# Final remarks"
   ]
  },
  {
   "cell_type": "code",
   "execution_count": null,
   "id": "af76a7b5-4c19-4cf9-bdf3-5d076f1f4a80",
   "metadata": {},
   "outputs": [],
   "source": []
  }
 ],
 "metadata": {
  "kernelspec": {
   "display_name": "Python 3 (ipykernel)",
   "language": "python",
   "name": "python3"
  },
  "language_info": {
   "codemirror_mode": {
    "name": "ipython",
    "version": 3
   },
   "file_extension": ".py",
   "mimetype": "text/x-python",
   "name": "python",
   "nbconvert_exporter": "python",
   "pygments_lexer": "ipython3",
   "version": "3.10.6"
  }
 },
 "nbformat": 4,
 "nbformat_minor": 5
}
