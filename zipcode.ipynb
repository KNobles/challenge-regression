{
 "cells": [
  {
   "cell_type": "markdown",
   "id": "080cbce0-ee50-46bc-b58e-7282d08b46a0",
   "metadata": {
    "jp-MarkdownHeadingCollapsed": true,
    "tags": []
   },
   "source": [
    "# Zip Code to latitude & longitude"
   ]
  },
  {
   "cell_type": "code",
   "execution_count": 1,
   "id": "f55183ec-841f-416a-a4fd-de892d66e466",
   "metadata": {},
   "outputs": [],
   "source": [
    "from geopy.geocoders import Nominatim\n",
    "geolocator = Nominatim(user_agent=\"zipcode\")"
   ]
  },
  {
   "cell_type": "code",
   "execution_count": 2,
   "id": "6c753d99-a109-4da0-baf3-964330663f61",
   "metadata": {},
   "outputs": [],
   "source": [
    "zipcode = geolocator.geocode({\"postalcode\": 1180, \"country\":\"belgium\"})\n"
   ]
  },
  {
   "cell_type": "code",
   "execution_count": 3,
   "id": "fe57d523-eb73-485b-9f70-f73a2a0f9903",
   "metadata": {},
   "outputs": [
    {
     "data": {
      "text/plain": [
       "Location(Uccle - Ukkel, Brussel-Hoofdstad - Bruxelles-Capitale, Région de Bruxelles-Capitale - Brussels Hoofdstedelijk Gewest, 1180, België / Belgique / Belgien, (50.797076685753424, 4.343966393150685, 0.0))"
      ]
     },
     "execution_count": 3,
     "metadata": {},
     "output_type": "execute_result"
    }
   ],
   "source": [
    "zipcode"
   ]
  },
  {
   "cell_type": "code",
   "execution_count": 4,
   "id": "3cda5915-081a-462c-8d21-70972fe03fca",
   "metadata": {},
   "outputs": [
    {
     "name": "stdout",
     "output_type": "stream",
     "text": [
      "y:50.797076685753424 x:4.343966393150685\n"
     ]
    }
   ],
   "source": [
    "print (f'y:{zipcode.latitude} x:{zipcode.longitude}')"
   ]
  },
  {
   "cell_type": "code",
   "execution_count": 5,
   "id": "2af8b6cd-ee91-4637-be8e-67e80198db4d",
   "metadata": {},
   "outputs": [],
   "source": [
    "latitude = geolocator.geocode({\"postalcode\": 1180, \"country\":\"belgium\"}).latitude"
   ]
  },
  {
   "cell_type": "code",
   "execution_count": 6,
   "id": "4b05b538-a872-45a2-b07c-0804a9752b56",
   "metadata": {},
   "outputs": [],
   "source": [
    "longitude = geolocator.geocode({\"postalcode\": 1180, \"country\":\"belgium\"}).longitude"
   ]
  },
  {
   "cell_type": "markdown",
   "id": "fdec7883-3612-4a1a-801a-0238cc934ffa",
   "metadata": {
    "jp-MarkdownHeadingCollapsed": true,
    "tags": []
   },
   "source": [
    "# Data analys"
   ]
  },
  {
   "cell_type": "code",
   "execution_count": null,
   "id": "f6f2f90c-4eec-489a-9ca6-bc198e508a35",
   "metadata": {},
   "outputs": [],
   "source": []
  },
  {
   "cell_type": "code",
   "execution_count": 7,
   "id": "6d325a2a-58ca-44b3-9731-e38662a92dc0",
   "metadata": {},
   "outputs": [],
   "source": [
    "import pandas as pd\n",
    "import numpy as np"
   ]
  },
  {
   "cell_type": "code",
   "execution_count": 8,
   "id": "6b28ae1c-550a-4246-a349-a2fb10a422a5",
   "metadata": {},
   "outputs": [],
   "source": [
    "df_raw = pd.read_csv('Property_structured_data.csv')"
   ]
  },
  {
   "cell_type": "code",
   "execution_count": 9,
   "id": "c5fb283c-5778-48da-b4f8-28471ced456d",
   "metadata": {},
   "outputs": [
    {
     "data": {
      "text/plain": [
       "<bound method NDFrame.describe of              id                         locality  postal_code    region  \\\n",
       "0      10131114                            HEURE         5377  Wallonie   \n",
       "1      10150865                           Dinant         5500  Wallonie   \n",
       "2      10134850  Jemeppe-sur-Sambre Saint-Martin         5190  Wallonie   \n",
       "3      10022778                         Gembloux         5030  Wallonie   \n",
       "4       9989192                      Sambreville         5060  Wallonie   \n",
       "...         ...                              ...          ...       ...   \n",
       "62425  10145286         Gent Sint-Denijs-Westrem         9051  Flanders   \n",
       "62426  10121910                   Geraardsbergen         9500  Flanders   \n",
       "62427  10103172                      Denderleeuw         9470  Flanders   \n",
       "62428   9617011                            Aalst         9300  Flanders   \n",
       "62429  10024976                          Stekene         9190  Flanders   \n",
       "\n",
       "            province type_of_property subtype_of_property      type_of_sale  \\\n",
       "0              Namur            HOUSE               HOUSE  residential_sale   \n",
       "1              Namur        APARTMENT           APARTMENT  residential_sale   \n",
       "2              Namur            HOUSE     APARTMENT_BLOCK  residential_sale   \n",
       "3              Namur        APARTMENT           APARTMENT  residential_sale   \n",
       "4              Namur        APARTMENT           APARTMENT  residential_sale   \n",
       "...              ...              ...                 ...               ...   \n",
       "62425  East Flanders  APARTMENT_GROUP     APARTMENT_GROUP        group_sale   \n",
       "62426  East Flanders            HOUSE               HOUSE  residential_sale   \n",
       "62427  East Flanders            HOUSE               HOUSE  residential_sale   \n",
       "62428  East Flanders        APARTMENT           APARTMENT  residential_sale   \n",
       "62429  East Flanders            HOUSE               HOUSE  residential_sale   \n",
       "\n",
       "        price  number_of_bedrooms  ...  furnished open_fire terrace  \\\n",
       "0      100000                   2  ...          0         0       1   \n",
       "1      219000                   2  ...          0         0       1   \n",
       "2      450000                   6  ...         -1         0       1   \n",
       "3      285000                   2  ...         -1         0       1   \n",
       "4      284000                   2  ...          0         0       1   \n",
       "...       ...                 ...  ...        ...       ...     ...   \n",
       "62425      -1                  -1  ...         -1         0      -1   \n",
       "62426  189000                   4  ...         -1         0      -1   \n",
       "62427  235000                   1  ...         -1         0       1   \n",
       "62428  316200                   2  ...         -1         0       1   \n",
       "62429  210000                   4  ...          0         1       1   \n",
       "\n",
       "       terrace_surface  garden  garden_surface  land_surface  \\\n",
       "0                   -1      -1              -1           198   \n",
       "1                   -1      -1              -1            -1   \n",
       "2                   13       1             200           746   \n",
       "3                    6      -1              -1            -1   \n",
       "4                   16      -1              -1            -1   \n",
       "...                ...     ...             ...           ...   \n",
       "62425               -1      -1              -1            -1   \n",
       "62426               -1      -1              -1           210   \n",
       "62427               30       1              55           170   \n",
       "62428               -1      -1              -1            -1   \n",
       "62429               40      -1              -1          2153   \n",
       "\n",
       "       number_of_facades  swimming_pool  state_of_the_building  \n",
       "0                      3             -1            TO_RENOVATE  \n",
       "1                      3             -1                   GOOD  \n",
       "2                      4             -1                   GOOD  \n",
       "3                      2              0                 AS_NEW  \n",
       "4                      3              0                 AS_NEW  \n",
       "...                  ...            ...                    ...  \n",
       "62425                 -1             -1                NO_INFO  \n",
       "62426                  2             -1                   GOOD  \n",
       "62427                  2              0                 AS_NEW  \n",
       "62428                 -1             -1                 AS_NEW  \n",
       "62429                  4             -1                   GOOD  \n",
       "\n",
       "[62430 rows x 23 columns]>"
      ]
     },
     "execution_count": 9,
     "metadata": {},
     "output_type": "execute_result"
    }
   ],
   "source": [
    "df_raw.describe"
   ]
  },
  {
   "cell_type": "markdown",
   "id": "a15dd0e4-5557-4864-b996-b1f4b8d40632",
   "metadata": {},
   "source": [
    "# xxx"
   ]
  },
  {
   "cell_type": "code",
   "execution_count": 10,
   "id": "b053b159-6041-41de-9812-5a76a624b973",
   "metadata": {},
   "outputs": [],
   "source": [
    "import pandas as pd\n",
    "import numpy as np\n",
    "import seaborn as sns\n",
    "from sklearn.linear_model import LinearRegression\n",
    "from sklearn.model_selection import train_test_split\n",
    "from matplotlib import pyplot as plt\n",
    "from scipy.stats import zscore"
   ]
  },
  {
   "cell_type": "code",
   "execution_count": 11,
   "id": "ee24249a-242c-4481-a8f3-10e6471d290c",
   "metadata": {},
   "outputs": [],
   "source": [
    "df_raw = pd.read_csv('Property_structured_data.csv')"
   ]
  },
  {
   "cell_type": "code",
   "execution_count": 12,
   "id": "256d2ee0-2356-45f2-a479-81582ccfe9f8",
   "metadata": {},
   "outputs": [
    {
     "data": {
      "text/plain": [
       "(62430, 23)"
      ]
     },
     "execution_count": 12,
     "metadata": {},
     "output_type": "execute_result"
    }
   ],
   "source": [
    "df_raw.shape"
   ]
  },
  {
   "cell_type": "code",
   "execution_count": 13,
   "id": "26561145-b5cb-4bc9-a941-9fd2d80e451b",
   "metadata": {},
   "outputs": [
    {
     "data": {
      "text/plain": [
       "id                         int64\n",
       "locality                  object\n",
       "postal_code                int64\n",
       "region                    object\n",
       "province                  object\n",
       "type_of_property          object\n",
       "subtype_of_property       object\n",
       "type_of_sale              object\n",
       "price                      int64\n",
       "number_of_bedrooms         int64\n",
       "surface                    int64\n",
       "kitchen_type              object\n",
       "fully_equipped_kitchen    object\n",
       "furnished                  int64\n",
       "open_fire                  int64\n",
       "terrace                    int64\n",
       "terrace_surface            int64\n",
       "garden                     int64\n",
       "garden_surface             int64\n",
       "land_surface               int64\n",
       "number_of_facades          int64\n",
       "swimming_pool              int64\n",
       "state_of_the_building     object\n",
       "dtype: object"
      ]
     },
     "execution_count": 13,
     "metadata": {},
     "output_type": "execute_result"
    }
   ],
   "source": [
    "df_raw.dtypes"
   ]
  },
  {
   "cell_type": "code",
   "execution_count": 30,
   "id": "22a93e78-9b7e-4079-ae64-cb89e1474f27",
   "metadata": {},
   "outputs": [
    {
     "name": "stdout",
     "output_type": "stream",
     "text": [
      "0        10131114\n",
      "1        10150865\n",
      "2        10134850\n",
      "3        10022778\n",
      "4         9989192\n",
      "           ...   \n",
      "62425    10145286\n",
      "62426    10121910\n",
      "62427    10103172\n",
      "62428     9617011\n",
      "62429    10024976\n",
      "Name: id, Length: 62430, dtype: int64\n",
      "id\n",
      "0                                  HEURE\n",
      "1                                 Dinant\n",
      "2        Jemeppe-sur-Sambre Saint-Martin\n",
      "3                               Gembloux\n",
      "4                            Sambreville\n",
      "                      ...               \n",
      "62425           Gent Sint-Denijs-Westrem\n",
      "62426                     Geraardsbergen\n",
      "62427                        Denderleeuw\n",
      "62428                              Aalst\n",
      "62429                            Stekene\n",
      "Name: locality, Length: 62430, dtype: object\n",
      "locality\n",
      "0        5377\n",
      "1        5500\n",
      "2        5190\n",
      "3        5030\n",
      "4        5060\n",
      "         ... \n",
      "62425    9051\n",
      "62426    9500\n",
      "62427    9470\n",
      "62428    9300\n",
      "62429    9190\n",
      "Name: postal_code, Length: 62430, dtype: int64\n",
      "postal_code\n",
      "0        Wallonie\n",
      "1        Wallonie\n",
      "2        Wallonie\n",
      "3        Wallonie\n",
      "4        Wallonie\n",
      "           ...   \n",
      "62425    Flanders\n",
      "62426    Flanders\n",
      "62427    Flanders\n",
      "62428    Flanders\n",
      "62429    Flanders\n",
      "Name: region, Length: 62430, dtype: object\n",
      "region\n",
      "0                Namur\n",
      "1                Namur\n",
      "2                Namur\n",
      "3                Namur\n",
      "4                Namur\n",
      "             ...      \n",
      "62425    East Flanders\n",
      "62426    East Flanders\n",
      "62427    East Flanders\n",
      "62428    East Flanders\n",
      "62429    East Flanders\n",
      "Name: province, Length: 62430, dtype: object\n",
      "province\n",
      "0                  HOUSE\n",
      "1              APARTMENT\n",
      "2                  HOUSE\n",
      "3              APARTMENT\n",
      "4              APARTMENT\n",
      "              ...       \n",
      "62425    APARTMENT_GROUP\n",
      "62426              HOUSE\n",
      "62427              HOUSE\n",
      "62428          APARTMENT\n",
      "62429              HOUSE\n",
      "Name: type_of_property, Length: 62430, dtype: object\n",
      "type_of_property\n",
      "0                  HOUSE\n",
      "1              APARTMENT\n",
      "2        APARTMENT_BLOCK\n",
      "3              APARTMENT\n",
      "4              APARTMENT\n",
      "              ...       \n",
      "62425    APARTMENT_GROUP\n",
      "62426              HOUSE\n",
      "62427              HOUSE\n",
      "62428          APARTMENT\n",
      "62429              HOUSE\n",
      "Name: subtype_of_property, Length: 62430, dtype: object\n",
      "subtype_of_property\n",
      "0        residential_sale\n",
      "1        residential_sale\n",
      "2        residential_sale\n",
      "3        residential_sale\n",
      "4        residential_sale\n",
      "               ...       \n",
      "62425          group_sale\n",
      "62426    residential_sale\n",
      "62427    residential_sale\n",
      "62428    residential_sale\n",
      "62429    residential_sale\n",
      "Name: type_of_sale, Length: 62430, dtype: object\n",
      "type_of_sale\n",
      "0        100000\n",
      "1        219000\n",
      "2        450000\n",
      "3        285000\n",
      "4        284000\n",
      "          ...  \n",
      "62425        -1\n",
      "62426    189000\n",
      "62427    235000\n",
      "62428    316200\n",
      "62429    210000\n",
      "Name: price, Length: 62430, dtype: int64\n",
      "price\n",
      "0        2\n",
      "1        2\n",
      "2        6\n",
      "3        2\n",
      "4        2\n",
      "        ..\n",
      "62425   -1\n",
      "62426    4\n",
      "62427    1\n",
      "62428    2\n",
      "62429    4\n",
      "Name: number_of_bedrooms, Length: 62430, dtype: int64\n",
      "number_of_bedrooms\n",
      "0        150\n",
      "1        100\n",
      "2        330\n",
      "3         81\n",
      "4        150\n",
      "        ... \n",
      "62425     -1\n",
      "62426     -1\n",
      "62427    170\n",
      "62428    102\n",
      "62429    163\n",
      "Name: surface, Length: 62430, dtype: int64\n",
      "surface\n",
      "0             NOT_INSTALLED\n",
      "1        USA_HYPER_EQUIPPED\n",
      "2                   NO_INFO\n",
      "3        USA_HYPER_EQUIPPED\n",
      "4                 INSTALLED\n",
      "                ...        \n",
      "62425               NO_INFO\n",
      "62426             INSTALLED\n",
      "62427             INSTALLED\n",
      "62428               NO_INFO\n",
      "62429         SEMI_EQUIPPED\n",
      "Name: kitchen_type, Length: 62430, dtype: object\n",
      "kitchen_type\n",
      "0        NOT_INSTALLED\n",
      "1                    1\n",
      "2                   -1\n",
      "3                    1\n",
      "4            INSTALLED\n",
      "             ...      \n",
      "62425               -1\n",
      "62426        INSTALLED\n",
      "62427        INSTALLED\n",
      "62428               -1\n",
      "62429    SEMI_EQUIPPED\n",
      "Name: fully_equipped_kitchen, Length: 62430, dtype: object\n",
      "fully_equipped_kitchen\n",
      "0        0\n",
      "1        0\n",
      "2       -1\n",
      "3       -1\n",
      "4        0\n",
      "        ..\n",
      "62425   -1\n",
      "62426   -1\n",
      "62427   -1\n",
      "62428   -1\n",
      "62429    0\n",
      "Name: furnished, Length: 62430, dtype: int64\n",
      "furnished\n",
      "0        0\n",
      "1        0\n",
      "2        0\n",
      "3        0\n",
      "4        0\n",
      "        ..\n",
      "62425    0\n",
      "62426    0\n",
      "62427    0\n",
      "62428    0\n",
      "62429    1\n",
      "Name: open_fire, Length: 62430, dtype: int64\n",
      "open_fire\n",
      "0        1\n",
      "1        1\n",
      "2        1\n",
      "3        1\n",
      "4        1\n",
      "        ..\n",
      "62425   -1\n",
      "62426   -1\n",
      "62427    1\n",
      "62428    1\n",
      "62429    1\n",
      "Name: terrace, Length: 62430, dtype: int64\n",
      "terrace\n",
      "0        -1\n",
      "1        -1\n",
      "2        13\n",
      "3         6\n",
      "4        16\n",
      "         ..\n",
      "62425    -1\n",
      "62426    -1\n",
      "62427    30\n",
      "62428    -1\n",
      "62429    40\n",
      "Name: terrace_surface, Length: 62430, dtype: int64\n",
      "terrace_surface\n",
      "0       -1\n",
      "1       -1\n",
      "2        1\n",
      "3       -1\n",
      "4       -1\n",
      "        ..\n",
      "62425   -1\n",
      "62426   -1\n",
      "62427    1\n",
      "62428   -1\n",
      "62429   -1\n",
      "Name: garden, Length: 62430, dtype: int64\n",
      "garden\n",
      "0         -1\n",
      "1         -1\n",
      "2        200\n",
      "3         -1\n",
      "4         -1\n",
      "        ... \n",
      "62425     -1\n",
      "62426     -1\n",
      "62427     55\n",
      "62428     -1\n",
      "62429     -1\n",
      "Name: garden_surface, Length: 62430, dtype: int64\n",
      "garden_surface\n",
      "0         198\n",
      "1          -1\n",
      "2         746\n",
      "3          -1\n",
      "4          -1\n",
      "         ... \n",
      "62425      -1\n",
      "62426     210\n",
      "62427     170\n",
      "62428      -1\n",
      "62429    2153\n",
      "Name: land_surface, Length: 62430, dtype: int64\n",
      "land_surface\n",
      "0        3\n",
      "1        3\n",
      "2        4\n",
      "3        2\n",
      "4        3\n",
      "        ..\n",
      "62425   -1\n",
      "62426    2\n",
      "62427    2\n",
      "62428   -1\n",
      "62429    4\n",
      "Name: number_of_facades, Length: 62430, dtype: int64\n",
      "number_of_facades\n",
      "0       -1\n",
      "1       -1\n",
      "2       -1\n",
      "3        0\n",
      "4        0\n",
      "        ..\n",
      "62425   -1\n",
      "62426   -1\n",
      "62427    0\n",
      "62428   -1\n",
      "62429   -1\n",
      "Name: swimming_pool, Length: 62430, dtype: int64\n",
      "swimming_pool\n",
      "0        TO_RENOVATE\n",
      "1               GOOD\n",
      "2               GOOD\n",
      "3             AS_NEW\n",
      "4             AS_NEW\n",
      "            ...     \n",
      "62425        NO_INFO\n",
      "62426           GOOD\n",
      "62427         AS_NEW\n",
      "62428         AS_NEW\n",
      "62429           GOOD\n",
      "Name: state_of_the_building, Length: 62430, dtype: object\n",
      "state_of_the_building\n"
     ]
    }
   ],
   "source": [
    "for column in df_raw.columns.to_list():\n",
    "    print(df_raw[column])\n",
    "    print(column)"
   ]
  },
  {
   "cell_type": "code",
   "execution_count": null,
   "id": "797fe82f-2654-4327-aae7-9e00327d8136",
   "metadata": {},
   "outputs": [],
   "source": []
  },
  {
   "cell_type": "code",
   "execution_count": 14,
   "id": "afbf7c06-544e-4485-9a3d-622cb171d47e",
   "metadata": {},
   "outputs": [
    {
     "data": {
      "text/plain": [
       "<seaborn.axisgrid.FacetGrid at 0x7f34b8df4700>"
      ]
     },
     "execution_count": 14,
     "metadata": {},
     "output_type": "execute_result"
    },
    {
     "data": {
      "image/png": "[encoded data removed]",
      "text/plain": [
       "<Figure size 500x500 with 1 Axes>"
      ]
     },
     "metadata": {},
     "output_type": "display_data"
    }
   ],
   "source": [
    "sns.displot(df_raw['price'])"
   ]
  },
  {
   "cell_type": "code",
   "execution_count": 15,
   "id": "c7dd7c51-c831-46cd-8db0-730597ffc642",
   "metadata": {},
   "outputs": [
    {
     "data": {
      "text/plain": [
       "id                        0\n",
       "locality                  0\n",
       "postal_code               0\n",
       "region                    0\n",
       "province                  0\n",
       "type_of_property          0\n",
       "subtype_of_property       0\n",
       "type_of_sale              0\n",
       "price                     0\n",
       "number_of_bedrooms        0\n",
       "surface                   0\n",
       "kitchen_type              0\n",
       "fully_equipped_kitchen    0\n",
       "furnished                 0\n",
       "open_fire                 0\n",
       "terrace                   0\n",
       "terrace_surface           0\n",
       "garden                    0\n",
       "garden_surface            0\n",
       "land_surface              0\n",
       "number_of_facades         0\n",
       "swimming_pool             0\n",
       "state_of_the_building     0\n",
       "dtype: int64"
      ]
     },
     "execution_count": 15,
     "metadata": {},
     "output_type": "execute_result"
    }
   ],
   "source": [
    "#Missing values\n",
    "df_raw[df_raw.isnull()].count()"
   ]
  },
  {
   "cell_type": "code",
   "execution_count": 16,
   "id": "c050e3bb-23e6-435a-ba91-8191ea3b20a1",
   "metadata": {},
   "outputs": [
    {
     "data": {
      "text/plain": [
       "<AxesSubplot: >"
      ]
     },
     "execution_count": 16,
     "metadata": {},
     "output_type": "execute_result"
    },
    {
     "data": {
      "image/png": "[encoded data removed]",
      "text/plain": [
       "<Figure size 640x480 with 1 Axes>"
      ]
     },
     "metadata": {},
     "output_type": "display_data"
    }
   ],
   "source": [
    "#check Outliers\n",
    "sns.boxplot(df_raw['price'])"
   ]
  },
  {
   "cell_type": "code",
   "execution_count": 17,
   "id": "4679ee37-7535-417f-af30-e03ed2a66e7f",
   "metadata": {},
   "outputs": [
    {
     "ename": "NameError",
     "evalue": "name 'z' is not defined",
     "output_type": "error",
     "traceback": [
      "\u001b[0;31m---------------------------------------------------------------------------\u001b[0m",
      "\u001b[0;31mNameError\u001b[0m                                 Traceback (most recent call last)",
      "Cell \u001b[0;32mIn [17], line 1\u001b[0m\n\u001b[0;32m----> 1\u001b[0m sns\u001b[38;5;241m.\u001b[39mboxplot(\u001b[43mz\u001b[49m)\n",
      "\u001b[0;31mNameError\u001b[0m: name 'z' is not defined"
     ]
    }
   ],
   "source": [
    "sns.boxplot(z)"
   ]
  },
  {
   "cell_type": "code",
   "execution_count": 18,
   "id": "a1bdd2da-b0ec-4cce-844b-5ca4da9a0137",
   "metadata": {},
   "outputs": [
    {
     "ename": "NameError",
     "evalue": "name 'stats' is not defined",
     "output_type": "error",
     "traceback": [
      "\u001b[0;31m---------------------------------------------------------------------------\u001b[0m",
      "\u001b[0;31mNameError\u001b[0m                                 Traceback (most recent call last)",
      "Cell \u001b[0;32mIn [18], line 2\u001b[0m\n\u001b[1;32m      1\u001b[0m \u001b[38;5;66;03m#remove outliers Z = x-mean/SD\u001b[39;00m\n\u001b[0;32m----> 2\u001b[0m z \u001b[38;5;241m=\u001b[39m np\u001b[38;5;241m.\u001b[39mabs(\u001b[43mstats\u001b[49m\u001b[38;5;241m.\u001b[39mzscore(df_raw[\u001b[38;5;124m'\u001b[39m\u001b[38;5;124mprice\u001b[39m\u001b[38;5;124m'\u001b[39m]))\n",
      "\u001b[0;31mNameError\u001b[0m: name 'stats' is not defined"
     ]
    }
   ],
   "source": [
    "#remove outliers Z = x-mean/SD\n",
    "z = np.abs(stats.zscore(df_raw['price']))"
   ]
  },
  {
   "cell_type": "code",
   "execution_count": 19,
   "id": "d60af35e-dd3d-4278-8706-76dcbf8ad8a5",
   "metadata": {},
   "outputs": [
    {
     "data": {
      "text/plain": [
       "<AxesSubplot: xlabel='price', ylabel='number_of_bedrooms'>"
      ]
     },
     "execution_count": 19,
     "metadata": {},
     "output_type": "execute_result"
    },
    {
     "data": {
      "image/png": "[encoded data removed]",
      "text/plain": [
       "<Figure size 640x480 with 1 Axes>"
      ]
     },
     "metadata": {},
     "output_type": "display_data"
    }
   ],
   "source": [
    "df_raw.plot(kind='scatter',x='price',y='number_of_bedrooms')"
   ]
  },
  {
   "cell_type": "code",
   "execution_count": 20,
   "id": "5d0ed066-2f86-4b3b-8fca-8e30e846f20a",
   "metadata": {},
   "outputs": [
    {
     "ename": "NameError",
     "evalue": "name 'stats' is not defined",
     "output_type": "error",
     "traceback": [
      "\u001b[0;31m---------------------------------------------------------------------------\u001b[0m",
      "\u001b[0;31mNameError\u001b[0m                                 Traceback (most recent call last)",
      "Cell \u001b[0;32mIn [20], line 1\u001b[0m\n\u001b[0;32m----> 1\u001b[0m x \u001b[38;5;241m=\u001b[39m df_raw[(np\u001b[38;5;241m.\u001b[39mabs(\u001b[43mstats\u001b[49m\u001b[38;5;241m.\u001b[39mzscore(df_raw[\u001b[38;5;124m'\u001b[39m\u001b[38;5;124mprice\u001b[39m\u001b[38;5;124m'\u001b[39m])) \u001b[38;5;241m<\u001b[39m \u001b[38;5;241m1\u001b[39m)]\u001b[38;5;241m.\u001b[39mshape\n",
      "\u001b[0;31mNameError\u001b[0m: name 'stats' is not defined"
     ]
    }
   ],
   "source": [
    "x = df_raw[(np.abs(stats.zscore(df_raw['price'])) < 1)].shape"
   ]
  },
  {
   "cell_type": "code",
   "execution_count": null,
   "id": "139e0bce-0125-4bb4-8d91-2513dcbaa8c9",
   "metadata": {},
   "outputs": [],
   "source": [
    "x.plot(kind='scatter',x='price',y='number_of_bedrooms')"
   ]
  },
  {
   "cell_type": "code",
   "execution_count": 23,
   "id": "7b54405b-aea2-4860-9c15-3ac8141b04f4",
   "metadata": {},
   "outputs": [],
   "source": [
    "zscore_price = zscore(df_raw['price'])"
   ]
  },
  {
   "cell_type": "code",
   "execution_count": 24,
   "id": "da618f8f-89c3-486d-9c8e-9d0f8083c514",
   "metadata": {},
   "outputs": [],
   "source": [
    "zscore_price = zscore_price < 1"
   ]
  },
  {
   "cell_type": "code",
   "execution_count": 25,
   "id": "311aea94-ed7a-438c-8790-3079af180076",
   "metadata": {},
   "outputs": [
    {
     "ename": "ValueError",
     "evalue": "plot kind scatter can only be used for data frames",
     "output_type": "error",
     "traceback": [
      "\u001b[0;31m---------------------------------------------------------------------------\u001b[0m",
      "\u001b[0;31mValueError\u001b[0m                                Traceback (most recent call last)",
      "Cell \u001b[0;32mIn [25], line 1\u001b[0m\n\u001b[0;32m----> 1\u001b[0m \u001b[43mzscore_price\u001b[49m\u001b[38;5;241;43m.\u001b[39;49m\u001b[43mplot\u001b[49m\u001b[43m(\u001b[49m\u001b[43mkind\u001b[49m\u001b[38;5;241;43m=\u001b[39;49m\u001b[38;5;124;43m'\u001b[39;49m\u001b[38;5;124;43mscatter\u001b[39;49m\u001b[38;5;124;43m'\u001b[39;49m\u001b[43m,\u001b[49m\u001b[43mx\u001b[49m\u001b[38;5;241;43m=\u001b[39;49m\u001b[38;5;124;43m'\u001b[39;49m\u001b[38;5;124;43mprice\u001b[39;49m\u001b[38;5;124;43m'\u001b[39;49m\u001b[43m,\u001b[49m\u001b[43my\u001b[49m\u001b[38;5;241;43m=\u001b[39;49m\u001b[38;5;124;43m'\u001b[39;49m\u001b[38;5;124;43mnumber_of_bedrooms\u001b[39;49m\u001b[38;5;124;43m'\u001b[39;49m\u001b[43m)\u001b[49m\n",
      "File \u001b[0;32m~/MyGithub/challenge-regression/env/lib/python3.10/site-packages/pandas/plotting/_core.py:948\u001b[0m, in \u001b[0;36mPlotAccessor.__call__\u001b[0;34m(self, *args, **kwargs)\u001b[0m\n\u001b[1;32m    946\u001b[0m         \u001b[38;5;28;01mreturn\u001b[39;00m plot_backend\u001b[38;5;241m.\u001b[39mplot(data, x\u001b[38;5;241m=\u001b[39mx, y\u001b[38;5;241m=\u001b[39my, kind\u001b[38;5;241m=\u001b[39mkind, \u001b[38;5;241m*\u001b[39m\u001b[38;5;241m*\u001b[39mkwargs)\n\u001b[1;32m    947\u001b[0m     \u001b[38;5;28;01melse\u001b[39;00m:\n\u001b[0;32m--> 948\u001b[0m         \u001b[38;5;28;01mraise\u001b[39;00m \u001b[38;5;167;01mValueError\u001b[39;00m(\u001b[38;5;124mf\u001b[39m\u001b[38;5;124m\"\u001b[39m\u001b[38;5;124mplot kind \u001b[39m\u001b[38;5;132;01m{\u001b[39;00mkind\u001b[38;5;132;01m}\u001b[39;00m\u001b[38;5;124m can only be used for data frames\u001b[39m\u001b[38;5;124m\"\u001b[39m)\n\u001b[1;32m    949\u001b[0m \u001b[38;5;28;01melif\u001b[39;00m kind \u001b[38;5;129;01min\u001b[39;00m \u001b[38;5;28mself\u001b[39m\u001b[38;5;241m.\u001b[39m_series_kinds:\n\u001b[1;32m    950\u001b[0m     \u001b[38;5;28;01mif\u001b[39;00m \u001b[38;5;28misinstance\u001b[39m(data, ABCDataFrame):\n",
      "\u001b[0;31mValueError\u001b[0m: plot kind scatter can only be used for data frames"
     ]
    }
   ],
   "source": []
  },
  {
   "cell_type": "code",
   "execution_count": null,
   "id": "abca42a1-855c-4f0e-acdb-8c4de917c358",
   "metadata": {},
   "outputs": [],
   "source": []
  }
 ],
 "metadata": {
  "kernelspec": {
   "display_name": "Python 3 (ipykernel)",
   "language": "python",
   "name": "python3"
  },
  "language_info": {
   "codemirror_mode": {
    "name": "ipython",
    "version": 3
   },
   "file_extension": ".py",
   "mimetype": "text/x-python",
   "name": "python",
   "nbconvert_exporter": "python",
   "pygments_lexer": "ipython3",
   "version": "3.10.6"
  }
 },
 "nbformat": 4,
 "nbformat_minor": 5
}
